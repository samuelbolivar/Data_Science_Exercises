{
 "cells": [
  {
   "cell_type": "code",
   "execution_count": 1,
   "metadata": {
    "collapsed": true
   },
   "outputs": [],
   "source": [
    "import sklearn.linear_model"
   ]
  },
  {
   "cell_type": "code",
   "execution_count": 2,
   "metadata": {
    "collapsed": true
   },
   "outputs": [],
   "source": [
    "%matplotlib inline\n",
    "import pandas\n",
    "import matplotlib.pyplot"
   ]
  },
  {
   "cell_type": "code",
   "execution_count": 3,
   "metadata": {
    "collapsed": false
   },
   "outputs": [],
   "source": [
    "trains = pandas.read_csv('../../data/sydtrains.csv', thousands='.', index_col='STATION')"
   ]
  },
  {
   "cell_type": "code",
   "execution_count": 4,
   "metadata": {
    "collapsed": true
   },
   "outputs": [],
   "source": [
    "trains2014 = trains[trains.YEAR == 2014]"
   ]
  },
  {
   "cell_type": "code",
   "execution_count": 5,
   "metadata": {
    "collapsed": false
   },
   "outputs": [
    {
     "data": {
      "text/plain": [
       "Index([u'LINE', u'YEAR', u'SURVEY_DATE_USED', u'WHETHER_SURVEYED',\n",
       "       u'IN_0200_0600', u'OUT_0200_0600', u'IN_0600_0930', u'OUT_0600_0930',\n",
       "       u'IN_0930_1500', u'OUT_0930_1500', u'IN_1500_1830', u'OUT_1500_1830',\n",
       "       u'IN_1830_0200', u'OUT_1830_0200', u'IN_24_HOURS', u'OUT_24_HOURS',\n",
       "       u'RANK', u'STATION_SORT_ID'],\n",
       "      dtype='object')"
      ]
     },
     "execution_count": 5,
     "metadata": {},
     "output_type": "execute_result"
    }
   ],
   "source": [
    "trains2014.columns"
   ]
  },
  {
   "cell_type": "code",
   "execution_count": 6,
   "metadata": {
    "collapsed": false
   },
   "outputs": [],
   "source": [
    "scatter_data_in = trains2014.loc[:, [\"IN_1500_1830\" , \"IN_1830_0200\",  \"OUT_0600_0930\"]]"
   ]
  },
  {
   "cell_type": "code",
   "execution_count": 7,
   "metadata": {
    "collapsed": false
   },
   "outputs": [
    {
     "data": {
      "text/plain": [
       "array([[<matplotlib.axes._subplots.AxesSubplot object at 0x1150f5290>,\n",
       "        <matplotlib.axes._subplots.AxesSubplot object at 0x114e607d0>,\n",
       "        <matplotlib.axes._subplots.AxesSubplot object at 0x114830bd0>],\n",
       "       [<matplotlib.axes._subplots.AxesSubplot object at 0x11513f050>,\n",
       "        <matplotlib.axes._subplots.AxesSubplot object at 0x1151c1210>,\n",
       "        <matplotlib.axes._subplots.AxesSubplot object at 0x115223890>],\n",
       "       [<matplotlib.axes._subplots.AxesSubplot object at 0x1152a7810>,\n",
       "        <matplotlib.axes._subplots.AxesSubplot object at 0x11530c4d0>,\n",
       "        <matplotlib.axes._subplots.AxesSubplot object at 0x11538d690>]], dtype=object)"
      ]
     },
     "execution_count": 7,
     "metadata": {},
     "output_type": "execute_result"
    },
    {
     "data": {
      "image/png": "[encoded data removed]",
      "text/plain": [
       "<matplotlib.figure.Figure at 0x1147e8290>"
      ]
     },
     "metadata": {},
     "output_type": "display_data"
    }
   ],
   "source": [
    "pandas.scatter_matrix(scatter_data_in)"
   ]
  },
  {
   "cell_type": "code",
   "execution_count": 8,
   "metadata": {
    "collapsed": false
   },
   "outputs": [],
   "source": [
    "people_in_the_am = trains2014.loc[:, [\"OUT_0600_0930\"]]"
   ]
  },
  {
   "cell_type": "code",
   "execution_count": 9,
   "metadata": {
    "collapsed": true
   },
   "outputs": [],
   "source": [
    "people_in_the_pm = trains2014.IN_1500_1830"
   ]
  },
  {
   "cell_type": "code",
   "execution_count": 10,
   "metadata": {
    "collapsed": true
   },
   "outputs": [],
   "source": [
    "regressor = sklearn.linear_model.RANSACRegressor()"
   ]
  },
  {
   "cell_type": "code",
   "execution_count": 11,
   "metadata": {
    "collapsed": false
   },
   "outputs": [
    {
     "name": "stderr",
     "output_type": "stream",
     "text": [
      "/Users/samuelbolivar/anaconda/lib/python2.7/site-packages/scipy/linalg/basic.py:884: RuntimeWarning: internal gelsd driver lwork query error, required iwork dimension not returned. This is likely the result of LAPACK bug 0038, fixed in LAPACK 3.2.2 (released July 21, 2010). Falling back to 'gelss' driver.\n",
      "  warnings.warn(mesg, RuntimeWarning)\n"
     ]
    },
    {
     "data": {
      "text/plain": [
       "RANSACRegressor(base_estimator=None, is_data_valid=None, is_model_valid=None,\n",
       "        max_trials=100, min_samples=None, random_state=None,\n",
       "        residual_metric=None, residual_threshold=None, stop_n_inliers=inf,\n",
       "        stop_probability=0.99, stop_score=inf)"
      ]
     },
     "execution_count": 11,
     "metadata": {},
     "output_type": "execute_result"
    }
   ],
   "source": [
    "regressor.fit(people_in_the_am, people_in_the_pm)"
   ]
  },
  {
   "cell_type": "code",
   "execution_count": 12,
   "metadata": {
    "collapsed": true
   },
   "outputs": [],
   "source": [
    "predictions_for_pm = regressor.predict(people_in_the_am)"
   ]
  },
  {
   "cell_type": "code",
   "execution_count": 13,
   "metadata": {
    "collapsed": false
   },
   "outputs": [
    {
     "data": {
      "text/plain": [
       "array([  5.07667776e+04,   5.21423159e+04,   4.78105769e+04,\n",
       "         1.65351803e+04,   2.21338624e+04,   1.29032766e+04,\n",
       "         9.89881139e+03,   5.25335317e+03,   4.89136941e+03,\n",
       "         1.05624483e+04,   1.71988172e+04,   2.65913624e+03,\n",
       "         1.07434402e+04,   4.07087289e+03,   3.53996338e+03,\n",
       "         4.61384853e+03,   2.73153299e+03,   2.42987986e+03,\n",
       "         3.58822788e+03,   1.95930098e+03,   2.16442511e+03,\n",
       "         7.59418147e+03,   1.91103648e+03,   3.88988102e+03,\n",
       "         7.09947033e+03,   9.45746455e+02,   1.29566409e+03,\n",
       "         2.18855736e+03,   2.74359912e+03,   1.76624297e+03,\n",
       "         1.59731722e+03,   2.98492162e+03,   1.99549935e+03,\n",
       "         8.73349704e+02,   2.22475573e+03,   4.31219540e+03,\n",
       "         1.06640771e+03,   2.55054111e+03,   1.58525109e+03,\n",
       "         8.25085203e+02,   1.25946571e+03,   2.80392974e+03,\n",
       "         1.83863972e+03,   1.34392859e+03,   1.28359796e+03,\n",
       "         1.11467221e+03,   3.50376501e+03,   1.21120121e+03,\n",
       "         2.07996223e+03,   8.13019077e+02,   9.21614205e+02,\n",
       "         1.21120121e+03,   1.00607708e+03,   6.80291700e+02,\n",
       "         7.40622326e+02,   1.00607708e+03,   8.00952952e+02,\n",
       "         2.57977316e+02,   3.78638568e+02,   4.51035320e+02,\n",
       "         3.90704694e+02,   2.69533462e+03,   6.56159449e+02,\n",
       "         6.92357825e+02,   2.57467336e+03,   1.22326734e+03,\n",
       "         7.64754576e+02,   8.49217453e+02,   4.02770819e+02,\n",
       "         1.24739959e+03,   5.47564322e+02,   4.63101445e+02,\n",
       "         2.21778940e+02,   9.09548079e+02,   8.85415829e+02,\n",
       "         9.21614205e+02,   8.85415829e+02,   2.33845065e+02,\n",
       "         8.97481954e+02,   5.71696572e+02,   9.09548079e+02,\n",
       "         4.02770819e+02,   1.00607708e+03,   8.25085203e+02,\n",
       "         1.06640771e+03,   3.42440193e+02,   1.41632534e+03,\n",
       "         5.11365946e+02,   3.66572443e+02,   2.21778940e+02,\n",
       "         3.78638568e+02,   2.33845065e+02,   4.87233696e+02,\n",
       "         4.75167570e+02,   4.38969195e+02,   3.90704694e+02,\n",
       "         5.83762698e+02,   1.97646690e+02,   1.97646690e+02,\n",
       "         1.61448314e+02,   5.59630447e+02,   2.94175692e+02,\n",
       "         2.33845065e+02,   2.21778940e+02,   7.28556201e+02,\n",
       "         5.11365946e+02,   5.47564322e+02,   2.94175692e+02,\n",
       "         7.64754576e+02,   2.09712815e+02,   2.09712815e+02,\n",
       "         2.57977316e+02,   3.42440193e+02,   5.83762698e+02,\n",
       "         1.49382189e+02,   1.85580564e+02,   2.57977316e+02,\n",
       "         5.23432071e+02,   4.02770819e+02,   6.80291700e+02,\n",
       "         2.45911191e+02,   3.18307942e+02,   4.14836944e+02,\n",
       "         1.37316063e+02,   1.85580564e+02,   8.13019077e+02,\n",
       "         1.37316063e+02,   5.95828823e+02,   2.82109566e+02,\n",
       "         3.18307942e+02,   2.09712815e+02,   3.18307942e+02,\n",
       "         1.19913509e+03,   6.19961073e+02,   3.90704694e+02,\n",
       "         8.00952952e+02,   1.37316063e+02,   6.56159449e+02,\n",
       "         5.71696572e+02,   2.70043441e+02,   5.83762698e+02,\n",
       "         8.37151328e+02,   2.09712815e+02,   8.90515624e+01,\n",
       "         1.13183813e+02,   1.73514439e+02,   3.54506318e+02,\n",
       "         1.61448314e+02,   1.49382189e+02,   4.14836944e+02,\n",
       "         1.49382189e+02,   2.94175692e+02,   4.14836944e+02,\n",
       "         5.23432071e+02,   5.28531867e+01,   7.69854372e+01,\n",
       "         1.37316063e+02,   2.09712815e+02,   1.61448314e+02,\n",
       "         2.94175692e+02,   6.07894948e+02,   6.49193119e+01,\n",
       "         1.85580564e+02,   1.61448314e+02,   1.25249938e+02,\n",
       "         2.45911191e+02,   6.49193119e+01,   1.73514439e+02,\n",
       "         2.87209362e+01,   2.82109566e+02,   2.87209362e+01,\n",
       "         3.30374067e+02,   2.94175692e+02,   1.73514439e+02,\n",
       "         6.49193119e+01,   2.87209362e+01,   1.37316063e+02,\n",
       "         3.54506318e+02,   6.49193119e+01,   1.49382189e+02,\n",
       "         1.37316063e+02,   8.90515624e+01,   2.09712815e+02,\n",
       "         4.07870614e+01,   4.07870614e+01,   1.01117688e+02,\n",
       "         2.87209362e+01,   8.90515624e+01,   4.07870614e+01,\n",
       "         2.09712815e+02,   4.07870614e+01,   7.69854372e+01,\n",
       "         1.01117688e+02,   5.28531867e+01,   2.87209362e+01,\n",
       "         4.07870614e+01,   1.37316063e+02,   5.28531867e+01,\n",
       "         1.01117688e+02,   1.13183813e+02,   2.87209362e+01,\n",
       "         8.90515624e+01,   4.07870614e+01,   7.69854372e+01,\n",
       "         2.87209362e+01,   4.07870614e+01,   6.49193119e+01,\n",
       "         1.85580564e+02,   2.87209362e+01,   1.66548109e+01,\n",
       "         1.25249938e+02,   6.49193119e+01,   4.07870614e+01,\n",
       "         4.07870614e+01,   6.49193119e+01,   5.28531867e+01,\n",
       "         1.66548109e+01,   1.37316063e+02,   5.28531867e+01,\n",
       "         2.87209362e+01,   1.61448314e+02,   4.07870614e+01,\n",
       "         6.49193119e+01,   4.07870614e+01,   6.49193119e+01,\n",
       "         1.66548109e+01,   1.66548109e+01,   1.66548109e+01,\n",
       "         1.66548109e+01,   4.58868570e+00,   2.87209362e+01,\n",
       "         2.87209362e+01,   1.66548109e+01,   6.49193119e+01,\n",
       "         1.66548109e+01,   4.58868570e+00,   4.58868570e+00,\n",
       "         4.58868570e+00,   5.28531867e+01,   2.87209362e+01,\n",
       "         1.66548109e+01,   4.58868570e+00,   1.66548109e+01,\n",
       "         6.49193119e+01,   1.66548109e+01,   6.49193119e+01,\n",
       "         4.58868570e+00,   2.87209362e+01,   8.90515624e+01,\n",
       "         1.66548109e+01,   1.66548109e+01,   1.66548109e+01,\n",
       "         4.58868570e+00,   2.87209362e+01,   4.58868570e+00,\n",
       "         4.58868570e+00,   6.49193119e+01,   1.66548109e+01,\n",
       "         1.66548109e+01,   4.58868570e+00,   1.66548109e+01,\n",
       "         5.28531867e+01,   1.66548109e+01,   4.58868570e+00,\n",
       "         2.87209362e+01,   1.66548109e+01,   4.58868570e+00,\n",
       "         1.66548109e+01,   4.58868570e+00,   2.87209362e+01,\n",
       "         4.58868570e+00,   4.58868570e+00,   1.66548109e+01,\n",
       "         4.58868570e+00,   4.58868570e+00,   4.58868570e+00,\n",
       "         2.87209362e+01,   4.58868570e+00,   4.58868570e+00,\n",
       "         1.66548109e+01,   4.58868570e+00,   4.58868570e+00,\n",
       "         4.58868570e+00,   4.58868570e+00,   4.58868570e+00,\n",
       "         4.58868570e+00,   4.58868570e+00,   4.58868570e+00,\n",
       "         4.58868570e+00,   4.58868570e+00,   4.58868570e+00,\n",
       "         4.58868570e+00,   4.58868570e+00,   4.58868570e+00,\n",
       "         4.58868570e+00,   4.58868570e+00,   4.58868570e+00,\n",
       "         4.58868570e+00,   4.58868570e+00,   4.58868570e+00,\n",
       "         4.58868570e+00,   4.58868570e+00,   4.58868570e+00,\n",
       "         4.58868570e+00,   4.58868570e+00,   4.58868570e+00,\n",
       "         4.58868570e+00,   4.58868570e+00])"
      ]
     },
     "execution_count": 13,
     "metadata": {},
     "output_type": "execute_result"
    }
   ],
   "source": [
    "predictions_for_pm"
   ]
  },
  {
   "cell_type": "code",
   "execution_count": 14,
   "metadata": {
    "collapsed": false
   },
   "outputs": [
    {
     "data": {
      "text/plain": [
       "[<matplotlib.lines.Line2D at 0x10b0e2c50>]"
      ]
     },
     "execution_count": 14,
     "metadata": {},
     "output_type": "execute_result"
    },
    {
     "data": {
      "image/png": "[encoded data removed]",
      "text/plain": [
       "<matplotlib.figure.Figure at 0x1155bf790>"
      ]
     },
     "metadata": {},
     "output_type": "display_data"
    }
   ],
   "source": [
    "matplotlib.pyplot.scatter(trains2014.OUT_0600_0930, trains2014.IN_1500_1830)\n",
    "matplotlib.pyplot.plot(trains2014.OUT_0600_0930, predictions_for_pm, color='red')"
   ]
  },
  {
   "cell_type": "code",
   "execution_count": 15,
   "metadata": {
    "collapsed": false
   },
   "outputs": [
    {
     "data": {
      "text/plain": [
       "LinearRegression(copy_X=True, fit_intercept=True, n_jobs=1, normalize=False)"
      ]
     },
     "execution_count": 15,
     "metadata": {},
     "output_type": "execute_result"
    }
   ],
   "source": [
    "regressor.estimator_"
   ]
  },
  {
   "cell_type": "code",
   "execution_count": 16,
   "metadata": {
    "collapsed": false
   },
   "outputs": [
    {
     "data": {
      "text/plain": [
       "array([ 1.20661252])"
      ]
     },
     "execution_count": 16,
     "metadata": {},
     "output_type": "execute_result"
    }
   ],
   "source": [
    "regressor.estimator_.coef_"
   ]
  },
  {
   "cell_type": "code",
   "execution_count": 17,
   "metadata": {
    "collapsed": false
   },
   "outputs": [
    {
     "data": {
      "text/plain": [
       "4.5886856967807717"
      ]
     },
     "execution_count": 17,
     "metadata": {},
     "output_type": "execute_result"
    }
   ],
   "source": [
    "regressor.estimator_.intercept_"
   ]
  },
  {
   "cell_type": "code",
   "execution_count": null,
   "metadata": {
    "collapsed": true
   },
   "outputs": [],
   "source": []
  }
 ],
 "metadata": {
  "kernelspec": {
   "display_name": "Python 2",
   "language": "python",
   "name": "python2"
  },
  "language_info": {
   "codemirror_mode": {
    "name": "ipython",
    "version": 2
   },
   "file_extension": ".py",
   "mimetype": "text/x-python",
   "name": "python",
   "nbconvert_exporter": "python",
   "pygments_lexer": "ipython2",
   "version": "2.7.12"
  }
 },
 "nbformat": 4,
 "nbformat_minor": 0
}
