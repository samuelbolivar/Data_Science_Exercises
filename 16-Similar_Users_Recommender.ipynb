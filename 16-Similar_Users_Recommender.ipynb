{
 "cells": [
  {
   "cell_type": "markdown",
   "metadata": {},
   "source": [
    "# Similar Users Lab\n",
    "\n",
    "BUT FIRST a quick word about strings, lists, and sets:\n",
    "\n",
    "## Working with sets\n",
    "\n",
    "In mathematics, a set is a collection of distinct objects.  In Python, \"Sets\" are lists with no duplicate entries. Set objects also support mathematical operations like union, intersection, difference, and symmetric difference.\n",
    "\n",
    "_Fun fact for your next party:  Techincally, Python sets are implemented using dictionaries (under the hood)._\n",
    "\n",
    "Here are two sets of colors:\n"
   ]
  },
  {
   "cell_type": "code",
   "execution_count": 1,
   "metadata": {
    "collapsed": false
   },
   "outputs": [],
   "source": [
    "a = set([\"Red\", \"Green\", \"Blue\"])\n",
    "b = set([\"Black\", \"White\", \"Green\"])"
   ]
  },
  {
   "cell_type": "markdown",
   "metadata": {},
   "source": [
    "To find out which items are in both sets (**both sets only**), use the \"intersection\" method:"
   ]
  },
  {
   "cell_type": "code",
   "execution_count": 2,
   "metadata": {
    "collapsed": false
   },
   "outputs": [
    {
     "data": {
      "text/plain": [
       "{'Green'}"
      ]
     },
     "execution_count": 2,
     "metadata": {},
     "output_type": "execute_result"
    }
   ],
   "source": [
    "a.intersection(b)"
   ]
  },
  {
   "cell_type": "markdown",
   "metadata": {},
   "source": [
    "To find the items in a, but not b."
   ]
  },
  {
   "cell_type": "code",
   "execution_count": 3,
   "metadata": {
    "collapsed": false
   },
   "outputs": [
    {
     "data": {
      "text/plain": [
       "{'Blue', 'Red'}"
      ]
     },
     "execution_count": 3,
     "metadata": {},
     "output_type": "execute_result"
    }
   ],
   "source": [
    "a.difference(b)"
   ]
  },
  {
   "cell_type": "markdown",
   "metadata": {},
   "source": [
    "To find the items in b, but not a."
   ]
  },
  {
   "cell_type": "code",
   "execution_count": 4,
   "metadata": {
    "collapsed": false
   },
   "outputs": [
    {
     "data": {
      "text/plain": [
       "{'Black', 'White'}"
      ]
     },
     "execution_count": 4,
     "metadata": {},
     "output_type": "execute_result"
    }
   ],
   "source": [
    "b.difference(a)"
   ]
  },
  {
   "cell_type": "markdown",
   "metadata": {},
   "source": [
    "To find a list of all unique sets (aka: union):"
   ]
  },
  {
   "cell_type": "code",
   "execution_count": 5,
   "metadata": {
    "collapsed": false
   },
   "outputs": [
    {
     "data": {
      "text/plain": [
       "{'Black', 'Blue', 'Green', 'Red', 'White'}"
      ]
     },
     "execution_count": 5,
     "metadata": {},
     "output_type": "execute_result"
    }
   ],
   "source": [
    "a.union(b)"
   ]
  },
  {
   "cell_type": "markdown",
   "metadata": {},
   "source": [
    "How many are different?"
   ]
  },
  {
   "cell_type": "code",
   "execution_count": 6,
   "metadata": {
    "collapsed": false
   },
   "outputs": [
    {
     "name": "stdout",
     "output_type": "stream",
     "text": [
      "Number of different items in b:  2\n"
     ]
    }
   ],
   "source": [
    "print \"Number of different items in b:  %d\" % len(b.difference(a))"
   ]
  },
  {
   "cell_type": "markdown",
   "metadata": {},
   "source": [
    "## From Sets to Lists\n",
    "\n",
    "Now that we're experts with working with Python sets.  Let's get savvy working with lists and unstructured data.\n",
    "\n",
    "Using the split() method on a string, we can \"split\" it by a delimiter, to be used as a list.  By default, the .split() method can be applied to any string object, and will automatically split on spaces.  \n",
    "\n",
    "*You can pass a parameter to split to change which character it will split on, such as \",\", if you're trying to turn a comma seprated list of items into a list.*\n",
    "\n",
    "The following will turn a space delimited *string* into a **list**."
   ]
  },
  {
   "cell_type": "code",
   "execution_count": 7,
   "metadata": {
    "collapsed": false
   },
   "outputs": [
    {
     "data": {
      "text/plain": [
       "['my',\n",
       " 'name',\n",
       " 'is',\n",
       " 'dave',\n",
       " 'my',\n",
       " 'name',\n",
       " 'is',\n",
       " 'dave',\n",
       " 'my',\n",
       " 'name',\n",
       " 'is',\n",
       " 'dave']"
      ]
     },
     "execution_count": 7,
     "metadata": {},
     "output_type": "execute_result"
    }
   ],
   "source": [
    "\"my name is dave my name is dave my name is dave\".split()"
   ]
  },
  {
   "cell_type": "markdown",
   "metadata": {},
   "source": [
    "What's up with this though?  Well all know \"my name is dave\", but if we had many values, it would be hard to know which of them are unique.  That's when we use sets."
   ]
  },
  {
   "cell_type": "code",
   "execution_count": 8,
   "metadata": {
    "collapsed": false
   },
   "outputs": [
    {
     "data": {
      "text/plain": [
       "{'dave', 'is', 'my', 'name'}"
      ]
     },
     "execution_count": 8,
     "metadata": {},
     "output_type": "execute_result"
    }
   ],
   "source": [
    "set(\"my name is dave my name is dave my name is dave\".split())"
   ]
  },
  {
   "cell_type": "markdown",
   "metadata": {},
   "source": [
    "Ok so we should know enough to conquer our jaccard distance problem, and step into our real problem:\n",
    "\n",
    "## Who has similar tastes in music?\n",
    "\n",
    "What we will attempt, is building a small process that takes feedback from a survey, mapping a distance function to find similar users based on Jaccard.\n",
    "\n",
    "Along the way we will be:\n",
    "* Working with requests\n",
    "* Understanding Python fundamentals with sets and lists\n",
    "* Cleaning up bad data\n",
    "* Implementing Jaccard distance function\n",
    "* Finding similar users\n",
    "\n",
    "First, we will be taking a survey!  Let's all visit the survey posted in the channel before continuing.\n",
    "\n",
    "*[Check out #General]*"
   ]
  },
  {
   "cell_type": "markdown",
   "metadata": {},
   "source": [
    "Hopefully everything goes smooothly.  It's possible that I may need to modify the permissions on the sheet or provide a CSV snapshot if we hit a snag.\n",
    "\n",
    "We will be loading our results via HTTP, then loading them into Pandas via StringIO which allows us to interoperate on strings as if they were file resources, then load them as a Dataframe.  This is setup for us now."
   ]
  },
  {
   "cell_type": "code",
   "execution_count": 9,
   "metadata": {
    "collapsed": false
   },
   "outputs": [],
   "source": [
    "import pandas as pd\n",
    "import requests\n",
    "\n",
    "from StringIO import StringIO  \n",
    "\n",
    "%matplotlib inline\n",
    "\n",
    "spreadsheet = \"https://docs.google.com/spreadsheets/d/1cpUb7XbN-qOq4xbGdYfhY9FtrMqRd0izz4PmTPMejt0/export?format=csv&id=1cpUb7XbN-qOq4xbGdYfhY9FtrMqRd0izz4PmTPMejt0&gid=216538035\"\n",
    "http = requests.get(spreadsheet)\n",
    "csv_data = StringIO(http.content)\n",
    "df = pd.read_csv(csv_data, index_col=0)"
   ]
  },
  {
   "cell_type": "code",
   "execution_count": 10,
   "metadata": {
    "collapsed": false
   },
   "outputs": [
    {
     "data": {
      "text/html": [
       "<div>\n",
       "<table border=\"1\" class=\"dataframe\">\n",
       "  <thead>\n",
       "    <tr style=\"text-align: right;\">\n",
       "      <th></th>\n",
       "      <th>Name</th>\n",
       "      <th>Favorite Genres / Genres you like</th>\n",
       "      <th>What time of day do you like to listen to music?</th>\n",
       "    </tr>\n",
       "    <tr>\n",
       "      <th>Timestamp</th>\n",
       "      <th></th>\n",
       "      <th></th>\n",
       "      <th></th>\n",
       "    </tr>\n",
       "  </thead>\n",
       "  <tbody>\n",
       "    <tr>\n",
       "      <th>6/29/2016 9:53:54</th>\n",
       "      <td>Kathleen</td>\n",
       "      <td>Electronic Music</td>\n",
       "      <td>NaN</td>\n",
       "    </tr>\n",
       "    <tr>\n",
       "      <th>6/29/2016 9:54:36</th>\n",
       "      <td>Stav</td>\n",
       "      <td>Alternative Music, Country, Dance, Electronic ...</td>\n",
       "      <td>Morning, Noon, Afternoon, Night, Special occas...</td>\n",
       "    </tr>\n",
       "    <tr>\n",
       "      <th>6/29/2016 9:54:39</th>\n",
       "      <td>Courtney</td>\n",
       "      <td>Blues, Dance, Hip Hop / Rap, Pop, Rock, Singer...</td>\n",
       "      <td>Afternoon, Night</td>\n",
       "    </tr>\n",
       "    <tr>\n",
       "      <th>6/29/2016 9:54:46</th>\n",
       "      <td>Kathleen</td>\n",
       "      <td>Country, Dance, Electronic Music, Hip Hop / Ra...</td>\n",
       "      <td>Morning, Noon, Afternoon, Night, Special occas...</td>\n",
       "    </tr>\n",
       "    <tr>\n",
       "      <th>6/29/2016 9:54:53</th>\n",
       "      <td>Michael Sanders</td>\n",
       "      <td>Alternative Music, Blues, Dance, Electronic Mu...</td>\n",
       "      <td>24/7</td>\n",
       "    </tr>\n",
       "    <tr>\n",
       "      <th>6/29/2016 9:55:07</th>\n",
       "      <td>Ed</td>\n",
       "      <td>Alternative Music, Dance, Hip Hop / Rap, Pop</td>\n",
       "      <td>Morning, Night</td>\n",
       "    </tr>\n",
       "    <tr>\n",
       "      <th>6/29/2016 9:55:25</th>\n",
       "      <td>Alec</td>\n",
       "      <td>Metal</td>\n",
       "      <td>24/7</td>\n",
       "    </tr>\n",
       "    <tr>\n",
       "      <th>6/29/2016 9:55:25</th>\n",
       "      <td>Justin</td>\n",
       "      <td>Alternative Music, Hip Hop / Rap, Indie Pop, R...</td>\n",
       "      <td>24/7</td>\n",
       "    </tr>\n",
       "    <tr>\n",
       "      <th>6/29/2016 9:55:52</th>\n",
       "      <td>Larry Lizard</td>\n",
       "      <td>Ultra Speed Metal</td>\n",
       "      <td>24/7</td>\n",
       "    </tr>\n",
       "    <tr>\n",
       "      <th>6/29/2016 9:55:56</th>\n",
       "      <td>schulzey</td>\n",
       "      <td>Alternative Music, Dance, Easy Listening, Hip ...</td>\n",
       "      <td>Afternoon</td>\n",
       "    </tr>\n",
       "  </tbody>\n",
       "</table>\n",
       "</div>"
      ],
      "text/plain": [
       "                              Name  \\\n",
       "Timestamp                            \n",
       "6/29/2016 9:53:54         Kathleen   \n",
       "6/29/2016 9:54:36             Stav   \n",
       "6/29/2016 9:54:39         Courtney   \n",
       "6/29/2016 9:54:46         Kathleen   \n",
       "6/29/2016 9:54:53  Michael Sanders   \n",
       "6/29/2016 9:55:07               Ed   \n",
       "6/29/2016 9:55:25             Alec   \n",
       "6/29/2016 9:55:25           Justin   \n",
       "6/29/2016 9:55:52     Larry Lizard   \n",
       "6/29/2016 9:55:56         schulzey   \n",
       "\n",
       "                                   Favorite Genres / Genres you like  \\\n",
       "Timestamp                                                              \n",
       "6/29/2016 9:53:54                                   Electronic Music   \n",
       "6/29/2016 9:54:36  Alternative Music, Country, Dance, Electronic ...   \n",
       "6/29/2016 9:54:39  Blues, Dance, Hip Hop / Rap, Pop, Rock, Singer...   \n",
       "6/29/2016 9:54:46  Country, Dance, Electronic Music, Hip Hop / Ra...   \n",
       "6/29/2016 9:54:53  Alternative Music, Blues, Dance, Electronic Mu...   \n",
       "6/29/2016 9:55:07       Alternative Music, Dance, Hip Hop / Rap, Pop   \n",
       "6/29/2016 9:55:25                                              Metal   \n",
       "6/29/2016 9:55:25  Alternative Music, Hip Hop / Rap, Indie Pop, R...   \n",
       "6/29/2016 9:55:52                                  Ultra Speed Metal   \n",
       "6/29/2016 9:55:56  Alternative Music, Dance, Easy Listening, Hip ...   \n",
       "\n",
       "                    What time of day do you like to listen to music?  \n",
       "Timestamp                                                             \n",
       "6/29/2016 9:53:54                                                NaN  \n",
       "6/29/2016 9:54:36  Morning, Noon, Afternoon, Night, Special occas...  \n",
       "6/29/2016 9:54:39                                   Afternoon, Night  \n",
       "6/29/2016 9:54:46  Morning, Noon, Afternoon, Night, Special occas...  \n",
       "6/29/2016 9:54:53                                               24/7  \n",
       "6/29/2016 9:55:07                                     Morning, Night  \n",
       "6/29/2016 9:55:25                                               24/7  \n",
       "6/29/2016 9:55:25                                               24/7  \n",
       "6/29/2016 9:55:52                                               24/7  \n",
       "6/29/2016 9:55:56                                          Afternoon  "
      ]
     },
     "execution_count": 10,
     "metadata": {},
     "output_type": "execute_result"
    }
   ],
   "source": [
    "df.head(10)"
   ]
  },
  {
   "cell_type": "markdown",
   "metadata": {},
   "source": [
    "**1. Rename the genre feature**\n",
    "\n",
    "We get bad data from spreadsheets all the time.  This case, it's coming from a survey.  For ease of reference, rename the feature **\"Favorite Genres / Genres you like\"** to **\"genres\"**.\n"
   ]
  },
  {
   "cell_type": "code",
   "execution_count": 11,
   "metadata": {
    "collapsed": false
   },
   "outputs": [],
   "source": [
    "# Renaming the time of day feature for later as well\n",
    "\n",
    "columns = { \n",
    "    \"Favorite Genres / Genres you like\": \"genres\", \n",
    "    \"What time of day do you like to listen to music?\": \"times\"\n",
    "}\n",
    "\n",
    "df.rename(columns=columns, inplace=True)"
   ]
  },
  {
   "cell_type": "markdown",
   "metadata": {},
   "source": [
    "**2. Select only your response from the new \"genre\" feature**\n",
    "\n",
    "Try printing out only the first value, where df[\"Name\"] == \"[Your name]\"."
   ]
  },
  {
   "cell_type": "code",
   "execution_count": 12,
   "metadata": {
    "collapsed": false
   },
   "outputs": [
    {
     "data": {
      "text/html": [
       "<div>\n",
       "<table border=\"1\" class=\"dataframe\">\n",
       "  <thead>\n",
       "    <tr style=\"text-align: right;\">\n",
       "      <th></th>\n",
       "      <th>Name</th>\n",
       "      <th>genres</th>\n",
       "      <th>times</th>\n",
       "    </tr>\n",
       "    <tr>\n",
       "      <th>Timestamp</th>\n",
       "      <th></th>\n",
       "      <th></th>\n",
       "      <th></th>\n",
       "    </tr>\n",
       "  </thead>\n",
       "  <tbody>\n",
       "    <tr>\n",
       "      <th>6/29/2016 9:56:39</th>\n",
       "      <td>Sam</td>\n",
       "      <td>Blues, Classical, Dance, Electronic Music, Eur...</td>\n",
       "      <td>24/7</td>\n",
       "    </tr>\n",
       "  </tbody>\n",
       "</table>\n",
       "</div>"
      ],
      "text/plain": [
       "                  Name                                             genres  \\\n",
       "Timestamp                                                                   \n",
       "6/29/2016 9:56:39  Sam  Blues, Classical, Dance, Electronic Music, Eur...   \n",
       "\n",
       "                  times  \n",
       "Timestamp                \n",
       "6/29/2016 9:56:39  24/7  "
      ]
     },
     "execution_count": 12,
     "metadata": {},
     "output_type": "execute_result"
    }
   ],
   "source": [
    "df[df['Name'] == \"Sam\"]"
   ]
  },
  {
   "cell_type": "markdown",
   "metadata": {},
   "source": [
    "**3. Take your survey response for \"genre\", and split it into a list, equal to the number of responses you chose**\n",
    "\n",
    "For example if you chose \"Blues, Reggae, Electronic Music\", convert it to a list that looks like [\"Blues\", \"Raggae\", \"Electronic Music\"]."
   ]
  },
  {
   "cell_type": "code",
   "execution_count": 13,
   "metadata": {
    "collapsed": false
   },
   "outputs": [
    {
     "data": {
      "text/plain": [
       "['Blues, Classical, Dance, Electronic Music, European Music (Folk / Pop), Indie Pop, Jazz, Opera, Pop, Rock, World Music / Beats, Metal, Ultra Speed Metal']"
      ]
     },
     "execution_count": 13,
     "metadata": {},
     "output_type": "execute_result"
    }
   ],
   "source": [
    "# You can use .values or .iloc\n",
    "# df[df['Name'] == \"Dave\"]['genres'].iloc[0]\n",
    "df[df['Name'] == \"Sam\"]['genres'].values[0].split(\" ,\")"
   ]
  },
  {
   "cell_type": "markdown",
   "metadata": {},
   "source": [
    "**4. Create a function that takes 2 lists, then calculate Jaccard distance**\n",
    "\n",
    "0-60 mph I know but you can do this!  Double check our slides, and refer to the set operations for how to calculate this.  \n",
    "\n",
    "Here is a boilerplate to get you going."
   ]
  },
  {
   "cell_type": "code",
   "execution_count": 14,
   "metadata": {
    "collapsed": false
   },
   "outputs": [
    {
     "data": {
      "text/plain": [
       "0.4"
      ]
     },
     "execution_count": 14,
     "metadata": {},
     "output_type": "execute_result"
    }
   ],
   "source": [
    "def jaccard(list1, list2):\n",
    "    \n",
    "    a = set(list1)\n",
    "    b = set(list2)\n",
    "    \n",
    "    numerator = len(a.intersection(b)) * 1.0 # * 1.0 to cast as a float\n",
    "    denominator = len(a.union(b)) * 1.0\n",
    "\n",
    "    return numerator / denominator\n",
    "\n",
    "list1 = ['blue', 'green', 'yellow']\n",
    "list2 = ['black', 'orange', 'yellow', 'green']\n",
    "\n",
    "jaccard(list1, list2)"
   ]
  },
  {
   "cell_type": "markdown",
   "metadata": {},
   "source": [
    "**5.  Now for our final trick, calculate the distance between your genre preferences vs everyone else.**\n",
    "\n",
    "Loop through everyone in the dataframe, create a list out of their \"genre\" string, echo out their name, then finally the distance between you and their sets."
   ]
  },
  {
   "cell_type": "code",
   "execution_count": 15,
   "metadata": {
    "collapsed": false
   },
   "outputs": [],
   "source": [
    "def apply_jaccard(row):\n",
    "\n",
    "    if type(row['genres']) is str:        \n",
    "        user_genres = row['genres'].split(\", \")\n",
    "    else:\n",
    "        user_genres = []\n",
    "        \n",
    "    row['jaccard_distance'] = jaccard(my_genres, user_genres)\n",
    "    \n",
    "    return row\n",
    "    \n",
    "my_genres =  df[df['Name'] == \"Sam\"]['genres'].values[0].split(\", \")\n",
    "my_recs   =  df.apply(apply_jaccard, axis=1)\n"
   ]
  },
  {
   "cell_type": "code",
   "execution_count": 16,
   "metadata": {
    "collapsed": false
   },
   "outputs": [
    {
     "name": "stdout",
     "output_type": "stream",
     "text": [
      "Similar users to 'Sam'\n"
     ]
    },
    {
     "name": "stderr",
     "output_type": "stream",
     "text": [
      "/Users/samuelbolivar/anaconda/lib/python2.7/site-packages/ipykernel/__main__.py:2: FutureWarning: sort(columns=....) is deprecated, use sort_values(by=.....)\n",
      "  from ipykernel import kernelapp as app\n"
     ]
    },
    {
     "data": {
      "text/html": [
       "<div>\n",
       "<table border=\"1\" class=\"dataframe\">\n",
       "  <thead>\n",
       "    <tr style=\"text-align: right;\">\n",
       "      <th></th>\n",
       "      <th>Name</th>\n",
       "      <th>jaccard_distance</th>\n",
       "    </tr>\n",
       "    <tr>\n",
       "      <th>Timestamp</th>\n",
       "      <th></th>\n",
       "      <th></th>\n",
       "    </tr>\n",
       "  </thead>\n",
       "  <tbody>\n",
       "    <tr>\n",
       "      <th>6/29/2016 9:56:39</th>\n",
       "      <td>Sam</td>\n",
       "      <td>1.000000</td>\n",
       "    </tr>\n",
       "    <tr>\n",
       "      <th>6/29/2016 9:55:57</th>\n",
       "      <td>Nori</td>\n",
       "      <td>0.473684</td>\n",
       "    </tr>\n",
       "    <tr>\n",
       "      <th>6/29/2016 9:57:51</th>\n",
       "      <td>Dave</td>\n",
       "      <td>0.450000</td>\n",
       "    </tr>\n",
       "    <tr>\n",
       "      <th>6/29/2016 9:54:53</th>\n",
       "      <td>Michael Sanders</td>\n",
       "      <td>0.411765</td>\n",
       "    </tr>\n",
       "    <tr>\n",
       "      <th>6/29/2016 9:54:39</th>\n",
       "      <td>Courtney</td>\n",
       "      <td>0.266667</td>\n",
       "    </tr>\n",
       "    <tr>\n",
       "      <th>6/29/2016 9:54:46</th>\n",
       "      <td>Kathleen</td>\n",
       "      <td>0.250000</td>\n",
       "    </tr>\n",
       "    <tr>\n",
       "      <th>6/29/2016 9:56:20</th>\n",
       "      <td>Jared</td>\n",
       "      <td>0.250000</td>\n",
       "    </tr>\n",
       "    <tr>\n",
       "      <th>6/29/2016 9:56:54</th>\n",
       "      <td>Nathan</td>\n",
       "      <td>0.222222</td>\n",
       "    </tr>\n",
       "    <tr>\n",
       "      <th>6/29/2016 9:54:36</th>\n",
       "      <td>Stav</td>\n",
       "      <td>0.200000</td>\n",
       "    </tr>\n",
       "    <tr>\n",
       "      <th>6/29/2016 9:55:56</th>\n",
       "      <td>schulzey</td>\n",
       "      <td>0.166667</td>\n",
       "    </tr>\n",
       "    <tr>\n",
       "      <th>6/29/2016 9:55:07</th>\n",
       "      <td>Ed</td>\n",
       "      <td>0.133333</td>\n",
       "    </tr>\n",
       "    <tr>\n",
       "      <th>6/29/2016 9:55:25</th>\n",
       "      <td>Justin</td>\n",
       "      <td>0.125000</td>\n",
       "    </tr>\n",
       "    <tr>\n",
       "      <th>6/29/2016 10:07:02</th>\n",
       "      <td>Luna Seriouslyfast</td>\n",
       "      <td>0.076923</td>\n",
       "    </tr>\n",
       "    <tr>\n",
       "      <th>6/29/2016 9:53:54</th>\n",
       "      <td>Kathleen</td>\n",
       "      <td>0.076923</td>\n",
       "    </tr>\n",
       "    <tr>\n",
       "      <th>6/29/2016 10:05:42</th>\n",
       "      <td>Gary Garygargrrrr</td>\n",
       "      <td>0.076923</td>\n",
       "    </tr>\n",
       "    <tr>\n",
       "      <th>6/29/2016 10:04:16</th>\n",
       "      <td>Tim Isamonkey</td>\n",
       "      <td>0.076923</td>\n",
       "    </tr>\n",
       "    <tr>\n",
       "      <th>6/29/2016 10:05:20</th>\n",
       "      <td>Alexandra Socaffeinated</td>\n",
       "      <td>0.076923</td>\n",
       "    </tr>\n",
       "    <tr>\n",
       "      <th>6/29/2016 10:08:31</th>\n",
       "      <td>Nestor Damemas</td>\n",
       "      <td>0.076923</td>\n",
       "    </tr>\n",
       "    <tr>\n",
       "      <th>6/29/2016 10:08:04</th>\n",
       "      <td>Harry Cantstop</td>\n",
       "      <td>0.076923</td>\n",
       "    </tr>\n",
       "    <tr>\n",
       "      <th>6/29/2016 10:01:11</th>\n",
       "      <td>Leonard Rapidamente</td>\n",
       "      <td>0.076923</td>\n",
       "    </tr>\n",
       "    <tr>\n",
       "      <th>6/29/2016 10:10:15</th>\n",
       "      <td>Wycliffe Keeponrunning</td>\n",
       "      <td>0.076923</td>\n",
       "    </tr>\n",
       "    <tr>\n",
       "      <th>6/29/2016 10:11:10</th>\n",
       "      <td>Serge Paraseux</td>\n",
       "      <td>0.076923</td>\n",
       "    </tr>\n",
       "    <tr>\n",
       "      <th>6/29/2016 10:01:49</th>\n",
       "      <td>Jerold Masrapido</td>\n",
       "      <td>0.076923</td>\n",
       "    </tr>\n",
       "    <tr>\n",
       "      <th>6/29/2016 9:57:07</th>\n",
       "      <td>Gary Fastpace</td>\n",
       "      <td>0.076923</td>\n",
       "    </tr>\n",
       "    <tr>\n",
       "      <th>6/29/2016 10:00:23</th>\n",
       "      <td>Jerry Masheng</td>\n",
       "      <td>0.076923</td>\n",
       "    </tr>\n",
       "    <tr>\n",
       "      <th>6/29/2016 9:59:49</th>\n",
       "      <td>Sarah Isalizard</td>\n",
       "      <td>0.076923</td>\n",
       "    </tr>\n",
       "    <tr>\n",
       "      <th>6/29/2016 9:59:20</th>\n",
       "      <td>Gary Toomuchcafe</td>\n",
       "      <td>0.076923</td>\n",
       "    </tr>\n",
       "    <tr>\n",
       "      <th>6/29/2016 9:58:34</th>\n",
       "      <td>Freddy Sofast</td>\n",
       "      <td>0.076923</td>\n",
       "    </tr>\n",
       "    <tr>\n",
       "      <th>6/29/2016 9:58:02</th>\n",
       "      <td>Jerry kuai</td>\n",
       "      <td>0.076923</td>\n",
       "    </tr>\n",
       "    <tr>\n",
       "      <th>6/29/2016 9:57:31</th>\n",
       "      <td>Jerry Sanders Jr</td>\n",
       "      <td>0.076923</td>\n",
       "    </tr>\n",
       "    <tr>\n",
       "      <th>6/29/2016 9:56:40</th>\n",
       "      <td>Jill Kombucha</td>\n",
       "      <td>0.076923</td>\n",
       "    </tr>\n",
       "    <tr>\n",
       "      <th>6/29/2016 9:56:13</th>\n",
       "      <td>Speedy Gonzalez</td>\n",
       "      <td>0.076923</td>\n",
       "    </tr>\n",
       "    <tr>\n",
       "      <th>6/29/2016 9:55:52</th>\n",
       "      <td>Larry Lizard</td>\n",
       "      <td>0.076923</td>\n",
       "    </tr>\n",
       "    <tr>\n",
       "      <th>6/29/2016 9:55:25</th>\n",
       "      <td>Alec</td>\n",
       "      <td>0.076923</td>\n",
       "    </tr>\n",
       "    <tr>\n",
       "      <th>6/29/2016 10:12:25</th>\n",
       "      <td>Ian Keeprocking</td>\n",
       "      <td>0.076923</td>\n",
       "    </tr>\n",
       "  </tbody>\n",
       "</table>\n",
       "</div>"
      ],
      "text/plain": [
       "                                       Name  jaccard_distance\n",
       "Timestamp                                                    \n",
       "6/29/2016 9:56:39                       Sam          1.000000\n",
       "6/29/2016 9:55:57                      Nori          0.473684\n",
       "6/29/2016 9:57:51                      Dave          0.450000\n",
       "6/29/2016 9:54:53           Michael Sanders          0.411765\n",
       "6/29/2016 9:54:39                  Courtney          0.266667\n",
       "6/29/2016 9:54:46                  Kathleen          0.250000\n",
       "6/29/2016 9:56:20                     Jared          0.250000\n",
       "6/29/2016 9:56:54                    Nathan          0.222222\n",
       "6/29/2016 9:54:36                      Stav          0.200000\n",
       "6/29/2016 9:55:56                  schulzey          0.166667\n",
       "6/29/2016 9:55:07                        Ed          0.133333\n",
       "6/29/2016 9:55:25                    Justin          0.125000\n",
       "6/29/2016 10:07:02       Luna Seriouslyfast          0.076923\n",
       "6/29/2016 9:53:54                  Kathleen          0.076923\n",
       "6/29/2016 10:05:42        Gary Garygargrrrr          0.076923\n",
       "6/29/2016 10:04:16            Tim Isamonkey          0.076923\n",
       "6/29/2016 10:05:20  Alexandra Socaffeinated          0.076923\n",
       "6/29/2016 10:08:31           Nestor Damemas          0.076923\n",
       "6/29/2016 10:08:04           Harry Cantstop          0.076923\n",
       "6/29/2016 10:01:11      Leonard Rapidamente          0.076923\n",
       "6/29/2016 10:10:15   Wycliffe Keeponrunning          0.076923\n",
       "6/29/2016 10:11:10           Serge Paraseux          0.076923\n",
       "6/29/2016 10:01:49         Jerold Masrapido          0.076923\n",
       "6/29/2016 9:57:07             Gary Fastpace          0.076923\n",
       "6/29/2016 10:00:23            Jerry Masheng          0.076923\n",
       "6/29/2016 9:59:49           Sarah Isalizard          0.076923\n",
       "6/29/2016 9:59:20          Gary Toomuchcafe          0.076923\n",
       "6/29/2016 9:58:34             Freddy Sofast          0.076923\n",
       "6/29/2016 9:58:02                Jerry kuai          0.076923\n",
       "6/29/2016 9:57:31          Jerry Sanders Jr          0.076923\n",
       "6/29/2016 9:56:40             Jill Kombucha          0.076923\n",
       "6/29/2016 9:56:13           Speedy Gonzalez          0.076923\n",
       "6/29/2016 9:55:52              Larry Lizard          0.076923\n",
       "6/29/2016 9:55:25                      Alec          0.076923\n",
       "6/29/2016 10:12:25          Ian Keeprocking          0.076923"
      ]
     },
     "execution_count": 16,
     "metadata": {},
     "output_type": "execute_result"
    }
   ],
   "source": [
    "print \"Similar users to 'Sam'\"\n",
    "my_recs[['Name', 'jaccard_distance']].sort('jaccard_distance', ascending=False)\n"
   ]
  },
  {
   "cell_type": "markdown",
   "metadata": {},
   "source": [
    "**Optional 6. Try calculating the distance on the time of day feature.**\n",
    "\n",
    "Try to make a new dataframe, for just you vs everyone, using jaccard, and time of day.  Is there any interesting patterns you see?"
   ]
  },
  {
   "cell_type": "code",
   "execution_count": 17,
   "metadata": {
    "collapsed": false
   },
   "outputs": [
    {
     "name": "stderr",
     "output_type": "stream",
     "text": [
      "/Users/samuelbolivar/anaconda/lib/python2.7/site-packages/ipykernel/__main__.py:15: FutureWarning: sort(columns=....) is deprecated, use sort_values(by=.....)\n"
     ]
    },
    {
     "data": {
      "text/html": [
       "<div>\n",
       "<table border=\"1\" class=\"dataframe\">\n",
       "  <thead>\n",
       "    <tr style=\"text-align: right;\">\n",
       "      <th></th>\n",
       "      <th>Name</th>\n",
       "      <th>jaccard_distance</th>\n",
       "    </tr>\n",
       "    <tr>\n",
       "      <th>Timestamp</th>\n",
       "      <th></th>\n",
       "      <th></th>\n",
       "    </tr>\n",
       "  </thead>\n",
       "  <tbody>\n",
       "    <tr>\n",
       "      <th>6/29/2016 9:57:07</th>\n",
       "      <td>Gary Fastpace</td>\n",
       "      <td>1.000000</td>\n",
       "    </tr>\n",
       "    <tr>\n",
       "      <th>6/29/2016 9:54:53</th>\n",
       "      <td>Michael Sanders</td>\n",
       "      <td>1.000000</td>\n",
       "    </tr>\n",
       "    <tr>\n",
       "      <th>6/29/2016 9:58:02</th>\n",
       "      <td>Jerry kuai</td>\n",
       "      <td>1.000000</td>\n",
       "    </tr>\n",
       "    <tr>\n",
       "      <th>6/29/2016 9:55:25</th>\n",
       "      <td>Alec</td>\n",
       "      <td>1.000000</td>\n",
       "    </tr>\n",
       "    <tr>\n",
       "      <th>6/29/2016 9:55:25</th>\n",
       "      <td>Justin</td>\n",
       "      <td>1.000000</td>\n",
       "    </tr>\n",
       "    <tr>\n",
       "      <th>6/29/2016 9:55:52</th>\n",
       "      <td>Larry Lizard</td>\n",
       "      <td>1.000000</td>\n",
       "    </tr>\n",
       "    <tr>\n",
       "      <th>6/29/2016 10:01:49</th>\n",
       "      <td>Jerold Masrapido</td>\n",
       "      <td>1.000000</td>\n",
       "    </tr>\n",
       "    <tr>\n",
       "      <th>6/29/2016 9:55:57</th>\n",
       "      <td>Nori</td>\n",
       "      <td>1.000000</td>\n",
       "    </tr>\n",
       "    <tr>\n",
       "      <th>6/29/2016 9:56:39</th>\n",
       "      <td>Sam</td>\n",
       "      <td>1.000000</td>\n",
       "    </tr>\n",
       "    <tr>\n",
       "      <th>6/29/2016 10:05:42</th>\n",
       "      <td>Gary Garygargrrrr</td>\n",
       "      <td>1.000000</td>\n",
       "    </tr>\n",
       "    <tr>\n",
       "      <th>6/29/2016 9:54:46</th>\n",
       "      <td>Kathleen</td>\n",
       "      <td>0.166667</td>\n",
       "    </tr>\n",
       "    <tr>\n",
       "      <th>6/29/2016 9:54:36</th>\n",
       "      <td>Stav</td>\n",
       "      <td>0.142857</td>\n",
       "    </tr>\n",
       "    <tr>\n",
       "      <th>6/29/2016 10:05:20</th>\n",
       "      <td>Alexandra Socaffeinated</td>\n",
       "      <td>0.000000</td>\n",
       "    </tr>\n",
       "    <tr>\n",
       "      <th>6/29/2016 10:01:11</th>\n",
       "      <td>Leonard Rapidamente</td>\n",
       "      <td>0.000000</td>\n",
       "    </tr>\n",
       "    <tr>\n",
       "      <th>6/29/2016 10:04:16</th>\n",
       "      <td>Tim Isamonkey</td>\n",
       "      <td>0.000000</td>\n",
       "    </tr>\n",
       "    <tr>\n",
       "      <th>6/29/2016 10:08:04</th>\n",
       "      <td>Harry Cantstop</td>\n",
       "      <td>0.000000</td>\n",
       "    </tr>\n",
       "    <tr>\n",
       "      <th>6/29/2016 10:07:02</th>\n",
       "      <td>Luna Seriouslyfast</td>\n",
       "      <td>0.000000</td>\n",
       "    </tr>\n",
       "    <tr>\n",
       "      <th>6/29/2016 9:59:49</th>\n",
       "      <td>Sarah Isalizard</td>\n",
       "      <td>0.000000</td>\n",
       "    </tr>\n",
       "    <tr>\n",
       "      <th>6/29/2016 10:08:31</th>\n",
       "      <td>Nestor Damemas</td>\n",
       "      <td>0.000000</td>\n",
       "    </tr>\n",
       "    <tr>\n",
       "      <th>6/29/2016 10:10:15</th>\n",
       "      <td>Wycliffe Keeponrunning</td>\n",
       "      <td>0.000000</td>\n",
       "    </tr>\n",
       "    <tr>\n",
       "      <th>6/29/2016 10:11:10</th>\n",
       "      <td>Serge Paraseux</td>\n",
       "      <td>0.000000</td>\n",
       "    </tr>\n",
       "    <tr>\n",
       "      <th>6/29/2016 10:00:23</th>\n",
       "      <td>Jerry Masheng</td>\n",
       "      <td>0.000000</td>\n",
       "    </tr>\n",
       "    <tr>\n",
       "      <th>6/29/2016 9:53:54</th>\n",
       "      <td>Kathleen</td>\n",
       "      <td>0.000000</td>\n",
       "    </tr>\n",
       "    <tr>\n",
       "      <th>6/29/2016 9:59:20</th>\n",
       "      <td>Gary Toomuchcafe</td>\n",
       "      <td>0.000000</td>\n",
       "    </tr>\n",
       "    <tr>\n",
       "      <th>6/29/2016 9:58:34</th>\n",
       "      <td>Freddy Sofast</td>\n",
       "      <td>0.000000</td>\n",
       "    </tr>\n",
       "    <tr>\n",
       "      <th>6/29/2016 9:57:31</th>\n",
       "      <td>Jerry Sanders Jr</td>\n",
       "      <td>0.000000</td>\n",
       "    </tr>\n",
       "    <tr>\n",
       "      <th>6/29/2016 9:57:51</th>\n",
       "      <td>Dave</td>\n",
       "      <td>0.000000</td>\n",
       "    </tr>\n",
       "    <tr>\n",
       "      <th>6/29/2016 9:56:54</th>\n",
       "      <td>Nathan</td>\n",
       "      <td>0.000000</td>\n",
       "    </tr>\n",
       "    <tr>\n",
       "      <th>6/29/2016 9:56:40</th>\n",
       "      <td>Jill Kombucha</td>\n",
       "      <td>0.000000</td>\n",
       "    </tr>\n",
       "    <tr>\n",
       "      <th>6/29/2016 9:56:20</th>\n",
       "      <td>Jared</td>\n",
       "      <td>0.000000</td>\n",
       "    </tr>\n",
       "    <tr>\n",
       "      <th>6/29/2016 9:56:13</th>\n",
       "      <td>Speedy Gonzalez</td>\n",
       "      <td>0.000000</td>\n",
       "    </tr>\n",
       "    <tr>\n",
       "      <th>6/29/2016 9:55:56</th>\n",
       "      <td>schulzey</td>\n",
       "      <td>0.000000</td>\n",
       "    </tr>\n",
       "    <tr>\n",
       "      <th>6/29/2016 9:55:07</th>\n",
       "      <td>Ed</td>\n",
       "      <td>0.000000</td>\n",
       "    </tr>\n",
       "    <tr>\n",
       "      <th>6/29/2016 9:54:39</th>\n",
       "      <td>Courtney</td>\n",
       "      <td>0.000000</td>\n",
       "    </tr>\n",
       "    <tr>\n",
       "      <th>6/29/2016 10:12:25</th>\n",
       "      <td>Ian Keeprocking</td>\n",
       "      <td>0.000000</td>\n",
       "    </tr>\n",
       "  </tbody>\n",
       "</table>\n",
       "</div>"
      ],
      "text/plain": [
       "                                       Name  jaccard_distance\n",
       "Timestamp                                                    \n",
       "6/29/2016 9:57:07             Gary Fastpace          1.000000\n",
       "6/29/2016 9:54:53           Michael Sanders          1.000000\n",
       "6/29/2016 9:58:02                Jerry kuai          1.000000\n",
       "6/29/2016 9:55:25                      Alec          1.000000\n",
       "6/29/2016 9:55:25                    Justin          1.000000\n",
       "6/29/2016 9:55:52              Larry Lizard          1.000000\n",
       "6/29/2016 10:01:49         Jerold Masrapido          1.000000\n",
       "6/29/2016 9:55:57                      Nori          1.000000\n",
       "6/29/2016 9:56:39                       Sam          1.000000\n",
       "6/29/2016 10:05:42        Gary Garygargrrrr          1.000000\n",
       "6/29/2016 9:54:46                  Kathleen          0.166667\n",
       "6/29/2016 9:54:36                      Stav          0.142857\n",
       "6/29/2016 10:05:20  Alexandra Socaffeinated          0.000000\n",
       "6/29/2016 10:01:11      Leonard Rapidamente          0.000000\n",
       "6/29/2016 10:04:16            Tim Isamonkey          0.000000\n",
       "6/29/2016 10:08:04           Harry Cantstop          0.000000\n",
       "6/29/2016 10:07:02       Luna Seriouslyfast          0.000000\n",
       "6/29/2016 9:59:49           Sarah Isalizard          0.000000\n",
       "6/29/2016 10:08:31           Nestor Damemas          0.000000\n",
       "6/29/2016 10:10:15   Wycliffe Keeponrunning          0.000000\n",
       "6/29/2016 10:11:10           Serge Paraseux          0.000000\n",
       "6/29/2016 10:00:23            Jerry Masheng          0.000000\n",
       "6/29/2016 9:53:54                  Kathleen          0.000000\n",
       "6/29/2016 9:59:20          Gary Toomuchcafe          0.000000\n",
       "6/29/2016 9:58:34             Freddy Sofast          0.000000\n",
       "6/29/2016 9:57:31          Jerry Sanders Jr          0.000000\n",
       "6/29/2016 9:57:51                      Dave          0.000000\n",
       "6/29/2016 9:56:54                    Nathan          0.000000\n",
       "6/29/2016 9:56:40             Jill Kombucha          0.000000\n",
       "6/29/2016 9:56:20                     Jared          0.000000\n",
       "6/29/2016 9:56:13           Speedy Gonzalez          0.000000\n",
       "6/29/2016 9:55:56                  schulzey          0.000000\n",
       "6/29/2016 9:55:07                        Ed          0.000000\n",
       "6/29/2016 9:54:39                  Courtney          0.000000\n",
       "6/29/2016 10:12:25          Ian Keeprocking          0.000000"
      ]
     },
     "execution_count": 17,
     "metadata": {},
     "output_type": "execute_result"
    }
   ],
   "source": [
    "def apply_jaccard_tod(row):\n",
    "\n",
    "    if type(row['times']) is str:        \n",
    "        user_times = row['times'].split(\", \")\n",
    "    else:\n",
    "        user_times = []\n",
    "        \n",
    "    row['jaccard_distance'] = jaccard(my_times, user_times)\n",
    "    \n",
    "    return row\n",
    "\n",
    "my_times =  df[df['Name'] == \"Sam\"]['times'].values[0].split(\", \")\n",
    "my_recs  =  df.apply(apply_jaccard_tod, axis=1)\n",
    "\n",
    "my_recs[['Name', 'jaccard_distance']].sort('jaccard_distance', ascending=False)\n"
   ]
  },
  {
   "cell_type": "markdown",
   "metadata": {},
   "source": [
    "**Optional 7. What can you say about the selection of options for genre or time and what they mean?**"
   ]
  },
  {
   "cell_type": "markdown",
   "metadata": {
    "collapsed": true
   },
   "source": [
    "One thing that is pretty obvious is that there are fewer options for times of day.  Times of day is much more broad and may not be a great predictor of personalizable characteristics within the dataset.\n",
    "\n",
    "Also, options that broadly generalize preferences that already exist in the set that you're collecting is diminishing the preference value.  For instance options such as \"24/7\", \"all\", \"everything\", could describe other options in the same set and don't point to a preference to anything specific.  If you're going to ask explicitly for feedback, then these items will certainly not be very useful."
   ]
  },
  {
   "cell_type": "code",
   "execution_count": null,
   "metadata": {
    "collapsed": true
   },
   "outputs": [],
   "source": []
  }
 ],
 "metadata": {
  "kernelspec": {
   "display_name": "Python 2",
   "language": "python",
   "name": "python2"
  },
  "language_info": {
   "codemirror_mode": {
    "name": "ipython",
    "version": 2
   },
   "file_extension": ".py",
   "mimetype": "text/x-python",
   "name": "python",
   "nbconvert_exporter": "python",
   "pygments_lexer": "ipython2",
   "version": "2.7.12"
  }
 },
 "nbformat": 4,
 "nbformat_minor": 0
}
