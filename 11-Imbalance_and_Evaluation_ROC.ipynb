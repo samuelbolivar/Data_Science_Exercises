{
 "cells": [
  {
   "cell_type": "markdown",
   "metadata": {},
   "source": [
    "## First!  Let's make sure we can undersample!\n",
    "\n",
    "https://github.com/glemaitre/UnbalancedDataset\n",
    "\n",
    "** Let's install UnbalancedDataset: **\n",
    "\n",
    "```\n",
    "git clone https://github.com/fmfn/UnbalancedDataset.git\n",
    "cd UnbalancedDataset\n",
    "python setup.py install\n",
    "```\n",
    "\n",
    "#### Then restart kernel\n"
   ]
  },
  {
   "cell_type": "markdown",
   "metadata": {},
   "source": [
    "Data is from: https://archive.ics.uci.edu/ml/datasets/Energy+efficiency\n",
    "\n",
    "From UCI:\n",
    "\n",
    "### Data Set Information:\n",
    "\n",
    "\n",
    "We perform energy analysis using 12 different building shapes simulated in Ecotect. The buildings differ with respect to the glazing area, the glazing area distribution, and the orientation, amongst other parameters. We simulate various settings as functions of the afore-mentioned characteristics to obtain 768 building shapes. The dataset comprises 768 samples and 8 features, aiming to predict two real valued responses. It can also be used as a multi-class classification problem if the response is rounded to the nearest integer.\n",
    "\n",
    "\n",
    "### Attribute Information:\n",
    "\n",
    "The dataset contains eight attributes (or features, denoted by X1...X8) and two responses (or outcomes, denoted by y1 and y2). The aim is to use the eight features to predict each of the two responses. \n",
    "\n",
    "\n",
    "Specifically: \n",
    "- X1\tRelative Compactness \n",
    "- X2\tSurface Area \n",
    "- X3\tWall Area \n",
    "- X4\tRoof Area \n",
    "- X5\tOverall Height \n",
    "- X6\tOrientation \n",
    "- X7\tGlazing Area \n",
    "- X8\tGlazing Area Distribution \n",
    "- y1\tHeating Load \n",
    "- y2\tCooling Load\n",
    "\n",
    "\n",
    "Heating load is heat energy to be put into a heating system via heating apparatus.\n",
    "\n",
    "\n",
    "Cooling load is the amount of heat energy to be removed from a building by the HVAC equipment to maintain the house at indoor design temperature when worst case outdoor design temperature is being experienced.\n",
    "\n",
    "\n",
    "\n",
    "NOTE: For this lab - we will mostly be looking at this as a classification problem - identifying building features that lead to \"high\" heating loads."
   ]
  },
  {
   "cell_type": "code",
   "execution_count": 1,
   "metadata": {
    "collapsed": false
   },
   "outputs": [
    {
     "data": {
      "text/html": [
       "\n",
       "    <div class=\"bk-banner\">\n",
       "        <a href=\"http://bokeh.pydata.org\" target=\"_blank\" class=\"bk-logo bk-logo-small bk-logo-notebook\"></a>\n",
       "        <span id=\"7c2cd6cd-3e70-4a51-a58e-fd5a164fe47f\">Loading BokehJS ...</span>\n",
       "    </div>"
      ]
     },
     "metadata": {},
     "output_type": "display_data"
    },
    {
     "data": {
      "application/javascript": [
       "\n",
       "(function(global) {\n",
       "  function now() {\n",
       "    return new Date();\n",
       "  }\n",
       "\n",
       "  if (typeof (window._bokeh_onload_callbacks) === \"undefined\") {\n",
       "    window._bokeh_onload_callbacks = [];\n",
       "  }\n",
       "\n",
       "  function run_callbacks() {\n",
       "    window._bokeh_onload_callbacks.forEach(function(callback) { callback() });\n",
       "    delete window._bokeh_onload_callbacks\n",
       "    console.info(\"Bokeh: all callbacks have finished\");\n",
       "  }\n",
       "\n",
       "  function load_libs(js_urls, callback) {\n",
       "    window._bokeh_onload_callbacks.push(callback);\n",
       "    if (window._bokeh_is_loading > 0) {\n",
       "      console.log(\"Bokeh: BokehJS is being loaded, scheduling callback at\", now());\n",
       "      return null;\n",
       "    }\n",
       "    if (js_urls == null || js_urls.length === 0) {\n",
       "      run_callbacks();\n",
       "      return null;\n",
       "    }\n",
       "    console.log(\"Bokeh: BokehJS not loaded, scheduling load and callback at\", now());\n",
       "    window._bokeh_is_loading = js_urls.length;\n",
       "    for (var i = 0; i < js_urls.length; i++) {\n",
       "      var url = js_urls[i];\n",
       "      var s = document.createElement('script');\n",
       "      s.src = url;\n",
       "      s.async = false;\n",
       "      s.onreadystatechange = s.onload = function() {\n",
       "        window._bokeh_is_loading--;\n",
       "        if (window._bokeh_is_loading === 0) {\n",
       "          console.log(\"Bokeh: all BokehJS libraries loaded\");\n",
       "          run_callbacks()\n",
       "        }\n",
       "      };\n",
       "      s.onerror = function() {\n",
       "        console.warn(\"failed to load library \" + url);\n",
       "      };\n",
       "      console.log(\"Bokeh: injecting script tag for BokehJS library: \", url);\n",
       "      document.getElementsByTagName(\"head\")[0].appendChild(s);\n",
       "    }\n",
       "  };\n",
       "\n",
       "  var js_urls = ['https://cdn.pydata.org/bokeh/release/bokeh-0.11.1.min.js', 'https://cdn.pydata.org/bokeh/release/bokeh-widgets-0.11.1.min.js', 'https://cdn.pydata.org/bokeh/release/bokeh-compiler-0.11.1.min.js'];\n",
       "\n",
       "  var inline_js = [\n",
       "    function(Bokeh) {\n",
       "      Bokeh.set_log_level(\"info\");\n",
       "    },\n",
       "    \n",
       "    function(Bokeh) {\n",
       "      Bokeh.$(\"#7c2cd6cd-3e70-4a51-a58e-fd5a164fe47f\").text(\"BokehJS successfully loaded\");\n",
       "    },\n",
       "    function(Bokeh) {\n",
       "      console.log(\"Bokeh: injecting CSS: https://cdn.pydata.org/bokeh/release/bokeh-0.11.1.min.css\");\n",
       "      Bokeh.embed.inject_css(\"https://cdn.pydata.org/bokeh/release/bokeh-0.11.1.min.css\");\n",
       "      console.log(\"Bokeh: injecting CSS: https://cdn.pydata.org/bokeh/release/bokeh-widgets-0.11.1.min.css\");\n",
       "      Bokeh.embed.inject_css(\"https://cdn.pydata.org/bokeh/release/bokeh-widgets-0.11.1.min.css\");\n",
       "    }\n",
       "  ];\n",
       "\n",
       "  function run_inline_js() {\n",
       "    for (var i = 0; i < inline_js.length; i++) {\n",
       "      inline_js[i](window.Bokeh);\n",
       "    }\n",
       "  }\n",
       "\n",
       "  if (window._bokeh_is_loading === 0) {\n",
       "    console.log(\"Bokeh: BokehJS loaded, going straight to plotting\");\n",
       "    run_inline_js();\n",
       "  } else {\n",
       "    load_libs(js_urls, function() {\n",
       "      console.log(\"Bokeh: BokehJS plotting callback run at\", now());\n",
       "      run_inline_js();\n",
       "    });\n",
       "  }\n",
       "}(this));"
      ]
     },
     "metadata": {},
     "output_type": "display_data"
    }
   ],
   "source": [
    "import pandas as pd, numpy as np\n",
    "\n",
    "from sklearn.metrics import roc_curve\n",
    "from sklearn.metrics import auc\n",
    "\n",
    "from sklearn.linear_model import LogisticRegression\n",
    "from sklearn.metrics import classification_report,confusion_matrix\n",
    "from sklearn.cross_validation import ShuffleSplit\n",
    "from sklearn.cross_validation import cross_val_score\n",
    "from sklearn.cross_validation import train_test_split \n",
    "from sklearn.neighbors import KNeighborsClassifier\n",
    "\n",
    "#from unbalanced_dataset import UnderSampler, OverSampler, SMOTE\n",
    "#import unblanaced_dataset\n",
    "import imblearn\n",
    "\n",
    "from bokeh.plotting import figure,show,output_notebook\n",
    "from bokeh.models import Range1d\n",
    "output_notebook()\n",
    "\n",
    "import seaborn as sns\n",
    "\n",
    "%matplotlib inline"
   ]
  },
  {
   "cell_type": "code",
   "execution_count": 2,
   "metadata": {
    "collapsed": false
   },
   "outputs": [],
   "source": [
    "sns.set_style(\"darkgrid\")"
   ]
  },
  {
   "cell_type": "code",
   "execution_count": 3,
   "metadata": {
    "collapsed": false
   },
   "outputs": [
    {
     "name": "stdout",
     "output_type": "stream",
     "text": [
      "<class 'pandas.core.frame.DataFrame'>\n",
      "RangeIndex: 768 entries, 0 to 767\n",
      "Data columns (total 10 columns):\n",
      "rel_compact          768 non-null float64\n",
      "surface              768 non-null float64\n",
      "wall                 768 non-null float64\n",
      "roof                 768 non-null float64\n",
      "height               768 non-null float64\n",
      "orientation          768 non-null int64\n",
      "glazing_area         768 non-null float64\n",
      "glazing_area_dist    768 non-null int64\n",
      "heating_load         768 non-null float64\n",
      "cooling_load         768 non-null float64\n",
      "dtypes: float64(8), int64(2)\n",
      "memory usage: 60.1 KB\n"
     ]
    }
   ],
   "source": [
    "en = pd.read_csv('../data/ENB2012_data.csv',header=0)\n",
    "en.info()"
   ]
  },
  {
   "cell_type": "code",
   "execution_count": 4,
   "metadata": {
    "collapsed": false
   },
   "outputs": [
    {
     "data": {
      "text/html": [
       "<div>\n",
       "<table border=\"1\" class=\"dataframe\">\n",
       "  <thead>\n",
       "    <tr style=\"text-align: right;\">\n",
       "      <th></th>\n",
       "      <th>count</th>\n",
       "      <th>mean</th>\n",
       "      <th>std</th>\n",
       "      <th>min</th>\n",
       "      <th>25%</th>\n",
       "      <th>50%</th>\n",
       "      <th>75%</th>\n",
       "      <th>max</th>\n",
       "    </tr>\n",
       "  </thead>\n",
       "  <tbody>\n",
       "    <tr>\n",
       "      <th>heating_load</th>\n",
       "      <td>768.0</td>\n",
       "      <td>22.290365</td>\n",
       "      <td>10.113325</td>\n",
       "      <td>6.0</td>\n",
       "      <td>13.0</td>\n",
       "      <td>19.0</td>\n",
       "      <td>32.0</td>\n",
       "      <td>43.0</td>\n",
       "    </tr>\n",
       "    <tr>\n",
       "      <th>cooling_load</th>\n",
       "      <td>768.0</td>\n",
       "      <td>24.579427</td>\n",
       "      <td>9.520797</td>\n",
       "      <td>11.0</td>\n",
       "      <td>16.0</td>\n",
       "      <td>22.0</td>\n",
       "      <td>33.0</td>\n",
       "      <td>48.0</td>\n",
       "    </tr>\n",
       "  </tbody>\n",
       "</table>\n",
       "</div>"
      ],
      "text/plain": [
       "              count       mean        std   min   25%   50%   75%   max\n",
       "heating_load  768.0  22.290365  10.113325   6.0  13.0  19.0  32.0  43.0\n",
       "cooling_load  768.0  24.579427   9.520797  11.0  16.0  22.0  33.0  48.0"
      ]
     },
     "execution_count": 4,
     "metadata": {},
     "output_type": "execute_result"
    }
   ],
   "source": [
    "en[['heating_load','cooling_load']].describe().T"
   ]
  },
  {
   "cell_type": "code",
   "execution_count": 5,
   "metadata": {
    "collapsed": false
   },
   "outputs": [
    {
     "data": {
      "text/plain": [
       "<matplotlib.axes._subplots.AxesSubplot at 0x117662910>"
      ]
     },
     "execution_count": 5,
     "metadata": {},
     "output_type": "execute_result"
    },
    {
     "data": {
      "image/png": "[encoded data removed]",
      "text/plain": [
       "<matplotlib.figure.Figure at 0x117662f90>"
      ]
     },
     "metadata": {},
     "output_type": "display_data"
    }
   ],
   "source": [
    "en.heating_load.plot(kind='box', figsize=(10,5))"
   ]
  },
  {
   "cell_type": "markdown",
   "metadata": {},
   "source": [
    "## Exercise !\n",
    "\n",
    "Say we wanted to predict whether or not a building has a high heating load (>= 40). We would then create a new feature where heating_load is greater than or equal to 40:\n",
    "\n",
    "*_You can create new feautres by referencing a new key in your dataframe for this exercize._\n"
   ]
  },
  {
   "cell_type": "code",
   "execution_count": 6,
   "metadata": {
    "collapsed": false
   },
   "outputs": [],
   "source": [
    "## This is important to reference later so we can use it as a threshold\n",
    "# Solution here:\n",
    "\n",
    "en['high_heat'] = en.heating_load >= 40"
   ]
  },
  {
   "cell_type": "markdown",
   "metadata": {},
   "source": [
    "How does our data set look now in terms of this target label:"
   ]
  },
  {
   "cell_type": "code",
   "execution_count": 7,
   "metadata": {
    "collapsed": false
   },
   "outputs": [
    {
     "name": "stdout",
     "output_type": "stream",
     "text": [
      "Mean value: 0.060\n",
      "\n",
      "Value Counts: \n"
     ]
    },
    {
     "data": {
      "text/plain": [
       "False    722\n",
       "True      46\n",
       "Name: high_heat, dtype: int64"
      ]
     },
     "execution_count": 7,
     "metadata": {},
     "output_type": "execute_result"
    }
   ],
   "source": [
    "print \"Mean value: {:.03f}\".format(en['high_heat'].mean())\n",
    "print \"\\nValue Counts: \"\n",
    "\n",
    "en.high_heat.value_counts()"
   ]
  },
  {
   "cell_type": "markdown",
   "metadata": {},
   "source": [
    "Let's classify! We'll use K nearest neighbors to see how well we do :D"
   ]
  },
  {
   "cell_type": "markdown",
   "metadata": {},
   "source": [
    "## Exercise !\n",
    "\n",
    "Build a KNN model with 5 neighbors, then check out the cross validation score."
   ]
  },
  {
   "cell_type": "code",
   "execution_count": 8,
   "metadata": {
    "collapsed": false
   },
   "outputs": [
    {
     "name": "stdout",
     "output_type": "stream",
     "text": [
      "Crossvalidated KNN Model, Simple Accuracy: 0.978\n"
     ]
    }
   ],
   "source": [
    "# Use this data\n",
    "data = en.iloc[:,:-2]\n",
    "labels = en['high_heat']\n",
    "\n",
    "model_knn = KNeighborsClassifier(5)\n",
    "scores = cross_val_score(model_knn, data, labels, cv=5)\n",
    "print \"Crossvalidated KNN Model, Simple Accuracy: {:.03f}\".format(np.mean(scores))"
   ]
  },
  {
   "cell_type": "markdown",
   "metadata": {},
   "source": [
    "Hooray! 97% is great right? Well, the leading question might be giving the game away here: 97% is a good overall score but if our goal is to properly predict a High Heating Load building, then we'll need a bit more info. In classification, a confusion matrix is a way of showing finer detail of our classifier performance.\n",
    "\n",
    "To get a confusion matrix, we need to look at only a single train/test split. So lets do that: "
   ]
  },
  {
   "cell_type": "code",
   "execution_count": 9,
   "metadata": {
    "collapsed": true
   },
   "outputs": [],
   "source": [
    "data = en.iloc[:,:-3]\n",
    "labels = en['high_heat']\n",
    "\n",
    "X_train, X_test, Y_train, Y_test = train_test_split(data, labels, test_size=0.2, random_state=1)  \n",
    "\n",
    "# Build the classifier and get the predictions\n",
    "model_knn = KNeighborsClassifier(5)\n",
    "\n",
    "model_knn.fit(X_train, Y_train)  \n",
    "predictions = model_knn.predict(X_test)"
   ]
  },
  {
   "cell_type": "markdown",
   "metadata": {},
   "source": [
    "### Confusion Matrix\n",
    "The confusion matrix shows the predicted values along the columns and the actual values along the rows. \n",
    "\n",
    "\n",
    "Sklearn defaults to alphabetical order so the Columns would read `False, True` as would our rows. These yield our **False Positives** (here we have 1 data point where we said the data point was `True` and it was `False`) and our **False Negatives** (6 predicted `False` but actually `True`). Our **True Positives** = 9.\n",
    "Illustrated more cleanly:"
   ]
  },
  {
   "cell_type": "code",
   "execution_count": 10,
   "metadata": {
    "collapsed": false
   },
   "outputs": [
    {
     "name": "stdout",
     "output_type": "stream",
     "text": [
      "[[141   4]\n",
      " [  2   7]]\n"
     ]
    }
   ],
   "source": [
    "cm = confusion_matrix(Y_test,predictions)\n",
    "print cm"
   ]
  },
  {
   "cell_type": "code",
   "execution_count": 11,
   "metadata": {
    "collapsed": false
   },
   "outputs": [
    {
     "data": {
      "text/html": [
       "<div>\n",
       "<table border=\"1\" class=\"dataframe\">\n",
       "  <thead>\n",
       "    <tr style=\"text-align: right;\">\n",
       "      <th></th>\n",
       "      <th>Actual Class 0</th>\n",
       "      <th>Actual Class 1</th>\n",
       "    </tr>\n",
       "  </thead>\n",
       "  <tbody>\n",
       "    <tr>\n",
       "      <th>Predicted Class 0</th>\n",
       "      <td>141</td>\n",
       "      <td>4</td>\n",
       "    </tr>\n",
       "    <tr>\n",
       "      <th>Predicted Class 1</th>\n",
       "      <td>2</td>\n",
       "      <td>7</td>\n",
       "    </tr>\n",
       "  </tbody>\n",
       "</table>\n",
       "</div>"
      ],
      "text/plain": [
       "                   Actual Class 0  Actual Class 1\n",
       "Predicted Class 0             141               4\n",
       "Predicted Class 1               2               7"
      ]
     },
     "execution_count": 11,
     "metadata": {},
     "output_type": "execute_result"
    }
   ],
   "source": [
    "#lets make that easier to read\n",
    "cm_df = pd.DataFrame(cm, index=['Predicted Class 0', 'Predicted Class 1'], \n",
    "                     columns=['Actual Class 0', 'Actual Class 1'])\n",
    "\n",
    "cm_df"
   ]
  },
  {
   "cell_type": "markdown",
   "metadata": {},
   "source": [
    "## Exercise !\n",
    "\n",
    "To get a sense about how different settings and models perform."
   ]
  },
  {
   "cell_type": "code",
   "execution_count": 12,
   "metadata": {
    "collapsed": false
   },
   "outputs": [
    {
     "name": "stdout",
     "output_type": "stream",
     "text": [
      "Crossvalidated KNN Model, Simple Accuracy: 0.986\n"
     ]
    }
   ],
   "source": [
    "# How does our matrix change if we change the headload threashold to .2?\n",
    "en['high_heat'] = en.heating_load >= 20\n",
    "\n",
    "data = en.iloc[:,:-2]\n",
    "labels = en['high_heat']\n",
    "\n",
    "model_knn = KNeighborsClassifier(5)\n",
    "scores = cross_val_score(model_knn, data, labels, cv=5)\n",
    "print \"Crossvalidated KNN Model, Simple Accuracy: {:.03f}\".format(np.mean(scores))"
   ]
  },
  {
   "cell_type": "code",
   "execution_count": 13,
   "metadata": {
    "collapsed": false
   },
   "outputs": [
    {
     "name": "stdout",
     "output_type": "stream",
     "text": [
      "[[141   4]\n",
      " [  2   7]]\n"
     ]
    },
    {
     "data": {
      "text/html": [
       "<div>\n",
       "<table border=\"1\" class=\"dataframe\">\n",
       "  <thead>\n",
       "    <tr style=\"text-align: right;\">\n",
       "      <th></th>\n",
       "      <th>Actual Class 0</th>\n",
       "      <th>Actual Class 1</th>\n",
       "    </tr>\n",
       "  </thead>\n",
       "  <tbody>\n",
       "    <tr>\n",
       "      <th>Predicted Class 0</th>\n",
       "      <td>141</td>\n",
       "      <td>4</td>\n",
       "    </tr>\n",
       "    <tr>\n",
       "      <th>Predicted Class 1</th>\n",
       "      <td>2</td>\n",
       "      <td>7</td>\n",
       "    </tr>\n",
       "  </tbody>\n",
       "</table>\n",
       "</div>"
      ],
      "text/plain": [
       "                   Actual Class 0  Actual Class 1\n",
       "Predicted Class 0             141               4\n",
       "Predicted Class 1               2               7"
      ]
     },
     "execution_count": 13,
     "metadata": {},
     "output_type": "execute_result"
    }
   ],
   "source": [
    "cm = confusion_matrix(Y_test,predictions)\n",
    "print cm\n",
    "cm_df = pd.DataFrame(cm, index=['Predicted Class 0', 'Predicted Class 1'], \n",
    "                     columns=['Actual Class 0', 'Actual Class 1'])\n",
    "\n",
    "cm_df\n",
    "\n",
    "# It doesn't change that much does it?  Because the parameters of the model may have more impact than changing the \n",
    "# threashold of our target.  Let's find out."
   ]
  },
  {
   "cell_type": "code",
   "execution_count": 14,
   "metadata": {
    "collapsed": false
   },
   "outputs": [
    {
     "name": "stdout",
     "output_type": "stream",
     "text": [
      "Crossvalidated KNN Model, Simple Accuracy: 0.978\n"
     ]
    },
    {
     "data": {
      "text/html": [
       "<div>\n",
       "<table border=\"1\" class=\"dataframe\">\n",
       "  <thead>\n",
       "    <tr style=\"text-align: right;\">\n",
       "      <th></th>\n",
       "      <th>Actual Class 0</th>\n",
       "      <th>Actual Class 1</th>\n",
       "    </tr>\n",
       "  </thead>\n",
       "  <tbody>\n",
       "    <tr>\n",
       "      <th>Predicted Class 0</th>\n",
       "      <td>141</td>\n",
       "      <td>4</td>\n",
       "    </tr>\n",
       "    <tr>\n",
       "      <th>Predicted Class 1</th>\n",
       "      <td>0</td>\n",
       "      <td>9</td>\n",
       "    </tr>\n",
       "  </tbody>\n",
       "</table>\n",
       "</div>"
      ],
      "text/plain": [
       "                   Actual Class 0  Actual Class 1\n",
       "Predicted Class 0             141               4\n",
       "Predicted Class 1               0               9"
      ]
     },
     "execution_count": 14,
     "metadata": {},
     "output_type": "execute_result"
    }
   ],
   "source": [
    "# How does our matrix change if we change the number of neighbors on out of sample data?  We should test with cross / train split.\n",
    "en['high_heat'] = en.heating_load >= 40\n",
    "\n",
    "data = en.iloc[:,:-2]\n",
    "labels = en['high_heat']\n",
    "\n",
    "X_train, X_test, Y_train, Y_test = train_test_split(data, labels, test_size=0.2, random_state=1)  \n",
    "\n",
    "model_knn = KNeighborsClassifier(10) # See what happens when you run with 5, 10, 20, 30, 40 -- this has an impact on True Positives and False Negatives as you add more neighbors.\n",
    "model_knn.fit(X_train, Y_train)  \n",
    "predictions = model_knn.predict(X_test)\n",
    "\n",
    "scores = cross_val_score(model_knn, data, labels, cv=5)\n",
    "print \"Crossvalidated KNN Model, Simple Accuracy: {:.03f}\".format(np.mean(scores))\n",
    "\n",
    "cm = confusion_matrix(Y_test,predictions)\n",
    "cm_df = pd.DataFrame(cm, index=['Predicted Class 0', 'Predicted Class 1'], \n",
    "                     columns=['Actual Class 0', 'Actual Class 1'])\n",
    "\n",
    "cm_df\n"
   ]
  },
  {
   "cell_type": "code",
   "execution_count": 15,
   "metadata": {
    "collapsed": false
   },
   "outputs": [
    {
     "data": {
      "text/html": [
       "<div>\n",
       "<table border=\"1\" class=\"dataframe\">\n",
       "  <thead>\n",
       "    <tr style=\"text-align: right;\">\n",
       "      <th></th>\n",
       "      <th>Actual Class 0</th>\n",
       "      <th>Actual Class 1</th>\n",
       "    </tr>\n",
       "  </thead>\n",
       "  <tbody>\n",
       "    <tr>\n",
       "      <th>Predicted Class 0</th>\n",
       "      <td>142</td>\n",
       "      <td>3</td>\n",
       "    </tr>\n",
       "    <tr>\n",
       "      <th>Predicted Class 1</th>\n",
       "      <td>0</td>\n",
       "      <td>9</td>\n",
       "    </tr>\n",
       "  </tbody>\n",
       "</table>\n",
       "</div>"
      ],
      "text/plain": [
       "                   Actual Class 0  Actual Class 1\n",
       "Predicted Class 0             142               3\n",
       "Predicted Class 1               0               9"
      ]
     },
     "execution_count": 15,
     "metadata": {},
     "output_type": "execute_result"
    }
   ],
   "source": [
    "# How does our matrix score change if we use a different classifier like logistic regression?\n",
    "\n",
    "model_lr = LogisticRegression(C=1)\n",
    "\n",
    "model_lr.fit(X_train, Y_train) # reusing from last cell\n",
    "predictions = model_lr.predict(X_test)\n",
    "\n",
    "cm = confusion_matrix(Y_test,predictions)\n",
    "cm_df = pd.DataFrame(cm, index=['Predicted Class 0', 'Predicted Class 1'], \n",
    "                     columns=['Actual Class 0', 'Actual Class 1'])\n",
    "\n",
    "cm_df"
   ]
  },
  {
   "cell_type": "markdown",
   "metadata": {},
   "source": [
    "How are these results? Are they good?  What could be the problem?  Let's make our evaluation easier to look at."
   ]
  },
  {
   "cell_type": "markdown",
   "metadata": {},
   "source": [
    "# ROC (Receiver Operator Characteristic) Plots\n",
    "The ROC curve illustrates the performance of a binary classifier system as its discrimination threshold is varied. We use ROC to compare models using the Area Under Curve (AUC) statistic. Generally, 1 is a perfect model and < 0.5 is worse than guessing. Remember for logistic regression, our probability function looks like:"
   ]
  },
  {
   "cell_type": "code",
   "execution_count": 16,
   "metadata": {
    "collapsed": false
   },
   "outputs": [],
   "source": [
    "def plot_roc_curve(target_test, target_predicted_proba):\n",
    "    fpr, tpr, thresholds = roc_curve(target_test, target_predicted_proba[:, 1])\n",
    "    \n",
    "    roc_auc = auc(fpr, tpr)\n",
    "    \n",
    "    p = figure(title='Receiver Operating Characteristic')\n",
    "    # Plot ROC curve\n",
    "    p.line(x=fpr,y=tpr,legend='ROC curve (area = %0.3f)' % roc_auc)\n",
    "    p.x_range=Range1d(0,1)\n",
    "    p.y_range=Range1d(0,1)\n",
    "    p.xaxis.axis_label='False Positive Rate or (1 - Specifity)'\n",
    "    p.yaxis.axis_label='True Positive Rate or (Sensitivity)'\n",
    "    p.legend.orientation = \"bottom_right\"\n",
    "    show(p)\n",
    "    \n",
    "%matplotlib inline"
   ]
  },
  {
   "cell_type": "code",
   "execution_count": 17,
   "metadata": {
    "collapsed": false
   },
   "outputs": [],
   "source": [
    "# Let's reset our data\n",
    "en = pd.read_csv('../data/ENB2012_data.csv',header=0)\n",
    "\n",
    "# Set a target\n",
    "en['high_heat'] = en.heating_load >= 40\n",
    "\n",
    "# Set the labels for training\n",
    "label = en['high_heat']\n",
    "\n",
    "# remove extranious features\n",
    "data = en.drop(['heating_load','cooling_load','high_heat'], axis=1)\n",
    "\n",
    "# Split our data into train and test splits\n",
    "train_feat, test_feat, train_target, test_target = train_test_split(data, label, train_size=0.3)"
   ]
  },
  {
   "cell_type": "code",
   "execution_count": 18,
   "metadata": {
    "collapsed": false
   },
   "outputs": [],
   "source": [
    "model_lr = LogisticRegression(C=1).fit(train_feat, train_target)\n",
    "target_predicted_proba = model_lr.predict_proba(test_feat)"
   ]
  },
  {
   "cell_type": "code",
   "execution_count": 19,
   "metadata": {
    "collapsed": false
   },
   "outputs": [
    {
     "name": "stderr",
     "output_type": "stream",
     "text": [
      "/Users/samuelbolivar/anaconda/lib/python2.7/site-packages/bokeh/core/properties.py:714: BokehDeprecationWarning: bokeh.models.annotations.orientation was deprecated in Bokeh 0.11; please use Legend.location instead\n",
      "  super(HasProps, self).__setattr__(name, value)\n"
     ]
    },
    {
     "data": {
      "text/html": [
       "\n",
       "\n",
       "    <div class=\"plotdiv\" id=\"6d004e7e-c065-4bef-8cf9-fab031f3f527\"></div>\n",
       "<script type=\"text/javascript\">\n",
       "  \n",
       "  (function(global) {\n",
       "    function now() {\n",
       "      return new Date();\n",
       "    }\n",
       "  \n",
       "    if (typeof (window._bokeh_onload_callbacks) === \"undefined\") {\n",
       "      window._bokeh_onload_callbacks = [];\n",
       "    }\n",
       "  \n",
       "    function run_callbacks() {\n",
       "      window._bokeh_onload_callbacks.forEach(function(callback) { callback() });\n",
       "      delete window._bokeh_onload_callbacks\n",
       "      console.info(\"Bokeh: all callbacks have finished\");\n",
       "    }\n",
       "  \n",
       "    function load_libs(js_urls, callback) {\n",
       "      window._bokeh_onload_callbacks.push(callback);\n",
       "      if (window._bokeh_is_loading > 0) {\n",
       "        console.log(\"Bokeh: BokehJS is being loaded, scheduling callback at\", now());\n",
       "        return null;\n",
       "      }\n",
       "      if (js_urls == null || js_urls.length === 0) {\n",
       "        run_callbacks();\n",
       "        return null;\n",
       "      }\n",
       "      console.log(\"Bokeh: BokehJS not loaded, scheduling load and callback at\", now());\n",
       "      window._bokeh_is_loading = js_urls.length;\n",
       "      for (var i = 0; i < js_urls.length; i++) {\n",
       "        var url = js_urls[i];\n",
       "        var s = document.createElement('script');\n",
       "        s.src = url;\n",
       "        s.async = false;\n",
       "        s.onreadystatechange = s.onload = function() {\n",
       "          window._bokeh_is_loading--;\n",
       "          if (window._bokeh_is_loading === 0) {\n",
       "            console.log(\"Bokeh: all BokehJS libraries loaded\");\n",
       "            run_callbacks()\n",
       "          }\n",
       "        };\n",
       "        s.onerror = function() {\n",
       "          console.warn(\"failed to load library \" + url);\n",
       "        };\n",
       "        console.log(\"Bokeh: injecting script tag for BokehJS library: \", url);\n",
       "        document.getElementsByTagName(\"head\")[0].appendChild(s);\n",
       "      }\n",
       "    };var element = document.getElementById(\"6d004e7e-c065-4bef-8cf9-fab031f3f527\");\n",
       "    if (element == null) {\n",
       "      console.log(\"Bokeh: ERROR: autoload.js configured with elementid '6d004e7e-c065-4bef-8cf9-fab031f3f527' but no matching script tag was found. \")\n",
       "      return false;\n",
       "    }\n",
       "  \n",
       "    var js_urls = [];\n",
       "  \n",
       "    var inline_js = [\n",
       "      function(Bokeh) {\n",
       "        Bokeh.$(function() {\n",
       "            var docs_json = {\"086b0993-1384-4b40-aba8-5dbf72584883\":{\"roots\":{\"references\":[{\"attributes\":{\"axis_label\":\"True Positive Rate or (Sensitivity)\",\"formatter\":{\"id\":\"1412676b-9237-444a-ae77-83b9086139d3\",\"type\":\"BasicTickFormatter\"},\"plot\":{\"id\":\"283aaf12-737e-4f67-aee6-7f0e766c5a93\",\"subtype\":\"Figure\",\"type\":\"Plot\"},\"ticker\":{\"id\":\"f84dce6c-4102-4e94-9179-386846e5d119\",\"type\":\"BasicTicker\"}},\"id\":\"fee514fb-6915-4a62-a194-82fe476a51a3\",\"type\":\"LinearAxis\"},{\"attributes\":{},\"id\":\"324a20f7-4503-48ff-a727-bbfe17a0549a\",\"type\":\"ToolEvents\"},{\"attributes\":{\"plot\":{\"id\":\"283aaf12-737e-4f67-aee6-7f0e766c5a93\",\"subtype\":\"Figure\",\"type\":\"Plot\"}},\"id\":\"85c64f03-5faa-4647-bb17-a13d98c6c492\",\"type\":\"PreviewSaveTool\"},{\"attributes\":{},\"id\":\"938aebc5-980e-4cb4-89f5-47d02064182b\",\"type\":\"BasicTickFormatter\"},{\"attributes\":{\"callback\":null},\"id\":\"bace5ba4-b5bb-44d5-9a40-96d1947860d3\",\"type\":\"Range1d\"},{\"attributes\":{\"line_alpha\":{\"value\":0.1},\"line_color\":{\"value\":\"#1f77b4\"},\"x\":{\"field\":\"x\"},\"y\":{\"field\":\"y\"}},\"id\":\"ecc36661-0eda-4e3f-bcf2-fc800b3c37d2\",\"type\":\"Line\"},{\"attributes\":{\"plot\":{\"id\":\"283aaf12-737e-4f67-aee6-7f0e766c5a93\",\"subtype\":\"Figure\",\"type\":\"Plot\"}},\"id\":\"470a3e20-eef8-48a4-aad5-f87e8d0557f4\",\"type\":\"WheelZoomTool\"},{\"attributes\":{\"bottom_units\":\"screen\",\"fill_alpha\":{\"value\":0.5},\"fill_color\":{\"value\":\"lightgrey\"},\"left_units\":\"screen\",\"level\":\"overlay\",\"line_alpha\":{\"value\":1.0},\"line_color\":{\"value\":\"black\"},\"line_dash\":[4,4],\"line_width\":{\"value\":2},\"plot\":null,\"render_mode\":\"css\",\"right_units\":\"screen\",\"top_units\":\"screen\"},\"id\":\"9cb87b54-d6ab-476a-8b2d-ca3851e509f4\",\"type\":\"BoxAnnotation\"},{\"attributes\":{\"plot\":{\"id\":\"283aaf12-737e-4f67-aee6-7f0e766c5a93\",\"subtype\":\"Figure\",\"type\":\"Plot\"}},\"id\":\"3db96766-cc69-4309-adcf-1de04b7894eb\",\"type\":\"ResizeTool\"},{\"attributes\":{\"plot\":{\"id\":\"283aaf12-737e-4f67-aee6-7f0e766c5a93\",\"subtype\":\"Figure\",\"type\":\"Plot\"},\"ticker\":{\"id\":\"97711d6a-e32d-467a-921b-6995235c1548\",\"type\":\"BasicTicker\"}},\"id\":\"11341399-ba2c-4dfc-858e-5f804e75b9cd\",\"type\":\"Grid\"},{\"attributes\":{\"plot\":{\"id\":\"283aaf12-737e-4f67-aee6-7f0e766c5a93\",\"subtype\":\"Figure\",\"type\":\"Plot\"}},\"id\":\"b2d54bb7-bc46-4b23-a92a-5a83975282e6\",\"type\":\"PanTool\"},{\"attributes\":{\"data_source\":{\"id\":\"dea223d6-0b2a-43d6-999d-8cdda3b8258b\",\"type\":\"ColumnDataSource\"},\"glyph\":{\"id\":\"76b63238-1647-4220-b237-b787e215ddde\",\"type\":\"Line\"},\"hover_glyph\":null,\"nonselection_glyph\":{\"id\":\"ecc36661-0eda-4e3f-bcf2-fc800b3c37d2\",\"type\":\"Line\"},\"selection_glyph\":null},\"id\":\"09fb77e9-2a81-4b62-b94a-112e8c160a73\",\"type\":\"GlyphRenderer\"},{\"attributes\":{\"callback\":null},\"id\":\"1bb14b67-fa8a-4faa-ac1f-2cd94d914617\",\"type\":\"Range1d\"},{\"attributes\":{\"callback\":null,\"column_names\":[\"y\",\"x\"],\"data\":{\"x\":[0.0,0.001984126984126984,0.003968253968253968,0.003968253968253968,0.011904761904761904,0.011904761904761904,0.013888888888888888,0.013888888888888888,0.031746031746031744,0.031746031746031744,0.04563492063492063,0.04563492063492063,0.047619047619047616,0.047619047619047616,0.0496031746031746,0.0496031746031746,0.05357142857142857,0.05357142857142857,0.05952380952380952,0.05952380952380952,0.08928571428571429,0.08928571428571429,0.10515873015873016,0.10515873015873016,0.10912698412698413,0.10912698412698413,0.12896825396825398,0.12896825396825398,0.14087301587301587,0.14087301587301587,0.15079365079365079,0.15079365079365079,0.15873015873015872,0.15873015873015872,0.17261904761904762,0.17261904761904762,0.20833333333333334,0.20833333333333334,0.22817460317460317,0.22817460317460317,0.24206349206349206,0.24206349206349206,0.251984126984127,0.251984126984127,0.2718253968253968,0.2718253968253968,0.2996031746031746,0.2996031746031746,0.3115079365079365,0.3115079365079365,0.3353174603174603,0.3353174603174603,0.3472222222222222,0.3472222222222222,0.4007936507936508,0.4007936507936508,1.0],\"y\":[0.0,0.0,0.0,0.029411764705882353,0.029411764705882353,0.058823529411764705,0.058823529411764705,0.08823529411764706,0.08823529411764706,0.11764705882352941,0.11764705882352941,0.14705882352941177,0.14705882352941177,0.17647058823529413,0.17647058823529413,0.20588235294117646,0.20588235294117646,0.23529411764705882,0.23529411764705882,0.2647058823529412,0.2647058823529412,0.3235294117647059,0.3235294117647059,0.38235294117647056,0.38235294117647056,0.4117647058823529,0.4117647058823529,0.47058823529411764,0.47058823529411764,0.5,0.5,0.5294117647058824,0.5294117647058824,0.5588235294117647,0.5588235294117647,0.5882352941176471,0.5882352941176471,0.6176470588235294,0.6176470588235294,0.6470588235294118,0.6470588235294118,0.6764705882352942,0.6764705882352942,0.7352941176470589,0.7352941176470589,0.7647058823529411,0.7647058823529411,0.8235294117647058,0.8235294117647058,0.8823529411764706,0.8823529411764706,0.9117647058823529,0.9117647058823529,0.9705882352941176,0.9705882352941176,1.0,1.0]}},\"id\":\"dea223d6-0b2a-43d6-999d-8cdda3b8258b\",\"type\":\"ColumnDataSource\"},{\"attributes\":{\"plot\":{\"id\":\"283aaf12-737e-4f67-aee6-7f0e766c5a93\",\"subtype\":\"Figure\",\"type\":\"Plot\"}},\"id\":\"28dde0e0-00fc-4c97-b786-f92ab66b278d\",\"type\":\"HelpTool\"},{\"attributes\":{},\"id\":\"1412676b-9237-444a-ae77-83b9086139d3\",\"type\":\"BasicTickFormatter\"},{\"attributes\":{\"dimension\":1,\"plot\":{\"id\":\"283aaf12-737e-4f67-aee6-7f0e766c5a93\",\"subtype\":\"Figure\",\"type\":\"Plot\"},\"ticker\":{\"id\":\"f84dce6c-4102-4e94-9179-386846e5d119\",\"type\":\"BasicTicker\"}},\"id\":\"52fa86a9-9ef8-4672-8fa4-7f773d45a843\",\"type\":\"Grid\"},{\"attributes\":{},\"id\":\"97711d6a-e32d-467a-921b-6995235c1548\",\"type\":\"BasicTicker\"},{\"attributes\":{\"plot\":{\"id\":\"283aaf12-737e-4f67-aee6-7f0e766c5a93\",\"subtype\":\"Figure\",\"type\":\"Plot\"}},\"id\":\"c96510b7-ff22-4d73-8db4-9ab83217c80e\",\"type\":\"ResetTool\"},{\"attributes\":{\"line_color\":{\"value\":\"#1f77b4\"},\"x\":{\"field\":\"x\"},\"y\":{\"field\":\"y\"}},\"id\":\"76b63238-1647-4220-b237-b787e215ddde\",\"type\":\"Line\"},{\"attributes\":{\"legends\":[[\"ROC curve (area = 0.829)\",[{\"id\":\"09fb77e9-2a81-4b62-b94a-112e8c160a73\",\"type\":\"GlyphRenderer\"}]]],\"location\":\"bottom_right\",\"plot\":{\"id\":\"283aaf12-737e-4f67-aee6-7f0e766c5a93\",\"subtype\":\"Figure\",\"type\":\"Plot\"}},\"id\":\"e71f4f59-4ddd-4291-9c79-13b9b7e5ccb2\",\"type\":\"Legend\"},{\"attributes\":{\"overlay\":{\"id\":\"9cb87b54-d6ab-476a-8b2d-ca3851e509f4\",\"type\":\"BoxAnnotation\"},\"plot\":{\"id\":\"283aaf12-737e-4f67-aee6-7f0e766c5a93\",\"subtype\":\"Figure\",\"type\":\"Plot\"}},\"id\":\"a27a6544-11e3-41cd-bb4b-bc3fecc9ba8d\",\"type\":\"BoxZoomTool\"},{\"attributes\":{\"below\":[{\"id\":\"eabc7c2f-183a-45cd-a19e-cb6a7f13aebb\",\"type\":\"LinearAxis\"}],\"left\":[{\"id\":\"fee514fb-6915-4a62-a194-82fe476a51a3\",\"type\":\"LinearAxis\"}],\"renderers\":[{\"id\":\"eabc7c2f-183a-45cd-a19e-cb6a7f13aebb\",\"type\":\"LinearAxis\"},{\"id\":\"11341399-ba2c-4dfc-858e-5f804e75b9cd\",\"type\":\"Grid\"},{\"id\":\"fee514fb-6915-4a62-a194-82fe476a51a3\",\"type\":\"LinearAxis\"},{\"id\":\"52fa86a9-9ef8-4672-8fa4-7f773d45a843\",\"type\":\"Grid\"},{\"id\":\"9cb87b54-d6ab-476a-8b2d-ca3851e509f4\",\"type\":\"BoxAnnotation\"},{\"id\":\"e71f4f59-4ddd-4291-9c79-13b9b7e5ccb2\",\"type\":\"Legend\"},{\"id\":\"09fb77e9-2a81-4b62-b94a-112e8c160a73\",\"type\":\"GlyphRenderer\"}],\"title\":\"Receiver Operating Characteristic\",\"tool_events\":{\"id\":\"324a20f7-4503-48ff-a727-bbfe17a0549a\",\"type\":\"ToolEvents\"},\"tools\":[{\"id\":\"b2d54bb7-bc46-4b23-a92a-5a83975282e6\",\"type\":\"PanTool\"},{\"id\":\"470a3e20-eef8-48a4-aad5-f87e8d0557f4\",\"type\":\"WheelZoomTool\"},{\"id\":\"a27a6544-11e3-41cd-bb4b-bc3fecc9ba8d\",\"type\":\"BoxZoomTool\"},{\"id\":\"85c64f03-5faa-4647-bb17-a13d98c6c492\",\"type\":\"PreviewSaveTool\"},{\"id\":\"3db96766-cc69-4309-adcf-1de04b7894eb\",\"type\":\"ResizeTool\"},{\"id\":\"c96510b7-ff22-4d73-8db4-9ab83217c80e\",\"type\":\"ResetTool\"},{\"id\":\"28dde0e0-00fc-4c97-b786-f92ab66b278d\",\"type\":\"HelpTool\"}],\"x_range\":{\"id\":\"bace5ba4-b5bb-44d5-9a40-96d1947860d3\",\"type\":\"Range1d\"},\"y_range\":{\"id\":\"1bb14b67-fa8a-4faa-ac1f-2cd94d914617\",\"type\":\"Range1d\"}},\"id\":\"283aaf12-737e-4f67-aee6-7f0e766c5a93\",\"subtype\":\"Figure\",\"type\":\"Plot\"},{\"attributes\":{\"axis_label\":\"False Positive Rate or (1 - Specifity)\",\"formatter\":{\"id\":\"938aebc5-980e-4cb4-89f5-47d02064182b\",\"type\":\"BasicTickFormatter\"},\"plot\":{\"id\":\"283aaf12-737e-4f67-aee6-7f0e766c5a93\",\"subtype\":\"Figure\",\"type\":\"Plot\"},\"ticker\":{\"id\":\"97711d6a-e32d-467a-921b-6995235c1548\",\"type\":\"BasicTicker\"}},\"id\":\"eabc7c2f-183a-45cd-a19e-cb6a7f13aebb\",\"type\":\"LinearAxis\"},{\"attributes\":{},\"id\":\"f84dce6c-4102-4e94-9179-386846e5d119\",\"type\":\"BasicTicker\"}],\"root_ids\":[\"283aaf12-737e-4f67-aee6-7f0e766c5a93\"]},\"title\":\"Bokeh Application\",\"version\":\"0.11.1\"}};\n",
       "            var render_items = [{\"docid\":\"086b0993-1384-4b40-aba8-5dbf72584883\",\"elementid\":\"6d004e7e-c065-4bef-8cf9-fab031f3f527\",\"modelid\":\"283aaf12-737e-4f67-aee6-7f0e766c5a93\",\"notebook_comms_target\":\"0285a571-65f7-44f9-b930-1b8e2de0ab0e\"}];\n",
       "            \n",
       "            Bokeh.embed.embed_items(docs_json, render_items);\n",
       "        });\n",
       "      },\n",
       "      function(Bokeh) {\n",
       "      }\n",
       "    ];\n",
       "  \n",
       "    function run_inline_js() {\n",
       "      for (var i = 0; i < inline_js.length; i++) {\n",
       "        inline_js[i](window.Bokeh);\n",
       "      }\n",
       "    }\n",
       "  \n",
       "    if (window._bokeh_is_loading === 0) {\n",
       "      console.log(\"Bokeh: BokehJS loaded, going straight to plotting\");\n",
       "      run_inline_js();\n",
       "    } else {\n",
       "      load_libs(js_urls, function() {\n",
       "        console.log(\"Bokeh: BokehJS plotting callback run at\", now());\n",
       "        run_inline_js();\n",
       "      });\n",
       "    }\n",
       "  }(this));\n",
       "</script>"
      ]
     },
     "metadata": {},
     "output_type": "display_data"
    }
   ],
   "source": [
    "plot_roc_curve(test_target, target_predicted_proba)"
   ]
  },
  {
   "cell_type": "code",
   "execution_count": 20,
   "metadata": {
    "collapsed": true
   },
   "outputs": [],
   "source": [
    "neg = en[en['high_heat'] == False]\n",
    "pos = en[en['high_heat'] == True]\n",
    "\n",
    "oversample_en = pd.concat([neg, pos.sample(700, replace = True)])\n",
    "label = oversample_en['high_heat']\n",
    "data = oversample_en.drop(['heating_load','cooling_load','high_heat'],axis=1)\n",
    "train_feat, test_feat, train_target, test_target = train_test_split(data,label, train_size=0.3)"
   ]
  },
  {
   "cell_type": "code",
   "execution_count": 21,
   "metadata": {
    "collapsed": false
   },
   "outputs": [
    {
     "name": "stderr",
     "output_type": "stream",
     "text": [
      "/Users/samuelbolivar/anaconda/lib/python2.7/site-packages/bokeh/core/properties.py:714: BokehDeprecationWarning: bokeh.models.annotations.orientation was deprecated in Bokeh 0.11; please use Legend.location instead\n",
      "  super(HasProps, self).__setattr__(name, value)\n"
     ]
    },
    {
     "data": {
      "text/html": [
       "\n",
       "\n",
       "    <div class=\"plotdiv\" id=\"f7aa8064-999b-462d-983b-7f94ee7ffc37\"></div>\n",
       "<script type=\"text/javascript\">\n",
       "  \n",
       "  (function(global) {\n",
       "    function now() {\n",
       "      return new Date();\n",
       "    }\n",
       "  \n",
       "    if (typeof (window._bokeh_onload_callbacks) === \"undefined\") {\n",
       "      window._bokeh_onload_callbacks = [];\n",
       "    }\n",
       "  \n",
       "    function run_callbacks() {\n",
       "      window._bokeh_onload_callbacks.forEach(function(callback) { callback() });\n",
       "      delete window._bokeh_onload_callbacks\n",
       "      console.info(\"Bokeh: all callbacks have finished\");\n",
       "    }\n",
       "  \n",
       "    function load_libs(js_urls, callback) {\n",
       "      window._bokeh_onload_callbacks.push(callback);\n",
       "      if (window._bokeh_is_loading > 0) {\n",
       "        console.log(\"Bokeh: BokehJS is being loaded, scheduling callback at\", now());\n",
       "        return null;\n",
       "      }\n",
       "      if (js_urls == null || js_urls.length === 0) {\n",
       "        run_callbacks();\n",
       "        return null;\n",
       "      }\n",
       "      console.log(\"Bokeh: BokehJS not loaded, scheduling load and callback at\", now());\n",
       "      window._bokeh_is_loading = js_urls.length;\n",
       "      for (var i = 0; i < js_urls.length; i++) {\n",
       "        var url = js_urls[i];\n",
       "        var s = document.createElement('script');\n",
       "        s.src = url;\n",
       "        s.async = false;\n",
       "        s.onreadystatechange = s.onload = function() {\n",
       "          window._bokeh_is_loading--;\n",
       "          if (window._bokeh_is_loading === 0) {\n",
       "            console.log(\"Bokeh: all BokehJS libraries loaded\");\n",
       "            run_callbacks()\n",
       "          }\n",
       "        };\n",
       "        s.onerror = function() {\n",
       "          console.warn(\"failed to load library \" + url);\n",
       "        };\n",
       "        console.log(\"Bokeh: injecting script tag for BokehJS library: \", url);\n",
       "        document.getElementsByTagName(\"head\")[0].appendChild(s);\n",
       "      }\n",
       "    };var element = document.getElementById(\"f7aa8064-999b-462d-983b-7f94ee7ffc37\");\n",
       "    if (element == null) {\n",
       "      console.log(\"Bokeh: ERROR: autoload.js configured with elementid 'f7aa8064-999b-462d-983b-7f94ee7ffc37' but no matching script tag was found. \")\n",
       "      return false;\n",
       "    }\n",
       "  \n",
       "    var js_urls = [];\n",
       "  \n",
       "    var inline_js = [\n",
       "      function(Bokeh) {\n",
       "        Bokeh.$(function() {\n",
       "            var docs_json = {\"0f50a452-11ad-40ea-b02b-a0b30e6639fd\":{\"roots\":{\"references\":[{\"attributes\":{\"axis_label\":\"True Positive Rate or (Sensitivity)\",\"formatter\":{\"id\":\"1412676b-9237-444a-ae77-83b9086139d3\",\"type\":\"BasicTickFormatter\"},\"plot\":{\"id\":\"283aaf12-737e-4f67-aee6-7f0e766c5a93\",\"subtype\":\"Figure\",\"type\":\"Plot\"},\"ticker\":{\"id\":\"f84dce6c-4102-4e94-9179-386846e5d119\",\"type\":\"BasicTicker\"}},\"id\":\"fee514fb-6915-4a62-a194-82fe476a51a3\",\"type\":\"LinearAxis\"},{\"attributes\":{\"plot\":{\"id\":\"4021da5d-d95c-4381-b54a-4afb26775cda\",\"subtype\":\"Figure\",\"type\":\"Plot\"},\"ticker\":{\"id\":\"54f076ae-c09d-41fc-8054-dd786cfa8453\",\"type\":\"BasicTicker\"}},\"id\":\"63a02b83-19f0-4856-9627-54d84dec0c38\",\"type\":\"Grid\"},{\"attributes\":{\"line_alpha\":{\"value\":0.1},\"line_color\":{\"value\":\"#1f77b4\"},\"x\":{\"field\":\"x\"},\"y\":{\"field\":\"y\"}},\"id\":\"1d02d658-1d82-45aa-bc7a-37e7b999d51f\",\"type\":\"Line\"},{\"attributes\":{\"line_color\":{\"value\":\"#1f77b4\"},\"x\":{\"field\":\"x\"},\"y\":{\"field\":\"y\"}},\"id\":\"7105d6c4-e4fd-4076-856c-e819e40f395a\",\"type\":\"Line\"},{\"attributes\":{},\"id\":\"324a20f7-4503-48ff-a727-bbfe17a0549a\",\"type\":\"ToolEvents\"},{\"attributes\":{\"plot\":{\"id\":\"283aaf12-737e-4f67-aee6-7f0e766c5a93\",\"subtype\":\"Figure\",\"type\":\"Plot\"}},\"id\":\"85c64f03-5faa-4647-bb17-a13d98c6c492\",\"type\":\"PreviewSaveTool\"},{\"attributes\":{},\"id\":\"938aebc5-980e-4cb4-89f5-47d02064182b\",\"type\":\"BasicTickFormatter\"},{\"attributes\":{\"plot\":{\"id\":\"4021da5d-d95c-4381-b54a-4afb26775cda\",\"subtype\":\"Figure\",\"type\":\"Plot\"}},\"id\":\"86f4621e-4965-4fb3-9d14-6c202373b4b7\",\"type\":\"ResizeTool\"},{\"attributes\":{\"callback\":null},\"id\":\"bace5ba4-b5bb-44d5-9a40-96d1947860d3\",\"type\":\"Range1d\"},{\"attributes\":{\"line_alpha\":{\"value\":0.1},\"line_color\":{\"value\":\"#1f77b4\"},\"x\":{\"field\":\"x\"},\"y\":{\"field\":\"y\"}},\"id\":\"ecc36661-0eda-4e3f-bcf2-fc800b3c37d2\",\"type\":\"Line\"},{\"attributes\":{\"plot\":{\"id\":\"283aaf12-737e-4f67-aee6-7f0e766c5a93\",\"subtype\":\"Figure\",\"type\":\"Plot\"}},\"id\":\"470a3e20-eef8-48a4-aad5-f87e8d0557f4\",\"type\":\"WheelZoomTool\"},{\"attributes\":{\"bottom_units\":\"screen\",\"fill_alpha\":{\"value\":0.5},\"fill_color\":{\"value\":\"lightgrey\"},\"left_units\":\"screen\",\"level\":\"overlay\",\"line_alpha\":{\"value\":1.0},\"line_color\":{\"value\":\"black\"},\"line_dash\":[4,4],\"line_width\":{\"value\":2},\"plot\":null,\"render_mode\":\"css\",\"right_units\":\"screen\",\"top_units\":\"screen\"},\"id\":\"9cb87b54-d6ab-476a-8b2d-ca3851e509f4\",\"type\":\"BoxAnnotation\"},{\"attributes\":{\"data_source\":{\"id\":\"df0dc926-27a7-4fdb-aeb1-6c77cfe7c2d2\",\"type\":\"ColumnDataSource\"},\"glyph\":{\"id\":\"7105d6c4-e4fd-4076-856c-e819e40f395a\",\"type\":\"Line\"},\"hover_glyph\":null,\"nonselection_glyph\":{\"id\":\"1d02d658-1d82-45aa-bc7a-37e7b999d51f\",\"type\":\"Line\"},\"selection_glyph\":null},\"id\":\"534aab72-6021-4b8a-9a50-17edf7503b26\",\"type\":\"GlyphRenderer\"},{\"attributes\":{},\"id\":\"1412676b-9237-444a-ae77-83b9086139d3\",\"type\":\"BasicTickFormatter\"},{\"attributes\":{\"plot\":{\"id\":\"283aaf12-737e-4f67-aee6-7f0e766c5a93\",\"subtype\":\"Figure\",\"type\":\"Plot\"},\"ticker\":{\"id\":\"97711d6a-e32d-467a-921b-6995235c1548\",\"type\":\"BasicTicker\"}},\"id\":\"11341399-ba2c-4dfc-858e-5f804e75b9cd\",\"type\":\"Grid\"},{\"attributes\":{\"plot\":{\"id\":\"4021da5d-d95c-4381-b54a-4afb26775cda\",\"subtype\":\"Figure\",\"type\":\"Plot\"}},\"id\":\"12c06372-6d12-41a5-ada0-d94edf309d2d\",\"type\":\"ResetTool\"},{\"attributes\":{\"dimension\":1,\"plot\":{\"id\":\"283aaf12-737e-4f67-aee6-7f0e766c5a93\",\"subtype\":\"Figure\",\"type\":\"Plot\"},\"ticker\":{\"id\":\"f84dce6c-4102-4e94-9179-386846e5d119\",\"type\":\"BasicTicker\"}},\"id\":\"52fa86a9-9ef8-4672-8fa4-7f773d45a843\",\"type\":\"Grid\"},{\"attributes\":{\"plot\":{\"id\":\"283aaf12-737e-4f67-aee6-7f0e766c5a93\",\"subtype\":\"Figure\",\"type\":\"Plot\"}},\"id\":\"b2d54bb7-bc46-4b23-a92a-5a83975282e6\",\"type\":\"PanTool\"},{\"attributes\":{\"plot\":{\"id\":\"4021da5d-d95c-4381-b54a-4afb26775cda\",\"subtype\":\"Figure\",\"type\":\"Plot\"}},\"id\":\"232582c5-b9ac-4a60-95b6-a5a97357a3a2\",\"type\":\"WheelZoomTool\"},{\"attributes\":{},\"id\":\"ba240824-614a-4a1d-bd0f-ef5917ca6187\",\"type\":\"BasicTicker\"},{\"attributes\":{\"data_source\":{\"id\":\"dea223d6-0b2a-43d6-999d-8cdda3b8258b\",\"type\":\"ColumnDataSource\"},\"glyph\":{\"id\":\"76b63238-1647-4220-b237-b787e215ddde\",\"type\":\"Line\"},\"hover_glyph\":null,\"nonselection_glyph\":{\"id\":\"ecc36661-0eda-4e3f-bcf2-fc800b3c37d2\",\"type\":\"Line\"},\"selection_glyph\":null},\"id\":\"09fb77e9-2a81-4b62-b94a-112e8c160a73\",\"type\":\"GlyphRenderer\"},{\"attributes\":{\"callback\":null,\"column_names\":[\"y\",\"x\"],\"data\":{\"x\":[0.0,0.0019230769230769232,0.0019230769230769232,0.0038461538461538464,0.0038461538461538464,0.0057692307692307696,0.0057692307692307696,0.015384615384615385,0.015384615384615385,0.01730769230769231,0.01730769230769231,0.01730769230769231,0.019230769230769232,0.019230769230769232,0.021153846153846155,0.021153846153846155,0.038461538461538464,0.038461538461538464,0.04423076923076923,0.04423076923076923,0.046153846153846156,0.046153846153846156,0.05576923076923077,0.05576923076923077,0.057692307692307696,0.057692307692307696,0.05961538461538462,0.05961538461538462,0.06153846153846154,0.06153846153846154,0.06346153846153846,0.06346153846153846,0.11538461538461539,0.11538461538461539,0.12115384615384615,0.12115384615384615,0.12692307692307692,0.12692307692307692,0.1326923076923077,0.1326923076923077,0.1326923076923077,0.13653846153846153,0.13653846153846153,0.14038461538461539,0.14038461538461539,0.16346153846153846,0.16346153846153846,0.17115384615384616,0.17115384615384616,0.17692307692307693,0.17692307692307693,0.18076923076923077,0.18076923076923077,0.18076923076923077,0.18076923076923077,0.2,0.2,0.2076923076923077,0.2076923076923077,0.21346153846153845,0.21346153846153845,0.22115384615384615,0.22115384615384615,0.2230769230769231,0.2230769230769231,0.2326923076923077,0.2326923076923077,0.23461538461538461,0.23461538461538461,0.2423076923076923,0.2423076923076923,0.24615384615384617,0.24615384615384617,0.25576923076923075,0.25576923076923075,0.25961538461538464,0.25961538461538464,0.2653846153846154,0.2653846153846154,0.27115384615384613,0.27115384615384613,0.275,0.275,0.28076923076923077,0.28076923076923077,0.2826923076923077,0.2826923076923077,0.2865384615384615,0.2865384615384615,1.0],\"y\":[0.0,0.0,0.02100840336134454,0.02100840336134454,0.04831932773109244,0.04831932773109244,0.06512605042016807,0.06512605042016807,0.09033613445378151,0.09033613445378151,0.10714285714285714,0.13445378151260504,0.13445378151260504,0.16596638655462184,0.16596638655462184,0.18277310924369747,0.18277310924369747,0.19327731092436976,0.19327731092436976,0.22058823529411764,0.22058823529411764,0.23529411764705882,0.23529411764705882,0.25210084033613445,0.25210084033613445,0.2668067226890756,0.2668067226890756,0.29411764705882354,0.29411764705882354,0.3067226890756303,0.3067226890756303,0.32983193277310924,0.32983193277310924,0.34243697478991597,0.34243697478991597,0.3634453781512605,0.3634453781512605,0.3907563025210084,0.3907563025210084,0.4096638655462185,0.4327731092436975,0.4327731092436975,0.45588235294117646,0.45588235294117646,0.4810924369747899,0.4810924369747899,0.5084033613445378,0.5084033613445378,0.5294117647058824,0.5294117647058824,0.5546218487394958,0.5546218487394958,0.5735294117647058,0.5882352941176471,0.6113445378151261,0.6113445378151261,0.6323529411764706,0.6323529411764706,0.6722689075630253,0.6722689075630253,0.7037815126050421,0.7037815126050421,0.7142857142857143,0.7142857142857143,0.7352941176470589,0.7352941176470589,0.7605042016806722,0.7605042016806722,0.7773109243697479,0.7773109243697479,0.8067226890756303,0.8067226890756303,0.8256302521008403,0.8256302521008403,0.8571428571428571,0.8571428571428571,0.884453781512605,0.884453781512605,0.9012605042016807,0.9012605042016807,0.9264705882352942,0.9264705882352942,0.9495798319327731,0.9495798319327731,0.9558823529411765,0.9558823529411765,0.976890756302521,0.976890756302521,1.0,1.0]}},\"id\":\"df0dc926-27a7-4fdb-aeb1-6c77cfe7c2d2\",\"type\":\"ColumnDataSource\"},{\"attributes\":{\"plot\":{\"id\":\"4021da5d-d95c-4381-b54a-4afb26775cda\",\"subtype\":\"Figure\",\"type\":\"Plot\"}},\"id\":\"af119ce2-b1b0-49c3-96ef-0c3e79f5f1e8\",\"type\":\"PanTool\"},{\"attributes\":{},\"id\":\"54f076ae-c09d-41fc-8054-dd786cfa8453\",\"type\":\"BasicTicker\"},{\"attributes\":{\"callback\":null},\"id\":\"50961d5a-8537-4a2b-8257-9b388e76297e\",\"type\":\"Range1d\"},{\"attributes\":{\"callback\":null},\"id\":\"1bb14b67-fa8a-4faa-ac1f-2cd94d914617\",\"type\":\"Range1d\"},{\"attributes\":{\"callback\":null,\"column_names\":[\"y\",\"x\"],\"data\":{\"x\":[0.0,0.001984126984126984,0.003968253968253968,0.003968253968253968,0.011904761904761904,0.011904761904761904,0.013888888888888888,0.013888888888888888,0.031746031746031744,0.031746031746031744,0.04563492063492063,0.04563492063492063,0.047619047619047616,0.047619047619047616,0.0496031746031746,0.0496031746031746,0.05357142857142857,0.05357142857142857,0.05952380952380952,0.05952380952380952,0.08928571428571429,0.08928571428571429,0.10515873015873016,0.10515873015873016,0.10912698412698413,0.10912698412698413,0.12896825396825398,0.12896825396825398,0.14087301587301587,0.14087301587301587,0.15079365079365079,0.15079365079365079,0.15873015873015872,0.15873015873015872,0.17261904761904762,0.17261904761904762,0.20833333333333334,0.20833333333333334,0.22817460317460317,0.22817460317460317,0.24206349206349206,0.24206349206349206,0.251984126984127,0.251984126984127,0.2718253968253968,0.2718253968253968,0.2996031746031746,0.2996031746031746,0.3115079365079365,0.3115079365079365,0.3353174603174603,0.3353174603174603,0.3472222222222222,0.3472222222222222,0.4007936507936508,0.4007936507936508,1.0],\"y\":[0.0,0.0,0.0,0.029411764705882353,0.029411764705882353,0.058823529411764705,0.058823529411764705,0.08823529411764706,0.08823529411764706,0.11764705882352941,0.11764705882352941,0.14705882352941177,0.14705882352941177,0.17647058823529413,0.17647058823529413,0.20588235294117646,0.20588235294117646,0.23529411764705882,0.23529411764705882,0.2647058823529412,0.2647058823529412,0.3235294117647059,0.3235294117647059,0.38235294117647056,0.38235294117647056,0.4117647058823529,0.4117647058823529,0.47058823529411764,0.47058823529411764,0.5,0.5,0.5294117647058824,0.5294117647058824,0.5588235294117647,0.5588235294117647,0.5882352941176471,0.5882352941176471,0.6176470588235294,0.6176470588235294,0.6470588235294118,0.6470588235294118,0.6764705882352942,0.6764705882352942,0.7352941176470589,0.7352941176470589,0.7647058823529411,0.7647058823529411,0.8235294117647058,0.8235294117647058,0.8823529411764706,0.8823529411764706,0.9117647058823529,0.9117647058823529,0.9705882352941176,0.9705882352941176,1.0,1.0]}},\"id\":\"dea223d6-0b2a-43d6-999d-8cdda3b8258b\",\"type\":\"ColumnDataSource\"},{\"attributes\":{},\"id\":\"0b3dd5cc-b8f2-4c07-9794-a6b37d4a2b47\",\"type\":\"ToolEvents\"},{\"attributes\":{\"plot\":{\"id\":\"4021da5d-d95c-4381-b54a-4afb26775cda\",\"subtype\":\"Figure\",\"type\":\"Plot\"}},\"id\":\"bf293cf8-5621-4963-a668-2a6c84ab2c61\",\"type\":\"PreviewSaveTool\"},{\"attributes\":{\"dimension\":1,\"plot\":{\"id\":\"4021da5d-d95c-4381-b54a-4afb26775cda\",\"subtype\":\"Figure\",\"type\":\"Plot\"},\"ticker\":{\"id\":\"ba240824-614a-4a1d-bd0f-ef5917ca6187\",\"type\":\"BasicTicker\"}},\"id\":\"0e839ad9-980b-4c55-b5bf-32944c6adf52\",\"type\":\"Grid\"},{\"attributes\":{\"below\":[{\"id\":\"ef21f127-0516-42be-9b4c-bdbfe674a41e\",\"type\":\"LinearAxis\"}],\"left\":[{\"id\":\"68b80065-d938-44d2-ba36-842eb4e28d0d\",\"type\":\"LinearAxis\"}],\"renderers\":[{\"id\":\"ef21f127-0516-42be-9b4c-bdbfe674a41e\",\"type\":\"LinearAxis\"},{\"id\":\"63a02b83-19f0-4856-9627-54d84dec0c38\",\"type\":\"Grid\"},{\"id\":\"68b80065-d938-44d2-ba36-842eb4e28d0d\",\"type\":\"LinearAxis\"},{\"id\":\"0e839ad9-980b-4c55-b5bf-32944c6adf52\",\"type\":\"Grid\"},{\"id\":\"fb63b6dc-768c-4b62-b912-3b6a3043ab12\",\"type\":\"BoxAnnotation\"},{\"id\":\"dad24c1b-40f1-4806-8745-394c89ddb73b\",\"type\":\"Legend\"},{\"id\":\"534aab72-6021-4b8a-9a50-17edf7503b26\",\"type\":\"GlyphRenderer\"}],\"title\":\"Receiver Operating Characteristic\",\"tool_events\":{\"id\":\"0b3dd5cc-b8f2-4c07-9794-a6b37d4a2b47\",\"type\":\"ToolEvents\"},\"tools\":[{\"id\":\"af119ce2-b1b0-49c3-96ef-0c3e79f5f1e8\",\"type\":\"PanTool\"},{\"id\":\"232582c5-b9ac-4a60-95b6-a5a97357a3a2\",\"type\":\"WheelZoomTool\"},{\"id\":\"519ed7d1-832e-40de-85b6-a1a7df991994\",\"type\":\"BoxZoomTool\"},{\"id\":\"bf293cf8-5621-4963-a668-2a6c84ab2c61\",\"type\":\"PreviewSaveTool\"},{\"id\":\"86f4621e-4965-4fb3-9d14-6c202373b4b7\",\"type\":\"ResizeTool\"},{\"id\":\"12c06372-6d12-41a5-ada0-d94edf309d2d\",\"type\":\"ResetTool\"},{\"id\":\"bb3b60b5-ebdb-4559-887f-fc2c82a2cd26\",\"type\":\"HelpTool\"}],\"x_range\":{\"id\":\"5e45ecdf-f3bf-42a5-864d-82b3898b3ff5\",\"type\":\"Range1d\"},\"y_range\":{\"id\":\"50961d5a-8537-4a2b-8257-9b388e76297e\",\"type\":\"Range1d\"}},\"id\":\"4021da5d-d95c-4381-b54a-4afb26775cda\",\"subtype\":\"Figure\",\"type\":\"Plot\"},{\"attributes\":{\"plot\":{\"id\":\"283aaf12-737e-4f67-aee6-7f0e766c5a93\",\"subtype\":\"Figure\",\"type\":\"Plot\"}},\"id\":\"28dde0e0-00fc-4c97-b786-f92ab66b278d\",\"type\":\"HelpTool\"},{\"attributes\":{\"plot\":{\"id\":\"283aaf12-737e-4f67-aee6-7f0e766c5a93\",\"subtype\":\"Figure\",\"type\":\"Plot\"}},\"id\":\"3db96766-cc69-4309-adcf-1de04b7894eb\",\"type\":\"ResizeTool\"},{\"attributes\":{},\"id\":\"745f4d35-4bee-4b68-8d71-a835271ee785\",\"type\":\"BasicTickFormatter\"},{\"attributes\":{\"bottom_units\":\"screen\",\"fill_alpha\":{\"value\":0.5},\"fill_color\":{\"value\":\"lightgrey\"},\"left_units\":\"screen\",\"level\":\"overlay\",\"line_alpha\":{\"value\":1.0},\"line_color\":{\"value\":\"black\"},\"line_dash\":[4,4],\"line_width\":{\"value\":2},\"plot\":null,\"render_mode\":\"css\",\"right_units\":\"screen\",\"top_units\":\"screen\"},\"id\":\"fb63b6dc-768c-4b62-b912-3b6a3043ab12\",\"type\":\"BoxAnnotation\"},{\"attributes\":{\"axis_label\":\"True Positive Rate or (Sensitivity)\",\"formatter\":{\"id\":\"324ed10c-a00d-45b2-915f-451d8177cae0\",\"type\":\"BasicTickFormatter\"},\"plot\":{\"id\":\"4021da5d-d95c-4381-b54a-4afb26775cda\",\"subtype\":\"Figure\",\"type\":\"Plot\"},\"ticker\":{\"id\":\"ba240824-614a-4a1d-bd0f-ef5917ca6187\",\"type\":\"BasicTicker\"}},\"id\":\"68b80065-d938-44d2-ba36-842eb4e28d0d\",\"type\":\"LinearAxis\"},{\"attributes\":{\"legends\":[[\"ROC curve (area = 0.852)\",[{\"id\":\"534aab72-6021-4b8a-9a50-17edf7503b26\",\"type\":\"GlyphRenderer\"}]]],\"location\":\"bottom_right\",\"plot\":{\"id\":\"4021da5d-d95c-4381-b54a-4afb26775cda\",\"subtype\":\"Figure\",\"type\":\"Plot\"}},\"id\":\"dad24c1b-40f1-4806-8745-394c89ddb73b\",\"type\":\"Legend\"},{\"attributes\":{},\"id\":\"97711d6a-e32d-467a-921b-6995235c1548\",\"type\":\"BasicTicker\"},{\"attributes\":{\"plot\":{\"id\":\"283aaf12-737e-4f67-aee6-7f0e766c5a93\",\"subtype\":\"Figure\",\"type\":\"Plot\"}},\"id\":\"c96510b7-ff22-4d73-8db4-9ab83217c80e\",\"type\":\"ResetTool\"},{\"attributes\":{\"plot\":{\"id\":\"4021da5d-d95c-4381-b54a-4afb26775cda\",\"subtype\":\"Figure\",\"type\":\"Plot\"}},\"id\":\"bb3b60b5-ebdb-4559-887f-fc2c82a2cd26\",\"type\":\"HelpTool\"},{\"attributes\":{\"axis_label\":\"False Positive Rate or (1 - Specifity)\",\"formatter\":{\"id\":\"745f4d35-4bee-4b68-8d71-a835271ee785\",\"type\":\"BasicTickFormatter\"},\"plot\":{\"id\":\"4021da5d-d95c-4381-b54a-4afb26775cda\",\"subtype\":\"Figure\",\"type\":\"Plot\"},\"ticker\":{\"id\":\"54f076ae-c09d-41fc-8054-dd786cfa8453\",\"type\":\"BasicTicker\"}},\"id\":\"ef21f127-0516-42be-9b4c-bdbfe674a41e\",\"type\":\"LinearAxis\"},{\"attributes\":{\"line_color\":{\"value\":\"#1f77b4\"},\"x\":{\"field\":\"x\"},\"y\":{\"field\":\"y\"}},\"id\":\"76b63238-1647-4220-b237-b787e215ddde\",\"type\":\"Line\"},{\"attributes\":{\"legends\":[[\"ROC curve (area = 0.829)\",[{\"id\":\"09fb77e9-2a81-4b62-b94a-112e8c160a73\",\"type\":\"GlyphRenderer\"}]]],\"location\":\"bottom_right\",\"plot\":{\"id\":\"283aaf12-737e-4f67-aee6-7f0e766c5a93\",\"subtype\":\"Figure\",\"type\":\"Plot\"}},\"id\":\"e71f4f59-4ddd-4291-9c79-13b9b7e5ccb2\",\"type\":\"Legend\"},{\"attributes\":{},\"id\":\"324ed10c-a00d-45b2-915f-451d8177cae0\",\"type\":\"BasicTickFormatter\"},{\"attributes\":{\"overlay\":{\"id\":\"9cb87b54-d6ab-476a-8b2d-ca3851e509f4\",\"type\":\"BoxAnnotation\"},\"plot\":{\"id\":\"283aaf12-737e-4f67-aee6-7f0e766c5a93\",\"subtype\":\"Figure\",\"type\":\"Plot\"}},\"id\":\"a27a6544-11e3-41cd-bb4b-bc3fecc9ba8d\",\"type\":\"BoxZoomTool\"},{\"attributes\":{\"overlay\":{\"id\":\"fb63b6dc-768c-4b62-b912-3b6a3043ab12\",\"type\":\"BoxAnnotation\"},\"plot\":{\"id\":\"4021da5d-d95c-4381-b54a-4afb26775cda\",\"subtype\":\"Figure\",\"type\":\"Plot\"}},\"id\":\"519ed7d1-832e-40de-85b6-a1a7df991994\",\"type\":\"BoxZoomTool\"},{\"attributes\":{\"below\":[{\"id\":\"eabc7c2f-183a-45cd-a19e-cb6a7f13aebb\",\"type\":\"LinearAxis\"}],\"left\":[{\"id\":\"fee514fb-6915-4a62-a194-82fe476a51a3\",\"type\":\"LinearAxis\"}],\"renderers\":[{\"id\":\"eabc7c2f-183a-45cd-a19e-cb6a7f13aebb\",\"type\":\"LinearAxis\"},{\"id\":\"11341399-ba2c-4dfc-858e-5f804e75b9cd\",\"type\":\"Grid\"},{\"id\":\"fee514fb-6915-4a62-a194-82fe476a51a3\",\"type\":\"LinearAxis\"},{\"id\":\"52fa86a9-9ef8-4672-8fa4-7f773d45a843\",\"type\":\"Grid\"},{\"id\":\"9cb87b54-d6ab-476a-8b2d-ca3851e509f4\",\"type\":\"BoxAnnotation\"},{\"id\":\"e71f4f59-4ddd-4291-9c79-13b9b7e5ccb2\",\"type\":\"Legend\"},{\"id\":\"09fb77e9-2a81-4b62-b94a-112e8c160a73\",\"type\":\"GlyphRenderer\"}],\"title\":\"Receiver Operating Characteristic\",\"tool_events\":{\"id\":\"324a20f7-4503-48ff-a727-bbfe17a0549a\",\"type\":\"ToolEvents\"},\"tools\":[{\"id\":\"b2d54bb7-bc46-4b23-a92a-5a83975282e6\",\"type\":\"PanTool\"},{\"id\":\"470a3e20-eef8-48a4-aad5-f87e8d0557f4\",\"type\":\"WheelZoomTool\"},{\"id\":\"a27a6544-11e3-41cd-bb4b-bc3fecc9ba8d\",\"type\":\"BoxZoomTool\"},{\"id\":\"85c64f03-5faa-4647-bb17-a13d98c6c492\",\"type\":\"PreviewSaveTool\"},{\"id\":\"3db96766-cc69-4309-adcf-1de04b7894eb\",\"type\":\"ResizeTool\"},{\"id\":\"c96510b7-ff22-4d73-8db4-9ab83217c80e\",\"type\":\"ResetTool\"},{\"id\":\"28dde0e0-00fc-4c97-b786-f92ab66b278d\",\"type\":\"HelpTool\"}],\"x_range\":{\"id\":\"bace5ba4-b5bb-44d5-9a40-96d1947860d3\",\"type\":\"Range1d\"},\"y_range\":{\"id\":\"1bb14b67-fa8a-4faa-ac1f-2cd94d914617\",\"type\":\"Range1d\"}},\"id\":\"283aaf12-737e-4f67-aee6-7f0e766c5a93\",\"subtype\":\"Figure\",\"type\":\"Plot\"},{\"attributes\":{\"axis_label\":\"False Positive Rate or (1 - Specifity)\",\"formatter\":{\"id\":\"938aebc5-980e-4cb4-89f5-47d02064182b\",\"type\":\"BasicTickFormatter\"},\"plot\":{\"id\":\"283aaf12-737e-4f67-aee6-7f0e766c5a93\",\"subtype\":\"Figure\",\"type\":\"Plot\"},\"ticker\":{\"id\":\"97711d6a-e32d-467a-921b-6995235c1548\",\"type\":\"BasicTicker\"}},\"id\":\"eabc7c2f-183a-45cd-a19e-cb6a7f13aebb\",\"type\":\"LinearAxis\"},{\"attributes\":{\"callback\":null},\"id\":\"5e45ecdf-f3bf-42a5-864d-82b3898b3ff5\",\"type\":\"Range1d\"},{\"attributes\":{},\"id\":\"f84dce6c-4102-4e94-9179-386846e5d119\",\"type\":\"BasicTicker\"}],\"root_ids\":[\"283aaf12-737e-4f67-aee6-7f0e766c5a93\",\"4021da5d-d95c-4381-b54a-4afb26775cda\"]},\"title\":\"Bokeh Application\",\"version\":\"0.11.1\"}};\n",
       "            var render_items = [{\"docid\":\"0f50a452-11ad-40ea-b02b-a0b30e6639fd\",\"elementid\":\"f7aa8064-999b-462d-983b-7f94ee7ffc37\",\"modelid\":\"4021da5d-d95c-4381-b54a-4afb26775cda\",\"notebook_comms_target\":\"d58354c0-4d82-4eae-ac36-0eedfa881b54\"}];\n",
       "            \n",
       "            Bokeh.embed.embed_items(docs_json, render_items);\n",
       "        });\n",
       "      },\n",
       "      function(Bokeh) {\n",
       "      }\n",
       "    ];\n",
       "  \n",
       "    function run_inline_js() {\n",
       "      for (var i = 0; i < inline_js.length; i++) {\n",
       "        inline_js[i](window.Bokeh);\n",
       "      }\n",
       "    }\n",
       "  \n",
       "    if (window._bokeh_is_loading === 0) {\n",
       "      console.log(\"Bokeh: BokehJS loaded, going straight to plotting\");\n",
       "      run_inline_js();\n",
       "    } else {\n",
       "      load_libs(js_urls, function() {\n",
       "        console.log(\"Bokeh: BokehJS plotting callback run at\", now());\n",
       "        run_inline_js();\n",
       "      });\n",
       "    }\n",
       "  }(this));\n",
       "</script>"
      ]
     },
     "metadata": {},
     "output_type": "display_data"
    }
   ],
   "source": [
    "model_lr = LogisticRegression(C=.1).fit(train_feat, train_target)\n",
    "target_predicted_proba = model_lr.predict_proba(test_feat)\n",
    "\n",
    "plot_roc_curve(test_target, target_predicted_proba)"
   ]
  },
  {
   "cell_type": "markdown",
   "metadata": {
    "collapsed": true
   },
   "source": [
    "## Unbalanced Classes Setup"
   ]
  },
  {
   "cell_type": "markdown",
   "metadata": {},
   "source": [
    "See above for external package setup."
   ]
  },
  {
   "cell_type": "markdown",
   "metadata": {},
   "source": [
    "Back to our confusion matrix.  Let's refresh our data first."
   ]
  },
  {
   "cell_type": "code",
   "execution_count": 22,
   "metadata": {
    "collapsed": false
   },
   "outputs": [
    {
     "name": "stdout",
     "output_type": "stream",
     "text": [
      "<class 'pandas.core.frame.DataFrame'>\n",
      "RangeIndex: 768 entries, 0 to 767\n",
      "Data columns (total 10 columns):\n",
      "rel_compact          768 non-null float64\n",
      "surface              768 non-null float64\n",
      "wall                 768 non-null float64\n",
      "roof                 768 non-null float64\n",
      "height               768 non-null float64\n",
      "orientation          768 non-null int64\n",
      "glazing_area         768 non-null float64\n",
      "glazing_area_dist    768 non-null int64\n",
      "heating_load         768 non-null float64\n",
      "cooling_load         768 non-null float64\n",
      "dtypes: float64(8), int64(2)\n",
      "memory usage: 60.1 KB\n"
     ]
    }
   ],
   "source": [
    "en = pd.read_csv('../data/ENB2012_data.csv',header=0)\n",
    "en.info()\n",
    "\n",
    "#Samuel\n",
    "en = pd.read_csv('../data/ENB2012_data.csv',header=0)\n",
    "en['high_heat'] = en.heating_load >= 40\n",
    "label = en['high_heat']\n",
    "data = en.drop(['heating_load','cooling_load','high_heat'], axis=1)"
   ]
  },
  {
   "cell_type": "markdown",
   "metadata": {},
   "source": [
    "Remember our results?  Could be better right?"
   ]
  },
  {
   "cell_type": "markdown",
   "metadata": {},
   "source": [
    "### Strategy 1: Sample from the overloaded class\n",
    "If we put the two classes on the same order of magnitude we can hope that our Model de-emphasizes its accuracy on the Falses with hopes of improving our scores on predicting the underrepresented class. One approach is to use less data from our overloaded class."
   ]
  },
  {
   "cell_type": "code",
   "execution_count": 23,
   "metadata": {
    "collapsed": false
   },
   "outputs": [],
   "source": [
    "# 'Random under-sampling'\n",
    "x = data.values\n",
    "y = labels.values\n",
    "\n",
    "X_train, X_test, Y_train, Y_test = train_test_split(x, y, test_size=0.2, random_state=1)  "
   ]
  },
  {
   "cell_type": "code",
   "execution_count": 24,
   "metadata": {
    "collapsed": false
   },
   "outputs": [],
   "source": [
    "#Note we are keeping our test set out of this undersampling routing\n",
    "\n",
    "#Modified\n",
    "from imblearn.under_sampling import RandomUnderSampler\n",
    "US = RandomUnderSampler()\n",
    "usx, usy = US.fit_sample(X_train,Y_train)\n",
    "\n",
    "#Original\n",
    "#US = UnderSampler(verbose=True)\n",
    "#usx, usy = US.fit_transform(X_train,Y_train)"
   ]
  },
  {
   "cell_type": "code",
   "execution_count": 25,
   "metadata": {
    "collapsed": false
   },
   "outputs": [
    {
     "data": {
      "text/html": [
       "<div>\n",
       "<table border=\"1\" class=\"dataframe\">\n",
       "  <thead>\n",
       "    <tr style=\"text-align: right;\">\n",
       "      <th></th>\n",
       "      <th>count</th>\n",
       "      <th>mean</th>\n",
       "      <th>std</th>\n",
       "      <th>min</th>\n",
       "      <th>25%</th>\n",
       "      <th>50%</th>\n",
       "      <th>75%</th>\n",
       "      <th>max</th>\n",
       "    </tr>\n",
       "  </thead>\n",
       "  <tbody>\n",
       "    <tr>\n",
       "      <th>rel_compact</th>\n",
       "      <td>74.0</td>\n",
       "      <td>0.775135</td>\n",
       "      <td>0.073750</td>\n",
       "      <td>0.62</td>\n",
       "      <td>0.76</td>\n",
       "      <td>0.79</td>\n",
       "      <td>0.79</td>\n",
       "      <td>0.98</td>\n",
       "    </tr>\n",
       "    <tr>\n",
       "      <th>surface</th>\n",
       "      <td>74.0</td>\n",
       "      <td>655.540541</td>\n",
       "      <td>62.008603</td>\n",
       "      <td>514.50</td>\n",
       "      <td>637.00</td>\n",
       "      <td>637.00</td>\n",
       "      <td>661.50</td>\n",
       "      <td>808.50</td>\n",
       "    </tr>\n",
       "    <tr>\n",
       "      <th>wall</th>\n",
       "      <td>74.0</td>\n",
       "      <td>344.655405</td>\n",
       "      <td>49.886579</td>\n",
       "      <td>245.00</td>\n",
       "      <td>318.50</td>\n",
       "      <td>343.00</td>\n",
       "      <td>367.50</td>\n",
       "      <td>416.50</td>\n",
       "    </tr>\n",
       "    <tr>\n",
       "      <th>roof</th>\n",
       "      <td>74.0</td>\n",
       "      <td>155.442568</td>\n",
       "      <td>37.602953</td>\n",
       "      <td>110.25</td>\n",
       "      <td>122.50</td>\n",
       "      <td>147.00</td>\n",
       "      <td>147.00</td>\n",
       "      <td>220.50</td>\n",
       "    </tr>\n",
       "    <tr>\n",
       "      <th>height</th>\n",
       "      <td>74.0</td>\n",
       "      <td>6.195946</td>\n",
       "      <td>1.482356</td>\n",
       "      <td>3.50</td>\n",
       "      <td>7.00</td>\n",
       "      <td>7.00</td>\n",
       "      <td>7.00</td>\n",
       "      <td>7.00</td>\n",
       "    </tr>\n",
       "    <tr>\n",
       "      <th>orientation</th>\n",
       "      <td>74.0</td>\n",
       "      <td>3.391892</td>\n",
       "      <td>1.120391</td>\n",
       "      <td>2.00</td>\n",
       "      <td>2.00</td>\n",
       "      <td>3.00</td>\n",
       "      <td>4.00</td>\n",
       "      <td>5.00</td>\n",
       "    </tr>\n",
       "    <tr>\n",
       "      <th>glazing_area</th>\n",
       "      <td>74.0</td>\n",
       "      <td>0.300000</td>\n",
       "      <td>0.125785</td>\n",
       "      <td>0.00</td>\n",
       "      <td>0.25</td>\n",
       "      <td>0.40</td>\n",
       "      <td>0.40</td>\n",
       "      <td>0.40</td>\n",
       "    </tr>\n",
       "    <tr>\n",
       "      <th>glazing_area_dist</th>\n",
       "      <td>74.0</td>\n",
       "      <td>2.986486</td>\n",
       "      <td>1.539376</td>\n",
       "      <td>0.00</td>\n",
       "      <td>2.00</td>\n",
       "      <td>3.00</td>\n",
       "      <td>4.00</td>\n",
       "      <td>5.00</td>\n",
       "    </tr>\n",
       "  </tbody>\n",
       "</table>\n",
       "</div>"
      ],
      "text/plain": [
       "                   count        mean        std     min     25%     50%  \\\n",
       "rel_compact         74.0    0.775135   0.073750    0.62    0.76    0.79   \n",
       "surface             74.0  655.540541  62.008603  514.50  637.00  637.00   \n",
       "wall                74.0  344.655405  49.886579  245.00  318.50  343.00   \n",
       "roof                74.0  155.442568  37.602953  110.25  122.50  147.00   \n",
       "height              74.0    6.195946   1.482356    3.50    7.00    7.00   \n",
       "orientation         74.0    3.391892   1.120391    2.00    2.00    3.00   \n",
       "glazing_area        74.0    0.300000   0.125785    0.00    0.25    0.40   \n",
       "glazing_area_dist   74.0    2.986486   1.539376    0.00    2.00    3.00   \n",
       "\n",
       "                      75%     max  \n",
       "rel_compact          0.79    0.98  \n",
       "surface            661.50  808.50  \n",
       "wall               367.50  416.50  \n",
       "roof               147.00  220.50  \n",
       "height               7.00    7.00  \n",
       "orientation          4.00    5.00  \n",
       "glazing_area         0.40    0.40  \n",
       "glazing_area_dist    4.00    5.00  "
      ]
     },
     "execution_count": 25,
     "metadata": {},
     "output_type": "execute_result"
    }
   ],
   "source": [
    "### Lets plug this undersampled data back into a dataframe to see how it looks now. \n",
    "us_df = pd.DataFrame(usx, columns=data.columns)\n",
    "us_df['labels'] = usy\n",
    "us_df.describe().T"
   ]
  },
  {
   "cell_type": "markdown",
   "metadata": {},
   "source": [
    "### Exercise\n",
    "\n",
    "- Using our new UnderSampled Data, test the performance of Logistic Regression, Naive Bayes, and KNN on this data. "
   ]
  },
  {
   "cell_type": "code",
   "execution_count": 26,
   "metadata": {
    "collapsed": false
   },
   "outputs": [
    {
     "name": "stdout",
     "output_type": "stream",
     "text": [
      "Results of Logistic Regression: \n",
      "                Predicted Class 0  Predicted Class 1\n",
      "Actual Class 0                 93                 52\n",
      "Actual Class 1                  1                  8 \n",
      "\n",
      "Precision: 0.133333333333\n",
      "Recall: 0.888888888889 \n",
      "\n",
      "============================================\n",
      "Results of KNN: \n",
      "                Predicted Class 0  Predicted Class 1\n",
      "Actual Class 0                126                 19\n",
      "Actual Class 1                  0                  9 \n",
      "\n",
      "Precision: 0.321428571429\n",
      "Recall: 1.0 \n",
      "\n",
      "============================================\n",
      "Results of Naive Bayes: \n",
      "                Predicted Class 0  Predicted Class 1\n",
      "Actual Class 0                117                 28\n",
      "Actual Class 1                  0                  9 \n",
      "\n",
      "Precision: 0.243243243243\n",
      "Recall: 1.0 \n",
      "\n",
      "============================================\n"
     ]
    }
   ],
   "source": [
    "from sklearn.naive_bayes import GaussianNB\n",
    "\n",
    "#All three at once!\n",
    "model_names = ['Logistic Regression', 'KNN', 'Naive Bayes']\n",
    "models = [LogisticRegression(C=1), KNeighborsClassifier(5), GaussianNB()]\n",
    "i = 0\n",
    "for model in models:\n",
    "    \n",
    "    model.fit(usx, usy)  \n",
    "    predictions = model.predict(X_test)\n",
    "\n",
    "    cm = confusion_matrix(Y_test,predictions)\n",
    "\n",
    "    #lets make that easier to read\n",
    "    cm_df = pd.DataFrame(cm, columns=['Predicted Class 0', 'Predicted Class 1'], \n",
    "                             index=['Actual Class 0', 'Actual Class 1'])\n",
    "\n",
    "    print \"Results of {}: \".format(model_names[i])\n",
    "    print cm_df,'\\n'\n",
    "    print \"Precision:\",float(cm[1,1])/(cm[0,1]+cm[1,1])\n",
    "    print \"Recall:\",float(cm[1,1])/(cm[1,0]+cm[1,1]),'\\n'\n",
    "    print \"============================================\"\n",
    "    i +=1"
   ]
  },
  {
   "cell_type": "markdown",
   "metadata": {},
   "source": [
    "Did this get better?  What happened?\n",
    "\n",
    "Well, yes and no. We traded off between precision, correctly classifying as over 40, and recall, classifying more of the positives as positives. In practice, a mixture of both Over & Under sampling is used. "
   ]
  },
  {
   "cell_type": "markdown",
   "metadata": {},
   "source": [
    "### Strategy 2: Oversample the underrepresented class\n",
    "\n",
    "To oversample, we will use all of our negative values and sample from our positive values a number that's more reasonable. Note the `replace = True` argument: we need to sample **with replacement** meaning after we sample a value, we replace the value we sampled in our original set, so it remains un changed. Before, sampling was done without replacement, guaranteeing unique values.\n",
    "\n",
    "Sampling with replacement is not the same as SMOTE, which creates synthetic data. For more information on SMOTE, check out the original paper here: https://www.jair.org/media/953/live-953-2037-jair.pdf"
   ]
  },
  {
   "cell_type": "code",
   "execution_count": 27,
   "metadata": {
    "collapsed": true
   },
   "outputs": [],
   "source": [
    "# 'Random over-sampling'\n",
    "x = data.values\n",
    "y = labels.values\n",
    "\n",
    "X_train, X_test, Y_train, Y_test = train_test_split(x, y, test_size=0.2, random_state=1)  "
   ]
  },
  {
   "cell_type": "code",
   "execution_count": 28,
   "metadata": {
    "collapsed": false
   },
   "outputs": [],
   "source": [
    "from imblearn.over_sampling import SMOTE\n",
    "\n",
    "#Samuel\n",
    "verbose = True\n",
    "ratio = 1.0\n",
    "\n",
    "OS = SMOTE(ratio=ratio, verbose=verbose)\n",
    "osx, osy = OS.fit_sample(X_train, Y_train)\n",
    "\n",
    "#Original\n",
    "#verbose = True\n",
    "#ratio = 10.0\n",
    "\n",
    "#OS = SMOTE(ratio=ratio, verbose=verbose)\n",
    "#osx, osy = OS.fit_transform(X_train, Y_train)"
   ]
  },
  {
   "cell_type": "code",
   "execution_count": 29,
   "metadata": {
    "collapsed": false
   },
   "outputs": [
    {
     "data": {
      "text/html": [
       "<div>\n",
       "<table border=\"1\" class=\"dataframe\">\n",
       "  <thead>\n",
       "    <tr style=\"text-align: right;\">\n",
       "      <th></th>\n",
       "      <th>count</th>\n",
       "      <th>mean</th>\n",
       "      <th>std</th>\n",
       "      <th>min</th>\n",
       "      <th>25%</th>\n",
       "      <th>50%</th>\n",
       "      <th>75%</th>\n",
       "      <th>max</th>\n",
       "    </tr>\n",
       "  </thead>\n",
       "  <tbody>\n",
       "    <tr>\n",
       "      <th>rel_compact</th>\n",
       "      <td>1154.0</td>\n",
       "      <td>0.770520</td>\n",
       "      <td>0.079076</td>\n",
       "      <td>0.62</td>\n",
       "      <td>0.740000</td>\n",
       "      <td>0.790000</td>\n",
       "      <td>0.790000</td>\n",
       "      <td>0.98</td>\n",
       "    </tr>\n",
       "    <tr>\n",
       "      <th>surface</th>\n",
       "      <td>1154.0</td>\n",
       "      <td>660.332322</td>\n",
       "      <td>66.725969</td>\n",
       "      <td>514.50</td>\n",
       "      <td>637.000000</td>\n",
       "      <td>637.000000</td>\n",
       "      <td>686.000000</td>\n",
       "      <td>808.50</td>\n",
       "    </tr>\n",
       "    <tr>\n",
       "      <th>wall</th>\n",
       "      <td>1154.0</td>\n",
       "      <td>342.002166</td>\n",
       "      <td>47.506198</td>\n",
       "      <td>245.00</td>\n",
       "      <td>318.500000</td>\n",
       "      <td>343.000000</td>\n",
       "      <td>367.500000</td>\n",
       "      <td>416.50</td>\n",
       "    </tr>\n",
       "    <tr>\n",
       "      <th>roof</th>\n",
       "      <td>1154.0</td>\n",
       "      <td>159.165078</td>\n",
       "      <td>39.354455</td>\n",
       "      <td>110.25</td>\n",
       "      <td>122.500000</td>\n",
       "      <td>147.000000</td>\n",
       "      <td>220.500000</td>\n",
       "      <td>220.50</td>\n",
       "    </tr>\n",
       "    <tr>\n",
       "      <th>height</th>\n",
       "      <td>1154.0</td>\n",
       "      <td>6.041594</td>\n",
       "      <td>1.561407</td>\n",
       "      <td>3.50</td>\n",
       "      <td>3.500000</td>\n",
       "      <td>7.000000</td>\n",
       "      <td>7.000000</td>\n",
       "      <td>7.00</td>\n",
       "    </tr>\n",
       "    <tr>\n",
       "      <th>orientation</th>\n",
       "      <td>1154.0</td>\n",
       "      <td>3.552941</td>\n",
       "      <td>1.056043</td>\n",
       "      <td>2.00</td>\n",
       "      <td>2.886220</td>\n",
       "      <td>3.825558</td>\n",
       "      <td>4.419216</td>\n",
       "      <td>5.00</td>\n",
       "    </tr>\n",
       "    <tr>\n",
       "      <th>glazing_area</th>\n",
       "      <td>1154.0</td>\n",
       "      <td>0.292232</td>\n",
       "      <td>0.122328</td>\n",
       "      <td>0.00</td>\n",
       "      <td>0.250000</td>\n",
       "      <td>0.330265</td>\n",
       "      <td>0.400000</td>\n",
       "      <td>0.40</td>\n",
       "    </tr>\n",
       "    <tr>\n",
       "      <th>glazing_area_dist</th>\n",
       "      <td>1154.0</td>\n",
       "      <td>2.829478</td>\n",
       "      <td>1.473845</td>\n",
       "      <td>0.00</td>\n",
       "      <td>1.707369</td>\n",
       "      <td>3.000000</td>\n",
       "      <td>4.000000</td>\n",
       "      <td>5.00</td>\n",
       "    </tr>\n",
       "  </tbody>\n",
       "</table>\n",
       "</div>"
      ],
      "text/plain": [
       "                    count        mean        std     min         25%  \\\n",
       "rel_compact        1154.0    0.770520   0.079076    0.62    0.740000   \n",
       "surface            1154.0  660.332322  66.725969  514.50  637.000000   \n",
       "wall               1154.0  342.002166  47.506198  245.00  318.500000   \n",
       "roof               1154.0  159.165078  39.354455  110.25  122.500000   \n",
       "height             1154.0    6.041594   1.561407    3.50    3.500000   \n",
       "orientation        1154.0    3.552941   1.056043    2.00    2.886220   \n",
       "glazing_area       1154.0    0.292232   0.122328    0.00    0.250000   \n",
       "glazing_area_dist  1154.0    2.829478   1.473845    0.00    1.707369   \n",
       "\n",
       "                          50%         75%     max  \n",
       "rel_compact          0.790000    0.790000    0.98  \n",
       "surface            637.000000  686.000000  808.50  \n",
       "wall               343.000000  367.500000  416.50  \n",
       "roof               147.000000  220.500000  220.50  \n",
       "height               7.000000    7.000000    7.00  \n",
       "orientation          3.825558    4.419216    5.00  \n",
       "glazing_area         0.330265    0.400000    0.40  \n",
       "glazing_area_dist    3.000000    4.000000    5.00  "
      ]
     },
     "execution_count": 29,
     "metadata": {},
     "output_type": "execute_result"
    }
   ],
   "source": [
    "os_df = pd.DataFrame(osx, columns=data.columns)\n",
    "os_df['labels'] = osy\n",
    "os_df.describe().T"
   ]
  },
  {
   "cell_type": "markdown",
   "metadata": {},
   "source": [
    "### Exercise\n",
    "\n",
    "- Using our new OverSampled Data, test the performance of Logistic Regression, Naive Bayes, and KNN on this data.  "
   ]
  },
  {
   "cell_type": "code",
   "execution_count": 30,
   "metadata": {
    "collapsed": false
   },
   "outputs": [
    {
     "name": "stdout",
     "output_type": "stream",
     "text": [
      "LogisticRegression(C=1, class_weight=None, dual=False, fit_intercept=True,\n",
      "          intercept_scaling=1, max_iter=100, multi_class='ovr', n_jobs=1,\n",
      "          penalty='l2', random_state=None, solver='liblinear', tol=0.0001,\n",
      "          verbose=0, warm_start=False)\n",
      "Results of Logistic Regression: \n",
      "                Predicted Class 0  Predicted Class 1\n",
      "Actual Class 0                110                 35\n",
      "Actual Class 1                  0                  9 \n",
      "\n",
      "Precision: 0.204545454545\n",
      "Recall: 1.0 \n",
      "\n",
      "============================================\n",
      "KNeighborsClassifier(algorithm='auto', leaf_size=30, metric='minkowski',\n",
      "           metric_params=None, n_jobs=1, n_neighbors=5, p=2,\n",
      "           weights='uniform')\n",
      "Results of KNN: \n",
      "                Predicted Class 0  Predicted Class 1\n",
      "Actual Class 0                128                 17\n",
      "Actual Class 1                  0                  9 \n",
      "\n",
      "Precision: 0.346153846154\n",
      "Recall: 1.0 \n",
      "\n",
      "============================================\n",
      "GaussianNB()\n",
      "Results of Naive Bayes: \n",
      "                Predicted Class 0  Predicted Class 1\n",
      "Actual Class 0                117                 28\n",
      "Actual Class 1                  0                  9 \n",
      "\n",
      "Precision: 0.243243243243\n",
      "Recall: 1.0 \n",
      "\n",
      "============================================\n"
     ]
    }
   ],
   "source": [
    "#All three at once!\n",
    "model_names = ['Logistic Regression', 'KNN', 'Naive Bayes']\n",
    "models = [LogisticRegression(C=1), KNeighborsClassifier(5), GaussianNB()]\n",
    "i = 0\n",
    "for model in models:\n",
    "    print model\n",
    "    model.fit(osx, osy)  \n",
    "    predictions = model.predict(X_test)\n",
    "\n",
    "    cm = confusion_matrix(Y_test,predictions)\n",
    "\n",
    "    #lets make that easier to read\n",
    "    cm_df = pd.DataFrame(cm, columns=['Predicted Class 0', 'Predicted Class 1'], \n",
    "                             index=['Actual Class 0', 'Actual Class 1'])\n",
    "\n",
    "    print \"Results of {}: \".format(model_names[i])\n",
    "    print cm_df,'\\n'\n",
    "    print \"Precision:\",float(cm[1,1])/(cm[0,1]+cm[1,1])\n",
    "    print \"Recall:\",float(cm[1,1])/(cm[1,0]+cm[1,1]),'\\n'\n",
    "    print \"============================================\"\n",
    "    i +=1"
   ]
  },
  {
   "cell_type": "markdown",
   "metadata": {},
   "source": [
    "But the model got worse or better? (worse)\n",
    "Well, yes and no. We traded off between precision, correctly classifying as over 40, and recall, classifying more of the positives as positives. In practice, a mixture of both Over & Under sampling is used. "
   ]
  },
  {
   "cell_type": "markdown",
   "metadata": {},
   "source": [
    "### Exercise\n",
    "- Repeat our process for a high cooling load\n",
    "- Reinstantiate your data and then set the high cooling load at an appropriate value (I'll get you started)."
   ]
  },
  {
   "cell_type": "code",
   "execution_count": 31,
   "metadata": {
    "collapsed": false
   },
   "outputs": [
    {
     "data": {
      "text/plain": [
       "False    721\n",
       "True      47\n",
       "Name: high_cool, dtype: int64"
      ]
     },
     "execution_count": 31,
     "metadata": {},
     "output_type": "execute_result"
    }
   ],
   "source": [
    "en = pd.read_csv('../data/ENB2012_data.csv',header=0)\n",
    "# Set a target\n",
    "en['high_cool'] = en.cooling_load >= 40\n",
    "en.high_cool.value_counts()"
   ]
  },
  {
   "cell_type": "code",
   "execution_count": 32,
   "metadata": {
    "collapsed": false
   },
   "outputs": [
    {
     "name": "stdout",
     "output_type": "stream",
     "text": [
      "                   count        mean        std     min       25%     50%  \\\n",
      "rel_compact        768.0    0.764167   0.105777    0.62    0.6825    0.75   \n",
      "surface            768.0  671.708333  88.086116  514.50  606.3750  673.75   \n",
      "wall               768.0  318.500000  43.626481  245.00  294.0000  318.50   \n",
      "roof               768.0  176.604167  45.165950  110.25  140.8750  183.75   \n",
      "height             768.0    5.250000   1.751140    3.50    3.5000    5.25   \n",
      "orientation        768.0    3.500000   1.118763    2.00    2.7500    3.50   \n",
      "glazing_area       768.0    0.234375   0.133221    0.00    0.1000    0.25   \n",
      "glazing_area_dist  768.0    2.812500   1.550960    0.00    1.7500    3.00   \n",
      "\n",
      "                       75%     max  \n",
      "rel_compact          0.830    0.98  \n",
      "surface            741.125  808.50  \n",
      "wall               343.000  416.50  \n",
      "roof               220.500  220.50  \n",
      "height               7.000    7.00  \n",
      "orientation          4.250    5.00  \n",
      "glazing_area         0.400    0.40  \n",
      "glazing_area_dist    4.000    5.00  \n",
      "Results of Logistic Regression:\n",
      "                   Actual Class 0  Actual Class 1\n",
      "Predicted Class 0             143               0\n",
      "Predicted Class 1              11               0 \n",
      "\n",
      "Recall: 0.0 \n",
      "\n",
      "Accuracy Score: 0.939\n"
     ]
    }
   ],
   "source": [
    "# Set the labels for training\n",
    "label = en['high_cool']\n",
    "\n",
    "# remove extranious features\n",
    "data = en.drop(['heating_load','cooling_load','high_cool'], axis=1)\n",
    "print data.describe().T\n",
    "\n",
    "X_train, X_test, Y_train, Y_test = train_test_split(data, label, test_size=0.2, random_state=1) \n",
    "\n",
    "#Fit a logistic regression without using over or undersampling:\n",
    "model_lr_exercise_a = LogisticRegression(C=1)\n",
    "\n",
    "scores_exercise_a = cross_val_score(model_lr_exercise_a, data, label, cv=5)\n",
    "\n",
    "model_lr_exercise_a.fit(X_train, Y_train)\n",
    "predictions_exercise_a = model_lr_exercise_a.predict(X_test)\n",
    "\n",
    "cm_exercise_a = confusion_matrix(Y_test,predictions_exercise_a)\n",
    "cm_df_exercise_a = pd.DataFrame(cm_exercise_a, index=['Predicted Class 0', 'Predicted Class 1'], \n",
    "                                columns=['Actual Class 0', 'Actual Class 1'])\n",
    "\n",
    "print \"Results of Logistic Regression:\"\n",
    "print cm_df_exercise_a,'\\n'\n",
    "#print \"Precision:\",float(cm_exercise_a[1,1])/(cm_exercise_a[0,1]+cm_exercise_a[1,1])\n",
    "print \"Recall:\",float(cm_exercise_a[1,1])/(cm_exercise_a[1,0]+cm_exercise_a[1,1]),'\\n'\n",
    "print \"Accuracy Score: {:.03f}\".format(np.mean(scores_exercise_a))"
   ]
  },
  {
   "cell_type": "code",
   "execution_count": 33,
   "metadata": {
    "collapsed": false
   },
   "outputs": [
    {
     "name": "stdout",
     "output_type": "stream",
     "text": [
      "\n",
      "\n",
      "Data Frame Description:\n",
      "                   count        mean        std     min     25%     50%  \\\n",
      "rel_compact         72.0    0.765000   0.080928    0.62    0.69    0.79   \n",
      "surface             72.0  665.583333  70.745328  514.50  637.00  637.00   \n",
      "wall                72.0  341.979167  39.959878  269.50  318.50  343.00   \n",
      "roof                72.0  161.802083  39.330129  110.25  122.50  147.00   \n",
      "height              72.0    5.979167   1.602018    3.50    3.50    7.00   \n",
      "orientation         72.0    3.666667   1.100576    2.00    3.00    4.00   \n",
      "glazing_area        72.0    0.259722   0.134698    0.00    0.10    0.25   \n",
      "glazing_area_dist   72.0    2.888889   1.458878    0.00    2.00    3.00   \n",
      "\n",
      "                      75%     max  \n",
      "rel_compact          0.79    0.98  \n",
      "surface            735.00  808.50  \n",
      "wall               343.00  416.50  \n",
      "roof               220.50  220.50  \n",
      "height               7.00    7.00  \n",
      "orientation          5.00    5.00  \n",
      "glazing_area         0.40    0.40  \n",
      "glazing_area_dist    4.00    5.00  \n",
      "\n",
      "\n",
      "Labels Count:\n",
      "True     36\n",
      "False    36\n",
      "Name: labels, dtype: int64\n",
      "\n",
      "\n",
      "Results of Logistic Regression:\n",
      "                   Actual Class 0  Actual Class 1\n",
      "Predicted Class 0              84              59\n",
      "Predicted Class 1               0              11 \n",
      "\n",
      "\n",
      "\n",
      "Precision: 0.157142857143\n",
      "Recall: 1.0 \n",
      "\n",
      "Accuracy Score: 0.863\n"
     ]
    }
   ],
   "source": [
    "#Fit a Logistic Regression using Undersampling:\n",
    "\n",
    "US_exercise = RandomUnderSampler()\n",
    "usx_exercise, usy_exercise = US_exercise.fit_sample(X_train,Y_train)\n",
    "\n",
    "### Lets plug this undersampled data back into a dataframe to see how it looks now. \n",
    "us_df_exercise = pd.DataFrame(usx_exercise, columns=data.columns)\n",
    "us_df_exercise['labels'] = usy_exercise\n",
    "print '\\n'\n",
    "print \"Data Frame Description:\"\n",
    "print us_df_exercise.describe().T\n",
    "print '\\n'\n",
    "print \"Labels Count:\"\n",
    "print us_df_exercise['labels'].value_counts()\n",
    "\n",
    "model_lr_exercise_b = LogisticRegression(C=1)\n",
    "\n",
    "scores_exercise_b = cross_val_score(model_lr_exercise_b, usx_exercise, usy_exercise, cv=5)\n",
    "    \n",
    "model_lr_exercise_b.fit(usx_exercise, usy_exercise)\n",
    "predictions_exercise_b = model_lr_exercise_b.predict(X_test)\n",
    "\n",
    "cm_exercise_b = confusion_matrix(Y_test,predictions_exercise_b)\n",
    "cm_df_exercise_b = pd.DataFrame(cm_exercise_b, index=['Predicted Class 0', 'Predicted Class 1'], \n",
    "                                columns=['Actual Class 0', 'Actual Class 1'])\n",
    "\n",
    "print '\\n'\n",
    "print \"Results of Logistic Regression:\"\n",
    "print cm_df_exercise_b,'\\n'\n",
    "print '\\n'\n",
    "print \"Precision:\",float(cm_exercise_b[1,1])/(cm_exercise_b[0,1]+cm_exercise_b[1,1])\n",
    "print \"Recall:\",float(cm_exercise_b[1,1])/(cm_exercise_b[1,0]+cm_exercise_b[1,1]),'\\n'\n",
    "print \"Accuracy Score: {:.03f}\".format(np.mean(scores_exercise_b))\n"
   ]
  },
  {
   "cell_type": "code",
   "execution_count": 34,
   "metadata": {
    "collapsed": false
   },
   "outputs": [
    {
     "name": "stdout",
     "output_type": "stream",
     "text": [
      "\n",
      "\n",
      "Data Frame Description:\n",
      "                    count        mean        std     min         25%     50%  \\\n",
      "rel_compact        1156.0    0.773560   0.080752    0.62    0.740000    0.79   \n",
      "surface            1156.0  658.167491  67.903419  514.50  637.000000  637.00   \n",
      "wall               1156.0  339.600236  45.952508  245.00  318.500000  343.00   \n",
      "roof               1156.0  159.283627  39.203789  110.25  122.500000  147.00   \n",
      "height             1156.0    6.043253   1.560563    3.50    3.500000    7.00   \n",
      "orientation        1156.0    3.607811   1.092767    2.00    3.000000    4.00   \n",
      "glazing_area       1156.0    0.262243   0.127122    0.00    0.102616    0.25   \n",
      "glazing_area_dist  1156.0    2.987351   1.456904    0.00    2.000000    3.00   \n",
      "\n",
      "                         75%     max  \n",
      "rel_compact          0.79000    0.98  \n",
      "surface            686.00000  808.50  \n",
      "wall               343.00000  416.50  \n",
      "roof               220.50000  220.50  \n",
      "height               7.00000    7.00  \n",
      "orientation          4.75683    5.00  \n",
      "glazing_area         0.40000    0.40  \n",
      "glazing_area_dist    4.00000    5.00  \n",
      "\n",
      "\n",
      "Labels Count:\n",
      "True     578\n",
      "False    578\n",
      "Name: labels, dtype: int64\n",
      "\n",
      "\n",
      "Results of Logistic Regression:\n",
      "                   Actual Class 0  Actual Class 1\n",
      "Predicted Class 0             100              43\n",
      "Predicted Class 1               0              11 \n",
      "\n",
      "\n",
      "\n",
      "Precision: 0.203703703704\n",
      "Recall: 1.0 \n",
      "\n",
      "Accuracy Score: 0.881\n"
     ]
    }
   ],
   "source": [
    "#Fit a Logistic Regression using Oversampling:\n",
    "\n",
    "verbose = True\n",
    "ratio = 1.0\n",
    "\n",
    "OS_exercise = SMOTE(ratio=ratio, verbose=verbose)\n",
    "osx_exercise, osy_exercise = OS_exercise.fit_sample(X_train, Y_train)\n",
    "\n",
    "os_df_exercise = pd.DataFrame(osx_exercise, columns=data.columns)\n",
    "os_df_exercise['labels'] = osy_exercise\n",
    "print '\\n'\n",
    "print \"Data Frame Description:\"\n",
    "print os_df_exercise.describe().T\n",
    "print '\\n'\n",
    "print \"Labels Count:\"\n",
    "print os_df_exercise['labels'].value_counts()\n",
    "\n",
    "model_lr_exercise_c = LogisticRegression(C=1)\n",
    "\n",
    "scores_exercise_c = cross_val_score(model_lr_exercise_c, osx_exercise, osy_exercise, cv=5)\n",
    "    \n",
    "model_lr_exercise_c.fit(osx_exercise, osy_exercise)\n",
    "predictions_exercise_c = model_lr_exercise_c.predict(X_test)\n",
    "\n",
    "cm_exercise_c = confusion_matrix(Y_test,predictions_exercise_c)\n",
    "cm_df_exercise_c = pd.DataFrame(cm_exercise_c, index=['Predicted Class 0', 'Predicted Class 1'], \n",
    "                                columns=['Actual Class 0', 'Actual Class 1'])\n",
    "\n",
    "print '\\n'\n",
    "print \"Results of Logistic Regression:\"\n",
    "print cm_df_exercise_c,'\\n'\n",
    "print '\\n'\n",
    "print \"Precision:\",float(cm_exercise_c[1,1])/(cm_exercise_c[0,1]+cm_exercise_c[1,1])\n",
    "print \"Recall:\",float(cm_exercise_c[1,1])/(cm_exercise_c[1,0]+cm_exercise_c[1,1]),'\\n'\n",
    "print \"Accuracy Score: {:.03f}\".format(np.mean(scores_exercise_c))"
   ]
  },
  {
   "cell_type": "code",
   "execution_count": null,
   "metadata": {
    "collapsed": true
   },
   "outputs": [],
   "source": []
  }
 ],
 "metadata": {
  "kernelspec": {
   "display_name": "Python 2",
   "language": "python",
   "name": "python2"
  },
  "language_info": {
   "codemirror_mode": {
    "name": "ipython",
    "version": 2
   },
   "file_extension": ".py",
   "mimetype": "text/x-python",
   "name": "python",
   "nbconvert_exporter": "python",
   "pygments_lexer": "ipython2",
   "version": "2.7.12"
  }
 },
 "nbformat": 4,
 "nbformat_minor": 0
}
