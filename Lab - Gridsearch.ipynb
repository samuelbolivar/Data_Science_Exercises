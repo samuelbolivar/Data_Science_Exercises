{
 "cells": [
  {
   "cell_type": "markdown",
   "metadata": {},
   "source": [
    "# GridSearch\n",
    "\n",
    "In this lab we will try to find the visualise the effect of increasing\n",
    "depth in a decision tree, and then try to create the best possible decision tree.\n"
   ]
  },
  {
   "cell_type": "code",
   "execution_count": 21,
   "metadata": {
    "collapsed": false
   },
   "outputs": [],
   "source": [
    "# Do the usual tasks to load the Titanic data\n",
    "import pandas\n",
    "titanic = pandas.read_csv('../../data/titanic.csv', index_col='PassengerId')\n",
    "titanic['Gender'] = [0 if x == 'male' else 1 for x in titanic.Sex]\n",
    "feature_cols = ['Pclass', 'Parch', 'Age', 'Gender']\n",
    "good_data = titanic[titanic.Age.notnull()]\n",
    "X = good_data[feature_cols]\n",
    "y = good_data.Survived"
   ]
  },
  {
   "cell_type": "code",
   "execution_count": 22,
   "metadata": {
    "collapsed": true
   },
   "outputs": [],
   "source": [
    "# Import the sklearn libraries for grid_search and tree\n",
    "import sklearn.grid_search\n",
    "import sklearn.tree"
   ]
  },
  {
   "cell_type": "code",
   "execution_count": 23,
   "metadata": {
    "collapsed": true
   },
   "outputs": [],
   "source": [
    "# Create a decision tree classifier\n",
    "decisiontree_classifier = sklearn.tree.DecisionTreeClassifier(criterion='gini')"
   ]
  },
  {
   "cell_type": "code",
   "execution_count": 24,
   "metadata": {
    "collapsed": false
   },
   "outputs": [],
   "source": [
    "# Initially, we will just explore the effect of increasing\n",
    "# the max_depth parameter.\n",
    "# Create a dictionary which has a key of 'max_depth' and\n",
    "# a value of the numbers between 1 and 20\n",
    "params = {'max_depth': range(1,21),\n",
    "          }"
   ]
  },
  {
   "cell_type": "code",
   "execution_count": 25,
   "metadata": {
    "collapsed": true
   },
   "outputs": [],
   "source": [
    "# Create a GridSearchCV object. It will need two parameters:\n",
    "# - the decision tree classifier (from two cells back)\n",
    "# - the parameters dictionary (from the previous cell)\n",
    "# There is an optional \"cv\" parameter which you might want\n",
    "# to explore later.\n",
    "Brute_Force = sklearn.grid_search.GridSearchCV(decisiontree_classifier, params)"
   ]
  },
  {
   "cell_type": "code",
   "execution_count": 26,
   "metadata": {
    "collapsed": false
   },
   "outputs": [
    {
     "data": {
      "text/plain": [
       "GridSearchCV(cv=None, error_score='raise',\n",
       "       estimator=DecisionTreeClassifier(class_weight=None, criterion='gini', max_depth=None,\n",
       "            max_features=None, max_leaf_nodes=None, min_samples_leaf=1,\n",
       "            min_samples_split=2, min_weight_fraction_leaf=0.0,\n",
       "            presort=False, random_state=None, splitter='best'),\n",
       "       fit_params={}, iid=True, n_jobs=1,\n",
       "       param_grid={'max_depth': [1, 2, 3, 4, 5, 6, 7, 8, 9, 10, 11, 12, 13, 14, 15, 16, 17, 18, 19, 20]},\n",
       "       pre_dispatch='2*n_jobs', refit=True, scoring=None, verbose=0)"
      ]
     },
     "execution_count": 26,
     "metadata": {},
     "output_type": "execute_result"
    }
   ],
   "source": [
    "# Use the GridSearchCV to fit the X and y data\n",
    "Brute_Force.fit(X, y)"
   ]
  },
  {
   "cell_type": "code",
   "execution_count": 27,
   "metadata": {
    "collapsed": false
   },
   "outputs": [
    {
     "data": {
      "text/plain": [
       "{'max_depth': 2}"
      ]
     },
     "execution_count": 27,
     "metadata": {},
     "output_type": "execute_result"
    }
   ],
   "source": [
    "# What does the best_params_ attribute say?\n",
    "Brute_Force.best_params_"
   ]
  },
  {
   "cell_type": "code",
   "execution_count": 28,
   "metadata": {
    "collapsed": false
   },
   "outputs": [
    {
     "data": {
      "text/plain": [
       "0.79411764705882348"
      ]
     },
     "execution_count": 28,
     "metadata": {},
     "output_type": "execute_result"
    }
   ],
   "source": [
    "# What about the best_score_ attribute?\n",
    "Brute_Force.best_score_"
   ]
  },
  {
   "cell_type": "code",
   "execution_count": 29,
   "metadata": {
    "collapsed": false
   },
   "outputs": [
    {
     "data": {
      "text/plain": [
       "[mean: 0.78011, std: 0.01121, params: {'max_depth': 1},\n",
       " mean: 0.79412, std: 0.01436, params: {'max_depth': 2},\n",
       " mean: 0.77171, std: 0.02918, params: {'max_depth': 3},\n",
       " mean: 0.77451, std: 0.03218, params: {'max_depth': 4},\n",
       " mean: 0.78011, std: 0.02381, params: {'max_depth': 5},\n",
       " mean: 0.79132, std: 0.01000, params: {'max_depth': 6},\n",
       " mean: 0.78431, std: 0.00976, params: {'max_depth': 7},\n",
       " mean: 0.78852, std: 0.01316, params: {'max_depth': 8},\n",
       " mean: 0.78291, std: 0.01690, params: {'max_depth': 9},\n",
       " mean: 0.79132, std: 0.02337, params: {'max_depth': 10},\n",
       " mean: 0.78291, std: 0.02209, params: {'max_depth': 11},\n",
       " mean: 0.78151, std: 0.02015, params: {'max_depth': 12},\n",
       " mean: 0.78571, std: 0.01426, params: {'max_depth': 13},\n",
       " mean: 0.78711, std: 0.01229, params: {'max_depth': 14},\n",
       " mean: 0.78852, std: 0.01034, params: {'max_depth': 15},\n",
       " mean: 0.79132, std: 0.00927, params: {'max_depth': 16},\n",
       " mean: 0.78992, std: 0.01124, params: {'max_depth': 17},\n",
       " mean: 0.79272, std: 0.00730, params: {'max_depth': 18},\n",
       " mean: 0.79272, std: 0.00730, params: {'max_depth': 19},\n",
       " mean: 0.79132, std: 0.00927, params: {'max_depth': 20}]"
      ]
     },
     "execution_count": 29,
     "metadata": {},
     "output_type": "execute_result"
    }
   ],
   "source": [
    "# We can see how this compares with other values.\n",
    "# The grid_scores_ attribute of the GridSearchCV object\n",
    "# is now a list. Print it out\n",
    "\n",
    "Brute_Force.grid_scores_\n",
    "#type(Brute_Force.grid_scores_)"
   ]
  },
  {
   "cell_type": "code",
   "execution_count": 30,
   "metadata": {
    "collapsed": false
   },
   "outputs": [
    {
     "data": {
      "text/plain": [
       "[0.78011204481792717,\n",
       " 0.79411764705882348,\n",
       " 0.77170868347338939,\n",
       " 0.77450980392156865,\n",
       " 0.78011204481792717,\n",
       " 0.79131652661064422,\n",
       " 0.78431372549019607,\n",
       " 0.78851540616246496,\n",
       " 0.78291316526610644,\n",
       " 0.79131652661064422,\n",
       " 0.78291316526610644,\n",
       " 0.78151260504201681,\n",
       " 0.7857142857142857,\n",
       " 0.78711484593837533,\n",
       " 0.78851540616246496,\n",
       " 0.79131652661064422,\n",
       " 0.78991596638655459,\n",
       " 0.79271708683473385,\n",
       " 0.79271708683473385,\n",
       " 0.79131652661064422]"
      ]
     },
     "execution_count": 30,
     "metadata": {},
     "output_type": "execute_result"
    }
   ],
   "source": [
    "# Each element of this list is a 3-tuple. The middle element\n",
    "# is the score. You can use\n",
    "#  [x[1] for result in YOUR_GRID_VARIABLE.grid_scores_]\n",
    "# to display it\n",
    "\n",
    "Brute_Force.grid_scores_[0]\n",
    "grid_mean_scores = [result[1] for result in Brute_Force.grid_scores_]\n",
    "grid_mean_scores"
   ]
  },
  {
   "cell_type": "code",
   "execution_count": 31,
   "metadata": {
    "collapsed": false
   },
   "outputs": [
    {
     "data": {
      "text/plain": [
       "0.79411764705882348"
      ]
     },
     "execution_count": 31,
     "metadata": {},
     "output_type": "execute_result"
    }
   ],
   "source": [
    "# Import matplotlib.pyplot; remember to do %matplotlib inline first\n",
    "%matplotlib inline\n",
    "import matplotlib.pyplot\n",
    "Brute_Force.best_params_['max_depth']\n",
    "Brute_Force.best_score_"
   ]
  },
  {
   "cell_type": "code",
   "execution_count": 32,
   "metadata": {
    "collapsed": false
   },
   "outputs": [
    {
     "data": {
      "text/plain": [
       "[<matplotlib.lines.Line2D at 0x1112dcc10>]"
      ]
     },
     "execution_count": 32,
     "metadata": {},
     "output_type": "execute_result"
    },
    {
     "data": {
      "image/png": "[encoded data removed]",
      "text/plain": [
       "<matplotlib.figure.Figure at 0x116f7ca10>"
      ]
     },
     "metadata": {},
     "output_type": "display_data"
    }
   ],
   "source": [
    "# Use matplotlib.pyplot.plot to plot these grid_scores_\n",
    "# Once you have that working, use pyplot.plot to also add\n",
    "# a marker on the best_score (pass 'ro' as the third argument\n",
    "# to get a red circle on it)\n",
    "\n",
    "depth_range = range(1, 21)\n",
    "matplotlib.pyplot.figure()\n",
    "matplotlib.pyplot.plot(depth_range, grid_mean_scores)\n",
    "matplotlib.pyplot.hold(True)\n",
    "matplotlib.pyplot.grid(True)\n",
    "matplotlib.pyplot.plot(Brute_Force.best_params_['max_depth'], Brute_Force.best_score_, 'ro', markersize=12, markeredgewidth=1.5,\n",
    "         markerfacecolor='None', markeredgecolor='r')"
   ]
  },
  {
   "cell_type": "code",
   "execution_count": 33,
   "metadata": {
    "collapsed": false
   },
   "outputs": [
    {
     "data": {
      "image/png": "[encoded data removed]",
      "text/plain": [
       "<IPython.core.display.Image object>"
      ]
     },
     "execution_count": 33,
     "metadata": {},
     "output_type": "execute_result"
    }
   ],
   "source": [
    "# If you have Graphviz and pydot installed and working,\n",
    "# display the resulting decision tree\n",
    "\n",
    "\n",
    "\n",
    "\n",
    "best_decisiontree_classifier = sklearn.tree.DecisionTreeClassifier(max_depth=Brute_Force.best_params_['max_depth'],\n",
    "                                                                   criterion='gini'\n",
    "                                                                  )\n",
    "best_decisiontree_classifier.fit(X, y)\n",
    "\n",
    "import StringIO\n",
    "import sklearn.tree\n",
    "import IPython.display\n",
    "import pydot\n",
    "\n",
    "File_obj = StringIO.StringIO()\n",
    "sklearn.tree.export_graphviz(best_decisiontree_classifier, out_file=File_obj)\n",
    "Graph = pydot.graph_from_dot_data(File_obj.getvalue())\n",
    "IPython.display.Image(Graph.create_png())"
   ]
  },
  {
   "cell_type": "markdown",
   "metadata": {},
   "source": [
    "## Brute-force every option (optional)"
   ]
  },
  {
   "cell_type": "code",
   "execution_count": 34,
   "metadata": {
    "collapsed": false
   },
   "outputs": [
    {
     "data": {
      "text/plain": [
       "{'criterion': 'gini', 'max_depth': 6, 'max_features': 1}"
      ]
     },
     "execution_count": 34,
     "metadata": {},
     "output_type": "execute_result"
    }
   ],
   "source": [
    "# Create a new GridSearchCV object and a new parameters\n",
    "# dictionary. This time, try all combinations of parameters\n",
    "# max_features (from 1 to 4 inclusive), max_depth (from 1 to 20)\n",
    "# criterion ('gini' or 'entropy').\n",
    "# What is the best decision tree you can make?\n",
    "\n",
    "new_params = {'max_depth': range(1,21),\n",
    "          'criterion': ['gini', 'entropy'],\n",
    "          'max_features': [1,4]\n",
    "         }\n",
    "Brute_Force_two = sklearn.grid_search.GridSearchCV(decisiontree_classifier, new_params)\n",
    "Brute_Force_two.fit(X, y)\n",
    "Brute_Force_two.best_params_"
   ]
  },
  {
   "cell_type": "code",
   "execution_count": null,
   "metadata": {
    "collapsed": true
   },
   "outputs": [],
   "source": []
  }
 ],
 "metadata": {
  "kernelspec": {
   "display_name": "Python 2",
   "language": "python",
   "name": "python2"
  },
  "language_info": {
   "codemirror_mode": {
    "name": "ipython",
    "version": 2
   },
   "file_extension": ".py",
   "mimetype": "text/x-python",
   "name": "python",
   "nbconvert_exporter": "python",
   "pygments_lexer": "ipython2",
   "version": "2.7.12"
  }
 },
 "nbformat": 4,
 "nbformat_minor": 0
}
