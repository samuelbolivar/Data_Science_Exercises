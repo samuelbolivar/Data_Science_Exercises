{
 "cells": [
  {
   "cell_type": "markdown",
   "metadata": {},
   "source": [
    "## First!  Let's make sure we can undersample!\n",
    "\n",
    "https://github.com/glemaitre/UnbalancedDataset\n",
    "\n",
    "** Let's install UnbalancedDataset: **\n",
    "\n",
    "```\n",
    "git clone https://github.com/fmfn/UnbalancedDataset.git\n",
    "cd UnbalancedDataset\n",
    "python setup.py install\n",
    "```\n",
    "\n",
    "#### Then restart kernel\n"
   ]
  },
  {
   "cell_type": "markdown",
   "metadata": {},
   "source": [
    "Data is from: https://archive.ics.uci.edu/ml/datasets/Energy+efficiency\n",
    "\n",
    "From UCI:\n",
    "\n",
    "### Data Set Information:\n",
    "\n",
    "\n",
    "We perform energy analysis using 12 different building shapes simulated in Ecotect. The buildings differ with respect to the glazing area, the glazing area distribution, and the orientation, amongst other parameters. We simulate various settings as functions of the afore-mentioned characteristics to obtain 768 building shapes. The dataset comprises 768 samples and 8 features, aiming to predict two real valued responses. It can also be used as a multi-class classification problem if the response is rounded to the nearest integer.\n",
    "\n",
    "\n",
    "### Attribute Information:\n",
    "\n",
    "The dataset contains eight attributes (or features, denoted by X1...X8) and two responses (or outcomes, denoted by y1 and y2). The aim is to use the eight features to predict each of the two responses. \n",
    "\n",
    "\n",
    "Specifically: \n",
    "- X1\tRelative Compactness \n",
    "- X2\tSurface Area \n",
    "- X3\tWall Area \n",
    "- X4\tRoof Area \n",
    "- X5\tOverall Height \n",
    "- X6\tOrientation \n",
    "- X7\tGlazing Area \n",
    "- X8\tGlazing Area Distribution \n",
    "- y1\tHeating Load \n",
    "- y2\tCooling Load\n",
    "\n",
    "\n",
    "Heating load is heat energy to be put into a heating system via heating apparatus.\n",
    "\n",
    "\n",
    "Cooling load is the amount of heat energy to be removed from a building by the HVAC equipment to maintain the house at indoor design temperature when worst case outdoor design temperature is being experienced.\n",
    "\n",
    "\n",
    "\n",
    "NOTE: For this lab - we will mostly be looking at this as a classification problem - identifying building features that lead to \"high\" heating loads."
   ]
  },
  {
   "cell_type": "code",
   "execution_count": 1,
   "metadata": {
    "collapsed": false
   },
   "outputs": [
    {
     "data": {
      "text/html": [
       "\n",
       "    <div class=\"bk-banner\">\n",
       "        <a href=\"http://bokeh.pydata.org\" target=\"_blank\" class=\"bk-logo bk-logo-small bk-logo-notebook\"></a>\n",
       "        <span id=\"e3248124-a400-4478-98fd-8f48fe299257\">Loading BokehJS ...</span>\n",
       "    </div>"
      ]
     },
     "metadata": {},
     "output_type": "display_data"
    },
    {
     "data": {
      "application/javascript": [
       "\n",
       "(function(global) {\n",
       "  function now() {\n",
       "    return new Date();\n",
       "  }\n",
       "\n",
       "  if (typeof (window._bokeh_onload_callbacks) === \"undefined\") {\n",
       "    window._bokeh_onload_callbacks = [];\n",
       "  }\n",
       "\n",
       "  function run_callbacks() {\n",
       "    window._bokeh_onload_callbacks.forEach(function(callback) { callback() });\n",
       "    delete window._bokeh_onload_callbacks\n",
       "    console.info(\"Bokeh: all callbacks have finished\");\n",
       "  }\n",
       "\n",
       "  function load_libs(js_urls, callback) {\n",
       "    window._bokeh_onload_callbacks.push(callback);\n",
       "    if (window._bokeh_is_loading > 0) {\n",
       "      console.log(\"Bokeh: BokehJS is being loaded, scheduling callback at\", now());\n",
       "      return null;\n",
       "    }\n",
       "    if (js_urls == null || js_urls.length === 0) {\n",
       "      run_callbacks();\n",
       "      return null;\n",
       "    }\n",
       "    console.log(\"Bokeh: BokehJS not loaded, scheduling load and callback at\", now());\n",
       "    window._bokeh_is_loading = js_urls.length;\n",
       "    for (var i = 0; i < js_urls.length; i++) {\n",
       "      var url = js_urls[i];\n",
       "      var s = document.createElement('script');\n",
       "      s.src = url;\n",
       "      s.async = false;\n",
       "      s.onreadystatechange = s.onload = function() {\n",
       "        window._bokeh_is_loading--;\n",
       "        if (window._bokeh_is_loading === 0) {\n",
       "          console.log(\"Bokeh: all BokehJS libraries loaded\");\n",
       "          run_callbacks()\n",
       "        }\n",
       "      };\n",
       "      s.onerror = function() {\n",
       "        console.warn(\"failed to load library \" + url);\n",
       "      };\n",
       "      console.log(\"Bokeh: injecting script tag for BokehJS library: \", url);\n",
       "      document.getElementsByTagName(\"head\")[0].appendChild(s);\n",
       "    }\n",
       "  };\n",
       "\n",
       "  var js_urls = ['https://cdn.pydata.org/bokeh/release/bokeh-0.11.1.min.js', 'https://cdn.pydata.org/bokeh/release/bokeh-widgets-0.11.1.min.js', 'https://cdn.pydata.org/bokeh/release/bokeh-compiler-0.11.1.min.js'];\n",
       "\n",
       "  var inline_js = [\n",
       "    function(Bokeh) {\n",
       "      Bokeh.set_log_level(\"info\");\n",
       "    },\n",
       "    \n",
       "    function(Bokeh) {\n",
       "      Bokeh.$(\"#e3248124-a400-4478-98fd-8f48fe299257\").text(\"BokehJS successfully loaded\");\n",
       "    },\n",
       "    function(Bokeh) {\n",
       "      console.log(\"Bokeh: injecting CSS: https://cdn.pydata.org/bokeh/release/bokeh-0.11.1.min.css\");\n",
       "      Bokeh.embed.inject_css(\"https://cdn.pydata.org/bokeh/release/bokeh-0.11.1.min.css\");\n",
       "      console.log(\"Bokeh: injecting CSS: https://cdn.pydata.org/bokeh/release/bokeh-widgets-0.11.1.min.css\");\n",
       "      Bokeh.embed.inject_css(\"https://cdn.pydata.org/bokeh/release/bokeh-widgets-0.11.1.min.css\");\n",
       "    }\n",
       "  ];\n",
       "\n",
       "  function run_inline_js() {\n",
       "    for (var i = 0; i < inline_js.length; i++) {\n",
       "      inline_js[i](window.Bokeh);\n",
       "    }\n",
       "  }\n",
       "\n",
       "  if (window._bokeh_is_loading === 0) {\n",
       "    console.log(\"Bokeh: BokehJS loaded, going straight to plotting\");\n",
       "    run_inline_js();\n",
       "  } else {\n",
       "    load_libs(js_urls, function() {\n",
       "      console.log(\"Bokeh: BokehJS plotting callback run at\", now());\n",
       "      run_inline_js();\n",
       "    });\n",
       "  }\n",
       "}(this));"
      ]
     },
     "metadata": {},
     "output_type": "display_data"
    }
   ],
   "source": [
    "import pandas as pd, numpy as np\n",
    "\n",
    "from sklearn.metrics import roc_curve\n",
    "from sklearn.metrics import auc\n",
    "\n",
    "from sklearn.linear_model import LogisticRegression\n",
    "from sklearn.metrics import classification_report,confusion_matrix\n",
    "from sklearn.cross_validation import ShuffleSplit\n",
    "from sklearn.cross_validation import cross_val_score\n",
    "from sklearn.cross_validation import train_test_split \n",
    "from sklearn.neighbors import KNeighborsClassifier\n",
    "\n",
    "#from unbalanced_dataset import UnderSampler, OverSampler, SMOTE\n",
    "#import unblanaced_dataset\n",
    "import imblearn\n",
    "\n",
    "from bokeh.plotting import figure,show,output_notebook\n",
    "from bokeh.models import Range1d\n",
    "output_notebook()\n",
    "\n",
    "import seaborn as sns\n",
    "\n",
    "%matplotlib inline"
   ]
  },
  {
   "cell_type": "code",
   "execution_count": 2,
   "metadata": {
    "collapsed": false
   },
   "outputs": [],
   "source": [
    "sns.set_style(\"darkgrid\")"
   ]
  },
  {
   "cell_type": "code",
   "execution_count": 3,
   "metadata": {
    "collapsed": false
   },
   "outputs": [
    {
     "name": "stdout",
     "output_type": "stream",
     "text": [
      "<class 'pandas.core.frame.DataFrame'>\n",
      "RangeIndex: 768 entries, 0 to 767\n",
      "Data columns (total 10 columns):\n",
      "rel_compact          768 non-null float64\n",
      "surface              768 non-null float64\n",
      "wall                 768 non-null float64\n",
      "roof                 768 non-null float64\n",
      "height               768 non-null float64\n",
      "orientation          768 non-null int64\n",
      "glazing_area         768 non-null float64\n",
      "glazing_area_dist    768 non-null int64\n",
      "heating_load         768 non-null float64\n",
      "cooling_load         768 non-null float64\n",
      "dtypes: float64(8), int64(2)\n",
      "memory usage: 60.1 KB\n"
     ]
    }
   ],
   "source": [
    "en = pd.read_csv('../data/ENB2012_data.csv',header=0)\n",
    "en.info()"
   ]
  },
  {
   "cell_type": "code",
   "execution_count": 5,
   "metadata": {
    "collapsed": false
   },
   "outputs": [
    {
     "data": {
      "text/html": [
       "<div>\n",
       "<table border=\"1\" class=\"dataframe\">\n",
       "  <thead>\n",
       "    <tr style=\"text-align: right;\">\n",
       "      <th></th>\n",
       "      <th>count</th>\n",
       "      <th>mean</th>\n",
       "      <th>std</th>\n",
       "      <th>min</th>\n",
       "      <th>25%</th>\n",
       "      <th>50%</th>\n",
       "      <th>75%</th>\n",
       "      <th>max</th>\n",
       "    </tr>\n",
       "  </thead>\n",
       "  <tbody>\n",
       "    <tr>\n",
       "      <th>heating_load</th>\n",
       "      <td>768.0</td>\n",
       "      <td>22.290365</td>\n",
       "      <td>10.113325</td>\n",
       "      <td>6.0</td>\n",
       "      <td>13.0</td>\n",
       "      <td>19.0</td>\n",
       "      <td>32.0</td>\n",
       "      <td>43.0</td>\n",
       "    </tr>\n",
       "    <tr>\n",
       "      <th>cooling_load</th>\n",
       "      <td>768.0</td>\n",
       "      <td>24.579427</td>\n",
       "      <td>9.520797</td>\n",
       "      <td>11.0</td>\n",
       "      <td>16.0</td>\n",
       "      <td>22.0</td>\n",
       "      <td>33.0</td>\n",
       "      <td>48.0</td>\n",
       "    </tr>\n",
       "  </tbody>\n",
       "</table>\n",
       "</div>"
      ],
      "text/plain": [
       "              count       mean        std   min   25%   50%   75%   max\n",
       "heating_load  768.0  22.290365  10.113325   6.0  13.0  19.0  32.0  43.0\n",
       "cooling_load  768.0  24.579427   9.520797  11.0  16.0  22.0  33.0  48.0"
      ]
     },
     "execution_count": 5,
     "metadata": {},
     "output_type": "execute_result"
    }
   ],
   "source": [
    "en[['heating_load','cooling_load']].describe().T"
   ]
  },
  {
   "cell_type": "code",
   "execution_count": 6,
   "metadata": {
    "collapsed": false
   },
   "outputs": [
    {
     "data": {
      "text/plain": [
       "<matplotlib.axes._subplots.AxesSubplot at 0x117e9b650>"
      ]
     },
     "execution_count": 6,
     "metadata": {},
     "output_type": "execute_result"
    },
    {
     "data": {
      "image/png": "[encoded data removed]",
      "text/plain": [
       "<matplotlib.figure.Figure at 0x117dd1610>"
      ]
     },
     "metadata": {},
     "output_type": "display_data"
    }
   ],
   "source": [
    "en.heating_load.plot(kind='box', figsize=(10,5))"
   ]
  },
  {
   "cell_type": "markdown",
   "metadata": {},
   "source": [
    "## Exercise !\n",
    "\n",
    "Say we wanted to predict whether or not a building has a high heating load (>= 40). We would then create a new feature where heating_load is greater than or equal to 40:\n",
    "\n",
    "*_You can create new feautres by referencing a new key in your dataframe for this exercize._\n"
   ]
  },
  {
   "cell_type": "code",
   "execution_count": 7,
   "metadata": {
    "collapsed": false
   },
   "outputs": [],
   "source": [
    "## This is important to reference later so we can use it as a threshold\n",
    "# Solution here:\n",
    "\n",
    "en['high_heat'] = en.heating_load >= 40"
   ]
  },
  {
   "cell_type": "markdown",
   "metadata": {},
   "source": [
    "How does our data set look now in terms of this target label:"
   ]
  },
  {
   "cell_type": "code",
   "execution_count": 42,
   "metadata": {
    "collapsed": false
   },
   "outputs": [
    {
     "name": "stdout",
     "output_type": "stream",
     "text": [
      "Mean value: 0.060\n",
      "\n",
      "Value Counts: \n"
     ]
    },
    {
     "data": {
      "text/plain": [
       "False    722\n",
       "True      46\n",
       "Name: high_heat, dtype: int64"
      ]
     },
     "execution_count": 42,
     "metadata": {},
     "output_type": "execute_result"
    }
   ],
   "source": [
    "print \"Mean value: {:.03f}\".format(en['high_heat'].mean())\n",
    "print \"\\nValue Counts: \"\n",
    "\n",
    "en.high_heat.value_counts()"
   ]
  },
  {
   "cell_type": "markdown",
   "metadata": {},
   "source": [
    "Let's classify! We'll use K nearest neighbors to see how well we do :D"
   ]
  },
  {
   "cell_type": "markdown",
   "metadata": {},
   "source": [
    "## Exercise !\n",
    "\n",
    "Build a KNN model with 5 neighbors, then check out the cross validation score."
   ]
  },
  {
   "cell_type": "code",
   "execution_count": 12,
   "metadata": {
    "collapsed": false
   },
   "outputs": [
    {
     "name": "stdout",
     "output_type": "stream",
     "text": [
      "Crossvalidated KNN Model, Simple Accuracy: 0.978\n"
     ]
    }
   ],
   "source": [
    "# Use this data\n",
    "data = en.iloc[:,:-2]\n",
    "labels = en['high_heat']\n",
    "\n",
    "model_knn = KNeighborsClassifier(5)\n",
    "scores = cross_val_score(model_knn, data, labels, cv=5)\n",
    "print \"Crossvalidated KNN Model, Simple Accuracy: {:.03f}\".format(np.mean(scores))"
   ]
  },
  {
   "cell_type": "markdown",
   "metadata": {},
   "source": [
    "Hooray! 97% is great right? Well, the leading question might be giving the game away here: 97% is a good overall score but if our goal is to properly predict a High Heating Load building, then we'll need a bit more info. In classification, a confusion matrix is a way of showing finer detail of our classifier performance.\n",
    "\n",
    "To get a confusion matrix, we need to look at only a single train/test split. So lets do that: "
   ]
  },
  {
   "cell_type": "code",
   "execution_count": 16,
   "metadata": {
    "collapsed": true
   },
   "outputs": [],
   "source": [
    "data = en.iloc[:,:-3]\n",
    "labels = en['high_heat']\n",
    "\n",
    "X_train, X_test, Y_train, Y_test = train_test_split(data, labels, test_size=0.2, random_state=1)  \n",
    "\n",
    "# Build the classifier and get the predictions\n",
    "model_knn = KNeighborsClassifier(5)\n",
    "\n",
    "model_knn.fit(X_train, Y_train)  \n",
    "predictions = model_knn.predict(X_test)"
   ]
  },
  {
   "cell_type": "markdown",
   "metadata": {},
   "source": [
    "### Confusion Matrix\n",
    "The confusion matrix shows the predicted values along the columns and the actual values along the rows. \n",
    "\n",
    "\n",
    "Sklearn defaults to alphabetical order so the Columns would read `False, True` as would our rows. These yield our **False Positives** (here we have 1 data point where we said the data point was `True` and it was `False`) and our **False Negatives** (6 predicted `False` but actually `True`). Our **True Positives** = 9.\n",
    "Illustrated more cleanly:"
   ]
  },
  {
   "cell_type": "code",
   "execution_count": 17,
   "metadata": {
    "collapsed": false
   },
   "outputs": [
    {
     "name": "stdout",
     "output_type": "stream",
     "text": [
      "[[141   4]\n",
      " [  2   7]]\n"
     ]
    }
   ],
   "source": [
    "cm = confusion_matrix(Y_test,predictions)\n",
    "print cm"
   ]
  },
  {
   "cell_type": "code",
   "execution_count": 19,
   "metadata": {
    "collapsed": false
   },
   "outputs": [
    {
     "data": {
      "text/html": [
       "<div>\n",
       "<table border=\"1\" class=\"dataframe\">\n",
       "  <thead>\n",
       "    <tr style=\"text-align: right;\">\n",
       "      <th></th>\n",
       "      <th>Actual Class 0</th>\n",
       "      <th>Actual Class 1</th>\n",
       "    </tr>\n",
       "  </thead>\n",
       "  <tbody>\n",
       "    <tr>\n",
       "      <th>Predicted Class 0</th>\n",
       "      <td>141</td>\n",
       "      <td>4</td>\n",
       "    </tr>\n",
       "    <tr>\n",
       "      <th>Predicted Class 1</th>\n",
       "      <td>2</td>\n",
       "      <td>7</td>\n",
       "    </tr>\n",
       "  </tbody>\n",
       "</table>\n",
       "</div>"
      ],
      "text/plain": [
       "                   Actual Class 0  Actual Class 1\n",
       "Predicted Class 0             141               4\n",
       "Predicted Class 1               2               7"
      ]
     },
     "execution_count": 19,
     "metadata": {},
     "output_type": "execute_result"
    }
   ],
   "source": [
    "#lets make that easier to read\n",
    "cm_df = pd.DataFrame(cm, index=['Predicted Class 0', 'Predicted Class 1'], \n",
    "                     columns=['Actual Class 0', 'Actual Class 1'])\n",
    "\n",
    "cm_df"
   ]
  },
  {
   "cell_type": "markdown",
   "metadata": {},
   "source": [
    "## Exercise !\n",
    "\n",
    "To get a sense about how different settings and models perform."
   ]
  },
  {
   "cell_type": "code",
   "execution_count": 20,
   "metadata": {
    "collapsed": false
   },
   "outputs": [
    {
     "name": "stdout",
     "output_type": "stream",
     "text": [
      "Crossvalidated KNN Model, Simple Accuracy: 0.986\n"
     ]
    }
   ],
   "source": [
    "# How does our matrix change if we change the headload threashold to .2?\n",
    "en['high_heat'] = en.heating_load >= 20\n",
    "\n",
    "data = en.iloc[:,:-2]\n",
    "labels = en['high_heat']\n",
    "\n",
    "model_knn = KNeighborsClassifier(5)\n",
    "scores = cross_val_score(model_knn, data, labels, cv=5)\n",
    "print \"Crossvalidated KNN Model, Simple Accuracy: {:.03f}\".format(np.mean(scores))"
   ]
  },
  {
   "cell_type": "code",
   "execution_count": 21,
   "metadata": {
    "collapsed": false
   },
   "outputs": [
    {
     "name": "stdout",
     "output_type": "stream",
     "text": [
      "[[141   4]\n",
      " [  2   7]]\n"
     ]
    },
    {
     "data": {
      "text/html": [
       "<div>\n",
       "<table border=\"1\" class=\"dataframe\">\n",
       "  <thead>\n",
       "    <tr style=\"text-align: right;\">\n",
       "      <th></th>\n",
       "      <th>Actual Class 0</th>\n",
       "      <th>Actual Class 1</th>\n",
       "    </tr>\n",
       "  </thead>\n",
       "  <tbody>\n",
       "    <tr>\n",
       "      <th>Predicted Class 0</th>\n",
       "      <td>141</td>\n",
       "      <td>4</td>\n",
       "    </tr>\n",
       "    <tr>\n",
       "      <th>Predicted Class 1</th>\n",
       "      <td>2</td>\n",
       "      <td>7</td>\n",
       "    </tr>\n",
       "  </tbody>\n",
       "</table>\n",
       "</div>"
      ],
      "text/plain": [
       "                   Actual Class 0  Actual Class 1\n",
       "Predicted Class 0             141               4\n",
       "Predicted Class 1               2               7"
      ]
     },
     "execution_count": 21,
     "metadata": {},
     "output_type": "execute_result"
    }
   ],
   "source": [
    "cm = confusion_matrix(Y_test,predictions)\n",
    "print cm\n",
    "cm_df = pd.DataFrame(cm, index=['Predicted Class 0', 'Predicted Class 1'], \n",
    "                     columns=['Actual Class 0', 'Actual Class 1'])\n",
    "\n",
    "cm_df\n",
    "\n",
    "# It doesn't change that much does it?  Because the parameters of the model may have more impact than changing the \n",
    "# threashold of our target.  Let's find out."
   ]
  },
  {
   "cell_type": "code",
   "execution_count": 22,
   "metadata": {
    "collapsed": false
   },
   "outputs": [
    {
     "name": "stdout",
     "output_type": "stream",
     "text": [
      "Crossvalidated KNN Model, Simple Accuracy: 0.978\n"
     ]
    },
    {
     "data": {
      "text/html": [
       "<div>\n",
       "<table border=\"1\" class=\"dataframe\">\n",
       "  <thead>\n",
       "    <tr style=\"text-align: right;\">\n",
       "      <th></th>\n",
       "      <th>Actual Class 0</th>\n",
       "      <th>Actual Class 1</th>\n",
       "    </tr>\n",
       "  </thead>\n",
       "  <tbody>\n",
       "    <tr>\n",
       "      <th>Predicted Class 0</th>\n",
       "      <td>141</td>\n",
       "      <td>4</td>\n",
       "    </tr>\n",
       "    <tr>\n",
       "      <th>Predicted Class 1</th>\n",
       "      <td>0</td>\n",
       "      <td>9</td>\n",
       "    </tr>\n",
       "  </tbody>\n",
       "</table>\n",
       "</div>"
      ],
      "text/plain": [
       "                   Actual Class 0  Actual Class 1\n",
       "Predicted Class 0             141               4\n",
       "Predicted Class 1               0               9"
      ]
     },
     "execution_count": 22,
     "metadata": {},
     "output_type": "execute_result"
    }
   ],
   "source": [
    "# How does our matrix change if we change the number of neighbors on out of sample data?  We should test with cross / train split.\n",
    "en['high_heat'] = en.heating_load >= 40\n",
    "\n",
    "data = en.iloc[:,:-2]\n",
    "labels = en['high_heat']\n",
    "\n",
    "X_train, X_test, Y_train, Y_test = train_test_split(data, labels, test_size=0.2, random_state=1)  \n",
    "\n",
    "model_knn = KNeighborsClassifier(10) # See what happens when you run with 5, 10, 20, 30, 40 -- this has an impact on True Positives and False Negatives as you add more neighbors.\n",
    "model_knn.fit(X_train, Y_train)  \n",
    "predictions = model_knn.predict(X_test)\n",
    "\n",
    "scores = cross_val_score(model_knn, data, labels, cv=5)\n",
    "print \"Crossvalidated KNN Model, Simple Accuracy: {:.03f}\".format(np.mean(scores))\n",
    "\n",
    "cm = confusion_matrix(Y_test,predictions)\n",
    "cm_df = pd.DataFrame(cm, index=['Predicted Class 0', 'Predicted Class 1'], \n",
    "                     columns=['Actual Class 0', 'Actual Class 1'])\n",
    "\n",
    "cm_df\n"
   ]
  },
  {
   "cell_type": "code",
   "execution_count": 23,
   "metadata": {
    "collapsed": false
   },
   "outputs": [
    {
     "data": {
      "text/html": [
       "<div>\n",
       "<table border=\"1\" class=\"dataframe\">\n",
       "  <thead>\n",
       "    <tr style=\"text-align: right;\">\n",
       "      <th></th>\n",
       "      <th>Actual Class 0</th>\n",
       "      <th>Actual Class 1</th>\n",
       "    </tr>\n",
       "  </thead>\n",
       "  <tbody>\n",
       "    <tr>\n",
       "      <th>Predicted Class 0</th>\n",
       "      <td>142</td>\n",
       "      <td>3</td>\n",
       "    </tr>\n",
       "    <tr>\n",
       "      <th>Predicted Class 1</th>\n",
       "      <td>0</td>\n",
       "      <td>9</td>\n",
       "    </tr>\n",
       "  </tbody>\n",
       "</table>\n",
       "</div>"
      ],
      "text/plain": [
       "                   Actual Class 0  Actual Class 1\n",
       "Predicted Class 0             142               3\n",
       "Predicted Class 1               0               9"
      ]
     },
     "execution_count": 23,
     "metadata": {},
     "output_type": "execute_result"
    }
   ],
   "source": [
    "# How does our matrix score change if we use a different classifier like logistic regression?\n",
    "\n",
    "model_lr = LogisticRegression(C=1)\n",
    "\n",
    "model_lr.fit(X_train, Y_train) # reusing from last cell\n",
    "predictions = model_lr.predict(X_test)\n",
    "\n",
    "cm = confusion_matrix(Y_test,predictions)\n",
    "cm_df = pd.DataFrame(cm, index=['Predicted Class 0', 'Predicted Class 1'], \n",
    "                     columns=['Actual Class 0', 'Actual Class 1'])\n",
    "\n",
    "cm_df"
   ]
  },
  {
   "cell_type": "markdown",
   "metadata": {},
   "source": [
    "How are these results? Are they good?  What could be the problem?  Let's make our evaluation easier to look at."
   ]
  },
  {
   "cell_type": "markdown",
   "metadata": {},
   "source": [
    "# ROC (Receiver Operator Characteristic) Plots\n",
    "The ROC curve illustrates the performance of a binary classifier system as its discrimination threshold is varied. We use ROC to compare models using the Area Under Curve (AUC) statistic. Generally, 1 is a perfect model and < 0.5 is worse than guessing. Remember for logistic regression, our probability function looks like:"
   ]
  },
  {
   "cell_type": "code",
   "execution_count": 25,
   "metadata": {
    "collapsed": false
   },
   "outputs": [],
   "source": [
    "def plot_roc_curve(target_test, target_predicted_proba):\n",
    "    fpr, tpr, thresholds = roc_curve(target_test, target_predicted_proba[:, 1])\n",
    "    \n",
    "    roc_auc = auc(fpr, tpr)\n",
    "    \n",
    "    p = figure(title='Receiver Operating Characteristic')\n",
    "    # Plot ROC curve\n",
    "    p.line(x=fpr,y=tpr,legend='ROC curve (area = %0.3f)' % roc_auc)\n",
    "    p.x_range=Range1d(0,1)\n",
    "    p.y_range=Range1d(0,1)\n",
    "    p.xaxis.axis_label='False Positive Rate or (1 - Specifity)'\n",
    "    p.yaxis.axis_label='True Positive Rate or (Sensitivity)'\n",
    "    p.legend.orientation = \"bottom_right\"\n",
    "    show(p)\n",
    "    \n",
    "%matplotlib inline"
   ]
  },
  {
   "cell_type": "code",
   "execution_count": 27,
   "metadata": {
    "collapsed": false
   },
   "outputs": [],
   "source": [
    "# Let's reset our data\n",
    "en = pd.read_csv('../data/ENB2012_data.csv',header=0)\n",
    "\n",
    "# Set a target\n",
    "en['high_heat'] = en.heating_load >= 40\n",
    "\n",
    "# Set the labels for training\n",
    "label = en['high_heat']\n",
    "\n",
    "# remove extranious features\n",
    "data = en.drop(['heating_load','cooling_load','high_heat'], axis=1)\n",
    "\n",
    "# Split our data into train and test splits\n",
    "train_feat, test_feat, train_target, test_target = train_test_split(data, label, train_size=0.3)"
   ]
  },
  {
   "cell_type": "code",
   "execution_count": 28,
   "metadata": {
    "collapsed": false
   },
   "outputs": [],
   "source": [
    "model_lr = LogisticRegression(C=1).fit(train_feat, train_target)\n",
    "target_predicted_proba = model_lr.predict_proba(test_feat)"
   ]
  },
  {
   "cell_type": "code",
   "execution_count": 29,
   "metadata": {
    "collapsed": false
   },
   "outputs": [
    {
     "name": "stderr",
     "output_type": "stream",
     "text": [
      "/Users/samuelbolivar/anaconda/lib/python2.7/site-packages/bokeh/core/properties.py:714: BokehDeprecationWarning: bokeh.models.annotations.orientation was deprecated in Bokeh 0.11; please use Legend.location instead\n",
      "  super(HasProps, self).__setattr__(name, value)\n"
     ]
    },
    {
     "data": {
      "text/html": [
       "\n",
       "\n",
       "    <div class=\"plotdiv\" id=\"11e52ce6-1aec-4b78-b97c-38848f50feed\"></div>\n",
       "<script type=\"text/javascript\">\n",
       "  \n",
       "  (function(global) {\n",
       "    function now() {\n",
       "      return new Date();\n",
       "    }\n",
       "  \n",
       "    if (typeof (window._bokeh_onload_callbacks) === \"undefined\") {\n",
       "      window._bokeh_onload_callbacks = [];\n",
       "    }\n",
       "  \n",
       "    function run_callbacks() {\n",
       "      window._bokeh_onload_callbacks.forEach(function(callback) { callback() });\n",
       "      delete window._bokeh_onload_callbacks\n",
       "      console.info(\"Bokeh: all callbacks have finished\");\n",
       "    }\n",
       "  \n",
       "    function load_libs(js_urls, callback) {\n",
       "      window._bokeh_onload_callbacks.push(callback);\n",
       "      if (window._bokeh_is_loading > 0) {\n",
       "        console.log(\"Bokeh: BokehJS is being loaded, scheduling callback at\", now());\n",
       "        return null;\n",
       "      }\n",
       "      if (js_urls == null || js_urls.length === 0) {\n",
       "        run_callbacks();\n",
       "        return null;\n",
       "      }\n",
       "      console.log(\"Bokeh: BokehJS not loaded, scheduling load and callback at\", now());\n",
       "      window._bokeh_is_loading = js_urls.length;\n",
       "      for (var i = 0; i < js_urls.length; i++) {\n",
       "        var url = js_urls[i];\n",
       "        var s = document.createElement('script');\n",
       "        s.src = url;\n",
       "        s.async = false;\n",
       "        s.onreadystatechange = s.onload = function() {\n",
       "          window._bokeh_is_loading--;\n",
       "          if (window._bokeh_is_loading === 0) {\n",
       "            console.log(\"Bokeh: all BokehJS libraries loaded\");\n",
       "            run_callbacks()\n",
       "          }\n",
       "        };\n",
       "        s.onerror = function() {\n",
       "          console.warn(\"failed to load library \" + url);\n",
       "        };\n",
       "        console.log(\"Bokeh: injecting script tag for BokehJS library: \", url);\n",
       "        document.getElementsByTagName(\"head\")[0].appendChild(s);\n",
       "      }\n",
       "    };var element = document.getElementById(\"11e52ce6-1aec-4b78-b97c-38848f50feed\");\n",
       "    if (element == null) {\n",
       "      console.log(\"Bokeh: ERROR: autoload.js configured with elementid '11e52ce6-1aec-4b78-b97c-38848f50feed' but no matching script tag was found. \")\n",
       "      return false;\n",
       "    }\n",
       "  \n",
       "    var js_urls = [];\n",
       "  \n",
       "    var inline_js = [\n",
       "      function(Bokeh) {\n",
       "        Bokeh.$(function() {\n",
       "            var docs_json = {\"e90d3bf0-5255-4cef-83cd-b4167cdb03c3\":{\"roots\":{\"references\":[{\"attributes\":{\"callback\":null},\"id\":\"e4703615-a96c-4adc-92db-2dccc8824a95\",\"type\":\"Range1d\"},{\"attributes\":{\"plot\":{\"id\":\"cb24875d-c590-4471-8f71-2f6594800f6d\",\"subtype\":\"Figure\",\"type\":\"Plot\"},\"ticker\":{\"id\":\"32a4e5de-0d9f-4617-bb6c-ad2119003c7a\",\"type\":\"BasicTicker\"}},\"id\":\"4dd03fd5-95eb-41c4-86ec-56d7dd84030f\",\"type\":\"Grid\"},{\"attributes\":{\"plot\":{\"id\":\"cb24875d-c590-4471-8f71-2f6594800f6d\",\"subtype\":\"Figure\",\"type\":\"Plot\"}},\"id\":\"a93667ea-7cc6-4628-806d-3261e4623dd6\",\"type\":\"ResetTool\"},{\"attributes\":{\"callback\":null,\"column_names\":[\"y\",\"x\"],\"data\":{\"x\":[0.0,0.0,0.0019880715705765406,0.0019880715705765406,0.007952286282306162,0.007952286282306162,0.019880715705765408,0.019880715705765408,0.02982107355864811,0.02982107355864811,0.1848906560636183,0.1848906560636183,0.19681908548707752,0.19681908548707752,0.20675944333996024,0.20675944333996024,0.20874751491053678,0.20874751491053678,0.21669980119284293,0.21669980119284293,0.22266401590457258,0.22266401590457258,0.2286282306163022,0.2286282306163022,0.23658051689860835,0.23658051689860835,0.24055666003976142,0.24055666003976142,0.2485089463220676,0.2485089463220676,0.2544731610337972,0.2544731610337972,0.25646123260437376,0.25646123260437376,0.2584493041749503,0.2584493041749503,0.268389662027833,0.268389662027833,0.27236580516898606,0.27236580516898606,0.27435387673956263,0.27435387673956263,0.28429423459244535,0.28429423459244535,1.0],\"y\":[0.02857142857142857,0.11428571428571428,0.11428571428571428,0.14285714285714285,0.14285714285714285,0.17142857142857143,0.17142857142857143,0.2,0.2,0.22857142857142856,0.22857142857142856,0.2571428571428571,0.2571428571428571,0.2857142857142857,0.2857142857142857,0.3142857142857143,0.3142857142857143,0.34285714285714286,0.34285714285714286,0.4,0.4,0.42857142857142855,0.42857142857142855,0.5142857142857142,0.5142857142857142,0.6,0.6,0.6571428571428571,0.6571428571428571,0.7428571428571429,0.7428571428571429,0.8,0.8,0.8285714285714286,0.8285714285714286,0.8571428571428571,0.8571428571428571,0.8857142857142857,0.8857142857142857,0.9142857142857143,0.9142857142857143,0.9428571428571428,0.9428571428571428,1.0,1.0]}},\"id\":\"db40e9b8-89c3-4f45-9013-a12188e7c7f6\",\"type\":\"ColumnDataSource\"},{\"attributes\":{\"axis_label\":\"True Positive Rate or (Sensitivity)\",\"formatter\":{\"id\":\"ed1ad1e0-0cfd-4a18-94ba-2e8e30412c71\",\"type\":\"BasicTickFormatter\"},\"plot\":{\"id\":\"cb24875d-c590-4471-8f71-2f6594800f6d\",\"subtype\":\"Figure\",\"type\":\"Plot\"},\"ticker\":{\"id\":\"ec5e4cd1-741f-434a-97c5-39721ce5f2b4\",\"type\":\"BasicTicker\"}},\"id\":\"8790a981-9ab1-4fcc-9ec8-961f53e79f47\",\"type\":\"LinearAxis\"},{\"attributes\":{\"overlay\":{\"id\":\"e2144061-aef6-47a8-9435-bb009b121553\",\"type\":\"BoxAnnotation\"},\"plot\":{\"id\":\"cb24875d-c590-4471-8f71-2f6594800f6d\",\"subtype\":\"Figure\",\"type\":\"Plot\"}},\"id\":\"9dc8dc12-ab6b-474e-bce3-1c3c56fcef71\",\"type\":\"BoxZoomTool\"},{\"attributes\":{},\"id\":\"ec5e4cd1-741f-434a-97c5-39721ce5f2b4\",\"type\":\"BasicTicker\"},{\"attributes\":{\"plot\":{\"id\":\"cb24875d-c590-4471-8f71-2f6594800f6d\",\"subtype\":\"Figure\",\"type\":\"Plot\"}},\"id\":\"ece08e04-1c35-4458-ab3e-d0b0f0914d29\",\"type\":\"WheelZoomTool\"},{\"attributes\":{\"dimension\":1,\"plot\":{\"id\":\"cb24875d-c590-4471-8f71-2f6594800f6d\",\"subtype\":\"Figure\",\"type\":\"Plot\"},\"ticker\":{\"id\":\"ec5e4cd1-741f-434a-97c5-39721ce5f2b4\",\"type\":\"BasicTicker\"}},\"id\":\"52cf12a1-6729-441f-a866-35d38c24f55d\",\"type\":\"Grid\"},{\"attributes\":{\"data_source\":{\"id\":\"db40e9b8-89c3-4f45-9013-a12188e7c7f6\",\"type\":\"ColumnDataSource\"},\"glyph\":{\"id\":\"2194da08-9699-48f3-8da3-3408e97d3698\",\"type\":\"Line\"},\"hover_glyph\":null,\"nonselection_glyph\":{\"id\":\"c0229a62-7aad-4989-8cdf-63b965414384\",\"type\":\"Line\"},\"selection_glyph\":null},\"id\":\"56e0b14b-0af2-4340-97a5-89fda049f7ad\",\"type\":\"GlyphRenderer\"},{\"attributes\":{\"plot\":{\"id\":\"cb24875d-c590-4471-8f71-2f6594800f6d\",\"subtype\":\"Figure\",\"type\":\"Plot\"}},\"id\":\"0a6a435c-ba24-469c-a89b-1f88993958c7\",\"type\":\"HelpTool\"},{\"attributes\":{},\"id\":\"ed1ad1e0-0cfd-4a18-94ba-2e8e30412c71\",\"type\":\"BasicTickFormatter\"},{\"attributes\":{\"axis_label\":\"False Positive Rate or (1 - Specifity)\",\"formatter\":{\"id\":\"d1113b19-0890-4c06-951b-a227eccc0882\",\"type\":\"BasicTickFormatter\"},\"plot\":{\"id\":\"cb24875d-c590-4471-8f71-2f6594800f6d\",\"subtype\":\"Figure\",\"type\":\"Plot\"},\"ticker\":{\"id\":\"32a4e5de-0d9f-4617-bb6c-ad2119003c7a\",\"type\":\"BasicTicker\"}},\"id\":\"a85117df-0359-412d-bc23-7e373161e223\",\"type\":\"LinearAxis\"},{\"attributes\":{\"below\":[{\"id\":\"a85117df-0359-412d-bc23-7e373161e223\",\"type\":\"LinearAxis\"}],\"left\":[{\"id\":\"8790a981-9ab1-4fcc-9ec8-961f53e79f47\",\"type\":\"LinearAxis\"}],\"renderers\":[{\"id\":\"a85117df-0359-412d-bc23-7e373161e223\",\"type\":\"LinearAxis\"},{\"id\":\"4dd03fd5-95eb-41c4-86ec-56d7dd84030f\",\"type\":\"Grid\"},{\"id\":\"8790a981-9ab1-4fcc-9ec8-961f53e79f47\",\"type\":\"LinearAxis\"},{\"id\":\"52cf12a1-6729-441f-a866-35d38c24f55d\",\"type\":\"Grid\"},{\"id\":\"e2144061-aef6-47a8-9435-bb009b121553\",\"type\":\"BoxAnnotation\"},{\"id\":\"4a917e18-3d07-4f01-bdea-a4521cabf04b\",\"type\":\"Legend\"},{\"id\":\"56e0b14b-0af2-4340-97a5-89fda049f7ad\",\"type\":\"GlyphRenderer\"}],\"title\":\"Receiver Operating Characteristic\",\"tool_events\":{\"id\":\"e0733b0d-246f-45d2-93b6-e156e1c7a450\",\"type\":\"ToolEvents\"},\"tools\":[{\"id\":\"5bcb6ce7-234e-4c0f-a25d-a2dfc53762bd\",\"type\":\"PanTool\"},{\"id\":\"ece08e04-1c35-4458-ab3e-d0b0f0914d29\",\"type\":\"WheelZoomTool\"},{\"id\":\"9dc8dc12-ab6b-474e-bce3-1c3c56fcef71\",\"type\":\"BoxZoomTool\"},{\"id\":\"7b9294f4-ad34-4f07-b12c-299b6f6e8cb9\",\"type\":\"PreviewSaveTool\"},{\"id\":\"602fd7e5-c1e2-41bc-85d2-094c95afaa48\",\"type\":\"ResizeTool\"},{\"id\":\"a93667ea-7cc6-4628-806d-3261e4623dd6\",\"type\":\"ResetTool\"},{\"id\":\"0a6a435c-ba24-469c-a89b-1f88993958c7\",\"type\":\"HelpTool\"}],\"x_range\":{\"id\":\"640ce35f-8c9f-4454-9051-637c87eeb61b\",\"type\":\"Range1d\"},\"y_range\":{\"id\":\"e4703615-a96c-4adc-92db-2dccc8824a95\",\"type\":\"Range1d\"}},\"id\":\"cb24875d-c590-4471-8f71-2f6594800f6d\",\"subtype\":\"Figure\",\"type\":\"Plot\"},{\"attributes\":{\"callback\":null},\"id\":\"640ce35f-8c9f-4454-9051-637c87eeb61b\",\"type\":\"Range1d\"},{\"attributes\":{\"plot\":{\"id\":\"cb24875d-c590-4471-8f71-2f6594800f6d\",\"subtype\":\"Figure\",\"type\":\"Plot\"}},\"id\":\"5bcb6ce7-234e-4c0f-a25d-a2dfc53762bd\",\"type\":\"PanTool\"},{\"attributes\":{\"legends\":[[\"ROC curve (area = 0.813)\",[{\"id\":\"56e0b14b-0af2-4340-97a5-89fda049f7ad\",\"type\":\"GlyphRenderer\"}]]],\"location\":\"bottom_right\",\"plot\":{\"id\":\"cb24875d-c590-4471-8f71-2f6594800f6d\",\"subtype\":\"Figure\",\"type\":\"Plot\"}},\"id\":\"4a917e18-3d07-4f01-bdea-a4521cabf04b\",\"type\":\"Legend\"},{\"attributes\":{\"bottom_units\":\"screen\",\"fill_alpha\":{\"value\":0.5},\"fill_color\":{\"value\":\"lightgrey\"},\"left_units\":\"screen\",\"level\":\"overlay\",\"line_alpha\":{\"value\":1.0},\"line_color\":{\"value\":\"black\"},\"line_dash\":[4,4],\"line_width\":{\"value\":2},\"plot\":null,\"render_mode\":\"css\",\"right_units\":\"screen\",\"top_units\":\"screen\"},\"id\":\"e2144061-aef6-47a8-9435-bb009b121553\",\"type\":\"BoxAnnotation\"},{\"attributes\":{\"line_color\":{\"value\":\"#1f77b4\"},\"x\":{\"field\":\"x\"},\"y\":{\"field\":\"y\"}},\"id\":\"2194da08-9699-48f3-8da3-3408e97d3698\",\"type\":\"Line\"},{\"attributes\":{\"plot\":{\"id\":\"cb24875d-c590-4471-8f71-2f6594800f6d\",\"subtype\":\"Figure\",\"type\":\"Plot\"}},\"id\":\"602fd7e5-c1e2-41bc-85d2-094c95afaa48\",\"type\":\"ResizeTool\"},{\"attributes\":{},\"id\":\"d1113b19-0890-4c06-951b-a227eccc0882\",\"type\":\"BasicTickFormatter\"},{\"attributes\":{},\"id\":\"32a4e5de-0d9f-4617-bb6c-ad2119003c7a\",\"type\":\"BasicTicker\"},{\"attributes\":{\"plot\":{\"id\":\"cb24875d-c590-4471-8f71-2f6594800f6d\",\"subtype\":\"Figure\",\"type\":\"Plot\"}},\"id\":\"7b9294f4-ad34-4f07-b12c-299b6f6e8cb9\",\"type\":\"PreviewSaveTool\"},{\"attributes\":{},\"id\":\"e0733b0d-246f-45d2-93b6-e156e1c7a450\",\"type\":\"ToolEvents\"},{\"attributes\":{\"line_alpha\":{\"value\":0.1},\"line_color\":{\"value\":\"#1f77b4\"},\"x\":{\"field\":\"x\"},\"y\":{\"field\":\"y\"}},\"id\":\"c0229a62-7aad-4989-8cdf-63b965414384\",\"type\":\"Line\"}],\"root_ids\":[\"cb24875d-c590-4471-8f71-2f6594800f6d\"]},\"title\":\"Bokeh Application\",\"version\":\"0.11.1\"}};\n",
       "            var render_items = [{\"docid\":\"e90d3bf0-5255-4cef-83cd-b4167cdb03c3\",\"elementid\":\"11e52ce6-1aec-4b78-b97c-38848f50feed\",\"modelid\":\"cb24875d-c590-4471-8f71-2f6594800f6d\",\"notebook_comms_target\":\"9b7e00de-af12-422a-865e-6098aa2cce69\"}];\n",
       "            \n",
       "            Bokeh.embed.embed_items(docs_json, render_items);\n",
       "        });\n",
       "      },\n",
       "      function(Bokeh) {\n",
       "      }\n",
       "    ];\n",
       "  \n",
       "    function run_inline_js() {\n",
       "      for (var i = 0; i < inline_js.length; i++) {\n",
       "        inline_js[i](window.Bokeh);\n",
       "      }\n",
       "    }\n",
       "  \n",
       "    if (window._bokeh_is_loading === 0) {\n",
       "      console.log(\"Bokeh: BokehJS loaded, going straight to plotting\");\n",
       "      run_inline_js();\n",
       "    } else {\n",
       "      load_libs(js_urls, function() {\n",
       "        console.log(\"Bokeh: BokehJS plotting callback run at\", now());\n",
       "        run_inline_js();\n",
       "      });\n",
       "    }\n",
       "  }(this));\n",
       "</script>"
      ]
     },
     "metadata": {},
     "output_type": "display_data"
    }
   ],
   "source": [
    "plot_roc_curve(test_target, target_predicted_proba)"
   ]
  },
  {
   "cell_type": "code",
   "execution_count": 32,
   "metadata": {
    "collapsed": false
   },
   "outputs": [
    {
     "data": {
      "text/html": [
       "<div>\n",
       "<table border=\"1\" class=\"dataframe\">\n",
       "  <thead>\n",
       "    <tr style=\"text-align: right;\">\n",
       "      <th></th>\n",
       "      <th>rel_compact</th>\n",
       "      <th>surface</th>\n",
       "      <th>wall</th>\n",
       "      <th>roof</th>\n",
       "      <th>height</th>\n",
       "      <th>orientation</th>\n",
       "      <th>glazing_area</th>\n",
       "      <th>glazing_area_dist</th>\n",
       "      <th>heating_load</th>\n",
       "      <th>cooling_load</th>\n",
       "      <th>high_heat</th>\n",
       "    </tr>\n",
       "  </thead>\n",
       "  <tbody>\n",
       "    <tr>\n",
       "      <th>0</th>\n",
       "      <td>0.98</td>\n",
       "      <td>514.5</td>\n",
       "      <td>294.0</td>\n",
       "      <td>110.25</td>\n",
       "      <td>7.0</td>\n",
       "      <td>2</td>\n",
       "      <td>0.0</td>\n",
       "      <td>0</td>\n",
       "      <td>16.0</td>\n",
       "      <td>21.0</td>\n",
       "      <td>False</td>\n",
       "    </tr>\n",
       "    <tr>\n",
       "      <th>1</th>\n",
       "      <td>0.98</td>\n",
       "      <td>514.5</td>\n",
       "      <td>294.0</td>\n",
       "      <td>110.25</td>\n",
       "      <td>7.0</td>\n",
       "      <td>3</td>\n",
       "      <td>0.0</td>\n",
       "      <td>0</td>\n",
       "      <td>16.0</td>\n",
       "      <td>21.0</td>\n",
       "      <td>False</td>\n",
       "    </tr>\n",
       "    <tr>\n",
       "      <th>2</th>\n",
       "      <td>0.98</td>\n",
       "      <td>514.5</td>\n",
       "      <td>294.0</td>\n",
       "      <td>110.25</td>\n",
       "      <td>7.0</td>\n",
       "      <td>4</td>\n",
       "      <td>0.0</td>\n",
       "      <td>0</td>\n",
       "      <td>16.0</td>\n",
       "      <td>21.0</td>\n",
       "      <td>False</td>\n",
       "    </tr>\n",
       "    <tr>\n",
       "      <th>3</th>\n",
       "      <td>0.98</td>\n",
       "      <td>514.5</td>\n",
       "      <td>294.0</td>\n",
       "      <td>110.25</td>\n",
       "      <td>7.0</td>\n",
       "      <td>5</td>\n",
       "      <td>0.0</td>\n",
       "      <td>0</td>\n",
       "      <td>16.0</td>\n",
       "      <td>21.0</td>\n",
       "      <td>False</td>\n",
       "    </tr>\n",
       "    <tr>\n",
       "      <th>4</th>\n",
       "      <td>0.90</td>\n",
       "      <td>563.5</td>\n",
       "      <td>318.5</td>\n",
       "      <td>122.50</td>\n",
       "      <td>7.0</td>\n",
       "      <td>2</td>\n",
       "      <td>0.0</td>\n",
       "      <td>0</td>\n",
       "      <td>21.0</td>\n",
       "      <td>28.0</td>\n",
       "      <td>False</td>\n",
       "    </tr>\n",
       "  </tbody>\n",
       "</table>\n",
       "</div>"
      ],
      "text/plain": [
       "   rel_compact  surface   wall    roof  height  orientation  glazing_area  \\\n",
       "0         0.98    514.5  294.0  110.25     7.0            2           0.0   \n",
       "1         0.98    514.5  294.0  110.25     7.0            3           0.0   \n",
       "2         0.98    514.5  294.0  110.25     7.0            4           0.0   \n",
       "3         0.98    514.5  294.0  110.25     7.0            5           0.0   \n",
       "4         0.90    563.5  318.5  122.50     7.0            2           0.0   \n",
       "\n",
       "   glazing_area_dist  heating_load  cooling_load high_heat  \n",
       "0                  0          16.0          21.0     False  \n",
       "1                  0          16.0          21.0     False  \n",
       "2                  0          16.0          21.0     False  \n",
       "3                  0          16.0          21.0     False  \n",
       "4                  0          21.0          28.0     False  "
      ]
     },
     "execution_count": 32,
     "metadata": {},
     "output_type": "execute_result"
    }
   ],
   "source": [
    "en.head()"
   ]
  },
  {
   "cell_type": "code",
   "execution_count": 33,
   "metadata": {
    "collapsed": true
   },
   "outputs": [],
   "source": [
    "neg = en[en['high_heat'] == False]\n",
    "pos = en[en['high_heat'] == True]\n",
    "\n",
    "oversample_en = pd.concat([neg, pos.sample(700, replace = True)])\n",
    "label = oversample_en['high_heat']\n",
    "data = oversample_en.drop(['heating_load','cooling_load','high_heat'],axis=1)\n",
    "train_feat, test_feat, train_target, test_target = train_test_split(data,label, train_size=0.3)"
   ]
  },
  {
   "cell_type": "code",
   "execution_count": 34,
   "metadata": {
    "collapsed": false
   },
   "outputs": [
    {
     "name": "stderr",
     "output_type": "stream",
     "text": [
      "/Users/samuelbolivar/anaconda/lib/python2.7/site-packages/bokeh/core/properties.py:714: BokehDeprecationWarning: bokeh.models.annotations.orientation was deprecated in Bokeh 0.11; please use Legend.location instead\n",
      "  super(HasProps, self).__setattr__(name, value)\n"
     ]
    },
    {
     "data": {
      "text/html": [
       "\n",
       "\n",
       "    <div class=\"plotdiv\" id=\"a9aefd62-d0ed-4f86-a13e-7e1c3b7548fa\"></div>\n",
       "<script type=\"text/javascript\">\n",
       "  \n",
       "  (function(global) {\n",
       "    function now() {\n",
       "      return new Date();\n",
       "    }\n",
       "  \n",
       "    if (typeof (window._bokeh_onload_callbacks) === \"undefined\") {\n",
       "      window._bokeh_onload_callbacks = [];\n",
       "    }\n",
       "  \n",
       "    function run_callbacks() {\n",
       "      window._bokeh_onload_callbacks.forEach(function(callback) { callback() });\n",
       "      delete window._bokeh_onload_callbacks\n",
       "      console.info(\"Bokeh: all callbacks have finished\");\n",
       "    }\n",
       "  \n",
       "    function load_libs(js_urls, callback) {\n",
       "      window._bokeh_onload_callbacks.push(callback);\n",
       "      if (window._bokeh_is_loading > 0) {\n",
       "        console.log(\"Bokeh: BokehJS is being loaded, scheduling callback at\", now());\n",
       "        return null;\n",
       "      }\n",
       "      if (js_urls == null || js_urls.length === 0) {\n",
       "        run_callbacks();\n",
       "        return null;\n",
       "      }\n",
       "      console.log(\"Bokeh: BokehJS not loaded, scheduling load and callback at\", now());\n",
       "      window._bokeh_is_loading = js_urls.length;\n",
       "      for (var i = 0; i < js_urls.length; i++) {\n",
       "        var url = js_urls[i];\n",
       "        var s = document.createElement('script');\n",
       "        s.src = url;\n",
       "        s.async = false;\n",
       "        s.onreadystatechange = s.onload = function() {\n",
       "          window._bokeh_is_loading--;\n",
       "          if (window._bokeh_is_loading === 0) {\n",
       "            console.log(\"Bokeh: all BokehJS libraries loaded\");\n",
       "            run_callbacks()\n",
       "          }\n",
       "        };\n",
       "        s.onerror = function() {\n",
       "          console.warn(\"failed to load library \" + url);\n",
       "        };\n",
       "        console.log(\"Bokeh: injecting script tag for BokehJS library: \", url);\n",
       "        document.getElementsByTagName(\"head\")[0].appendChild(s);\n",
       "      }\n",
       "    };var element = document.getElementById(\"a9aefd62-d0ed-4f86-a13e-7e1c3b7548fa\");\n",
       "    if (element == null) {\n",
       "      console.log(\"Bokeh: ERROR: autoload.js configured with elementid 'a9aefd62-d0ed-4f86-a13e-7e1c3b7548fa' but no matching script tag was found. \")\n",
       "      return false;\n",
       "    }\n",
       "  \n",
       "    var js_urls = [];\n",
       "  \n",
       "    var inline_js = [\n",
       "      function(Bokeh) {\n",
       "        Bokeh.$(function() {\n",
       "            var docs_json = {\"bc637564-673d-4a8d-a75f-32208958549a\":{\"roots\":{\"references\":[{\"attributes\":{\"plot\":{\"id\":\"f82faf08-abff-4b16-b1a6-78bb99f61366\",\"subtype\":\"Figure\",\"type\":\"Plot\"},\"ticker\":{\"id\":\"66eda03b-d706-4c6a-ae59-c8dd5440ac33\",\"type\":\"BasicTicker\"}},\"id\":\"da55f8ce-4841-4e0a-a390-b687c57ae907\",\"type\":\"Grid\"},{\"attributes\":{\"plot\":{\"id\":\"f82faf08-abff-4b16-b1a6-78bb99f61366\",\"subtype\":\"Figure\",\"type\":\"Plot\"}},\"id\":\"6c0d96d5-b2de-40e7-b6bf-c37a08633367\",\"type\":\"PanTool\"},{\"attributes\":{},\"id\":\"ec5e4cd1-741f-434a-97c5-39721ce5f2b4\",\"type\":\"BasicTicker\"},{\"attributes\":{\"callback\":null},\"id\":\"63e500d9-d5b7-49cf-aa65-faafa3a3cfde\",\"type\":\"Range1d\"},{\"attributes\":{\"plot\":{\"id\":\"cb24875d-c590-4471-8f71-2f6594800f6d\",\"subtype\":\"Figure\",\"type\":\"Plot\"},\"ticker\":{\"id\":\"32a4e5de-0d9f-4617-bb6c-ad2119003c7a\",\"type\":\"BasicTicker\"}},\"id\":\"4dd03fd5-95eb-41c4-86ec-56d7dd84030f\",\"type\":\"Grid\"},{\"attributes\":{\"axis_label\":\"True Positive Rate or (Sensitivity)\",\"formatter\":{\"id\":\"ed1ad1e0-0cfd-4a18-94ba-2e8e30412c71\",\"type\":\"BasicTickFormatter\"},\"plot\":{\"id\":\"cb24875d-c590-4471-8f71-2f6594800f6d\",\"subtype\":\"Figure\",\"type\":\"Plot\"},\"ticker\":{\"id\":\"ec5e4cd1-741f-434a-97c5-39721ce5f2b4\",\"type\":\"BasicTicker\"}},\"id\":\"8790a981-9ab1-4fcc-9ec8-961f53e79f47\",\"type\":\"LinearAxis\"},{\"attributes\":{\"plot\":{\"id\":\"f82faf08-abff-4b16-b1a6-78bb99f61366\",\"subtype\":\"Figure\",\"type\":\"Plot\"}},\"id\":\"0b607e2e-34c3-4c3d-8f45-200fb6683cec\",\"type\":\"ResizeTool\"},{\"attributes\":{\"line_alpha\":{\"value\":0.1},\"line_color\":{\"value\":\"#1f77b4\"},\"x\":{\"field\":\"x\"},\"y\":{\"field\":\"y\"}},\"id\":\"d46d8d27-b4a2-425a-b2ba-c9c70a19468d\",\"type\":\"Line\"},{\"attributes\":{\"plot\":{\"id\":\"f82faf08-abff-4b16-b1a6-78bb99f61366\",\"subtype\":\"Figure\",\"type\":\"Plot\"}},\"id\":\"3a0d149d-0c1c-458b-a552-36586156566d\",\"type\":\"HelpTool\"},{\"attributes\":{\"overlay\":{\"id\":\"04495548-5122-4cbf-aac6-13e3e8707448\",\"type\":\"BoxAnnotation\"},\"plot\":{\"id\":\"f82faf08-abff-4b16-b1a6-78bb99f61366\",\"subtype\":\"Figure\",\"type\":\"Plot\"}},\"id\":\"7aae1369-dfd3-4401-ac61-9d0bb1f96212\",\"type\":\"BoxZoomTool\"},{\"attributes\":{\"bottom_units\":\"screen\",\"fill_alpha\":{\"value\":0.5},\"fill_color\":{\"value\":\"lightgrey\"},\"left_units\":\"screen\",\"level\":\"overlay\",\"line_alpha\":{\"value\":1.0},\"line_color\":{\"value\":\"black\"},\"line_dash\":[4,4],\"line_width\":{\"value\":2},\"plot\":null,\"render_mode\":\"css\",\"right_units\":\"screen\",\"top_units\":\"screen\"},\"id\":\"04495548-5122-4cbf-aac6-13e3e8707448\",\"type\":\"BoxAnnotation\"},{\"attributes\":{\"plot\":{\"id\":\"cb24875d-c590-4471-8f71-2f6594800f6d\",\"subtype\":\"Figure\",\"type\":\"Plot\"}},\"id\":\"a93667ea-7cc6-4628-806d-3261e4623dd6\",\"type\":\"ResetTool\"},{\"attributes\":{\"legends\":[[\"ROC curve (area = 0.818)\",[{\"id\":\"8351ac51-ae17-46d3-a278-1e1608f594b2\",\"type\":\"GlyphRenderer\"}]]],\"location\":\"bottom_right\",\"plot\":{\"id\":\"f82faf08-abff-4b16-b1a6-78bb99f61366\",\"subtype\":\"Figure\",\"type\":\"Plot\"}},\"id\":\"786bae28-0409-4a02-b68c-6e2d7fd079cc\",\"type\":\"Legend\"},{\"attributes\":{\"callback\":null},\"id\":\"e4703615-a96c-4adc-92db-2dccc8824a95\",\"type\":\"Range1d\"},{\"attributes\":{\"callback\":null},\"id\":\"9d964608-2d6e-467d-aa53-ada326dd5e17\",\"type\":\"Range1d\"},{\"attributes\":{\"plot\":{\"id\":\"f82faf08-abff-4b16-b1a6-78bb99f61366\",\"subtype\":\"Figure\",\"type\":\"Plot\"}},\"id\":\"c317a74d-4c74-4ee4-9aae-0d1b8b58270a\",\"type\":\"WheelZoomTool\"},{\"attributes\":{\"legends\":[[\"ROC curve (area = 0.813)\",[{\"id\":\"56e0b14b-0af2-4340-97a5-89fda049f7ad\",\"type\":\"GlyphRenderer\"}]]],\"location\":\"bottom_right\",\"plot\":{\"id\":\"cb24875d-c590-4471-8f71-2f6594800f6d\",\"subtype\":\"Figure\",\"type\":\"Plot\"}},\"id\":\"4a917e18-3d07-4f01-bdea-a4521cabf04b\",\"type\":\"Legend\"},{\"attributes\":{\"plot\":{\"id\":\"cb24875d-c590-4471-8f71-2f6594800f6d\",\"subtype\":\"Figure\",\"type\":\"Plot\"}},\"id\":\"ece08e04-1c35-4458-ab3e-d0b0f0914d29\",\"type\":\"WheelZoomTool\"},{\"attributes\":{\"dimension\":1,\"plot\":{\"id\":\"cb24875d-c590-4471-8f71-2f6594800f6d\",\"subtype\":\"Figure\",\"type\":\"Plot\"},\"ticker\":{\"id\":\"ec5e4cd1-741f-434a-97c5-39721ce5f2b4\",\"type\":\"BasicTicker\"}},\"id\":\"52cf12a1-6729-441f-a866-35d38c24f55d\",\"type\":\"Grid\"},{\"attributes\":{\"plot\":{\"id\":\"f82faf08-abff-4b16-b1a6-78bb99f61366\",\"subtype\":\"Figure\",\"type\":\"Plot\"}},\"id\":\"1c856d0f-d841-451b-93e9-ee1b5ffc268a\",\"type\":\"PreviewSaveTool\"},{\"attributes\":{\"data_source\":{\"id\":\"c65adb2f-6599-4841-8ef4-b10bb9dbf0bf\",\"type\":\"ColumnDataSource\"},\"glyph\":{\"id\":\"5f983846-d75b-4c2c-b3a7-77ed23df5a93\",\"type\":\"Line\"},\"hover_glyph\":null,\"nonselection_glyph\":{\"id\":\"d46d8d27-b4a2-425a-b2ba-c9c70a19468d\",\"type\":\"Line\"},\"selection_glyph\":null},\"id\":\"8351ac51-ae17-46d3-a278-1e1608f594b2\",\"type\":\"GlyphRenderer\"},{\"attributes\":{\"data_source\":{\"id\":\"db40e9b8-89c3-4f45-9013-a12188e7c7f6\",\"type\":\"ColumnDataSource\"},\"glyph\":{\"id\":\"2194da08-9699-48f3-8da3-3408e97d3698\",\"type\":\"Line\"},\"hover_glyph\":null,\"nonselection_glyph\":{\"id\":\"c0229a62-7aad-4989-8cdf-63b965414384\",\"type\":\"Line\"},\"selection_glyph\":null},\"id\":\"56e0b14b-0af2-4340-97a5-89fda049f7ad\",\"type\":\"GlyphRenderer\"},{\"attributes\":{\"below\":[{\"id\":\"4dcf897c-2db3-40f4-9639-d845e60a6511\",\"type\":\"LinearAxis\"}],\"left\":[{\"id\":\"803c3d49-18a4-441b-8829-238aff6318d0\",\"type\":\"LinearAxis\"}],\"renderers\":[{\"id\":\"4dcf897c-2db3-40f4-9639-d845e60a6511\",\"type\":\"LinearAxis\"},{\"id\":\"da55f8ce-4841-4e0a-a390-b687c57ae907\",\"type\":\"Grid\"},{\"id\":\"803c3d49-18a4-441b-8829-238aff6318d0\",\"type\":\"LinearAxis\"},{\"id\":\"69a84322-3b7c-495e-88fb-35f359ded790\",\"type\":\"Grid\"},{\"id\":\"04495548-5122-4cbf-aac6-13e3e8707448\",\"type\":\"BoxAnnotation\"},{\"id\":\"786bae28-0409-4a02-b68c-6e2d7fd079cc\",\"type\":\"Legend\"},{\"id\":\"8351ac51-ae17-46d3-a278-1e1608f594b2\",\"type\":\"GlyphRenderer\"}],\"title\":\"Receiver Operating Characteristic\",\"tool_events\":{\"id\":\"00cd7c03-3892-42f0-81c6-5c94320017e1\",\"type\":\"ToolEvents\"},\"tools\":[{\"id\":\"6c0d96d5-b2de-40e7-b6bf-c37a08633367\",\"type\":\"PanTool\"},{\"id\":\"c317a74d-4c74-4ee4-9aae-0d1b8b58270a\",\"type\":\"WheelZoomTool\"},{\"id\":\"7aae1369-dfd3-4401-ac61-9d0bb1f96212\",\"type\":\"BoxZoomTool\"},{\"id\":\"1c856d0f-d841-451b-93e9-ee1b5ffc268a\",\"type\":\"PreviewSaveTool\"},{\"id\":\"0b607e2e-34c3-4c3d-8f45-200fb6683cec\",\"type\":\"ResizeTool\"},{\"id\":\"1a308505-2b78-4354-bbf4-49fc38354cd2\",\"type\":\"ResetTool\"},{\"id\":\"3a0d149d-0c1c-458b-a552-36586156566d\",\"type\":\"HelpTool\"}],\"x_range\":{\"id\":\"63e500d9-d5b7-49cf-aa65-faafa3a3cfde\",\"type\":\"Range1d\"},\"y_range\":{\"id\":\"9d964608-2d6e-467d-aa53-ada326dd5e17\",\"type\":\"Range1d\"}},\"id\":\"f82faf08-abff-4b16-b1a6-78bb99f61366\",\"subtype\":\"Figure\",\"type\":\"Plot\"},{\"attributes\":{},\"id\":\"deb0ecf4-950d-4bba-8cab-460b8e0c3f20\",\"type\":\"BasicTicker\"},{\"attributes\":{\"line_color\":{\"value\":\"#1f77b4\"},\"x\":{\"field\":\"x\"},\"y\":{\"field\":\"y\"}},\"id\":\"5f983846-d75b-4c2c-b3a7-77ed23df5a93\",\"type\":\"Line\"},{\"attributes\":{\"plot\":{\"id\":\"cb24875d-c590-4471-8f71-2f6594800f6d\",\"subtype\":\"Figure\",\"type\":\"Plot\"}},\"id\":\"0a6a435c-ba24-469c-a89b-1f88993958c7\",\"type\":\"HelpTool\"},{\"attributes\":{\"callback\":null,\"column_names\":[\"y\",\"x\"],\"data\":{\"x\":[0.0,0.001984126984126984,0.001984126984126984,0.003968253968253968,0.003968253968253968,0.003968253968253968,0.005952380952380952,0.005952380952380952,0.007936507936507936,0.007936507936507936,0.007936507936507936,0.007936507936507936,0.007936507936507936,0.017857142857142856,0.017857142857142856,0.017857142857142856,0.021825396825396824,0.021825396825396824,0.025793650793650792,0.025793650793650792,0.027777777777777776,0.027777777777777776,0.031746031746031744,0.031746031746031744,0.03968253968253968,0.03968253968253968,0.2222222222222222,0.2222222222222222,0.2361111111111111,0.2361111111111111,0.24404761904761904,0.24404761904761904,0.24801587301587302,0.24801587301587302,0.25,0.25,0.251984126984127,0.251984126984127,0.25595238095238093,0.25595238095238093,0.25793650793650796,0.25793650793650796,0.25793650793650796,0.25992063492063494,0.25992063492063494,0.2619047619047619,0.2619047619047619,0.2638888888888889,0.2638888888888889,0.2638888888888889,0.26785714285714285,0.26785714285714285,0.2698412698412698,0.2698412698412698,0.2718253968253968,0.2718253968253968,0.2757936507936508,0.2757936507936508,0.2757936507936508,0.2777777777777778,0.2777777777777778,0.2837301587301587,0.2837301587301587,0.2837301587301587,0.2876984126984127,0.2876984126984127,0.2876984126984127,0.2916666666666667,0.2916666666666667,0.2916666666666667,0.2916666666666667,0.29365079365079366,0.29365079365079366,0.2976190476190476,0.2976190476190476,0.2976190476190476,0.2996031746031746,0.2996031746031746,1.0],\"y\":[0.0,0.0,0.044715447154471545,0.044715447154471545,0.06707317073170732,0.09349593495934959,0.09349593495934959,0.10772357723577236,0.10772357723577236,0.13008130081300814,0.13821138211382114,0.16260162601626016,0.18292682926829268,0.18292682926829268,0.20121951219512196,0.21544715447154472,0.21544715447154472,0.25,0.25,0.266260162601626,0.266260162601626,0.2865853658536585,0.2865853658536585,0.3231707317073171,0.3231707317073171,0.3475609756097561,0.3475609756097561,0.3638211382113821,0.3638211382113821,0.38414634146341464,0.38414634146341464,0.40853658536585363,0.40853658536585363,0.4329268292682927,0.4329268292682927,0.4613821138211382,0.4613821138211382,0.4796747967479675,0.4796747967479675,0.516260162601626,0.516260162601626,0.540650406504065,0.556910569105691,0.556910569105691,0.5792682926829268,0.5792682926829268,0.6199186991869918,0.6199186991869918,0.6443089430894309,0.6605691056910569,0.6605691056910569,0.676829268292683,0.676829268292683,0.6910569105691057,0.6910569105691057,0.709349593495935,0.709349593495935,0.7195121951219512,0.7357723577235772,0.7357723577235772,0.7540650406504065,0.7540650406504065,0.7723577235772358,0.806910569105691,0.806910569105691,0.8353658536585366,0.8556910569105691,0.8556910569105691,0.8821138211382114,0.9044715447154471,0.9186991869918699,0.9186991869918699,0.943089430894309,0.943089430894309,0.9634146341463414,0.9878048780487805,0.9878048780487805,1.0,1.0]}},\"id\":\"c65adb2f-6599-4841-8ef4-b10bb9dbf0bf\",\"type\":\"ColumnDataSource\"},{\"attributes\":{\"axis_label\":\"True Positive Rate or (Sensitivity)\",\"formatter\":{\"id\":\"fe50700f-ad1b-4eab-ac62-22212af74a69\",\"type\":\"BasicTickFormatter\"},\"plot\":{\"id\":\"f82faf08-abff-4b16-b1a6-78bb99f61366\",\"subtype\":\"Figure\",\"type\":\"Plot\"},\"ticker\":{\"id\":\"deb0ecf4-950d-4bba-8cab-460b8e0c3f20\",\"type\":\"BasicTicker\"}},\"id\":\"803c3d49-18a4-441b-8829-238aff6318d0\",\"type\":\"LinearAxis\"},{\"attributes\":{\"axis_label\":\"False Positive Rate or (1 - Specifity)\",\"formatter\":{\"id\":\"194fafb6-4e7b-4e4c-b9c1-bbd61dd0fd9b\",\"type\":\"BasicTickFormatter\"},\"plot\":{\"id\":\"f82faf08-abff-4b16-b1a6-78bb99f61366\",\"subtype\":\"Figure\",\"type\":\"Plot\"},\"ticker\":{\"id\":\"66eda03b-d706-4c6a-ae59-c8dd5440ac33\",\"type\":\"BasicTicker\"}},\"id\":\"4dcf897c-2db3-40f4-9639-d845e60a6511\",\"type\":\"LinearAxis\"},{\"attributes\":{},\"id\":\"ed1ad1e0-0cfd-4a18-94ba-2e8e30412c71\",\"type\":\"BasicTickFormatter\"},{\"attributes\":{\"below\":[{\"id\":\"a85117df-0359-412d-bc23-7e373161e223\",\"type\":\"LinearAxis\"}],\"left\":[{\"id\":\"8790a981-9ab1-4fcc-9ec8-961f53e79f47\",\"type\":\"LinearAxis\"}],\"renderers\":[{\"id\":\"a85117df-0359-412d-bc23-7e373161e223\",\"type\":\"LinearAxis\"},{\"id\":\"4dd03fd5-95eb-41c4-86ec-56d7dd84030f\",\"type\":\"Grid\"},{\"id\":\"8790a981-9ab1-4fcc-9ec8-961f53e79f47\",\"type\":\"LinearAxis\"},{\"id\":\"52cf12a1-6729-441f-a866-35d38c24f55d\",\"type\":\"Grid\"},{\"id\":\"e2144061-aef6-47a8-9435-bb009b121553\",\"type\":\"BoxAnnotation\"},{\"id\":\"4a917e18-3d07-4f01-bdea-a4521cabf04b\",\"type\":\"Legend\"},{\"id\":\"56e0b14b-0af2-4340-97a5-89fda049f7ad\",\"type\":\"GlyphRenderer\"}],\"title\":\"Receiver Operating Characteristic\",\"tool_events\":{\"id\":\"e0733b0d-246f-45d2-93b6-e156e1c7a450\",\"type\":\"ToolEvents\"},\"tools\":[{\"id\":\"5bcb6ce7-234e-4c0f-a25d-a2dfc53762bd\",\"type\":\"PanTool\"},{\"id\":\"ece08e04-1c35-4458-ab3e-d0b0f0914d29\",\"type\":\"WheelZoomTool\"},{\"id\":\"9dc8dc12-ab6b-474e-bce3-1c3c56fcef71\",\"type\":\"BoxZoomTool\"},{\"id\":\"7b9294f4-ad34-4f07-b12c-299b6f6e8cb9\",\"type\":\"PreviewSaveTool\"},{\"id\":\"602fd7e5-c1e2-41bc-85d2-094c95afaa48\",\"type\":\"ResizeTool\"},{\"id\":\"a93667ea-7cc6-4628-806d-3261e4623dd6\",\"type\":\"ResetTool\"},{\"id\":\"0a6a435c-ba24-469c-a89b-1f88993958c7\",\"type\":\"HelpTool\"}],\"x_range\":{\"id\":\"640ce35f-8c9f-4454-9051-637c87eeb61b\",\"type\":\"Range1d\"},\"y_range\":{\"id\":\"e4703615-a96c-4adc-92db-2dccc8824a95\",\"type\":\"Range1d\"}},\"id\":\"cb24875d-c590-4471-8f71-2f6594800f6d\",\"subtype\":\"Figure\",\"type\":\"Plot\"},{\"attributes\":{\"overlay\":{\"id\":\"e2144061-aef6-47a8-9435-bb009b121553\",\"type\":\"BoxAnnotation\"},\"plot\":{\"id\":\"cb24875d-c590-4471-8f71-2f6594800f6d\",\"subtype\":\"Figure\",\"type\":\"Plot\"}},\"id\":\"9dc8dc12-ab6b-474e-bce3-1c3c56fcef71\",\"type\":\"BoxZoomTool\"},{\"attributes\":{},\"id\":\"194fafb6-4e7b-4e4c-b9c1-bbd61dd0fd9b\",\"type\":\"BasicTickFormatter\"},{\"attributes\":{\"axis_label\":\"False Positive Rate or (1 - Specifity)\",\"formatter\":{\"id\":\"d1113b19-0890-4c06-951b-a227eccc0882\",\"type\":\"BasicTickFormatter\"},\"plot\":{\"id\":\"cb24875d-c590-4471-8f71-2f6594800f6d\",\"subtype\":\"Figure\",\"type\":\"Plot\"},\"ticker\":{\"id\":\"32a4e5de-0d9f-4617-bb6c-ad2119003c7a\",\"type\":\"BasicTicker\"}},\"id\":\"a85117df-0359-412d-bc23-7e373161e223\",\"type\":\"LinearAxis\"},{\"attributes\":{\"callback\":null},\"id\":\"640ce35f-8c9f-4454-9051-637c87eeb61b\",\"type\":\"Range1d\"},{\"attributes\":{\"dimension\":1,\"plot\":{\"id\":\"f82faf08-abff-4b16-b1a6-78bb99f61366\",\"subtype\":\"Figure\",\"type\":\"Plot\"},\"ticker\":{\"id\":\"deb0ecf4-950d-4bba-8cab-460b8e0c3f20\",\"type\":\"BasicTicker\"}},\"id\":\"69a84322-3b7c-495e-88fb-35f359ded790\",\"type\":\"Grid\"},{\"attributes\":{\"plot\":{\"id\":\"cb24875d-c590-4471-8f71-2f6594800f6d\",\"subtype\":\"Figure\",\"type\":\"Plot\"}},\"id\":\"5bcb6ce7-234e-4c0f-a25d-a2dfc53762bd\",\"type\":\"PanTool\"},{\"attributes\":{},\"id\":\"fe50700f-ad1b-4eab-ac62-22212af74a69\",\"type\":\"BasicTickFormatter\"},{\"attributes\":{\"bottom_units\":\"screen\",\"fill_alpha\":{\"value\":0.5},\"fill_color\":{\"value\":\"lightgrey\"},\"left_units\":\"screen\",\"level\":\"overlay\",\"line_alpha\":{\"value\":1.0},\"line_color\":{\"value\":\"black\"},\"line_dash\":[4,4],\"line_width\":{\"value\":2},\"plot\":null,\"render_mode\":\"css\",\"right_units\":\"screen\",\"top_units\":\"screen\"},\"id\":\"e2144061-aef6-47a8-9435-bb009b121553\",\"type\":\"BoxAnnotation\"},{\"attributes\":{\"line_color\":{\"value\":\"#1f77b4\"},\"x\":{\"field\":\"x\"},\"y\":{\"field\":\"y\"}},\"id\":\"2194da08-9699-48f3-8da3-3408e97d3698\",\"type\":\"Line\"},{\"attributes\":{\"plot\":{\"id\":\"cb24875d-c590-4471-8f71-2f6594800f6d\",\"subtype\":\"Figure\",\"type\":\"Plot\"}},\"id\":\"602fd7e5-c1e2-41bc-85d2-094c95afaa48\",\"type\":\"ResizeTool\"},{\"attributes\":{},\"id\":\"00cd7c03-3892-42f0-81c6-5c94320017e1\",\"type\":\"ToolEvents\"},{\"attributes\":{\"callback\":null,\"column_names\":[\"y\",\"x\"],\"data\":{\"x\":[0.0,0.0,0.0019880715705765406,0.0019880715705765406,0.007952286282306162,0.007952286282306162,0.019880715705765408,0.019880715705765408,0.02982107355864811,0.02982107355864811,0.1848906560636183,0.1848906560636183,0.19681908548707752,0.19681908548707752,0.20675944333996024,0.20675944333996024,0.20874751491053678,0.20874751491053678,0.21669980119284293,0.21669980119284293,0.22266401590457258,0.22266401590457258,0.2286282306163022,0.2286282306163022,0.23658051689860835,0.23658051689860835,0.24055666003976142,0.24055666003976142,0.2485089463220676,0.2485089463220676,0.2544731610337972,0.2544731610337972,0.25646123260437376,0.25646123260437376,0.2584493041749503,0.2584493041749503,0.268389662027833,0.268389662027833,0.27236580516898606,0.27236580516898606,0.27435387673956263,0.27435387673956263,0.28429423459244535,0.28429423459244535,1.0],\"y\":[0.02857142857142857,0.11428571428571428,0.11428571428571428,0.14285714285714285,0.14285714285714285,0.17142857142857143,0.17142857142857143,0.2,0.2,0.22857142857142856,0.22857142857142856,0.2571428571428571,0.2571428571428571,0.2857142857142857,0.2857142857142857,0.3142857142857143,0.3142857142857143,0.34285714285714286,0.34285714285714286,0.4,0.4,0.42857142857142855,0.42857142857142855,0.5142857142857142,0.5142857142857142,0.6,0.6,0.6571428571428571,0.6571428571428571,0.7428571428571429,0.7428571428571429,0.8,0.8,0.8285714285714286,0.8285714285714286,0.8571428571428571,0.8571428571428571,0.8857142857142857,0.8857142857142857,0.9142857142857143,0.9142857142857143,0.9428571428571428,0.9428571428571428,1.0,1.0]}},\"id\":\"db40e9b8-89c3-4f45-9013-a12188e7c7f6\",\"type\":\"ColumnDataSource\"},{\"attributes\":{},\"id\":\"d1113b19-0890-4c06-951b-a227eccc0882\",\"type\":\"BasicTickFormatter\"},{\"attributes\":{},\"id\":\"66eda03b-d706-4c6a-ae59-c8dd5440ac33\",\"type\":\"BasicTicker\"},{\"attributes\":{},\"id\":\"32a4e5de-0d9f-4617-bb6c-ad2119003c7a\",\"type\":\"BasicTicker\"},{\"attributes\":{\"plot\":{\"id\":\"cb24875d-c590-4471-8f71-2f6594800f6d\",\"subtype\":\"Figure\",\"type\":\"Plot\"}},\"id\":\"7b9294f4-ad34-4f07-b12c-299b6f6e8cb9\",\"type\":\"PreviewSaveTool\"},{\"attributes\":{},\"id\":\"e0733b0d-246f-45d2-93b6-e156e1c7a450\",\"type\":\"ToolEvents\"},{\"attributes\":{\"plot\":{\"id\":\"f82faf08-abff-4b16-b1a6-78bb99f61366\",\"subtype\":\"Figure\",\"type\":\"Plot\"}},\"id\":\"1a308505-2b78-4354-bbf4-49fc38354cd2\",\"type\":\"ResetTool\"},{\"attributes\":{\"line_alpha\":{\"value\":0.1},\"line_color\":{\"value\":\"#1f77b4\"},\"x\":{\"field\":\"x\"},\"y\":{\"field\":\"y\"}},\"id\":\"c0229a62-7aad-4989-8cdf-63b965414384\",\"type\":\"Line\"}],\"root_ids\":[\"cb24875d-c590-4471-8f71-2f6594800f6d\",\"f82faf08-abff-4b16-b1a6-78bb99f61366\"]},\"title\":\"Bokeh Application\",\"version\":\"0.11.1\"}};\n",
       "            var render_items = [{\"docid\":\"bc637564-673d-4a8d-a75f-32208958549a\",\"elementid\":\"a9aefd62-d0ed-4f86-a13e-7e1c3b7548fa\",\"modelid\":\"f82faf08-abff-4b16-b1a6-78bb99f61366\",\"notebook_comms_target\":\"c4b0ffce-78e2-419b-a880-5c56a697057b\"}];\n",
       "            \n",
       "            Bokeh.embed.embed_items(docs_json, render_items);\n",
       "        });\n",
       "      },\n",
       "      function(Bokeh) {\n",
       "      }\n",
       "    ];\n",
       "  \n",
       "    function run_inline_js() {\n",
       "      for (var i = 0; i < inline_js.length; i++) {\n",
       "        inline_js[i](window.Bokeh);\n",
       "      }\n",
       "    }\n",
       "  \n",
       "    if (window._bokeh_is_loading === 0) {\n",
       "      console.log(\"Bokeh: BokehJS loaded, going straight to plotting\");\n",
       "      run_inline_js();\n",
       "    } else {\n",
       "      load_libs(js_urls, function() {\n",
       "        console.log(\"Bokeh: BokehJS plotting callback run at\", now());\n",
       "        run_inline_js();\n",
       "      });\n",
       "    }\n",
       "  }(this));\n",
       "</script>"
      ]
     },
     "metadata": {},
     "output_type": "display_data"
    }
   ],
   "source": [
    "model_lr = LogisticRegression(C=.1).fit(train_feat, train_target)\n",
    "target_predicted_proba = model_lr.predict_proba(test_feat)\n",
    "\n",
    "plot_roc_curve(test_target, target_predicted_proba)"
   ]
  },
  {
   "cell_type": "markdown",
   "metadata": {
    "collapsed": true
   },
   "source": [
    "## Unbalanced Classes Setup"
   ]
  },
  {
   "cell_type": "markdown",
   "metadata": {},
   "source": [
    "See above for external package setup."
   ]
  },
  {
   "cell_type": "markdown",
   "metadata": {},
   "source": [
    "Back to our confusion matrix.  Let's refresh our data first."
   ]
  },
  {
   "cell_type": "code",
   "execution_count": 35,
   "metadata": {
    "collapsed": false
   },
   "outputs": [
    {
     "name": "stdout",
     "output_type": "stream",
     "text": [
      "<class 'pandas.core.frame.DataFrame'>\n",
      "RangeIndex: 768 entries, 0 to 767\n",
      "Data columns (total 10 columns):\n",
      "rel_compact          768 non-null float64\n",
      "surface              768 non-null float64\n",
      "wall                 768 non-null float64\n",
      "roof                 768 non-null float64\n",
      "height               768 non-null float64\n",
      "orientation          768 non-null int64\n",
      "glazing_area         768 non-null float64\n",
      "glazing_area_dist    768 non-null int64\n",
      "heating_load         768 non-null float64\n",
      "cooling_load         768 non-null float64\n",
      "dtypes: float64(8), int64(2)\n",
      "memory usage: 60.1 KB\n"
     ]
    }
   ],
   "source": [
    "en = pd.read_csv('../data/ENB2012_data.csv',header=0)\n",
    "en.info()\n",
    "\n",
    "#Samuel\n",
    "en = pd.read_csv('../data/ENB2012_data.csv',header=0)\n",
    "en['high_heat'] = en.heating_load >= 40\n",
    "label = en['high_heat']\n",
    "data = en.drop(['heating_load','cooling_load','high_heat'], axis=1)"
   ]
  },
  {
   "cell_type": "markdown",
   "metadata": {},
   "source": [
    "Remember our results?  Could be better right?"
   ]
  },
  {
   "cell_type": "markdown",
   "metadata": {},
   "source": [
    "### Strategy 1: Sample from the overloaded class\n",
    "If we put the two classes on the same order of magnitude we can hope that our Model de-emphasizes its accuracy on the Falses with hopes of improving our scores on predicting the underrepresented class. One approach is to use less data from our overloaded class."
   ]
  },
  {
   "cell_type": "code",
   "execution_count": 36,
   "metadata": {
    "collapsed": false
   },
   "outputs": [],
   "source": [
    "# 'Random under-sampling'\n",
    "x = data.values\n",
    "y = labels.values\n",
    "\n",
    "X_train, X_test, Y_train, Y_test = train_test_split(x, y, test_size=0.2, random_state=1)  "
   ]
  },
  {
   "cell_type": "code",
   "execution_count": 37,
   "metadata": {
    "collapsed": false
   },
   "outputs": [],
   "source": [
    "#Note we are keeping our test set out of this undersampling routing\n",
    "\n",
    "#Modified\n",
    "from imblearn.under_sampling import RandomUnderSampler\n",
    "US = RandomUnderSampler()\n",
    "usx, usy = US.fit_sample(X_train,Y_train)\n",
    "\n",
    "#Original\n",
    "#US = UnderSampler(verbose=True)\n",
    "#usx, usy = US.fit_transform(X_train,Y_train)"
   ]
  },
  {
   "cell_type": "code",
   "execution_count": 38,
   "metadata": {
    "collapsed": false
   },
   "outputs": [
    {
     "data": {
      "text/html": [
       "<div>\n",
       "<table border=\"1\" class=\"dataframe\">\n",
       "  <thead>\n",
       "    <tr style=\"text-align: right;\">\n",
       "      <th></th>\n",
       "      <th>count</th>\n",
       "      <th>mean</th>\n",
       "      <th>std</th>\n",
       "      <th>min</th>\n",
       "      <th>25%</th>\n",
       "      <th>50%</th>\n",
       "      <th>75%</th>\n",
       "      <th>max</th>\n",
       "    </tr>\n",
       "  </thead>\n",
       "  <tbody>\n",
       "    <tr>\n",
       "      <th>rel_compact</th>\n",
       "      <td>74.0</td>\n",
       "      <td>0.781757</td>\n",
       "      <td>0.078502</td>\n",
       "      <td>0.62</td>\n",
       "      <td>0.76</td>\n",
       "      <td>0.79</td>\n",
       "      <td>0.790</td>\n",
       "      <td>0.98</td>\n",
       "    </tr>\n",
       "    <tr>\n",
       "      <th>surface</th>\n",
       "      <td>74.0</td>\n",
       "      <td>650.243243</td>\n",
       "      <td>62.848712</td>\n",
       "      <td>514.50</td>\n",
       "      <td>637.00</td>\n",
       "      <td>637.00</td>\n",
       "      <td>661.500</td>\n",
       "      <td>808.50</td>\n",
       "    </tr>\n",
       "    <tr>\n",
       "      <th>wall</th>\n",
       "      <td>74.0</td>\n",
       "      <td>343.993243</td>\n",
       "      <td>50.068890</td>\n",
       "      <td>245.00</td>\n",
       "      <td>318.50</td>\n",
       "      <td>343.00</td>\n",
       "      <td>361.375</td>\n",
       "      <td>416.50</td>\n",
       "    </tr>\n",
       "    <tr>\n",
       "      <th>roof</th>\n",
       "      <td>74.0</td>\n",
       "      <td>153.125000</td>\n",
       "      <td>37.675281</td>\n",
       "      <td>110.25</td>\n",
       "      <td>122.50</td>\n",
       "      <td>147.00</td>\n",
       "      <td>147.000</td>\n",
       "      <td>220.50</td>\n",
       "    </tr>\n",
       "    <tr>\n",
       "      <th>height</th>\n",
       "      <td>74.0</td>\n",
       "      <td>6.243243</td>\n",
       "      <td>1.450657</td>\n",
       "      <td>3.50</td>\n",
       "      <td>7.00</td>\n",
       "      <td>7.00</td>\n",
       "      <td>7.000</td>\n",
       "      <td>7.00</td>\n",
       "    </tr>\n",
       "    <tr>\n",
       "      <th>orientation</th>\n",
       "      <td>74.0</td>\n",
       "      <td>3.581081</td>\n",
       "      <td>1.122702</td>\n",
       "      <td>2.00</td>\n",
       "      <td>3.00</td>\n",
       "      <td>4.00</td>\n",
       "      <td>5.000</td>\n",
       "      <td>5.00</td>\n",
       "    </tr>\n",
       "    <tr>\n",
       "      <th>glazing_area</th>\n",
       "      <td>74.0</td>\n",
       "      <td>0.282432</td>\n",
       "      <td>0.123984</td>\n",
       "      <td>0.00</td>\n",
       "      <td>0.25</td>\n",
       "      <td>0.25</td>\n",
       "      <td>0.400</td>\n",
       "      <td>0.40</td>\n",
       "    </tr>\n",
       "    <tr>\n",
       "      <th>glazing_area_dist</th>\n",
       "      <td>74.0</td>\n",
       "      <td>2.810811</td>\n",
       "      <td>1.532083</td>\n",
       "      <td>0.00</td>\n",
       "      <td>2.00</td>\n",
       "      <td>3.00</td>\n",
       "      <td>4.000</td>\n",
       "      <td>5.00</td>\n",
       "    </tr>\n",
       "  </tbody>\n",
       "</table>\n",
       "</div>"
      ],
      "text/plain": [
       "                   count        mean        std     min     25%     50%  \\\n",
       "rel_compact         74.0    0.781757   0.078502    0.62    0.76    0.79   \n",
       "surface             74.0  650.243243  62.848712  514.50  637.00  637.00   \n",
       "wall                74.0  343.993243  50.068890  245.00  318.50  343.00   \n",
       "roof                74.0  153.125000  37.675281  110.25  122.50  147.00   \n",
       "height              74.0    6.243243   1.450657    3.50    7.00    7.00   \n",
       "orientation         74.0    3.581081   1.122702    2.00    3.00    4.00   \n",
       "glazing_area        74.0    0.282432   0.123984    0.00    0.25    0.25   \n",
       "glazing_area_dist   74.0    2.810811   1.532083    0.00    2.00    3.00   \n",
       "\n",
       "                       75%     max  \n",
       "rel_compact          0.790    0.98  \n",
       "surface            661.500  808.50  \n",
       "wall               361.375  416.50  \n",
       "roof               147.000  220.50  \n",
       "height               7.000    7.00  \n",
       "orientation          5.000    5.00  \n",
       "glazing_area         0.400    0.40  \n",
       "glazing_area_dist    4.000    5.00  "
      ]
     },
     "execution_count": 38,
     "metadata": {},
     "output_type": "execute_result"
    }
   ],
   "source": [
    "### Lets plug this undersampled data back into a dataframe to see how it looks now. \n",
    "us_df = pd.DataFrame(usx, columns=data.columns)\n",
    "us_df['labels'] = usy\n",
    "us_df.describe().T"
   ]
  },
  {
   "cell_type": "markdown",
   "metadata": {},
   "source": [
    "### Exercise\n",
    "\n",
    "- Using our new UnderSampled Data, test the performance of Logistic Regression, Naive Bayes, and KNN on this data. "
   ]
  },
  {
   "cell_type": "code",
   "execution_count": 39,
   "metadata": {
    "collapsed": false
   },
   "outputs": [
    {
     "name": "stdout",
     "output_type": "stream",
     "text": [
      "Results of Logistic Regression: \n",
      "                Predicted Class 0  Predicted Class 1\n",
      "Actual Class 0                108                 37\n",
      "Actual Class 1                  1                  8 \n",
      "\n",
      "Precision: 0.177777777778\n",
      "Recall: 0.888888888889 \n",
      "\n",
      "============================================\n",
      "Results of KNN: \n",
      "                Predicted Class 0  Predicted Class 1\n",
      "Actual Class 0                127                 18\n",
      "Actual Class 1                  0                  9 \n",
      "\n",
      "Precision: 0.333333333333\n",
      "Recall: 1.0 \n",
      "\n",
      "============================================\n",
      "Results of Naive Bayes: \n",
      "                Predicted Class 0  Predicted Class 1\n",
      "Actual Class 0                117                 28\n",
      "Actual Class 1                  0                  9 \n",
      "\n",
      "Precision: 0.243243243243\n",
      "Recall: 1.0 \n",
      "\n",
      "============================================\n"
     ]
    }
   ],
   "source": [
    "from sklearn.naive_bayes import GaussianNB\n",
    "\n",
    "#All three at once!\n",
    "model_names = ['Logistic Regression', 'KNN', 'Naive Bayes']\n",
    "models = [LogisticRegression(C=1), KNeighborsClassifier(5), GaussianNB()]\n",
    "i = 0\n",
    "for model in models:\n",
    "    \n",
    "    model.fit(usx, usy)  \n",
    "    predictions = model.predict(X_test)\n",
    "\n",
    "    cm = confusion_matrix(Y_test,predictions)\n",
    "\n",
    "    #lets make that easier to read\n",
    "    cm_df = pd.DataFrame(cm, columns=['Predicted Class 0', 'Predicted Class 1'], \n",
    "                             index=['Actual Class 0', 'Actual Class 1'])\n",
    "\n",
    "    print \"Results of {}: \".format(model_names[i])\n",
    "    print cm_df,'\\n'\n",
    "    print \"Precision:\",float(cm[1,1])/(cm[0,1]+cm[1,1])\n",
    "    print \"Recall:\",float(cm[1,1])/(cm[1,0]+cm[1,1]),'\\n'\n",
    "    print \"============================================\"\n",
    "    i +=1"
   ]
  },
  {
   "cell_type": "markdown",
   "metadata": {},
   "source": [
    "Did this get better?  What happened?\n",
    "\n",
    "Well, yes and no. We traded off between precision, correctly classifying as over 40, and recall, classifying more of the positives as positives. In practice, a mixture of both Over & Under sampling is used. "
   ]
  },
  {
   "cell_type": "markdown",
   "metadata": {},
   "source": [
    "### Strategy 2: Oversample the underrepresented class\n",
    "\n",
    "To oversample, we will use all of our negative values and sample from our positive values a number that's more reasonable. Note the `replace = True` argument: we need to sample **with replacement** meaning after we sample a value, we replace the value we sampled in our original set, so it remains un changed. Before, sampling was done without replacement, guaranteeing unique values.\n",
    "\n",
    "Sampling with replacement is not the same as SMOTE, which creates synthetic data. For more information on SMOTE, check out the original paper here: https://www.jair.org/media/953/live-953-2037-jair.pdf"
   ]
  },
  {
   "cell_type": "code",
   "execution_count": 40,
   "metadata": {
    "collapsed": true
   },
   "outputs": [],
   "source": [
    "# 'Random over-sampling'\n",
    "x = data.values\n",
    "y = labels.values\n",
    "\n",
    "X_train, X_test, Y_train, Y_test = train_test_split(x, y, test_size=0.2, random_state=1)  "
   ]
  },
  {
   "cell_type": "code",
   "execution_count": 41,
   "metadata": {
    "collapsed": false
   },
   "outputs": [],
   "source": [
    "from imblearn.over_sampling import SMOTE\n",
    "\n",
    "#Samuel\n",
    "verbose = True\n",
    "ratio = 1.0\n",
    "\n",
    "OS = SMOTE(ratio=ratio, verbose=verbose)\n",
    "osx, osy = OS.fit_sample(X_train, Y_train)\n",
    "\n",
    "#Original\n",
    "#verbose = True\n",
    "#ratio = 10.0\n",
    "\n",
    "#OS = SMOTE(ratio=ratio, verbose=verbose)\n",
    "#osx, osy = OS.fit_transform(X_train, Y_train)"
   ]
  },
  {
   "cell_type": "code",
   "execution_count": 42,
   "metadata": {
    "collapsed": false
   },
   "outputs": [
    {
     "data": {
      "text/html": [
       "<div>\n",
       "<table border=\"1\" class=\"dataframe\">\n",
       "  <thead>\n",
       "    <tr style=\"text-align: right;\">\n",
       "      <th></th>\n",
       "      <th>count</th>\n",
       "      <th>mean</th>\n",
       "      <th>std</th>\n",
       "      <th>min</th>\n",
       "      <th>25%</th>\n",
       "      <th>50%</th>\n",
       "      <th>75%</th>\n",
       "      <th>max</th>\n",
       "    </tr>\n",
       "  </thead>\n",
       "  <tbody>\n",
       "    <tr>\n",
       "      <th>rel_compact</th>\n",
       "      <td>1154.0</td>\n",
       "      <td>0.769948</td>\n",
       "      <td>0.079041</td>\n",
       "      <td>0.62</td>\n",
       "      <td>0.740000</td>\n",
       "      <td>0.760000</td>\n",
       "      <td>0.790000</td>\n",
       "      <td>0.98</td>\n",
       "    </tr>\n",
       "    <tr>\n",
       "      <th>surface</th>\n",
       "      <td>1154.0</td>\n",
       "      <td>660.799393</td>\n",
       "      <td>66.646644</td>\n",
       "      <td>514.50</td>\n",
       "      <td>637.000000</td>\n",
       "      <td>661.500000</td>\n",
       "      <td>686.000000</td>\n",
       "      <td>808.50</td>\n",
       "    </tr>\n",
       "    <tr>\n",
       "      <th>wall</th>\n",
       "      <td>1154.0</td>\n",
       "      <td>343.403380</td>\n",
       "      <td>48.587561</td>\n",
       "      <td>245.00</td>\n",
       "      <td>318.500000</td>\n",
       "      <td>343.000000</td>\n",
       "      <td>367.500000</td>\n",
       "      <td>416.50</td>\n",
       "    </tr>\n",
       "    <tr>\n",
       "      <th>roof</th>\n",
       "      <td>1154.0</td>\n",
       "      <td>158.698007</td>\n",
       "      <td>39.640657</td>\n",
       "      <td>110.25</td>\n",
       "      <td>122.500000</td>\n",
       "      <td>147.000000</td>\n",
       "      <td>220.500000</td>\n",
       "      <td>220.50</td>\n",
       "    </tr>\n",
       "    <tr>\n",
       "      <th>height</th>\n",
       "      <td>1154.0</td>\n",
       "      <td>6.041594</td>\n",
       "      <td>1.561407</td>\n",
       "      <td>3.50</td>\n",
       "      <td>3.500000</td>\n",
       "      <td>7.000000</td>\n",
       "      <td>7.000000</td>\n",
       "      <td>7.00</td>\n",
       "    </tr>\n",
       "    <tr>\n",
       "      <th>orientation</th>\n",
       "      <td>1154.0</td>\n",
       "      <td>3.513108</td>\n",
       "      <td>1.056837</td>\n",
       "      <td>2.00</td>\n",
       "      <td>2.749117</td>\n",
       "      <td>3.628316</td>\n",
       "      <td>4.286871</td>\n",
       "      <td>5.00</td>\n",
       "    </tr>\n",
       "    <tr>\n",
       "      <th>glazing_area</th>\n",
       "      <td>1154.0</td>\n",
       "      <td>0.295572</td>\n",
       "      <td>0.123560</td>\n",
       "      <td>0.00</td>\n",
       "      <td>0.250000</td>\n",
       "      <td>0.363569</td>\n",
       "      <td>0.400000</td>\n",
       "      <td>0.40</td>\n",
       "    </tr>\n",
       "    <tr>\n",
       "      <th>glazing_area_dist</th>\n",
       "      <td>1154.0</td>\n",
       "      <td>2.866939</td>\n",
       "      <td>1.481605</td>\n",
       "      <td>0.00</td>\n",
       "      <td>1.777466</td>\n",
       "      <td>3.000000</td>\n",
       "      <td>4.000000</td>\n",
       "      <td>5.00</td>\n",
       "    </tr>\n",
       "  </tbody>\n",
       "</table>\n",
       "</div>"
      ],
      "text/plain": [
       "                    count        mean        std     min         25%  \\\n",
       "rel_compact        1154.0    0.769948   0.079041    0.62    0.740000   \n",
       "surface            1154.0  660.799393  66.646644  514.50  637.000000   \n",
       "wall               1154.0  343.403380  48.587561  245.00  318.500000   \n",
       "roof               1154.0  158.698007  39.640657  110.25  122.500000   \n",
       "height             1154.0    6.041594   1.561407    3.50    3.500000   \n",
       "orientation        1154.0    3.513108   1.056837    2.00    2.749117   \n",
       "glazing_area       1154.0    0.295572   0.123560    0.00    0.250000   \n",
       "glazing_area_dist  1154.0    2.866939   1.481605    0.00    1.777466   \n",
       "\n",
       "                          50%         75%     max  \n",
       "rel_compact          0.760000    0.790000    0.98  \n",
       "surface            661.500000  686.000000  808.50  \n",
       "wall               343.000000  367.500000  416.50  \n",
       "roof               147.000000  220.500000  220.50  \n",
       "height               7.000000    7.000000    7.00  \n",
       "orientation          3.628316    4.286871    5.00  \n",
       "glazing_area         0.363569    0.400000    0.40  \n",
       "glazing_area_dist    3.000000    4.000000    5.00  "
      ]
     },
     "execution_count": 42,
     "metadata": {},
     "output_type": "execute_result"
    }
   ],
   "source": [
    "os_df = pd.DataFrame(osx, columns=data.columns)\n",
    "os_df['labels'] = osy\n",
    "os_df.describe().T"
   ]
  },
  {
   "cell_type": "markdown",
   "metadata": {},
   "source": [
    "### Exercise\n",
    "\n",
    "- Using our new OverSampled Data, test the performance of Logistic Regression, Naive Bayes, and KNN on this data.  "
   ]
  },
  {
   "cell_type": "code",
   "execution_count": 43,
   "metadata": {
    "collapsed": false
   },
   "outputs": [
    {
     "name": "stdout",
     "output_type": "stream",
     "text": [
      "LogisticRegression(C=1, class_weight=None, dual=False, fit_intercept=True,\n",
      "          intercept_scaling=1, max_iter=100, multi_class='ovr', n_jobs=1,\n",
      "          penalty='l2', random_state=None, solver='liblinear', tol=0.0001,\n",
      "          verbose=0, warm_start=False)\n",
      "Results of Logistic Regression: \n",
      "                Predicted Class 0  Predicted Class 1\n",
      "Actual Class 0                113                 32\n",
      "Actual Class 1                  0                  9 \n",
      "\n",
      "Precision: 0.219512195122\n",
      "Recall: 1.0 \n",
      "\n",
      "============================================\n",
      "KNeighborsClassifier(algorithm='auto', leaf_size=30, metric='minkowski',\n",
      "           metric_params=None, n_jobs=1, n_neighbors=5, p=2,\n",
      "           weights='uniform')\n",
      "Results of KNN: \n",
      "                Predicted Class 0  Predicted Class 1\n",
      "Actual Class 0                128                 17\n",
      "Actual Class 1                  0                  9 \n",
      "\n",
      "Precision: 0.346153846154\n",
      "Recall: 1.0 \n",
      "\n",
      "============================================\n",
      "GaussianNB()\n",
      "Results of Naive Bayes: \n",
      "                Predicted Class 0  Predicted Class 1\n",
      "Actual Class 0                117                 28\n",
      "Actual Class 1                  0                  9 \n",
      "\n",
      "Precision: 0.243243243243\n",
      "Recall: 1.0 \n",
      "\n",
      "============================================\n"
     ]
    }
   ],
   "source": [
    "#All three at once!\n",
    "model_names = ['Logistic Regression', 'KNN', 'Naive Bayes']\n",
    "models = [LogisticRegression(C=1), KNeighborsClassifier(5), GaussianNB()]\n",
    "i = 0\n",
    "for model in models:\n",
    "    print model\n",
    "    model.fit(osx, osy)  \n",
    "    predictions = model.predict(X_test)\n",
    "\n",
    "    cm = confusion_matrix(Y_test,predictions)\n",
    "\n",
    "    #lets make that easier to read\n",
    "    cm_df = pd.DataFrame(cm, columns=['Predicted Class 0', 'Predicted Class 1'], \n",
    "                             index=['Actual Class 0', 'Actual Class 1'])\n",
    "\n",
    "    print \"Results of {}: \".format(model_names[i])\n",
    "    print cm_df,'\\n'\n",
    "    print \"Precision:\",float(cm[1,1])/(cm[0,1]+cm[1,1])\n",
    "    print \"Recall:\",float(cm[1,1])/(cm[1,0]+cm[1,1]),'\\n'\n",
    "    print \"============================================\"\n",
    "    i +=1"
   ]
  },
  {
   "cell_type": "markdown",
   "metadata": {},
   "source": [
    "But the model got worse or better? (worse)\n",
    "Well, yes and no. We traded off between precision, correctly classifying as over 40, and recall, classifying more of the positives as positives. In practice, a mixture of both Over & Under sampling is used. "
   ]
  },
  {
   "cell_type": "markdown",
   "metadata": {},
   "source": [
    "### Exercise\n",
    "- Repeat our process for a high cooling load\n",
    "- Reinstantiate your data and then set the high cooling load at an appropriate value (I'll get you started)."
   ]
  },
  {
   "cell_type": "code",
   "execution_count": 44,
   "metadata": {
    "collapsed": false
   },
   "outputs": [
    {
     "data": {
      "text/plain": [
       "False    721\n",
       "True      47\n",
       "Name: high_cool, dtype: int64"
      ]
     },
     "execution_count": 44,
     "metadata": {},
     "output_type": "execute_result"
    }
   ],
   "source": [
    "en = pd.read_csv('../data/ENB2012_data.csv',header=0)\n",
    "en['high_cool'] = en.cooling_load >= 40\n",
    "en.high_cool.value_counts()"
   ]
  },
  {
   "cell_type": "code",
   "execution_count": 45,
   "metadata": {
    "collapsed": true
   },
   "outputs": [],
   "source": [
    "#Fit a logistic regression without using over or undersampling:\n",
    "\n",
    "\n"
   ]
  },
  {
   "cell_type": "code",
   "execution_count": 46,
   "metadata": {
    "collapsed": true
   },
   "outputs": [],
   "source": [
    "#Fit a Logistic Regression using Undersampling:\n",
    "\n",
    "\n",
    "\n"
   ]
  },
  {
   "cell_type": "code",
   "execution_count": 47,
   "metadata": {
    "collapsed": true
   },
   "outputs": [],
   "source": [
    "#Fit a Logistic Regression using Oversampling:\n",
    "\n",
    "\n",
    "\n"
   ]
  },
  {
   "cell_type": "code",
   "execution_count": null,
   "metadata": {
    "collapsed": true
   },
   "outputs": [],
   "source": []
  }
 ],
 "metadata": {
  "kernelspec": {
   "display_name": "Python 2",
   "language": "python",
   "name": "python2"
  },
  "language_info": {
   "codemirror_mode": {
    "name": "ipython",
    "version": 2
   },
   "file_extension": ".py",
   "mimetype": "text/x-python",
   "name": "python",
   "nbconvert_exporter": "python",
   "pygments_lexer": "ipython2",
   "version": "2.7.12"
  }
 },
 "nbformat": 4,
 "nbformat_minor": 0
}
