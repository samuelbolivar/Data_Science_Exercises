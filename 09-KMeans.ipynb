{
 "cells": [
  {
   "cell_type": "markdown",
   "metadata": {},
   "source": [
    "# GA Data Science (DAT18) - Lab 14\n",
    "## K-Means\n",
    "KMeans is an **unsupervised** machine learning algortihm and can tell you information about the structure of your data. In this lab, we'll demonstrate the use of kmeans in sklearn & pandas and then explore this on a more advanced dataset."
   ]
  },
  {
   "cell_type": "code",
   "execution_count": 1,
   "metadata": {
    "collapsed": false
   },
   "outputs": [
    {
     "data": {
      "text/html": [
       "\n",
       "    <div class=\"bk-banner\">\n",
       "        <a href=\"http://bokeh.pydata.org\" target=\"_blank\" class=\"bk-logo bk-logo-small bk-logo-notebook\"></a>\n",
       "        <span id=\"09386123-e55d-437b-a1b4-9d72077b6de7\">Loading BokehJS ...</span>\n",
       "    </div>"
      ]
     },
     "metadata": {},
     "output_type": "display_data"
    },
    {
     "data": {
      "application/javascript": [
       "\n",
       "(function(global) {\n",
       "  function now() {\n",
       "    return new Date();\n",
       "  }\n",
       "\n",
       "  if (typeof (window._bokeh_onload_callbacks) === \"undefined\") {\n",
       "    window._bokeh_onload_callbacks = [];\n",
       "  }\n",
       "\n",
       "  function run_callbacks() {\n",
       "    window._bokeh_onload_callbacks.forEach(function(callback) { callback() });\n",
       "    delete window._bokeh_onload_callbacks\n",
       "    console.info(\"Bokeh: all callbacks have finished\");\n",
       "  }\n",
       "\n",
       "  function load_libs(js_urls, callback) {\n",
       "    window._bokeh_onload_callbacks.push(callback);\n",
       "    if (window._bokeh_is_loading > 0) {\n",
       "      console.log(\"Bokeh: BokehJS is being loaded, scheduling callback at\", now());\n",
       "      return null;\n",
       "    }\n",
       "    if (js_urls == null || js_urls.length === 0) {\n",
       "      run_callbacks();\n",
       "      return null;\n",
       "    }\n",
       "    console.log(\"Bokeh: BokehJS not loaded, scheduling load and callback at\", now());\n",
       "    window._bokeh_is_loading = js_urls.length;\n",
       "    for (var i = 0; i < js_urls.length; i++) {\n",
       "      var url = js_urls[i];\n",
       "      var s = document.createElement('script');\n",
       "      s.src = url;\n",
       "      s.async = false;\n",
       "      s.onreadystatechange = s.onload = function() {\n",
       "        window._bokeh_is_loading--;\n",
       "        if (window._bokeh_is_loading === 0) {\n",
       "          console.log(\"Bokeh: all BokehJS libraries loaded\");\n",
       "          run_callbacks()\n",
       "        }\n",
       "      };\n",
       "      s.onerror = function() {\n",
       "        console.warn(\"failed to load library \" + url);\n",
       "      };\n",
       "      console.log(\"Bokeh: injecting script tag for BokehJS library: \", url);\n",
       "      document.getElementsByTagName(\"head\")[0].appendChild(s);\n",
       "    }\n",
       "  };\n",
       "\n",
       "  var js_urls = ['https://cdn.pydata.org/bokeh/release/bokeh-0.11.1.min.js', 'https://cdn.pydata.org/bokeh/release/bokeh-widgets-0.11.1.min.js', 'https://cdn.pydata.org/bokeh/release/bokeh-compiler-0.11.1.min.js'];\n",
       "\n",
       "  var inline_js = [\n",
       "    function(Bokeh) {\n",
       "      Bokeh.set_log_level(\"info\");\n",
       "    },\n",
       "    \n",
       "    function(Bokeh) {\n",
       "      Bokeh.$(\"#09386123-e55d-437b-a1b4-9d72077b6de7\").text(\"BokehJS successfully loaded\");\n",
       "    },\n",
       "    function(Bokeh) {\n",
       "      console.log(\"Bokeh: injecting CSS: https://cdn.pydata.org/bokeh/release/bokeh-0.11.1.min.css\");\n",
       "      Bokeh.embed.inject_css(\"https://cdn.pydata.org/bokeh/release/bokeh-0.11.1.min.css\");\n",
       "      console.log(\"Bokeh: injecting CSS: https://cdn.pydata.org/bokeh/release/bokeh-widgets-0.11.1.min.css\");\n",
       "      Bokeh.embed.inject_css(\"https://cdn.pydata.org/bokeh/release/bokeh-widgets-0.11.1.min.css\");\n",
       "    }\n",
       "  ];\n",
       "\n",
       "  function run_inline_js() {\n",
       "    for (var i = 0; i < inline_js.length; i++) {\n",
       "      inline_js[i](window.Bokeh);\n",
       "    }\n",
       "  }\n",
       "\n",
       "  if (window._bokeh_is_loading === 0) {\n",
       "    console.log(\"Bokeh: BokehJS loaded, going straight to plotting\");\n",
       "    run_inline_js();\n",
       "  } else {\n",
       "    load_libs(js_urls, function() {\n",
       "      console.log(\"Bokeh: BokehJS plotting callback run at\", now());\n",
       "      run_inline_js();\n",
       "    });\n",
       "  }\n",
       "}(this));"
      ]
     },
     "metadata": {},
     "output_type": "display_data"
    }
   ],
   "source": [
    "import numpy as np\n",
    "import pandas as pd\n",
    "from sklearn.datasets import load_iris\n",
    "from sklearn.cluster import KMeans\n",
    "\n",
    "from bokeh.plotting import figure,show,output_notebook\n",
    "output_notebook()"
   ]
  },
  {
   "cell_type": "code",
   "execution_count": 2,
   "metadata": {
    "collapsed": false
   },
   "outputs": [
    {
     "data": {
      "text/plain": [
       "['sepal length (cm)',\n",
       " 'sepal width (cm)',\n",
       " 'petal length (cm)',\n",
       " 'petal width (cm)']"
      ]
     },
     "execution_count": 2,
     "metadata": {},
     "output_type": "execute_result"
    }
   ],
   "source": [
    "iris = load_iris()\n",
    "iris.feature_names"
   ]
  },
  {
   "cell_type": "code",
   "execution_count": 3,
   "metadata": {
    "collapsed": false
   },
   "outputs": [
    {
     "data": {
      "text/plain": [
       "array([[ 3.5,  1.4],\n",
       "       [ 3. ,  1.4],\n",
       "       [ 3.2,  1.3],\n",
       "       [ 3.1,  1.5],\n",
       "       [ 3.6,  1.4],\n",
       "       [ 3.9,  1.7],\n",
       "       [ 3.4,  1.4],\n",
       "       [ 3.4,  1.5],\n",
       "       [ 2.9,  1.4],\n",
       "       [ 3.1,  1.5],\n",
       "       [ 3.7,  1.5],\n",
       "       [ 3.4,  1.6],\n",
       "       [ 3. ,  1.4],\n",
       "       [ 3. ,  1.1],\n",
       "       [ 4. ,  1.2],\n",
       "       [ 4.4,  1.5],\n",
       "       [ 3.9,  1.3],\n",
       "       [ 3.5,  1.4],\n",
       "       [ 3.8,  1.7],\n",
       "       [ 3.8,  1.5]])"
      ]
     },
     "execution_count": 3,
     "metadata": {},
     "output_type": "execute_result"
    }
   ],
   "source": [
    "X = iris.data[:,1:3]\n",
    "X[:20]"
   ]
  },
  {
   "cell_type": "code",
   "execution_count": 4,
   "metadata": {
    "collapsed": false,
    "scrolled": true
   },
   "outputs": [
    {
     "data": {
      "text/plain": [
       "KMeans(copy_x=True, init='k-means++', max_iter=300, n_clusters=3, n_init=10,\n",
       "    n_jobs=1, precompute_distances='auto', random_state=None, tol=0.0001,\n",
       "    verbose=0)"
      ]
     },
     "execution_count": 4,
     "metadata": {},
     "output_type": "execute_result"
    }
   ],
   "source": [
    "km = KMeans(3)\n",
    "km.fit(X)"
   ]
  },
  {
   "cell_type": "code",
   "execution_count": 5,
   "metadata": {
    "collapsed": false
   },
   "outputs": [
    {
     "data": {
      "text/plain": [
       "array([[ 3.03255814,  5.67209302],\n",
       "       [ 3.418     ,  1.464     ],\n",
       "       [ 2.75087719,  4.32807018]])"
      ]
     },
     "execution_count": 5,
     "metadata": {},
     "output_type": "execute_result"
    }
   ],
   "source": [
    "centers = km.cluster_centers_\n",
    "centers"
   ]
  },
  {
   "cell_type": "code",
   "execution_count": 6,
   "metadata": {
    "collapsed": false
   },
   "outputs": [
    {
     "name": "stdout",
     "output_type": "stream",
     "text": [
      "['red', 'red', 'red', 'red', 'red', 'red', 'red', 'red', 'red', 'red', 'red', 'red', 'red', 'red', 'red', 'red', 'red', 'red', 'red', 'red', 'red', 'red', 'red', 'red', 'red', 'red', 'red', 'red', 'red', 'red', 'red', 'red', 'red', 'red', 'red', 'red', 'red', 'red', 'red', 'red', 'red', 'red', 'red', 'red', 'red', 'red', 'red', 'red', 'red', 'red', 'blue', 'blue', 'blue', 'blue', 'blue', 'blue', 'blue', 'blue', 'blue', 'blue', 'blue', 'blue', 'blue', 'blue', 'blue', 'blue', 'blue', 'blue', 'blue', 'blue', 'blue', 'blue', 'blue', 'blue', 'blue', 'blue', 'blue', 'blue', 'blue', 'blue', 'blue', 'blue', 'blue', 'blue', 'blue', 'blue', 'blue', 'blue', 'blue', 'blue', 'blue', 'blue', 'blue', 'blue', 'blue', 'blue', 'blue', 'blue', 'blue', 'blue', 'orange', 'orange', 'orange', 'orange', 'orange', 'orange', 'orange', 'orange', 'orange', 'orange', 'orange', 'orange', 'orange', 'orange', 'orange', 'orange', 'orange', 'orange', 'orange', 'orange', 'orange', 'orange', 'orange', 'orange', 'orange', 'orange', 'orange', 'orange', 'orange', 'orange', 'orange', 'orange', 'orange', 'orange', 'orange', 'orange', 'orange', 'orange', 'orange', 'orange', 'orange', 'orange', 'orange', 'orange', 'orange', 'orange', 'orange', 'orange', 'orange', 'orange']\n"
     ]
    }
   ],
   "source": [
    "target = iris.target\n",
    "color_mapping = {0:'red',1:'blue',2:'orange'}\n",
    "\n",
    "colors = list()\n",
    "\n",
    "for value in target:\n",
    "    new_color = color_mapping[value]\n",
    "    colors.append(new_color)\n",
    "print colors"
   ]
  },
  {
   "cell_type": "code",
   "execution_count": 7,
   "metadata": {
    "collapsed": false
   },
   "outputs": [
    {
     "data": {
      "text/html": [
       "\n",
       "\n",
       "    <div class=\"plotdiv\" id=\"cd5f5bba-80bd-4892-9f38-4fbf6cb771e4\"></div>\n",
       "<script type=\"text/javascript\">\n",
       "  \n",
       "  (function(global) {\n",
       "    function now() {\n",
       "      return new Date();\n",
       "    }\n",
       "  \n",
       "    if (typeof (window._bokeh_onload_callbacks) === \"undefined\") {\n",
       "      window._bokeh_onload_callbacks = [];\n",
       "    }\n",
       "  \n",
       "    function run_callbacks() {\n",
       "      window._bokeh_onload_callbacks.forEach(function(callback) { callback() });\n",
       "      delete window._bokeh_onload_callbacks\n",
       "      console.info(\"Bokeh: all callbacks have finished\");\n",
       "    }\n",
       "  \n",
       "    function load_libs(js_urls, callback) {\n",
       "      window._bokeh_onload_callbacks.push(callback);\n",
       "      if (window._bokeh_is_loading > 0) {\n",
       "        console.log(\"Bokeh: BokehJS is being loaded, scheduling callback at\", now());\n",
       "        return null;\n",
       "      }\n",
       "      if (js_urls == null || js_urls.length === 0) {\n",
       "        run_callbacks();\n",
       "        return null;\n",
       "      }\n",
       "      console.log(\"Bokeh: BokehJS not loaded, scheduling load and callback at\", now());\n",
       "      window._bokeh_is_loading = js_urls.length;\n",
       "      for (var i = 0; i < js_urls.length; i++) {\n",
       "        var url = js_urls[i];\n",
       "        var s = document.createElement('script');\n",
       "        s.src = url;\n",
       "        s.async = false;\n",
       "        s.onreadystatechange = s.onload = function() {\n",
       "          window._bokeh_is_loading--;\n",
       "          if (window._bokeh_is_loading === 0) {\n",
       "            console.log(\"Bokeh: all BokehJS libraries loaded\");\n",
       "            run_callbacks()\n",
       "          }\n",
       "        };\n",
       "        s.onerror = function() {\n",
       "          console.warn(\"failed to load library \" + url);\n",
       "        };\n",
       "        console.log(\"Bokeh: injecting script tag for BokehJS library: \", url);\n",
       "        document.getElementsByTagName(\"head\")[0].appendChild(s);\n",
       "      }\n",
       "    };var element = document.getElementById(\"cd5f5bba-80bd-4892-9f38-4fbf6cb771e4\");\n",
       "    if (element == null) {\n",
       "      console.log(\"Bokeh: ERROR: autoload.js configured with elementid 'cd5f5bba-80bd-4892-9f38-4fbf6cb771e4' but no matching script tag was found. \")\n",
       "      return false;\n",
       "    }\n",
       "  \n",
       "    var js_urls = [];\n",
       "  \n",
       "    var inline_js = [\n",
       "      function(Bokeh) {\n",
       "        Bokeh.$(function() {\n",
       "            var docs_json = {\"dcf0af52-1dfe-4f45-b796-dacf1107e263\":{\"roots\":{\"references\":[{\"attributes\":{},\"id\":\"c81a2147-bd6d-4ae5-9f2a-1daaa3dac064\",\"type\":\"BasicTicker\"},{\"attributes\":{\"data_source\":{\"id\":\"7d882722-cbb8-4b32-99a1-0c453a90ce48\",\"type\":\"ColumnDataSource\"},\"glyph\":{\"id\":\"a19fa60c-790c-4589-9d67-38fc72f93561\",\"type\":\"Circle\"},\"hover_glyph\":null,\"nonselection_glyph\":{\"id\":\"35855847-678e-4c18-a75b-491e75cd7168\",\"type\":\"Circle\"},\"selection_glyph\":null},\"id\":\"cd3e9038-5ffc-444a-a7f0-39fe7f18c96c\",\"type\":\"GlyphRenderer\"},{\"attributes\":{},\"id\":\"707d7ded-628a-4f83-87a9-1f874fa1e478\",\"type\":\"BasicTickFormatter\"},{\"attributes\":{},\"id\":\"db65a9ae-428f-4e05-988d-9b5e36e26090\",\"type\":\"BasicTicker\"},{\"attributes\":{\"fill_alpha\":{\"value\":0.1},\"fill_color\":{\"value\":\"#1f77b4\"},\"line_alpha\":{\"value\":0.1},\"line_color\":{\"value\":\"#1f77b4\"},\"size\":{\"units\":\"screen\",\"value\":5},\"x\":{\"field\":\"x\"},\"y\":{\"field\":\"y\"}},\"id\":\"35855847-678e-4c18-a75b-491e75cd7168\",\"type\":\"Circle\"},{\"attributes\":{\"data_source\":{\"id\":\"8aa6f40e-8a81-4692-baf1-63891d8a8322\",\"type\":\"ColumnDataSource\"},\"glyph\":{\"id\":\"e458c962-9154-4668-9656-bd949e05d3a5\",\"type\":\"Circle\"},\"hover_glyph\":null,\"nonselection_glyph\":{\"id\":\"8c8feb71-ccbb-4517-ad73-cb6febc02e48\",\"type\":\"Circle\"},\"selection_glyph\":null},\"id\":\"dd847629-50be-45aa-8c32-0bf27729636a\",\"type\":\"GlyphRenderer\"},{\"attributes\":{\"fill_color\":{\"field\":\"fill_color\"},\"line_color\":{\"field\":\"line_color\"},\"size\":{\"units\":\"screen\",\"value\":5},\"x\":{\"field\":\"x\"},\"y\":{\"field\":\"y\"}},\"id\":\"a19fa60c-790c-4589-9d67-38fc72f93561\",\"type\":\"Circle\"},{\"attributes\":{\"fill_alpha\":{\"value\":0.4},\"fill_color\":{\"value\":\"green\"},\"line_alpha\":{\"value\":0.4},\"line_color\":{\"value\":\"green\"},\"size\":{\"units\":\"screen\",\"value\":100},\"x\":{\"field\":\"x\"},\"y\":{\"field\":\"y\"}},\"id\":\"e458c962-9154-4668-9656-bd949e05d3a5\",\"type\":\"Circle\"},{\"attributes\":{\"callback\":null},\"id\":\"379959e6-76f0-4b94-968d-fe02178071df\",\"type\":\"DataRange1d\"},{\"attributes\":{},\"id\":\"9412106f-413e-4a20-b7b1-71ca35bd4cb3\",\"type\":\"ToolEvents\"},{\"attributes\":{\"dimension\":1,\"plot\":{\"id\":\"9f2f754f-ff68-40f1-82f8-ebf33f44863e\",\"subtype\":\"Figure\",\"type\":\"Plot\"},\"ticker\":{\"id\":\"db65a9ae-428f-4e05-988d-9b5e36e26090\",\"type\":\"BasicTicker\"}},\"id\":\"a1358cd2-5f16-42ab-b3cd-324df3b8ce9f\",\"type\":\"Grid\"},{\"attributes\":{\"below\":[{\"id\":\"d636b66d-c692-4b80-a6d5-1ec7af665ca3\",\"type\":\"LinearAxis\"}],\"left\":[{\"id\":\"3c4b7b49-ae6a-4d42-94ad-c72a4fd1fe15\",\"type\":\"LinearAxis\"}],\"renderers\":[{\"id\":\"d636b66d-c692-4b80-a6d5-1ec7af665ca3\",\"type\":\"LinearAxis\"},{\"id\":\"7d6bfebd-253f-43b4-b7c8-efd16064ae11\",\"type\":\"Grid\"},{\"id\":\"3c4b7b49-ae6a-4d42-94ad-c72a4fd1fe15\",\"type\":\"LinearAxis\"},{\"id\":\"a1358cd2-5f16-42ab-b3cd-324df3b8ce9f\",\"type\":\"Grid\"},{\"id\":\"cd3e9038-5ffc-444a-a7f0-39fe7f18c96c\",\"type\":\"GlyphRenderer\"},{\"id\":\"dd847629-50be-45aa-8c32-0bf27729636a\",\"type\":\"GlyphRenderer\"}],\"title\":\"Clusters in Iris Dataset\",\"tool_events\":{\"id\":\"9412106f-413e-4a20-b7b1-71ca35bd4cb3\",\"type\":\"ToolEvents\"},\"x_range\":{\"id\":\"379959e6-76f0-4b94-968d-fe02178071df\",\"type\":\"DataRange1d\"},\"y_range\":{\"id\":\"11642788-7b9e-4594-ac17-2930a431d4ef\",\"type\":\"DataRange1d\"}},\"id\":\"9f2f754f-ff68-40f1-82f8-ebf33f44863e\",\"subtype\":\"Figure\",\"type\":\"Plot\"},{\"attributes\":{},\"id\":\"ea7dd9f6-d2e5-4e0f-a4be-58f48f6544da\",\"type\":\"BasicTickFormatter\"},{\"attributes\":{\"formatter\":{\"id\":\"ea7dd9f6-d2e5-4e0f-a4be-58f48f6544da\",\"type\":\"BasicTickFormatter\"},\"plot\":{\"id\":\"9f2f754f-ff68-40f1-82f8-ebf33f44863e\",\"subtype\":\"Figure\",\"type\":\"Plot\"},\"ticker\":{\"id\":\"c81a2147-bd6d-4ae5-9f2a-1daaa3dac064\",\"type\":\"BasicTicker\"}},\"id\":\"d636b66d-c692-4b80-a6d5-1ec7af665ca3\",\"type\":\"LinearAxis\"},{\"attributes\":{\"plot\":{\"id\":\"9f2f754f-ff68-40f1-82f8-ebf33f44863e\",\"subtype\":\"Figure\",\"type\":\"Plot\"},\"ticker\":{\"id\":\"c81a2147-bd6d-4ae5-9f2a-1daaa3dac064\",\"type\":\"BasicTicker\"}},\"id\":\"7d6bfebd-253f-43b4-b7c8-efd16064ae11\",\"type\":\"Grid\"},{\"attributes\":{\"fill_alpha\":{\"value\":0.1},\"fill_color\":{\"value\":\"#1f77b4\"},\"line_alpha\":{\"value\":0.1},\"line_color\":{\"value\":\"#1f77b4\"},\"size\":{\"units\":\"screen\",\"value\":100},\"x\":{\"field\":\"x\"},\"y\":{\"field\":\"y\"}},\"id\":\"8c8feb71-ccbb-4517-ad73-cb6febc02e48\",\"type\":\"Circle\"},{\"attributes\":{\"callback\":null},\"id\":\"11642788-7b9e-4594-ac17-2930a431d4ef\",\"type\":\"DataRange1d\"},{\"attributes\":{\"callback\":null,\"column_names\":[\"y\",\"x\",\"line_color\",\"fill_color\"],\"data\":{\"fill_color\":[\"red\",\"red\",\"red\",\"red\",\"red\",\"red\",\"red\",\"red\",\"red\",\"red\",\"red\",\"red\",\"red\",\"red\",\"red\",\"red\",\"red\",\"red\",\"red\",\"red\",\"red\",\"red\",\"red\",\"red\",\"red\",\"red\",\"red\",\"red\",\"red\",\"red\",\"red\",\"red\",\"red\",\"red\",\"red\",\"red\",\"red\",\"red\",\"red\",\"red\",\"red\",\"red\",\"red\",\"red\",\"red\",\"red\",\"red\",\"red\",\"red\",\"red\",\"blue\",\"blue\",\"blue\",\"blue\",\"blue\",\"blue\",\"blue\",\"blue\",\"blue\",\"blue\",\"blue\",\"blue\",\"blue\",\"blue\",\"blue\",\"blue\",\"blue\",\"blue\",\"blue\",\"blue\",\"blue\",\"blue\",\"blue\",\"blue\",\"blue\",\"blue\",\"blue\",\"blue\",\"blue\",\"blue\",\"blue\",\"blue\",\"blue\",\"blue\",\"blue\",\"blue\",\"blue\",\"blue\",\"blue\",\"blue\",\"blue\",\"blue\",\"blue\",\"blue\",\"blue\",\"blue\",\"blue\",\"blue\",\"blue\",\"blue\",\"orange\",\"orange\",\"orange\",\"orange\",\"orange\",\"orange\",\"orange\",\"orange\",\"orange\",\"orange\",\"orange\",\"orange\",\"orange\",\"orange\",\"orange\",\"orange\",\"orange\",\"orange\",\"orange\",\"orange\",\"orange\",\"orange\",\"orange\",\"orange\",\"orange\",\"orange\",\"orange\",\"orange\",\"orange\",\"orange\",\"orange\",\"orange\",\"orange\",\"orange\",\"orange\",\"orange\",\"orange\",\"orange\",\"orange\",\"orange\",\"orange\",\"orange\",\"orange\",\"orange\",\"orange\",\"orange\",\"orange\",\"orange\",\"orange\",\"orange\"],\"line_color\":[\"red\",\"red\",\"red\",\"red\",\"red\",\"red\",\"red\",\"red\",\"red\",\"red\",\"red\",\"red\",\"red\",\"red\",\"red\",\"red\",\"red\",\"red\",\"red\",\"red\",\"red\",\"red\",\"red\",\"red\",\"red\",\"red\",\"red\",\"red\",\"red\",\"red\",\"red\",\"red\",\"red\",\"red\",\"red\",\"red\",\"red\",\"red\",\"red\",\"red\",\"red\",\"red\",\"red\",\"red\",\"red\",\"red\",\"red\",\"red\",\"red\",\"red\",\"blue\",\"blue\",\"blue\",\"blue\",\"blue\",\"blue\",\"blue\",\"blue\",\"blue\",\"blue\",\"blue\",\"blue\",\"blue\",\"blue\",\"blue\",\"blue\",\"blue\",\"blue\",\"blue\",\"blue\",\"blue\",\"blue\",\"blue\",\"blue\",\"blue\",\"blue\",\"blue\",\"blue\",\"blue\",\"blue\",\"blue\",\"blue\",\"blue\",\"blue\",\"blue\",\"blue\",\"blue\",\"blue\",\"blue\",\"blue\",\"blue\",\"blue\",\"blue\",\"blue\",\"blue\",\"blue\",\"blue\",\"blue\",\"blue\",\"blue\",\"orange\",\"orange\",\"orange\",\"orange\",\"orange\",\"orange\",\"orange\",\"orange\",\"orange\",\"orange\",\"orange\",\"orange\",\"orange\",\"orange\",\"orange\",\"orange\",\"orange\",\"orange\",\"orange\",\"orange\",\"orange\",\"orange\",\"orange\",\"orange\",\"orange\",\"orange\",\"orange\",\"orange\",\"orange\",\"orange\",\"orange\",\"orange\",\"orange\",\"orange\",\"orange\",\"orange\",\"orange\",\"orange\",\"orange\",\"orange\",\"orange\",\"orange\",\"orange\",\"orange\",\"orange\",\"orange\",\"orange\",\"orange\",\"orange\",\"orange\"],\"x\":[3.5,3.0,3.2,3.1,3.6,3.9,3.4,3.4,2.9,3.1,3.7,3.4,3.0,3.0,4.0,4.4,3.9,3.5,3.8,3.8,3.4,3.7,3.6,3.3,3.4,3.0,3.4,3.5,3.4,3.2,3.1,3.4,4.1,4.2,3.1,3.2,3.5,3.1,3.0,3.4,3.5,2.3,3.2,3.5,3.8,3.0,3.8,3.2,3.7,3.3,3.2,3.2,3.1,2.3,2.8,2.8,3.3,2.4,2.9,2.7,2.0,3.0,2.2,2.9,2.9,3.1,3.0,2.7,2.2,2.5,3.2,2.8,2.5,2.8,2.9,3.0,2.8,3.0,2.9,2.6,2.4,2.4,2.7,2.7,3.0,3.4,3.1,2.3,3.0,2.5,2.6,3.0,2.6,2.3,2.7,3.0,2.9,2.9,2.5,2.8,3.3,2.7,3.0,2.9,3.0,3.0,2.5,2.9,2.5,3.6,3.2,2.7,3.0,2.5,2.8,3.2,3.0,3.8,2.6,2.2,3.2,2.8,2.8,2.7,3.3,3.2,2.8,3.0,2.8,3.0,2.8,3.8,2.8,2.8,2.6,3.0,3.4,3.1,3.0,3.1,3.1,3.1,2.7,3.2,3.3,3.0,2.5,3.0,3.4,3.0],\"y\":[1.4,1.4,1.3,1.5,1.4,1.7,1.4,1.5,1.4,1.5,1.5,1.6,1.4,1.1,1.2,1.5,1.3,1.4,1.7,1.5,1.7,1.5,1.0,1.7,1.9,1.6,1.6,1.5,1.4,1.6,1.6,1.5,1.5,1.4,1.5,1.2,1.3,1.5,1.3,1.5,1.3,1.3,1.3,1.6,1.9,1.4,1.6,1.4,1.5,1.4,4.7,4.5,4.9,4.0,4.6,4.5,4.7,3.3,4.6,3.9,3.5,4.2,4.0,4.7,3.6,4.4,4.5,4.1,4.5,3.9,4.8,4.0,4.9,4.7,4.3,4.4,4.8,5.0,4.5,3.5,3.8,3.7,3.9,5.1,4.5,4.5,4.7,4.4,4.1,4.0,4.4,4.6,4.0,3.3,4.2,4.2,4.2,4.3,3.0,4.1,6.0,5.1,5.9,5.6,5.8,6.6,4.5,6.3,5.8,6.1,5.1,5.3,5.5,5.0,5.1,5.3,5.5,6.7,6.9,5.0,5.7,4.9,6.7,4.9,5.7,6.0,4.8,4.9,5.6,5.8,6.1,6.4,5.6,5.1,5.6,6.1,5.6,5.5,4.8,5.4,5.6,5.1,5.1,5.9,5.7,5.2,5.0,5.2,5.4,5.1]}},\"id\":\"7d882722-cbb8-4b32-99a1-0c453a90ce48\",\"type\":\"ColumnDataSource\"},{\"attributes\":{\"formatter\":{\"id\":\"707d7ded-628a-4f83-87a9-1f874fa1e478\",\"type\":\"BasicTickFormatter\"},\"plot\":{\"id\":\"9f2f754f-ff68-40f1-82f8-ebf33f44863e\",\"subtype\":\"Figure\",\"type\":\"Plot\"},\"ticker\":{\"id\":\"db65a9ae-428f-4e05-988d-9b5e36e26090\",\"type\":\"BasicTicker\"}},\"id\":\"3c4b7b49-ae6a-4d42-94ad-c72a4fd1fe15\",\"type\":\"LinearAxis\"},{\"attributes\":{\"callback\":null,\"column_names\":[\"y\",\"x\"],\"data\":{\"x\":[3.0325581395348835,3.418,2.7508771929824563],\"y\":[5.6720930232558135,1.4639999999999995,4.328070175438596]}},\"id\":\"8aa6f40e-8a81-4692-baf1-63891d8a8322\",\"type\":\"ColumnDataSource\"}],\"root_ids\":[\"9f2f754f-ff68-40f1-82f8-ebf33f44863e\"]},\"title\":\"Bokeh Application\",\"version\":\"0.11.1\"}};\n",
       "            var render_items = [{\"docid\":\"dcf0af52-1dfe-4f45-b796-dacf1107e263\",\"elementid\":\"cd5f5bba-80bd-4892-9f38-4fbf6cb771e4\",\"modelid\":\"9f2f754f-ff68-40f1-82f8-ebf33f44863e\",\"notebook_comms_target\":\"b60368ac-b860-46ff-9880-fd3e2b9dbac1\"}];\n",
       "            \n",
       "            Bokeh.embed.embed_items(docs_json, render_items);\n",
       "        });\n",
       "      },\n",
       "      function(Bokeh) {\n",
       "      }\n",
       "    ];\n",
       "  \n",
       "    function run_inline_js() {\n",
       "      for (var i = 0; i < inline_js.length; i++) {\n",
       "        inline_js[i](window.Bokeh);\n",
       "      }\n",
       "    }\n",
       "  \n",
       "    if (window._bokeh_is_loading === 0) {\n",
       "      console.log(\"Bokeh: BokehJS loaded, going straight to plotting\");\n",
       "      run_inline_js();\n",
       "    } else {\n",
       "      load_libs(js_urls, function() {\n",
       "        console.log(\"Bokeh: BokehJS plotting callback run at\", now());\n",
       "        run_inline_js();\n",
       "      });\n",
       "    }\n",
       "  }(this));\n",
       "</script>"
      ]
     },
     "metadata": {},
     "output_type": "display_data"
    },
    {
     "data": {
      "text/html": [
       "<p><code>&lt;Bokeh Notebook handle for <strong>In[7]</strong>&gt;</code></p>"
      ],
      "text/plain": [
       "<bokeh.io._CommsHandle at 0x114b71a50>"
      ]
     },
     "execution_count": 7,
     "metadata": {},
     "output_type": "execute_result"
    }
   ],
   "source": [
    "sepal_w = X[:,0]\n",
    "petal_l = X[:,1]\n",
    "\n",
    "p = figure(title=\"Clusters in Iris Dataset\",tools='')\n",
    "\n",
    "p.circle(x = sepal_w,y=petal_l,size = 5,color=colors)\n",
    "\n",
    "\n",
    "p.circle(x= centers[:,0],y=centers[:,1],\n",
    "        alpha=0.4,\n",
    "        color='green',\n",
    "        size=100)\n",
    "\n",
    "show(p)"
   ]
  },
  {
   "cell_type": "code",
   "execution_count": 8,
   "metadata": {
    "collapsed": false
   },
   "outputs": [
    {
     "data": {
      "text/html": [
       "\n",
       "\n",
       "    <div class=\"plotdiv\" id=\"55d6d165-f883-412d-85e5-fd2178d8ff3d\"></div>\n",
       "<script type=\"text/javascript\">\n",
       "  \n",
       "  (function(global) {\n",
       "    function now() {\n",
       "      return new Date();\n",
       "    }\n",
       "  \n",
       "    if (typeof (window._bokeh_onload_callbacks) === \"undefined\") {\n",
       "      window._bokeh_onload_callbacks = [];\n",
       "    }\n",
       "  \n",
       "    function run_callbacks() {\n",
       "      window._bokeh_onload_callbacks.forEach(function(callback) { callback() });\n",
       "      delete window._bokeh_onload_callbacks\n",
       "      console.info(\"Bokeh: all callbacks have finished\");\n",
       "    }\n",
       "  \n",
       "    function load_libs(js_urls, callback) {\n",
       "      window._bokeh_onload_callbacks.push(callback);\n",
       "      if (window._bokeh_is_loading > 0) {\n",
       "        console.log(\"Bokeh: BokehJS is being loaded, scheduling callback at\", now());\n",
       "        return null;\n",
       "      }\n",
       "      if (js_urls == null || js_urls.length === 0) {\n",
       "        run_callbacks();\n",
       "        return null;\n",
       "      }\n",
       "      console.log(\"Bokeh: BokehJS not loaded, scheduling load and callback at\", now());\n",
       "      window._bokeh_is_loading = js_urls.length;\n",
       "      for (var i = 0; i < js_urls.length; i++) {\n",
       "        var url = js_urls[i];\n",
       "        var s = document.createElement('script');\n",
       "        s.src = url;\n",
       "        s.async = false;\n",
       "        s.onreadystatechange = s.onload = function() {\n",
       "          window._bokeh_is_loading--;\n",
       "          if (window._bokeh_is_loading === 0) {\n",
       "            console.log(\"Bokeh: all BokehJS libraries loaded\");\n",
       "            run_callbacks()\n",
       "          }\n",
       "        };\n",
       "        s.onerror = function() {\n",
       "          console.warn(\"failed to load library \" + url);\n",
       "        };\n",
       "        console.log(\"Bokeh: injecting script tag for BokehJS library: \", url);\n",
       "        document.getElementsByTagName(\"head\")[0].appendChild(s);\n",
       "      }\n",
       "    };var element = document.getElementById(\"55d6d165-f883-412d-85e5-fd2178d8ff3d\");\n",
       "    if (element == null) {\n",
       "      console.log(\"Bokeh: ERROR: autoload.js configured with elementid '55d6d165-f883-412d-85e5-fd2178d8ff3d' but no matching script tag was found. \")\n",
       "      return false;\n",
       "    }\n",
       "  \n",
       "    var js_urls = [];\n",
       "  \n",
       "    var inline_js = [\n",
       "      function(Bokeh) {\n",
       "        Bokeh.$(function() {\n",
       "            var docs_json = {\"f969c303-45de-49b2-8c15-6da802a6cde8\":{\"roots\":{\"references\":[{\"attributes\":{},\"id\":\"c81a2147-bd6d-4ae5-9f2a-1daaa3dac064\",\"type\":\"BasicTicker\"},{\"attributes\":{},\"id\":\"a6748004-bbc0-49b2-b644-f847640fa304\",\"type\":\"BasicTicker\"},{\"attributes\":{\"callback\":null,\"column_names\":[\"y\",\"x\"],\"data\":{\"x\":[3.0325581395348835,3.418,2.7508771929824563],\"y\":[5.6720930232558135,1.4639999999999995,4.328070175438596]}},\"id\":\"8aa6f40e-8a81-4692-baf1-63891d8a8322\",\"type\":\"ColumnDataSource\"},{\"attributes\":{\"data_source\":{\"id\":\"8aa6f40e-8a81-4692-baf1-63891d8a8322\",\"type\":\"ColumnDataSource\"},\"glyph\":{\"id\":\"e458c962-9154-4668-9656-bd949e05d3a5\",\"type\":\"Circle\"},\"hover_glyph\":null,\"nonselection_glyph\":{\"id\":\"8c8feb71-ccbb-4517-ad73-cb6febc02e48\",\"type\":\"Circle\"},\"selection_glyph\":null},\"id\":\"dd847629-50be-45aa-8c32-0bf27729636a\",\"type\":\"GlyphRenderer\"},{\"attributes\":{\"callback\":null},\"id\":\"379959e6-76f0-4b94-968d-fe02178071df\",\"type\":\"DataRange1d\"},{\"attributes\":{\"callback\":null,\"column_names\":[\"y\",\"x\",\"line_color\",\"fill_color\"],\"data\":{\"fill_color\":[\"red\",\"red\",\"red\",\"red\",\"red\",\"red\",\"red\",\"red\",\"red\",\"red\",\"red\",\"red\",\"red\",\"red\",\"red\",\"red\",\"red\",\"red\",\"red\",\"red\",\"red\",\"red\",\"red\",\"red\",\"red\",\"red\",\"red\",\"red\",\"red\",\"red\",\"red\",\"red\",\"red\",\"red\",\"red\",\"red\",\"red\",\"red\",\"red\",\"red\",\"red\",\"red\",\"red\",\"red\",\"red\",\"red\",\"red\",\"red\",\"red\",\"red\",\"blue\",\"blue\",\"blue\",\"blue\",\"blue\",\"blue\",\"blue\",\"blue\",\"blue\",\"blue\",\"blue\",\"blue\",\"blue\",\"blue\",\"blue\",\"blue\",\"blue\",\"blue\",\"blue\",\"blue\",\"blue\",\"blue\",\"blue\",\"blue\",\"blue\",\"blue\",\"blue\",\"blue\",\"blue\",\"blue\",\"blue\",\"blue\",\"blue\",\"blue\",\"blue\",\"blue\",\"blue\",\"blue\",\"blue\",\"blue\",\"blue\",\"blue\",\"blue\",\"blue\",\"blue\",\"blue\",\"blue\",\"blue\",\"blue\",\"blue\",\"orange\",\"orange\",\"orange\",\"orange\",\"orange\",\"orange\",\"orange\",\"orange\",\"orange\",\"orange\",\"orange\",\"orange\",\"orange\",\"orange\",\"orange\",\"orange\",\"orange\",\"orange\",\"orange\",\"orange\",\"orange\",\"orange\",\"orange\",\"orange\",\"orange\",\"orange\",\"orange\",\"orange\",\"orange\",\"orange\",\"orange\",\"orange\",\"orange\",\"orange\",\"orange\",\"orange\",\"orange\",\"orange\",\"orange\",\"orange\",\"orange\",\"orange\",\"orange\",\"orange\",\"orange\",\"orange\",\"orange\",\"orange\",\"orange\",\"orange\"],\"line_color\":[\"red\",\"red\",\"red\",\"red\",\"red\",\"red\",\"red\",\"red\",\"red\",\"red\",\"red\",\"red\",\"red\",\"red\",\"red\",\"red\",\"red\",\"red\",\"red\",\"red\",\"red\",\"red\",\"red\",\"red\",\"red\",\"red\",\"red\",\"red\",\"red\",\"red\",\"red\",\"red\",\"red\",\"red\",\"red\",\"red\",\"red\",\"red\",\"red\",\"red\",\"red\",\"red\",\"red\",\"red\",\"red\",\"red\",\"red\",\"red\",\"red\",\"red\",\"blue\",\"blue\",\"blue\",\"blue\",\"blue\",\"blue\",\"blue\",\"blue\",\"blue\",\"blue\",\"blue\",\"blue\",\"blue\",\"blue\",\"blue\",\"blue\",\"blue\",\"blue\",\"blue\",\"blue\",\"blue\",\"blue\",\"blue\",\"blue\",\"blue\",\"blue\",\"blue\",\"blue\",\"blue\",\"blue\",\"blue\",\"blue\",\"blue\",\"blue\",\"blue\",\"blue\",\"blue\",\"blue\",\"blue\",\"blue\",\"blue\",\"blue\",\"blue\",\"blue\",\"blue\",\"blue\",\"blue\",\"blue\",\"blue\",\"blue\",\"orange\",\"orange\",\"orange\",\"orange\",\"orange\",\"orange\",\"orange\",\"orange\",\"orange\",\"orange\",\"orange\",\"orange\",\"orange\",\"orange\",\"orange\",\"orange\",\"orange\",\"orange\",\"orange\",\"orange\",\"orange\",\"orange\",\"orange\",\"orange\",\"orange\",\"orange\",\"orange\",\"orange\",\"orange\",\"orange\",\"orange\",\"orange\",\"orange\",\"orange\",\"orange\",\"orange\",\"orange\",\"orange\",\"orange\",\"orange\",\"orange\",\"orange\",\"orange\",\"orange\",\"orange\",\"orange\",\"orange\",\"orange\",\"orange\",\"orange\"],\"x\":[3.5,3.0,3.2,3.1,3.6,3.9,3.4,3.4,2.9,3.1,3.7,3.4,3.0,3.0,4.0,4.4,3.9,3.5,3.8,3.8,3.4,3.7,3.6,3.3,3.4,3.0,3.4,3.5,3.4,3.2,3.1,3.4,4.1,4.2,3.1,3.2,3.5,3.1,3.0,3.4,3.5,2.3,3.2,3.5,3.8,3.0,3.8,3.2,3.7,3.3,3.2,3.2,3.1,2.3,2.8,2.8,3.3,2.4,2.9,2.7,2.0,3.0,2.2,2.9,2.9,3.1,3.0,2.7,2.2,2.5,3.2,2.8,2.5,2.8,2.9,3.0,2.8,3.0,2.9,2.6,2.4,2.4,2.7,2.7,3.0,3.4,3.1,2.3,3.0,2.5,2.6,3.0,2.6,2.3,2.7,3.0,2.9,2.9,2.5,2.8,3.3,2.7,3.0,2.9,3.0,3.0,2.5,2.9,2.5,3.6,3.2,2.7,3.0,2.5,2.8,3.2,3.0,3.8,2.6,2.2,3.2,2.8,2.8,2.7,3.3,3.2,2.8,3.0,2.8,3.0,2.8,3.8,2.8,2.8,2.6,3.0,3.4,3.1,3.0,3.1,3.1,3.1,2.7,3.2,3.3,3.0,2.5,3.0,3.4,3.0],\"y\":[1.4,1.4,1.3,1.5,1.4,1.7,1.4,1.5,1.4,1.5,1.5,1.6,1.4,1.1,1.2,1.5,1.3,1.4,1.7,1.5,1.7,1.5,1.0,1.7,1.9,1.6,1.6,1.5,1.4,1.6,1.6,1.5,1.5,1.4,1.5,1.2,1.3,1.5,1.3,1.5,1.3,1.3,1.3,1.6,1.9,1.4,1.6,1.4,1.5,1.4,4.7,4.5,4.9,4.0,4.6,4.5,4.7,3.3,4.6,3.9,3.5,4.2,4.0,4.7,3.6,4.4,4.5,4.1,4.5,3.9,4.8,4.0,4.9,4.7,4.3,4.4,4.8,5.0,4.5,3.5,3.8,3.7,3.9,5.1,4.5,4.5,4.7,4.4,4.1,4.0,4.4,4.6,4.0,3.3,4.2,4.2,4.2,4.3,3.0,4.1,6.0,5.1,5.9,5.6,5.8,6.6,4.5,6.3,5.8,6.1,5.1,5.3,5.5,5.0,5.1,5.3,5.5,6.7,6.9,5.0,5.7,4.9,6.7,4.9,5.7,6.0,4.8,4.9,5.6,5.8,6.1,6.4,5.6,5.1,5.6,6.1,5.6,5.5,4.8,5.4,5.6,5.1,5.1,5.9,5.7,5.2,5.0,5.2,5.4,5.1]}},\"id\":\"c7a73d8a-d2e8-49c2-bfcf-13fb53eec9b0\",\"type\":\"ColumnDataSource\"},{\"attributes\":{\"data_source\":{\"id\":\"d5ecbb11-38f2-4ae9-966c-a3ad5e5b5367\",\"type\":\"ColumnDataSource\"},\"glyph\":{\"id\":\"82a9a0a4-06b0-418f-b030-5fb5ba14ba90\",\"type\":\"Circle\"},\"hover_glyph\":null,\"nonselection_glyph\":{\"id\":\"5b2e0d6c-dc8f-474b-bf43-d0aa017affbc\",\"type\":\"Circle\"},\"selection_glyph\":null},\"id\":\"7f9d9874-f117-4549-847e-5f91dcd24fdc\",\"type\":\"GlyphRenderer\"},{\"attributes\":{\"below\":[{\"id\":\"d636b66d-c692-4b80-a6d5-1ec7af665ca3\",\"type\":\"LinearAxis\"}],\"left\":[{\"id\":\"3c4b7b49-ae6a-4d42-94ad-c72a4fd1fe15\",\"type\":\"LinearAxis\"}],\"renderers\":[{\"id\":\"d636b66d-c692-4b80-a6d5-1ec7af665ca3\",\"type\":\"LinearAxis\"},{\"id\":\"7d6bfebd-253f-43b4-b7c8-efd16064ae11\",\"type\":\"Grid\"},{\"id\":\"3c4b7b49-ae6a-4d42-94ad-c72a4fd1fe15\",\"type\":\"LinearAxis\"},{\"id\":\"a1358cd2-5f16-42ab-b3cd-324df3b8ce9f\",\"type\":\"Grid\"},{\"id\":\"cd3e9038-5ffc-444a-a7f0-39fe7f18c96c\",\"type\":\"GlyphRenderer\"},{\"id\":\"dd847629-50be-45aa-8c32-0bf27729636a\",\"type\":\"GlyphRenderer\"}],\"title\":\"Clusters in Iris Dataset\",\"tool_events\":{\"id\":\"9412106f-413e-4a20-b7b1-71ca35bd4cb3\",\"type\":\"ToolEvents\"},\"x_range\":{\"id\":\"379959e6-76f0-4b94-968d-fe02178071df\",\"type\":\"DataRange1d\"},\"y_range\":{\"id\":\"11642788-7b9e-4594-ac17-2930a431d4ef\",\"type\":\"DataRange1d\"}},\"id\":\"9f2f754f-ff68-40f1-82f8-ebf33f44863e\",\"subtype\":\"Figure\",\"type\":\"Plot\"},{\"attributes\":{\"below\":[{\"id\":\"0a8227ea-103a-444b-903b-f43ae8fd9650\",\"type\":\"LinearAxis\"}],\"left\":[{\"id\":\"096b42b4-a8e0-4274-8364-b762d2ae55cb\",\"type\":\"LinearAxis\"}],\"renderers\":[{\"id\":\"0a8227ea-103a-444b-903b-f43ae8fd9650\",\"type\":\"LinearAxis\"},{\"id\":\"aff0c6f5-aa17-4d23-863d-5f12383d975f\",\"type\":\"Grid\"},{\"id\":\"096b42b4-a8e0-4274-8364-b762d2ae55cb\",\"type\":\"LinearAxis\"},{\"id\":\"cd43fa18-5a87-4bd2-99fe-9d448dcda2c8\",\"type\":\"Grid\"},{\"id\":\"cf6db517-536e-4d1c-8fea-5dfc4c3fc67b\",\"type\":\"GlyphRenderer\"},{\"id\":\"7f9d9874-f117-4549-847e-5f91dcd24fdc\",\"type\":\"GlyphRenderer\"}],\"title\":\"Many Clusters in Iris Dataset\",\"tool_events\":{\"id\":\"bc62dbf6-6109-43c7-9bd3-7c9b41cf22f9\",\"type\":\"ToolEvents\"},\"x_range\":{\"id\":\"b285a1e1-92c4-4d83-b2cb-a5ff31e366b6\",\"type\":\"DataRange1d\"},\"y_range\":{\"id\":\"d79a1779-cda4-4f2c-a462-d7572b732cb7\",\"type\":\"DataRange1d\"}},\"id\":\"47fdee04-5a93-46b7-9175-d70b93fd8948\",\"subtype\":\"Figure\",\"type\":\"Plot\"},{\"attributes\":{\"formatter\":{\"id\":\"ea7dd9f6-d2e5-4e0f-a4be-58f48f6544da\",\"type\":\"BasicTickFormatter\"},\"plot\":{\"id\":\"9f2f754f-ff68-40f1-82f8-ebf33f44863e\",\"subtype\":\"Figure\",\"type\":\"Plot\"},\"ticker\":{\"id\":\"c81a2147-bd6d-4ae5-9f2a-1daaa3dac064\",\"type\":\"BasicTicker\"}},\"id\":\"d636b66d-c692-4b80-a6d5-1ec7af665ca3\",\"type\":\"LinearAxis\"},{\"attributes\":{\"callback\":null},\"id\":\"11642788-7b9e-4594-ac17-2930a431d4ef\",\"type\":\"DataRange1d\"},{\"attributes\":{\"callback\":null},\"id\":\"d79a1779-cda4-4f2c-a462-d7572b732cb7\",\"type\":\"DataRange1d\"},{\"attributes\":{\"fill_color\":{\"field\":\"fill_color\"},\"line_color\":{\"field\":\"line_color\"},\"size\":{\"units\":\"screen\",\"value\":5},\"x\":{\"field\":\"x\"},\"y\":{\"field\":\"y\"}},\"id\":\"a19fa60c-790c-4589-9d67-38fc72f93561\",\"type\":\"Circle\"},{\"attributes\":{\"fill_color\":{\"field\":\"fill_color\"},\"line_color\":{\"field\":\"line_color\"},\"size\":{\"units\":\"screen\",\"value\":5},\"x\":{\"field\":\"x\"},\"y\":{\"field\":\"y\"}},\"id\":\"cb75f747-2ccb-4e9f-bb43-ebf0ff80a664\",\"type\":\"Circle\"},{\"attributes\":{\"fill_alpha\":{\"value\":0.4},\"fill_color\":{\"value\":\"green\"},\"line_alpha\":{\"value\":0.4},\"line_color\":{\"value\":\"green\"},\"size\":{\"units\":\"screen\",\"value\":100},\"x\":{\"field\":\"x\"},\"y\":{\"field\":\"y\"}},\"id\":\"e458c962-9154-4668-9656-bd949e05d3a5\",\"type\":\"Circle\"},{\"attributes\":{\"callback\":null,\"column_names\":[\"y\",\"x\"],\"data\":{\"x\":[3.05,3.43,2.54,3.1083333333333334,3.15,2.4375,2.657142857142857,3.9076923076923076,3.0043478260869563,3.0294117647058822],\"y\":[5.759090909090909,1.4849999999999999,4.126666666666667,5.116666666666667,6.6,3.4625,5.007142857142857,1.523076923076923,4.48695652173913,1.394117647058823]}},\"id\":\"d5ecbb11-38f2-4ae9-966c-a3ad5e5b5367\",\"type\":\"ColumnDataSource\"},{\"attributes\":{\"fill_alpha\":{\"value\":0.4},\"fill_color\":{\"value\":\"green\"},\"line_alpha\":{\"value\":0.4},\"line_color\":{\"value\":\"green\"},\"size\":{\"units\":\"screen\",\"value\":100},\"x\":{\"field\":\"x\"},\"y\":{\"field\":\"y\"}},\"id\":\"82a9a0a4-06b0-418f-b030-5fb5ba14ba90\",\"type\":\"Circle\"},{\"attributes\":{},\"id\":\"9ae7887e-1650-44aa-9774-661e19298ed1\",\"type\":\"BasicTickFormatter\"},{\"attributes\":{\"callback\":null,\"column_names\":[\"y\",\"x\",\"line_color\",\"fill_color\"],\"data\":{\"fill_color\":[\"red\",\"red\",\"red\",\"red\",\"red\",\"red\",\"red\",\"red\",\"red\",\"red\",\"red\",\"red\",\"red\",\"red\",\"red\",\"red\",\"red\",\"red\",\"red\",\"red\",\"red\",\"red\",\"red\",\"red\",\"red\",\"red\",\"red\",\"red\",\"red\",\"red\",\"red\",\"red\",\"red\",\"red\",\"red\",\"red\",\"red\",\"red\",\"red\",\"red\",\"red\",\"red\",\"red\",\"red\",\"red\",\"red\",\"red\",\"red\",\"red\",\"red\",\"blue\",\"blue\",\"blue\",\"blue\",\"blue\",\"blue\",\"blue\",\"blue\",\"blue\",\"blue\",\"blue\",\"blue\",\"blue\",\"blue\",\"blue\",\"blue\",\"blue\",\"blue\",\"blue\",\"blue\",\"blue\",\"blue\",\"blue\",\"blue\",\"blue\",\"blue\",\"blue\",\"blue\",\"blue\",\"blue\",\"blue\",\"blue\",\"blue\",\"blue\",\"blue\",\"blue\",\"blue\",\"blue\",\"blue\",\"blue\",\"blue\",\"blue\",\"blue\",\"blue\",\"blue\",\"blue\",\"blue\",\"blue\",\"blue\",\"blue\",\"orange\",\"orange\",\"orange\",\"orange\",\"orange\",\"orange\",\"orange\",\"orange\",\"orange\",\"orange\",\"orange\",\"orange\",\"orange\",\"orange\",\"orange\",\"orange\",\"orange\",\"orange\",\"orange\",\"orange\",\"orange\",\"orange\",\"orange\",\"orange\",\"orange\",\"orange\",\"orange\",\"orange\",\"orange\",\"orange\",\"orange\",\"orange\",\"orange\",\"orange\",\"orange\",\"orange\",\"orange\",\"orange\",\"orange\",\"orange\",\"orange\",\"orange\",\"orange\",\"orange\",\"orange\",\"orange\",\"orange\",\"orange\",\"orange\",\"orange\"],\"line_color\":[\"red\",\"red\",\"red\",\"red\",\"red\",\"red\",\"red\",\"red\",\"red\",\"red\",\"red\",\"red\",\"red\",\"red\",\"red\",\"red\",\"red\",\"red\",\"red\",\"red\",\"red\",\"red\",\"red\",\"red\",\"red\",\"red\",\"red\",\"red\",\"red\",\"red\",\"red\",\"red\",\"red\",\"red\",\"red\",\"red\",\"red\",\"red\",\"red\",\"red\",\"red\",\"red\",\"red\",\"red\",\"red\",\"red\",\"red\",\"red\",\"red\",\"red\",\"blue\",\"blue\",\"blue\",\"blue\",\"blue\",\"blue\",\"blue\",\"blue\",\"blue\",\"blue\",\"blue\",\"blue\",\"blue\",\"blue\",\"blue\",\"blue\",\"blue\",\"blue\",\"blue\",\"blue\",\"blue\",\"blue\",\"blue\",\"blue\",\"blue\",\"blue\",\"blue\",\"blue\",\"blue\",\"blue\",\"blue\",\"blue\",\"blue\",\"blue\",\"blue\",\"blue\",\"blue\",\"blue\",\"blue\",\"blue\",\"blue\",\"blue\",\"blue\",\"blue\",\"blue\",\"blue\",\"blue\",\"blue\",\"blue\",\"blue\",\"orange\",\"orange\",\"orange\",\"orange\",\"orange\",\"orange\",\"orange\",\"orange\",\"orange\",\"orange\",\"orange\",\"orange\",\"orange\",\"orange\",\"orange\",\"orange\",\"orange\",\"orange\",\"orange\",\"orange\",\"orange\",\"orange\",\"orange\",\"orange\",\"orange\",\"orange\",\"orange\",\"orange\",\"orange\",\"orange\",\"orange\",\"orange\",\"orange\",\"orange\",\"orange\",\"orange\",\"orange\",\"orange\",\"orange\",\"orange\",\"orange\",\"orange\",\"orange\",\"orange\",\"orange\",\"orange\",\"orange\",\"orange\",\"orange\",\"orange\"],\"x\":[3.5,3.0,3.2,3.1,3.6,3.9,3.4,3.4,2.9,3.1,3.7,3.4,3.0,3.0,4.0,4.4,3.9,3.5,3.8,3.8,3.4,3.7,3.6,3.3,3.4,3.0,3.4,3.5,3.4,3.2,3.1,3.4,4.1,4.2,3.1,3.2,3.5,3.1,3.0,3.4,3.5,2.3,3.2,3.5,3.8,3.0,3.8,3.2,3.7,3.3,3.2,3.2,3.1,2.3,2.8,2.8,3.3,2.4,2.9,2.7,2.0,3.0,2.2,2.9,2.9,3.1,3.0,2.7,2.2,2.5,3.2,2.8,2.5,2.8,2.9,3.0,2.8,3.0,2.9,2.6,2.4,2.4,2.7,2.7,3.0,3.4,3.1,2.3,3.0,2.5,2.6,3.0,2.6,2.3,2.7,3.0,2.9,2.9,2.5,2.8,3.3,2.7,3.0,2.9,3.0,3.0,2.5,2.9,2.5,3.6,3.2,2.7,3.0,2.5,2.8,3.2,3.0,3.8,2.6,2.2,3.2,2.8,2.8,2.7,3.3,3.2,2.8,3.0,2.8,3.0,2.8,3.8,2.8,2.8,2.6,3.0,3.4,3.1,3.0,3.1,3.1,3.1,2.7,3.2,3.3,3.0,2.5,3.0,3.4,3.0],\"y\":[1.4,1.4,1.3,1.5,1.4,1.7,1.4,1.5,1.4,1.5,1.5,1.6,1.4,1.1,1.2,1.5,1.3,1.4,1.7,1.5,1.7,1.5,1.0,1.7,1.9,1.6,1.6,1.5,1.4,1.6,1.6,1.5,1.5,1.4,1.5,1.2,1.3,1.5,1.3,1.5,1.3,1.3,1.3,1.6,1.9,1.4,1.6,1.4,1.5,1.4,4.7,4.5,4.9,4.0,4.6,4.5,4.7,3.3,4.6,3.9,3.5,4.2,4.0,4.7,3.6,4.4,4.5,4.1,4.5,3.9,4.8,4.0,4.9,4.7,4.3,4.4,4.8,5.0,4.5,3.5,3.8,3.7,3.9,5.1,4.5,4.5,4.7,4.4,4.1,4.0,4.4,4.6,4.0,3.3,4.2,4.2,4.2,4.3,3.0,4.1,6.0,5.1,5.9,5.6,5.8,6.6,4.5,6.3,5.8,6.1,5.1,5.3,5.5,5.0,5.1,5.3,5.5,6.7,6.9,5.0,5.7,4.9,6.7,4.9,5.7,6.0,4.8,4.9,5.6,5.8,6.1,6.4,5.6,5.1,5.6,6.1,5.6,5.5,4.8,5.4,5.6,5.1,5.1,5.9,5.7,5.2,5.0,5.2,5.4,5.1]}},\"id\":\"7d882722-cbb8-4b32-99a1-0c453a90ce48\",\"type\":\"ColumnDataSource\"},{\"attributes\":{\"formatter\":{\"id\":\"707d7ded-628a-4f83-87a9-1f874fa1e478\",\"type\":\"BasicTickFormatter\"},\"plot\":{\"id\":\"9f2f754f-ff68-40f1-82f8-ebf33f44863e\",\"subtype\":\"Figure\",\"type\":\"Plot\"},\"ticker\":{\"id\":\"db65a9ae-428f-4e05-988d-9b5e36e26090\",\"type\":\"BasicTicker\"}},\"id\":\"3c4b7b49-ae6a-4d42-94ad-c72a4fd1fe15\",\"type\":\"LinearAxis\"},{\"attributes\":{\"data_source\":{\"id\":\"7d882722-cbb8-4b32-99a1-0c453a90ce48\",\"type\":\"ColumnDataSource\"},\"glyph\":{\"id\":\"a19fa60c-790c-4589-9d67-38fc72f93561\",\"type\":\"Circle\"},\"hover_glyph\":null,\"nonselection_glyph\":{\"id\":\"35855847-678e-4c18-a75b-491e75cd7168\",\"type\":\"Circle\"},\"selection_glyph\":null},\"id\":\"cd3e9038-5ffc-444a-a7f0-39fe7f18c96c\",\"type\":\"GlyphRenderer\"},{\"attributes\":{},\"id\":\"db65a9ae-428f-4e05-988d-9b5e36e26090\",\"type\":\"BasicTicker\"},{\"attributes\":{\"fill_alpha\":{\"value\":0.1},\"fill_color\":{\"value\":\"#1f77b4\"},\"line_alpha\":{\"value\":0.1},\"line_color\":{\"value\":\"#1f77b4\"},\"size\":{\"units\":\"screen\",\"value\":5},\"x\":{\"field\":\"x\"},\"y\":{\"field\":\"y\"}},\"id\":\"35855847-678e-4c18-a75b-491e75cd7168\",\"type\":\"Circle\"},{\"attributes\":{},\"id\":\"fa9e2f87-b9db-4332-a28f-4ff7605ab3cd\",\"type\":\"BasicTicker\"},{\"attributes\":{\"data_source\":{\"id\":\"c7a73d8a-d2e8-49c2-bfcf-13fb53eec9b0\",\"type\":\"ColumnDataSource\"},\"glyph\":{\"id\":\"cb75f747-2ccb-4e9f-bb43-ebf0ff80a664\",\"type\":\"Circle\"},\"hover_glyph\":null,\"nonselection_glyph\":{\"id\":\"3e0e8362-ac97-4a2c-9079-e30e82d3523d\",\"type\":\"Circle\"},\"selection_glyph\":null},\"id\":\"cf6db517-536e-4d1c-8fea-5dfc4c3fc67b\",\"type\":\"GlyphRenderer\"},{\"attributes\":{\"dimension\":1,\"plot\":{\"id\":\"9f2f754f-ff68-40f1-82f8-ebf33f44863e\",\"subtype\":\"Figure\",\"type\":\"Plot\"},\"ticker\":{\"id\":\"db65a9ae-428f-4e05-988d-9b5e36e26090\",\"type\":\"BasicTicker\"}},\"id\":\"a1358cd2-5f16-42ab-b3cd-324df3b8ce9f\",\"type\":\"Grid\"},{\"attributes\":{\"fill_alpha\":{\"value\":0.1},\"fill_color\":{\"value\":\"#1f77b4\"},\"line_alpha\":{\"value\":0.1},\"line_color\":{\"value\":\"#1f77b4\"},\"size\":{\"units\":\"screen\",\"value\":5},\"x\":{\"field\":\"x\"},\"y\":{\"field\":\"y\"}},\"id\":\"3e0e8362-ac97-4a2c-9079-e30e82d3523d\",\"type\":\"Circle\"},{\"attributes\":{},\"id\":\"ea7dd9f6-d2e5-4e0f-a4be-58f48f6544da\",\"type\":\"BasicTickFormatter\"},{\"attributes\":{\"formatter\":{\"id\":\"9ae7887e-1650-44aa-9774-661e19298ed1\",\"type\":\"BasicTickFormatter\"},\"plot\":{\"id\":\"47fdee04-5a93-46b7-9175-d70b93fd8948\",\"subtype\":\"Figure\",\"type\":\"Plot\"},\"ticker\":{\"id\":\"a6748004-bbc0-49b2-b644-f847640fa304\",\"type\":\"BasicTicker\"}},\"id\":\"096b42b4-a8e0-4274-8364-b762d2ae55cb\",\"type\":\"LinearAxis\"},{\"attributes\":{\"fill_alpha\":{\"value\":0.1},\"fill_color\":{\"value\":\"#1f77b4\"},\"line_alpha\":{\"value\":0.1},\"line_color\":{\"value\":\"#1f77b4\"},\"size\":{\"units\":\"screen\",\"value\":100},\"x\":{\"field\":\"x\"},\"y\":{\"field\":\"y\"}},\"id\":\"8c8feb71-ccbb-4517-ad73-cb6febc02e48\",\"type\":\"Circle\"},{\"attributes\":{},\"id\":\"aa99ab63-c4ce-4ab4-875d-64c255ff85f7\",\"type\":\"BasicTickFormatter\"},{\"attributes\":{},\"id\":\"bc62dbf6-6109-43c7-9bd3-7c9b41cf22f9\",\"type\":\"ToolEvents\"},{\"attributes\":{\"plot\":{\"id\":\"47fdee04-5a93-46b7-9175-d70b93fd8948\",\"subtype\":\"Figure\",\"type\":\"Plot\"},\"ticker\":{\"id\":\"fa9e2f87-b9db-4332-a28f-4ff7605ab3cd\",\"type\":\"BasicTicker\"}},\"id\":\"aff0c6f5-aa17-4d23-863d-5f12383d975f\",\"type\":\"Grid\"},{\"attributes\":{\"fill_alpha\":{\"value\":0.1},\"fill_color\":{\"value\":\"#1f77b4\"},\"line_alpha\":{\"value\":0.1},\"line_color\":{\"value\":\"#1f77b4\"},\"size\":{\"units\":\"screen\",\"value\":100},\"x\":{\"field\":\"x\"},\"y\":{\"field\":\"y\"}},\"id\":\"5b2e0d6c-dc8f-474b-bf43-d0aa017affbc\",\"type\":\"Circle\"},{\"attributes\":{\"plot\":{\"id\":\"9f2f754f-ff68-40f1-82f8-ebf33f44863e\",\"subtype\":\"Figure\",\"type\":\"Plot\"},\"ticker\":{\"id\":\"c81a2147-bd6d-4ae5-9f2a-1daaa3dac064\",\"type\":\"BasicTicker\"}},\"id\":\"7d6bfebd-253f-43b4-b7c8-efd16064ae11\",\"type\":\"Grid\"},{\"attributes\":{},\"id\":\"9412106f-413e-4a20-b7b1-71ca35bd4cb3\",\"type\":\"ToolEvents\"},{\"attributes\":{\"callback\":null},\"id\":\"b285a1e1-92c4-4d83-b2cb-a5ff31e366b6\",\"type\":\"DataRange1d\"},{\"attributes\":{\"formatter\":{\"id\":\"aa99ab63-c4ce-4ab4-875d-64c255ff85f7\",\"type\":\"BasicTickFormatter\"},\"plot\":{\"id\":\"47fdee04-5a93-46b7-9175-d70b93fd8948\",\"subtype\":\"Figure\",\"type\":\"Plot\"},\"ticker\":{\"id\":\"fa9e2f87-b9db-4332-a28f-4ff7605ab3cd\",\"type\":\"BasicTicker\"}},\"id\":\"0a8227ea-103a-444b-903b-f43ae8fd9650\",\"type\":\"LinearAxis\"},{\"attributes\":{},\"id\":\"707d7ded-628a-4f83-87a9-1f874fa1e478\",\"type\":\"BasicTickFormatter\"},{\"attributes\":{\"dimension\":1,\"plot\":{\"id\":\"47fdee04-5a93-46b7-9175-d70b93fd8948\",\"subtype\":\"Figure\",\"type\":\"Plot\"},\"ticker\":{\"id\":\"a6748004-bbc0-49b2-b644-f847640fa304\",\"type\":\"BasicTicker\"}},\"id\":\"cd43fa18-5a87-4bd2-99fe-9d448dcda2c8\",\"type\":\"Grid\"}],\"root_ids\":[\"9f2f754f-ff68-40f1-82f8-ebf33f44863e\",\"47fdee04-5a93-46b7-9175-d70b93fd8948\"]},\"title\":\"Bokeh Application\",\"version\":\"0.11.1\"}};\n",
       "            var render_items = [{\"docid\":\"f969c303-45de-49b2-8c15-6da802a6cde8\",\"elementid\":\"55d6d165-f883-412d-85e5-fd2178d8ff3d\",\"modelid\":\"47fdee04-5a93-46b7-9175-d70b93fd8948\",\"notebook_comms_target\":\"0db9387f-96e1-403d-8af5-240ef426e575\"}];\n",
       "            \n",
       "            Bokeh.embed.embed_items(docs_json, render_items);\n",
       "        });\n",
       "      },\n",
       "      function(Bokeh) {\n",
       "      }\n",
       "    ];\n",
       "  \n",
       "    function run_inline_js() {\n",
       "      for (var i = 0; i < inline_js.length; i++) {\n",
       "        inline_js[i](window.Bokeh);\n",
       "      }\n",
       "    }\n",
       "  \n",
       "    if (window._bokeh_is_loading === 0) {\n",
       "      console.log(\"Bokeh: BokehJS loaded, going straight to plotting\");\n",
       "      run_inline_js();\n",
       "    } else {\n",
       "      load_libs(js_urls, function() {\n",
       "        console.log(\"Bokeh: BokehJS plotting callback run at\", now());\n",
       "        run_inline_js();\n",
       "      });\n",
       "    }\n",
       "  }(this));\n",
       "</script>"
      ]
     },
     "metadata": {},
     "output_type": "display_data"
    },
    {
     "data": {
      "text/html": [
       "<p><code>&lt;Bokeh Notebook handle for <strong>In[8]</strong>&gt;</code></p>"
      ],
      "text/plain": [
       "<bokeh.io._CommsHandle at 0x114b71ed0>"
      ]
     },
     "execution_count": 8,
     "metadata": {},
     "output_type": "execute_result"
    }
   ],
   "source": [
    "manykm = KMeans(10)\n",
    "manykm.fit(X)\n",
    "manycenters = manykm.cluster_centers_\n",
    "\n",
    "p = figure(title=\"Many Clusters in Iris Dataset\",tools='')\n",
    "\n",
    "p.circle(x = sepal_w,y=petal_l,size = 5,color=colors)\n",
    "\n",
    "\n",
    "p.circle(x= manycenters[:,0],y=manycenters[:,1],\n",
    "        alpha=0.4,\n",
    "        color='green',\n",
    "        size=100)\n",
    "\n",
    "show(p)"
   ]
  },
  {
   "cell_type": "markdown",
   "metadata": {},
   "source": [
    "But which is right?\n",
    "\n",
    "Note that the model also stores what the points for the model are in the `.labels_` attribute.\n",
    "\n",
    "### Let's compare the silhouette scores!"
   ]
  },
  {
   "cell_type": "code",
   "execution_count": 9,
   "metadata": {
    "collapsed": false
   },
   "outputs": [
    {
     "data": {
      "text/plain": [
       "0.59306543356057906"
      ]
     },
     "execution_count": 9,
     "metadata": {},
     "output_type": "execute_result"
    }
   ],
   "source": [
    "from sklearn.metrics import silhouette_score\n",
    "\n",
    "labels = km.labels_\n",
    "\n",
    "silhouette_score(X,labels,metric='euclidean')"
   ]
  },
  {
   "cell_type": "code",
   "execution_count": 10,
   "metadata": {
    "collapsed": false,
    "scrolled": true
   },
   "outputs": [
    {
     "data": {
      "text/plain": [
       "0.36378111793120022"
      ]
     },
     "execution_count": 10,
     "metadata": {},
     "output_type": "execute_result"
    }
   ],
   "source": [
    "manylabels = manykm.labels_\n",
    "silhouette_score(X,manylabels,metric='euclidean')"
   ]
  },
  {
   "cell_type": "markdown",
   "metadata": {},
   "source": [
    "Clearly 3 clusters wins.\n",
    "\n",
    "#### Exercise: \n",
    "Plot the silhouette score as a function of k from 2 to 15. Anything surprising?"
   ]
  },
  {
   "cell_type": "code",
   "execution_count": 11,
   "metadata": {
    "collapsed": false
   },
   "outputs": [
    {
     "name": "stdout",
     "output_type": "stream",
     "text": [
      "2 0.738876507245\n",
      "3 0.593065433561\n",
      "4 0.560474768703\n",
      "5 0.427349539129\n",
      "6 0.382190621363\n",
      "7 0.403064687867\n",
      "8 0.373650861008\n",
      "9 0.390750208392\n",
      "10 0.388554283276\n",
      "11 0.383384514671\n",
      "12 0.362710019569\n",
      "13 0.365010538332\n",
      "14 0.38370563626\n",
      "15 0.372932004659\n"
     ]
    },
    {
     "data": {
      "text/html": [
       "\n",
       "\n",
       "    <div class=\"plotdiv\" id=\"30fd1ab6-6413-4968-ab36-a682b64abe97\"></div>\n",
       "<script type=\"text/javascript\">\n",
       "  \n",
       "  (function(global) {\n",
       "    function now() {\n",
       "      return new Date();\n",
       "    }\n",
       "  \n",
       "    if (typeof (window._bokeh_onload_callbacks) === \"undefined\") {\n",
       "      window._bokeh_onload_callbacks = [];\n",
       "    }\n",
       "  \n",
       "    function run_callbacks() {\n",
       "      window._bokeh_onload_callbacks.forEach(function(callback) { callback() });\n",
       "      delete window._bokeh_onload_callbacks\n",
       "      console.info(\"Bokeh: all callbacks have finished\");\n",
       "    }\n",
       "  \n",
       "    function load_libs(js_urls, callback) {\n",
       "      window._bokeh_onload_callbacks.push(callback);\n",
       "      if (window._bokeh_is_loading > 0) {\n",
       "        console.log(\"Bokeh: BokehJS is being loaded, scheduling callback at\", now());\n",
       "        return null;\n",
       "      }\n",
       "      if (js_urls == null || js_urls.length === 0) {\n",
       "        run_callbacks();\n",
       "        return null;\n",
       "      }\n",
       "      console.log(\"Bokeh: BokehJS not loaded, scheduling load and callback at\", now());\n",
       "      window._bokeh_is_loading = js_urls.length;\n",
       "      for (var i = 0; i < js_urls.length; i++) {\n",
       "        var url = js_urls[i];\n",
       "        var s = document.createElement('script');\n",
       "        s.src = url;\n",
       "        s.async = false;\n",
       "        s.onreadystatechange = s.onload = function() {\n",
       "          window._bokeh_is_loading--;\n",
       "          if (window._bokeh_is_loading === 0) {\n",
       "            console.log(\"Bokeh: all BokehJS libraries loaded\");\n",
       "            run_callbacks()\n",
       "          }\n",
       "        };\n",
       "        s.onerror = function() {\n",
       "          console.warn(\"failed to load library \" + url);\n",
       "        };\n",
       "        console.log(\"Bokeh: injecting script tag for BokehJS library: \", url);\n",
       "        document.getElementsByTagName(\"head\")[0].appendChild(s);\n",
       "      }\n",
       "    };var element = document.getElementById(\"30fd1ab6-6413-4968-ab36-a682b64abe97\");\n",
       "    if (element == null) {\n",
       "      console.log(\"Bokeh: ERROR: autoload.js configured with elementid '30fd1ab6-6413-4968-ab36-a682b64abe97' but no matching script tag was found. \")\n",
       "      return false;\n",
       "    }\n",
       "  \n",
       "    var js_urls = [];\n",
       "  \n",
       "    var inline_js = [\n",
       "      function(Bokeh) {\n",
       "        Bokeh.$(function() {\n",
       "            var docs_json = {\"3e213ece-747a-48ab-9059-4db3b2b9eaae\":{\"roots\":{\"references\":[{\"attributes\":{},\"id\":\"c81a2147-bd6d-4ae5-9f2a-1daaa3dac064\",\"type\":\"BasicTicker\"},{\"attributes\":{},\"id\":\"a6748004-bbc0-49b2-b644-f847640fa304\",\"type\":\"BasicTicker\"},{\"attributes\":{\"fill_alpha\":{\"value\":0.1},\"fill_color\":{\"value\":\"#1f77b4\"},\"line_alpha\":{\"value\":0.1},\"line_color\":{\"value\":\"#1f77b4\"},\"size\":{\"units\":\"screen\",\"value\":100},\"x\":{\"field\":\"x\"},\"y\":{\"field\":\"y\"}},\"id\":\"8c8feb71-ccbb-4517-ad73-cb6febc02e48\",\"type\":\"Circle\"},{\"attributes\":{\"callback\":null,\"column_names\":[\"y\",\"x\"],\"data\":{\"x\":[3.0325581395348835,3.418,2.7508771929824563],\"y\":[5.6720930232558135,1.4639999999999995,4.328070175438596]}},\"id\":\"8aa6f40e-8a81-4692-baf1-63891d8a8322\",\"type\":\"ColumnDataSource\"},{\"attributes\":{\"data_source\":{\"id\":\"8aa6f40e-8a81-4692-baf1-63891d8a8322\",\"type\":\"ColumnDataSource\"},\"glyph\":{\"id\":\"e458c962-9154-4668-9656-bd949e05d3a5\",\"type\":\"Circle\"},\"hover_glyph\":null,\"nonselection_glyph\":{\"id\":\"8c8feb71-ccbb-4517-ad73-cb6febc02e48\",\"type\":\"Circle\"},\"selection_glyph\":null},\"id\":\"dd847629-50be-45aa-8c32-0bf27729636a\",\"type\":\"GlyphRenderer\"},{\"attributes\":{\"callback\":null},\"id\":\"379959e6-76f0-4b94-968d-fe02178071df\",\"type\":\"DataRange1d\"},{\"attributes\":{\"callback\":null,\"column_names\":[\"y\",\"x\",\"line_color\",\"fill_color\"],\"data\":{\"fill_color\":[\"red\",\"red\",\"red\",\"red\",\"red\",\"red\",\"red\",\"red\",\"red\",\"red\",\"red\",\"red\",\"red\",\"red\",\"red\",\"red\",\"red\",\"red\",\"red\",\"red\",\"red\",\"red\",\"red\",\"red\",\"red\",\"red\",\"red\",\"red\",\"red\",\"red\",\"red\",\"red\",\"red\",\"red\",\"red\",\"red\",\"red\",\"red\",\"red\",\"red\",\"red\",\"red\",\"red\",\"red\",\"red\",\"red\",\"red\",\"red\",\"red\",\"red\",\"blue\",\"blue\",\"blue\",\"blue\",\"blue\",\"blue\",\"blue\",\"blue\",\"blue\",\"blue\",\"blue\",\"blue\",\"blue\",\"blue\",\"blue\",\"blue\",\"blue\",\"blue\",\"blue\",\"blue\",\"blue\",\"blue\",\"blue\",\"blue\",\"blue\",\"blue\",\"blue\",\"blue\",\"blue\",\"blue\",\"blue\",\"blue\",\"blue\",\"blue\",\"blue\",\"blue\",\"blue\",\"blue\",\"blue\",\"blue\",\"blue\",\"blue\",\"blue\",\"blue\",\"blue\",\"blue\",\"blue\",\"blue\",\"blue\",\"blue\",\"orange\",\"orange\",\"orange\",\"orange\",\"orange\",\"orange\",\"orange\",\"orange\",\"orange\",\"orange\",\"orange\",\"orange\",\"orange\",\"orange\",\"orange\",\"orange\",\"orange\",\"orange\",\"orange\",\"orange\",\"orange\",\"orange\",\"orange\",\"orange\",\"orange\",\"orange\",\"orange\",\"orange\",\"orange\",\"orange\",\"orange\",\"orange\",\"orange\",\"orange\",\"orange\",\"orange\",\"orange\",\"orange\",\"orange\",\"orange\",\"orange\",\"orange\",\"orange\",\"orange\",\"orange\",\"orange\",\"orange\",\"orange\",\"orange\",\"orange\"],\"line_color\":[\"red\",\"red\",\"red\",\"red\",\"red\",\"red\",\"red\",\"red\",\"red\",\"red\",\"red\",\"red\",\"red\",\"red\",\"red\",\"red\",\"red\",\"red\",\"red\",\"red\",\"red\",\"red\",\"red\",\"red\",\"red\",\"red\",\"red\",\"red\",\"red\",\"red\",\"red\",\"red\",\"red\",\"red\",\"red\",\"red\",\"red\",\"red\",\"red\",\"red\",\"red\",\"red\",\"red\",\"red\",\"red\",\"red\",\"red\",\"red\",\"red\",\"red\",\"blue\",\"blue\",\"blue\",\"blue\",\"blue\",\"blue\",\"blue\",\"blue\",\"blue\",\"blue\",\"blue\",\"blue\",\"blue\",\"blue\",\"blue\",\"blue\",\"blue\",\"blue\",\"blue\",\"blue\",\"blue\",\"blue\",\"blue\",\"blue\",\"blue\",\"blue\",\"blue\",\"blue\",\"blue\",\"blue\",\"blue\",\"blue\",\"blue\",\"blue\",\"blue\",\"blue\",\"blue\",\"blue\",\"blue\",\"blue\",\"blue\",\"blue\",\"blue\",\"blue\",\"blue\",\"blue\",\"blue\",\"blue\",\"blue\",\"blue\",\"orange\",\"orange\",\"orange\",\"orange\",\"orange\",\"orange\",\"orange\",\"orange\",\"orange\",\"orange\",\"orange\",\"orange\",\"orange\",\"orange\",\"orange\",\"orange\",\"orange\",\"orange\",\"orange\",\"orange\",\"orange\",\"orange\",\"orange\",\"orange\",\"orange\",\"orange\",\"orange\",\"orange\",\"orange\",\"orange\",\"orange\",\"orange\",\"orange\",\"orange\",\"orange\",\"orange\",\"orange\",\"orange\",\"orange\",\"orange\",\"orange\",\"orange\",\"orange\",\"orange\",\"orange\",\"orange\",\"orange\",\"orange\",\"orange\",\"orange\"],\"x\":[3.5,3.0,3.2,3.1,3.6,3.9,3.4,3.4,2.9,3.1,3.7,3.4,3.0,3.0,4.0,4.4,3.9,3.5,3.8,3.8,3.4,3.7,3.6,3.3,3.4,3.0,3.4,3.5,3.4,3.2,3.1,3.4,4.1,4.2,3.1,3.2,3.5,3.1,3.0,3.4,3.5,2.3,3.2,3.5,3.8,3.0,3.8,3.2,3.7,3.3,3.2,3.2,3.1,2.3,2.8,2.8,3.3,2.4,2.9,2.7,2.0,3.0,2.2,2.9,2.9,3.1,3.0,2.7,2.2,2.5,3.2,2.8,2.5,2.8,2.9,3.0,2.8,3.0,2.9,2.6,2.4,2.4,2.7,2.7,3.0,3.4,3.1,2.3,3.0,2.5,2.6,3.0,2.6,2.3,2.7,3.0,2.9,2.9,2.5,2.8,3.3,2.7,3.0,2.9,3.0,3.0,2.5,2.9,2.5,3.6,3.2,2.7,3.0,2.5,2.8,3.2,3.0,3.8,2.6,2.2,3.2,2.8,2.8,2.7,3.3,3.2,2.8,3.0,2.8,3.0,2.8,3.8,2.8,2.8,2.6,3.0,3.4,3.1,3.0,3.1,3.1,3.1,2.7,3.2,3.3,3.0,2.5,3.0,3.4,3.0],\"y\":[1.4,1.4,1.3,1.5,1.4,1.7,1.4,1.5,1.4,1.5,1.5,1.6,1.4,1.1,1.2,1.5,1.3,1.4,1.7,1.5,1.7,1.5,1.0,1.7,1.9,1.6,1.6,1.5,1.4,1.6,1.6,1.5,1.5,1.4,1.5,1.2,1.3,1.5,1.3,1.5,1.3,1.3,1.3,1.6,1.9,1.4,1.6,1.4,1.5,1.4,4.7,4.5,4.9,4.0,4.6,4.5,4.7,3.3,4.6,3.9,3.5,4.2,4.0,4.7,3.6,4.4,4.5,4.1,4.5,3.9,4.8,4.0,4.9,4.7,4.3,4.4,4.8,5.0,4.5,3.5,3.8,3.7,3.9,5.1,4.5,4.5,4.7,4.4,4.1,4.0,4.4,4.6,4.0,3.3,4.2,4.2,4.2,4.3,3.0,4.1,6.0,5.1,5.9,5.6,5.8,6.6,4.5,6.3,5.8,6.1,5.1,5.3,5.5,5.0,5.1,5.3,5.5,6.7,6.9,5.0,5.7,4.9,6.7,4.9,5.7,6.0,4.8,4.9,5.6,5.8,6.1,6.4,5.6,5.1,5.6,6.1,5.6,5.5,4.8,5.4,5.6,5.1,5.1,5.9,5.7,5.2,5.0,5.2,5.4,5.1]}},\"id\":\"c7a73d8a-d2e8-49c2-bfcf-13fb53eec9b0\",\"type\":\"ColumnDataSource\"},{\"attributes\":{},\"id\":\"5527c948-b165-4894-b284-b3b58f451843\",\"type\":\"BasicTicker\"},{\"attributes\":{\"below\":[{\"id\":\"d636b66d-c692-4b80-a6d5-1ec7af665ca3\",\"type\":\"LinearAxis\"}],\"left\":[{\"id\":\"3c4b7b49-ae6a-4d42-94ad-c72a4fd1fe15\",\"type\":\"LinearAxis\"}],\"renderers\":[{\"id\":\"d636b66d-c692-4b80-a6d5-1ec7af665ca3\",\"type\":\"LinearAxis\"},{\"id\":\"7d6bfebd-253f-43b4-b7c8-efd16064ae11\",\"type\":\"Grid\"},{\"id\":\"3c4b7b49-ae6a-4d42-94ad-c72a4fd1fe15\",\"type\":\"LinearAxis\"},{\"id\":\"a1358cd2-5f16-42ab-b3cd-324df3b8ce9f\",\"type\":\"Grid\"},{\"id\":\"cd3e9038-5ffc-444a-a7f0-39fe7f18c96c\",\"type\":\"GlyphRenderer\"},{\"id\":\"dd847629-50be-45aa-8c32-0bf27729636a\",\"type\":\"GlyphRenderer\"}],\"title\":\"Clusters in Iris Dataset\",\"tool_events\":{\"id\":\"9412106f-413e-4a20-b7b1-71ca35bd4cb3\",\"type\":\"ToolEvents\"},\"x_range\":{\"id\":\"379959e6-76f0-4b94-968d-fe02178071df\",\"type\":\"DataRange1d\"},\"y_range\":{\"id\":\"11642788-7b9e-4594-ac17-2930a431d4ef\",\"type\":\"DataRange1d\"}},\"id\":\"9f2f754f-ff68-40f1-82f8-ebf33f44863e\",\"subtype\":\"Figure\",\"type\":\"Plot\"},{\"attributes\":{\"callback\":null,\"column_names\":[\"y\",\"x\"],\"data\":{\"x\":[3.05,3.43,2.54,3.1083333333333334,3.15,2.4375,2.657142857142857,3.9076923076923076,3.0043478260869563,3.0294117647058822],\"y\":[5.759090909090909,1.4849999999999999,4.126666666666667,5.116666666666667,6.6,3.4625,5.007142857142857,1.523076923076923,4.48695652173913,1.394117647058823]}},\"id\":\"d5ecbb11-38f2-4ae9-966c-a3ad5e5b5367\",\"type\":\"ColumnDataSource\"},{\"attributes\":{\"formatter\":{\"id\":\"ea7dd9f6-d2e5-4e0f-a4be-58f48f6544da\",\"type\":\"BasicTickFormatter\"},\"plot\":{\"id\":\"9f2f754f-ff68-40f1-82f8-ebf33f44863e\",\"subtype\":\"Figure\",\"type\":\"Plot\"},\"ticker\":{\"id\":\"c81a2147-bd6d-4ae5-9f2a-1daaa3dac064\",\"type\":\"BasicTicker\"}},\"id\":\"d636b66d-c692-4b80-a6d5-1ec7af665ca3\",\"type\":\"LinearAxis\"},{\"attributes\":{},\"id\":\"db65a9ae-428f-4e05-988d-9b5e36e26090\",\"type\":\"BasicTicker\"},{\"attributes\":{\"callback\":null},\"id\":\"d79a1779-cda4-4f2c-a462-d7572b732cb7\",\"type\":\"DataRange1d\"},{\"attributes\":{\"formatter\":{\"id\":\"74a1e311-095f-4e22-b6d2-f302facdf2c6\",\"type\":\"BasicTickFormatter\"},\"plot\":{\"id\":\"f7797f50-c2c1-4fa2-863d-c7bab6253d6f\",\"subtype\":\"Figure\",\"type\":\"Plot\"},\"ticker\":{\"id\":\"5527c948-b165-4894-b284-b3b58f451843\",\"type\":\"BasicTicker\"}},\"id\":\"6280374d-43e9-4dc0-a776-5db7209bac7e\",\"type\":\"LinearAxis\"},{\"attributes\":{\"fill_color\":{\"field\":\"fill_color\"},\"line_color\":{\"field\":\"line_color\"},\"size\":{\"units\":\"screen\",\"value\":5},\"x\":{\"field\":\"x\"},\"y\":{\"field\":\"y\"}},\"id\":\"a19fa60c-790c-4589-9d67-38fc72f93561\",\"type\":\"Circle\"},{\"attributes\":{\"fill_color\":{\"field\":\"fill_color\"},\"line_color\":{\"field\":\"line_color\"},\"size\":{\"units\":\"screen\",\"value\":5},\"x\":{\"field\":\"x\"},\"y\":{\"field\":\"y\"}},\"id\":\"cb75f747-2ccb-4e9f-bb43-ebf0ff80a664\",\"type\":\"Circle\"},{\"attributes\":{\"fill_alpha\":{\"value\":0.4},\"fill_color\":{\"value\":\"green\"},\"line_alpha\":{\"value\":0.4},\"line_color\":{\"value\":\"green\"},\"size\":{\"units\":\"screen\",\"value\":100},\"x\":{\"field\":\"x\"},\"y\":{\"field\":\"y\"}},\"id\":\"e458c962-9154-4668-9656-bd949e05d3a5\",\"type\":\"Circle\"},{\"attributes\":{\"formatter\":{\"id\":\"7927e8ab-62a4-4593-9c67-21ebdac5c6d6\",\"type\":\"BasicTickFormatter\"},\"plot\":{\"id\":\"f7797f50-c2c1-4fa2-863d-c7bab6253d6f\",\"subtype\":\"Figure\",\"type\":\"Plot\"},\"ticker\":{\"id\":\"3ff67822-d913-4c65-94f4-38cd1509a371\",\"type\":\"BasicTicker\"}},\"id\":\"be22e79f-d9f9-4eef-bce9-183e5ce2786c\",\"type\":\"LinearAxis\"},{\"attributes\":{},\"id\":\"7927e8ab-62a4-4593-9c67-21ebdac5c6d6\",\"type\":\"BasicTickFormatter\"},{\"attributes\":{\"below\":[{\"id\":\"0a8227ea-103a-444b-903b-f43ae8fd9650\",\"type\":\"LinearAxis\"}],\"left\":[{\"id\":\"096b42b4-a8e0-4274-8364-b762d2ae55cb\",\"type\":\"LinearAxis\"}],\"renderers\":[{\"id\":\"0a8227ea-103a-444b-903b-f43ae8fd9650\",\"type\":\"LinearAxis\"},{\"id\":\"aff0c6f5-aa17-4d23-863d-5f12383d975f\",\"type\":\"Grid\"},{\"id\":\"096b42b4-a8e0-4274-8364-b762d2ae55cb\",\"type\":\"LinearAxis\"},{\"id\":\"cd43fa18-5a87-4bd2-99fe-9d448dcda2c8\",\"type\":\"Grid\"},{\"id\":\"cf6db517-536e-4d1c-8fea-5dfc4c3fc67b\",\"type\":\"GlyphRenderer\"},{\"id\":\"7f9d9874-f117-4549-847e-5f91dcd24fdc\",\"type\":\"GlyphRenderer\"}],\"title\":\"Many Clusters in Iris Dataset\",\"tool_events\":{\"id\":\"bc62dbf6-6109-43c7-9bd3-7c9b41cf22f9\",\"type\":\"ToolEvents\"},\"x_range\":{\"id\":\"b285a1e1-92c4-4d83-b2cb-a5ff31e366b6\",\"type\":\"DataRange1d\"},\"y_range\":{\"id\":\"d79a1779-cda4-4f2c-a462-d7572b732cb7\",\"type\":\"DataRange1d\"}},\"id\":\"47fdee04-5a93-46b7-9175-d70b93fd8948\",\"subtype\":\"Figure\",\"type\":\"Plot\"},{\"attributes\":{\"fill_alpha\":{\"value\":0.4},\"fill_color\":{\"value\":\"green\"},\"line_alpha\":{\"value\":0.4},\"line_color\":{\"value\":\"green\"},\"size\":{\"units\":\"screen\",\"value\":100},\"x\":{\"field\":\"x\"},\"y\":{\"field\":\"y\"}},\"id\":\"82a9a0a4-06b0-418f-b030-5fb5ba14ba90\",\"type\":\"Circle\"},{\"attributes\":{},\"id\":\"9ae7887e-1650-44aa-9774-661e19298ed1\",\"type\":\"BasicTickFormatter\"},{\"attributes\":{\"callback\":null,\"column_names\":[\"y\",\"x\",\"line_color\",\"fill_color\"],\"data\":{\"fill_color\":[\"red\",\"red\",\"red\",\"red\",\"red\",\"red\",\"red\",\"red\",\"red\",\"red\",\"red\",\"red\",\"red\",\"red\",\"red\",\"red\",\"red\",\"red\",\"red\",\"red\",\"red\",\"red\",\"red\",\"red\",\"red\",\"red\",\"red\",\"red\",\"red\",\"red\",\"red\",\"red\",\"red\",\"red\",\"red\",\"red\",\"red\",\"red\",\"red\",\"red\",\"red\",\"red\",\"red\",\"red\",\"red\",\"red\",\"red\",\"red\",\"red\",\"red\",\"blue\",\"blue\",\"blue\",\"blue\",\"blue\",\"blue\",\"blue\",\"blue\",\"blue\",\"blue\",\"blue\",\"blue\",\"blue\",\"blue\",\"blue\",\"blue\",\"blue\",\"blue\",\"blue\",\"blue\",\"blue\",\"blue\",\"blue\",\"blue\",\"blue\",\"blue\",\"blue\",\"blue\",\"blue\",\"blue\",\"blue\",\"blue\",\"blue\",\"blue\",\"blue\",\"blue\",\"blue\",\"blue\",\"blue\",\"blue\",\"blue\",\"blue\",\"blue\",\"blue\",\"blue\",\"blue\",\"blue\",\"blue\",\"blue\",\"blue\",\"orange\",\"orange\",\"orange\",\"orange\",\"orange\",\"orange\",\"orange\",\"orange\",\"orange\",\"orange\",\"orange\",\"orange\",\"orange\",\"orange\",\"orange\",\"orange\",\"orange\",\"orange\",\"orange\",\"orange\",\"orange\",\"orange\",\"orange\",\"orange\",\"orange\",\"orange\",\"orange\",\"orange\",\"orange\",\"orange\",\"orange\",\"orange\",\"orange\",\"orange\",\"orange\",\"orange\",\"orange\",\"orange\",\"orange\",\"orange\",\"orange\",\"orange\",\"orange\",\"orange\",\"orange\",\"orange\",\"orange\",\"orange\",\"orange\",\"orange\"],\"line_color\":[\"red\",\"red\",\"red\",\"red\",\"red\",\"red\",\"red\",\"red\",\"red\",\"red\",\"red\",\"red\",\"red\",\"red\",\"red\",\"red\",\"red\",\"red\",\"red\",\"red\",\"red\",\"red\",\"red\",\"red\",\"red\",\"red\",\"red\",\"red\",\"red\",\"red\",\"red\",\"red\",\"red\",\"red\",\"red\",\"red\",\"red\",\"red\",\"red\",\"red\",\"red\",\"red\",\"red\",\"red\",\"red\",\"red\",\"red\",\"red\",\"red\",\"red\",\"blue\",\"blue\",\"blue\",\"blue\",\"blue\",\"blue\",\"blue\",\"blue\",\"blue\",\"blue\",\"blue\",\"blue\",\"blue\",\"blue\",\"blue\",\"blue\",\"blue\",\"blue\",\"blue\",\"blue\",\"blue\",\"blue\",\"blue\",\"blue\",\"blue\",\"blue\",\"blue\",\"blue\",\"blue\",\"blue\",\"blue\",\"blue\",\"blue\",\"blue\",\"blue\",\"blue\",\"blue\",\"blue\",\"blue\",\"blue\",\"blue\",\"blue\",\"blue\",\"blue\",\"blue\",\"blue\",\"blue\",\"blue\",\"blue\",\"blue\",\"orange\",\"orange\",\"orange\",\"orange\",\"orange\",\"orange\",\"orange\",\"orange\",\"orange\",\"orange\",\"orange\",\"orange\",\"orange\",\"orange\",\"orange\",\"orange\",\"orange\",\"orange\",\"orange\",\"orange\",\"orange\",\"orange\",\"orange\",\"orange\",\"orange\",\"orange\",\"orange\",\"orange\",\"orange\",\"orange\",\"orange\",\"orange\",\"orange\",\"orange\",\"orange\",\"orange\",\"orange\",\"orange\",\"orange\",\"orange\",\"orange\",\"orange\",\"orange\",\"orange\",\"orange\",\"orange\",\"orange\",\"orange\",\"orange\",\"orange\"],\"x\":[3.5,3.0,3.2,3.1,3.6,3.9,3.4,3.4,2.9,3.1,3.7,3.4,3.0,3.0,4.0,4.4,3.9,3.5,3.8,3.8,3.4,3.7,3.6,3.3,3.4,3.0,3.4,3.5,3.4,3.2,3.1,3.4,4.1,4.2,3.1,3.2,3.5,3.1,3.0,3.4,3.5,2.3,3.2,3.5,3.8,3.0,3.8,3.2,3.7,3.3,3.2,3.2,3.1,2.3,2.8,2.8,3.3,2.4,2.9,2.7,2.0,3.0,2.2,2.9,2.9,3.1,3.0,2.7,2.2,2.5,3.2,2.8,2.5,2.8,2.9,3.0,2.8,3.0,2.9,2.6,2.4,2.4,2.7,2.7,3.0,3.4,3.1,2.3,3.0,2.5,2.6,3.0,2.6,2.3,2.7,3.0,2.9,2.9,2.5,2.8,3.3,2.7,3.0,2.9,3.0,3.0,2.5,2.9,2.5,3.6,3.2,2.7,3.0,2.5,2.8,3.2,3.0,3.8,2.6,2.2,3.2,2.8,2.8,2.7,3.3,3.2,2.8,3.0,2.8,3.0,2.8,3.8,2.8,2.8,2.6,3.0,3.4,3.1,3.0,3.1,3.1,3.1,2.7,3.2,3.3,3.0,2.5,3.0,3.4,3.0],\"y\":[1.4,1.4,1.3,1.5,1.4,1.7,1.4,1.5,1.4,1.5,1.5,1.6,1.4,1.1,1.2,1.5,1.3,1.4,1.7,1.5,1.7,1.5,1.0,1.7,1.9,1.6,1.6,1.5,1.4,1.6,1.6,1.5,1.5,1.4,1.5,1.2,1.3,1.5,1.3,1.5,1.3,1.3,1.3,1.6,1.9,1.4,1.6,1.4,1.5,1.4,4.7,4.5,4.9,4.0,4.6,4.5,4.7,3.3,4.6,3.9,3.5,4.2,4.0,4.7,3.6,4.4,4.5,4.1,4.5,3.9,4.8,4.0,4.9,4.7,4.3,4.4,4.8,5.0,4.5,3.5,3.8,3.7,3.9,5.1,4.5,4.5,4.7,4.4,4.1,4.0,4.4,4.6,4.0,3.3,4.2,4.2,4.2,4.3,3.0,4.1,6.0,5.1,5.9,5.6,5.8,6.6,4.5,6.3,5.8,6.1,5.1,5.3,5.5,5.0,5.1,5.3,5.5,6.7,6.9,5.0,5.7,4.9,6.7,4.9,5.7,6.0,4.8,4.9,5.6,5.8,6.1,6.4,5.6,5.1,5.6,6.1,5.6,5.5,4.8,5.4,5.6,5.1,5.1,5.9,5.7,5.2,5.0,5.2,5.4,5.1]}},\"id\":\"7d882722-cbb8-4b32-99a1-0c453a90ce48\",\"type\":\"ColumnDataSource\"},{\"attributes\":{\"formatter\":{\"id\":\"707d7ded-628a-4f83-87a9-1f874fa1e478\",\"type\":\"BasicTickFormatter\"},\"plot\":{\"id\":\"9f2f754f-ff68-40f1-82f8-ebf33f44863e\",\"subtype\":\"Figure\",\"type\":\"Plot\"},\"ticker\":{\"id\":\"db65a9ae-428f-4e05-988d-9b5e36e26090\",\"type\":\"BasicTicker\"}},\"id\":\"3c4b7b49-ae6a-4d42-94ad-c72a4fd1fe15\",\"type\":\"LinearAxis\"},{\"attributes\":{\"data_source\":{\"id\":\"7d882722-cbb8-4b32-99a1-0c453a90ce48\",\"type\":\"ColumnDataSource\"},\"glyph\":{\"id\":\"a19fa60c-790c-4589-9d67-38fc72f93561\",\"type\":\"Circle\"},\"hover_glyph\":null,\"nonselection_glyph\":{\"id\":\"35855847-678e-4c18-a75b-491e75cd7168\",\"type\":\"Circle\"},\"selection_glyph\":null},\"id\":\"cd3e9038-5ffc-444a-a7f0-39fe7f18c96c\",\"type\":\"GlyphRenderer\"},{\"attributes\":{\"callback\":null},\"id\":\"11642788-7b9e-4594-ac17-2930a431d4ef\",\"type\":\"DataRange1d\"},{\"attributes\":{\"fill_alpha\":{\"value\":0.1},\"fill_color\":{\"value\":\"#1f77b4\"},\"line_alpha\":{\"value\":0.1},\"line_color\":{\"value\":\"#1f77b4\"},\"size\":{\"units\":\"screen\",\"value\":5},\"x\":{\"field\":\"x\"},\"y\":{\"field\":\"y\"}},\"id\":\"35855847-678e-4c18-a75b-491e75cd7168\",\"type\":\"Circle\"},{\"attributes\":{},\"id\":\"fa9e2f87-b9db-4332-a28f-4ff7605ab3cd\",\"type\":\"BasicTicker\"},{\"attributes\":{\"data_source\":{\"id\":\"c7a73d8a-d2e8-49c2-bfcf-13fb53eec9b0\",\"type\":\"ColumnDataSource\"},\"glyph\":{\"id\":\"cb75f747-2ccb-4e9f-bb43-ebf0ff80a664\",\"type\":\"Circle\"},\"hover_glyph\":null,\"nonselection_glyph\":{\"id\":\"3e0e8362-ac97-4a2c-9079-e30e82d3523d\",\"type\":\"Circle\"},\"selection_glyph\":null},\"id\":\"cf6db517-536e-4d1c-8fea-5dfc4c3fc67b\",\"type\":\"GlyphRenderer\"},{\"attributes\":{},\"id\":\"3ff67822-d913-4c65-94f4-38cd1509a371\",\"type\":\"BasicTicker\"},{\"attributes\":{\"dimension\":1,\"plot\":{\"id\":\"9f2f754f-ff68-40f1-82f8-ebf33f44863e\",\"subtype\":\"Figure\",\"type\":\"Plot\"},\"ticker\":{\"id\":\"db65a9ae-428f-4e05-988d-9b5e36e26090\",\"type\":\"BasicTicker\"}},\"id\":\"a1358cd2-5f16-42ab-b3cd-324df3b8ce9f\",\"type\":\"Grid\"},{\"attributes\":{\"fill_alpha\":{\"value\":0.1},\"fill_color\":{\"value\":\"#1f77b4\"},\"line_alpha\":{\"value\":0.1},\"line_color\":{\"value\":\"#1f77b4\"},\"size\":{\"units\":\"screen\",\"value\":5},\"x\":{\"field\":\"x\"},\"y\":{\"field\":\"y\"}},\"id\":\"3e0e8362-ac97-4a2c-9079-e30e82d3523d\",\"type\":\"Circle\"},{\"attributes\":{},\"id\":\"ea7dd9f6-d2e5-4e0f-a4be-58f48f6544da\",\"type\":\"BasicTickFormatter\"},{\"attributes\":{\"formatter\":{\"id\":\"9ae7887e-1650-44aa-9774-661e19298ed1\",\"type\":\"BasicTickFormatter\"},\"plot\":{\"id\":\"47fdee04-5a93-46b7-9175-d70b93fd8948\",\"subtype\":\"Figure\",\"type\":\"Plot\"},\"ticker\":{\"id\":\"a6748004-bbc0-49b2-b644-f847640fa304\",\"type\":\"BasicTicker\"}},\"id\":\"096b42b4-a8e0-4274-8364-b762d2ae55cb\",\"type\":\"LinearAxis\"},{\"attributes\":{\"data_source\":{\"id\":\"d5ecbb11-38f2-4ae9-966c-a3ad5e5b5367\",\"type\":\"ColumnDataSource\"},\"glyph\":{\"id\":\"82a9a0a4-06b0-418f-b030-5fb5ba14ba90\",\"type\":\"Circle\"},\"hover_glyph\":null,\"nonselection_glyph\":{\"id\":\"5b2e0d6c-dc8f-474b-bf43-d0aa017affbc\",\"type\":\"Circle\"},\"selection_glyph\":null},\"id\":\"7f9d9874-f117-4549-847e-5f91dcd24fdc\",\"type\":\"GlyphRenderer\"},{\"attributes\":{\"callback\":null},\"id\":\"0aef2405-6aa4-444b-89f0-c02c0b3184e6\",\"type\":\"DataRange1d\"},{\"attributes\":{},\"id\":\"aa99ab63-c4ce-4ab4-875d-64c255ff85f7\",\"type\":\"BasicTickFormatter\"},{\"attributes\":{},\"id\":\"bc62dbf6-6109-43c7-9bd3-7c9b41cf22f9\",\"type\":\"ToolEvents\"},{\"attributes\":{},\"id\":\"707d7ded-628a-4f83-87a9-1f874fa1e478\",\"type\":\"BasicTickFormatter\"},{\"attributes\":{\"plot\":{\"id\":\"47fdee04-5a93-46b7-9175-d70b93fd8948\",\"subtype\":\"Figure\",\"type\":\"Plot\"},\"ticker\":{\"id\":\"fa9e2f87-b9db-4332-a28f-4ff7605ab3cd\",\"type\":\"BasicTicker\"}},\"id\":\"aff0c6f5-aa17-4d23-863d-5f12383d975f\",\"type\":\"Grid\"},{\"attributes\":{\"fill_alpha\":{\"value\":0.1},\"fill_color\":{\"value\":\"#1f77b4\"},\"line_alpha\":{\"value\":0.1},\"line_color\":{\"value\":\"#1f77b4\"},\"size\":{\"units\":\"screen\",\"value\":100},\"x\":{\"field\":\"x\"},\"y\":{\"field\":\"y\"}},\"id\":\"5b2e0d6c-dc8f-474b-bf43-d0aa017affbc\",\"type\":\"Circle\"},{\"attributes\":{},\"id\":\"6ed3c336-7f07-4c7e-8226-9b3cce99d3b1\",\"type\":\"ToolEvents\"},{\"attributes\":{},\"id\":\"74a1e311-095f-4e22-b6d2-f302facdf2c6\",\"type\":\"BasicTickFormatter\"},{\"attributes\":{\"dimension\":1,\"plot\":{\"id\":\"47fdee04-5a93-46b7-9175-d70b93fd8948\",\"subtype\":\"Figure\",\"type\":\"Plot\"},\"ticker\":{\"id\":\"a6748004-bbc0-49b2-b644-f847640fa304\",\"type\":\"BasicTicker\"}},\"id\":\"cd43fa18-5a87-4bd2-99fe-9d448dcda2c8\",\"type\":\"Grid\"},{\"attributes\":{},\"id\":\"9412106f-413e-4a20-b7b1-71ca35bd4cb3\",\"type\":\"ToolEvents\"},{\"attributes\":{\"data_source\":{\"id\":\"c128423e-4b26-4fcc-9414-c80146948d6c\",\"type\":\"ColumnDataSource\"},\"glyph\":{\"id\":\"e73d1d4c-790c-44c4-814c-a32b3430b279\",\"type\":\"Line\"},\"hover_glyph\":null,\"nonselection_glyph\":{\"id\":\"c9069d4f-02a5-4dd3-855e-825c22e53826\",\"type\":\"Line\"},\"selection_glyph\":null},\"id\":\"7823f6c2-5f5c-4c3a-99e0-393a10065858\",\"type\":\"GlyphRenderer\"},{\"attributes\":{\"plot\":{\"id\":\"f7797f50-c2c1-4fa2-863d-c7bab6253d6f\",\"subtype\":\"Figure\",\"type\":\"Plot\"},\"ticker\":{\"id\":\"3ff67822-d913-4c65-94f4-38cd1509a371\",\"type\":\"BasicTicker\"}},\"id\":\"047e2f1e-30ad-47a1-9bfc-f74a118f2470\",\"type\":\"Grid\"},{\"attributes\":{\"below\":[{\"id\":\"be22e79f-d9f9-4eef-bce9-183e5ce2786c\",\"type\":\"LinearAxis\"}],\"left\":[{\"id\":\"6280374d-43e9-4dc0-a776-5db7209bac7e\",\"type\":\"LinearAxis\"}],\"renderers\":[{\"id\":\"be22e79f-d9f9-4eef-bce9-183e5ce2786c\",\"type\":\"LinearAxis\"},{\"id\":\"047e2f1e-30ad-47a1-9bfc-f74a118f2470\",\"type\":\"Grid\"},{\"id\":\"6280374d-43e9-4dc0-a776-5db7209bac7e\",\"type\":\"LinearAxis\"},{\"id\":\"58461bd9-9308-43f1-9541-eb5fba940215\",\"type\":\"Grid\"},{\"id\":\"7823f6c2-5f5c-4c3a-99e0-393a10065858\",\"type\":\"GlyphRenderer\"}],\"title\":\"Silhouette Score for different clusters\",\"tool_events\":{\"id\":\"6ed3c336-7f07-4c7e-8226-9b3cce99d3b1\",\"type\":\"ToolEvents\"},\"x_range\":{\"id\":\"348ed8e6-6d5b-422c-ad3b-a120506864df\",\"type\":\"DataRange1d\"},\"y_range\":{\"id\":\"0aef2405-6aa4-444b-89f0-c02c0b3184e6\",\"type\":\"DataRange1d\"}},\"id\":\"f7797f50-c2c1-4fa2-863d-c7bab6253d6f\",\"subtype\":\"Figure\",\"type\":\"Plot\"},{\"attributes\":{\"dimension\":1,\"plot\":{\"id\":\"f7797f50-c2c1-4fa2-863d-c7bab6253d6f\",\"subtype\":\"Figure\",\"type\":\"Plot\"},\"ticker\":{\"id\":\"5527c948-b165-4894-b284-b3b58f451843\",\"type\":\"BasicTicker\"}},\"id\":\"58461bd9-9308-43f1-9541-eb5fba940215\",\"type\":\"Grid\"},{\"attributes\":{\"callback\":null},\"id\":\"348ed8e6-6d5b-422c-ad3b-a120506864df\",\"type\":\"DataRange1d\"},{\"attributes\":{\"plot\":{\"id\":\"9f2f754f-ff68-40f1-82f8-ebf33f44863e\",\"subtype\":\"Figure\",\"type\":\"Plot\"},\"ticker\":{\"id\":\"c81a2147-bd6d-4ae5-9f2a-1daaa3dac064\",\"type\":\"BasicTicker\"}},\"id\":\"7d6bfebd-253f-43b4-b7c8-efd16064ae11\",\"type\":\"Grid\"},{\"attributes\":{\"callback\":null},\"id\":\"b285a1e1-92c4-4d83-b2cb-a5ff31e366b6\",\"type\":\"DataRange1d\"},{\"attributes\":{\"formatter\":{\"id\":\"aa99ab63-c4ce-4ab4-875d-64c255ff85f7\",\"type\":\"BasicTickFormatter\"},\"plot\":{\"id\":\"47fdee04-5a93-46b7-9175-d70b93fd8948\",\"subtype\":\"Figure\",\"type\":\"Plot\"},\"ticker\":{\"id\":\"fa9e2f87-b9db-4332-a28f-4ff7605ab3cd\",\"type\":\"BasicTicker\"}},\"id\":\"0a8227ea-103a-444b-903b-f43ae8fd9650\",\"type\":\"LinearAxis\"},{\"attributes\":{\"line_color\":{\"value\":\"#1f77b4\"},\"x\":{\"field\":\"x\"},\"y\":{\"field\":\"y\"}},\"id\":\"e73d1d4c-790c-44c4-814c-a32b3430b279\",\"type\":\"Line\"},{\"attributes\":{\"line_alpha\":{\"value\":0.1},\"line_color\":{\"value\":\"#1f77b4\"},\"x\":{\"field\":\"x\"},\"y\":{\"field\":\"y\"}},\"id\":\"c9069d4f-02a5-4dd3-855e-825c22e53826\",\"type\":\"Line\"},{\"attributes\":{\"callback\":null,\"column_names\":[\"y\",\"x\"],\"data\":{\"x\":[2,3,4,5,6,7,8,9,10,11,12,13,14,15],\"y\":[0.7388765072447795,0.5930654335605791,0.560474768702901,0.42734953912850754,0.38219062136345766,0.40306468786678834,0.3736508610080102,0.3907502083918878,0.3885542832760069,0.3833845146707228,0.36271001956874055,0.36501053833163105,0.3837056362595219,0.37293200465857723]}},\"id\":\"c128423e-4b26-4fcc-9414-c80146948d6c\",\"type\":\"ColumnDataSource\"}],\"root_ids\":[\"9f2f754f-ff68-40f1-82f8-ebf33f44863e\",\"47fdee04-5a93-46b7-9175-d70b93fd8948\",\"f7797f50-c2c1-4fa2-863d-c7bab6253d6f\"]},\"title\":\"Bokeh Application\",\"version\":\"0.11.1\"}};\n",
       "            var render_items = [{\"docid\":\"3e213ece-747a-48ab-9059-4db3b2b9eaae\",\"elementid\":\"30fd1ab6-6413-4968-ab36-a682b64abe97\",\"modelid\":\"f7797f50-c2c1-4fa2-863d-c7bab6253d6f\",\"notebook_comms_target\":\"c8490037-0b92-4e70-b68e-df7c45fbaf9a\"}];\n",
       "            \n",
       "            Bokeh.embed.embed_items(docs_json, render_items);\n",
       "        });\n",
       "      },\n",
       "      function(Bokeh) {\n",
       "      }\n",
       "    ];\n",
       "  \n",
       "    function run_inline_js() {\n",
       "      for (var i = 0; i < inline_js.length; i++) {\n",
       "        inline_js[i](window.Bokeh);\n",
       "      }\n",
       "    }\n",
       "  \n",
       "    if (window._bokeh_is_loading === 0) {\n",
       "      console.log(\"Bokeh: BokehJS loaded, going straight to plotting\");\n",
       "      run_inline_js();\n",
       "    } else {\n",
       "      load_libs(js_urls, function() {\n",
       "        console.log(\"Bokeh: BokehJS plotting callback run at\", now());\n",
       "        run_inline_js();\n",
       "      });\n",
       "    }\n",
       "  }(this));\n",
       "</script>"
      ]
     },
     "metadata": {},
     "output_type": "display_data"
    },
    {
     "data": {
      "text/html": [
       "<p><code>&lt;Bokeh Notebook handle for <strong>In[11]</strong>&gt;</code></p>"
      ],
      "text/plain": [
       "<bokeh.io._CommsHandle at 0x114b438d0>"
      ]
     },
     "execution_count": 11,
     "metadata": {},
     "output_type": "execute_result"
    }
   ],
   "source": [
    "#your code here:\n",
    "cluster_centers = {}\n",
    "cluster_membership = {}\n",
    "s = {}\n",
    "\n",
    "\n",
    "for cluster_count in range(2,16):\n",
    "    km_exercise = KMeans(init='k-means++',\n",
    "                         n_clusters=cluster_count\n",
    "                        )\n",
    "    cluster_membership[cluster_count] = km_exercise.fit_predict(X)\n",
    "    cluster_centers[cluster_count] =  km_exercise.cluster_centers_\n",
    "    s[cluster_count] = silhouette_score(X,\n",
    "                                        cluster_membership[cluster_count],\n",
    "                                        metric='euclidean'\n",
    "                                        )\n",
    "    print cluster_count, s[cluster_count]\n",
    "    \n",
    "p = figure(title=\"Silhouette Score for different clusters\",tools='')\n",
    "#p.circle(x=range(2,16),y=s.values(),size = 5,color=colors)\n",
    "p.line(x=range(2,16),y=s.values())\n",
    "\n",
    "show(p)"
   ]
  },
  {
   "cell_type": "markdown",
   "metadata": {},
   "source": [
    "## Letting Loose: Practicing on a more advanced dataset\n",
    "https://archive.ics.uci.edu/ml/datasets/Forest+Fires"
   ]
  },
  {
   "cell_type": "code",
   "execution_count": 12,
   "metadata": {
    "collapsed": false
   },
   "outputs": [
    {
     "data": {
      "text/html": [
       "<div>\n",
       "<table border=\"1\" class=\"dataframe\">\n",
       "  <thead>\n",
       "    <tr style=\"text-align: right;\">\n",
       "      <th></th>\n",
       "      <th>X</th>\n",
       "      <th>Y</th>\n",
       "      <th>month</th>\n",
       "      <th>day</th>\n",
       "      <th>FFMC</th>\n",
       "      <th>DMC</th>\n",
       "      <th>DC</th>\n",
       "      <th>ISI</th>\n",
       "      <th>temp</th>\n",
       "      <th>RH</th>\n",
       "      <th>wind</th>\n",
       "      <th>rain</th>\n",
       "      <th>area</th>\n",
       "    </tr>\n",
       "  </thead>\n",
       "  <tbody>\n",
       "    <tr>\n",
       "      <th>0</th>\n",
       "      <td>7</td>\n",
       "      <td>5</td>\n",
       "      <td>mar</td>\n",
       "      <td>fri</td>\n",
       "      <td>86.2</td>\n",
       "      <td>26.2</td>\n",
       "      <td>94.3</td>\n",
       "      <td>5.1</td>\n",
       "      <td>8.2</td>\n",
       "      <td>51</td>\n",
       "      <td>6.7</td>\n",
       "      <td>0.0</td>\n",
       "      <td>0.0</td>\n",
       "    </tr>\n",
       "    <tr>\n",
       "      <th>1</th>\n",
       "      <td>7</td>\n",
       "      <td>4</td>\n",
       "      <td>oct</td>\n",
       "      <td>tue</td>\n",
       "      <td>90.6</td>\n",
       "      <td>35.4</td>\n",
       "      <td>669.1</td>\n",
       "      <td>6.7</td>\n",
       "      <td>18.0</td>\n",
       "      <td>33</td>\n",
       "      <td>0.9</td>\n",
       "      <td>0.0</td>\n",
       "      <td>0.0</td>\n",
       "    </tr>\n",
       "    <tr>\n",
       "      <th>2</th>\n",
       "      <td>7</td>\n",
       "      <td>4</td>\n",
       "      <td>oct</td>\n",
       "      <td>sat</td>\n",
       "      <td>90.6</td>\n",
       "      <td>43.7</td>\n",
       "      <td>686.9</td>\n",
       "      <td>6.7</td>\n",
       "      <td>14.6</td>\n",
       "      <td>33</td>\n",
       "      <td>1.3</td>\n",
       "      <td>0.0</td>\n",
       "      <td>0.0</td>\n",
       "    </tr>\n",
       "    <tr>\n",
       "      <th>3</th>\n",
       "      <td>8</td>\n",
       "      <td>6</td>\n",
       "      <td>mar</td>\n",
       "      <td>fri</td>\n",
       "      <td>91.7</td>\n",
       "      <td>33.3</td>\n",
       "      <td>77.5</td>\n",
       "      <td>9.0</td>\n",
       "      <td>8.3</td>\n",
       "      <td>97</td>\n",
       "      <td>4.0</td>\n",
       "      <td>0.2</td>\n",
       "      <td>0.0</td>\n",
       "    </tr>\n",
       "    <tr>\n",
       "      <th>4</th>\n",
       "      <td>8</td>\n",
       "      <td>6</td>\n",
       "      <td>mar</td>\n",
       "      <td>sun</td>\n",
       "      <td>89.3</td>\n",
       "      <td>51.3</td>\n",
       "      <td>102.2</td>\n",
       "      <td>9.6</td>\n",
       "      <td>11.4</td>\n",
       "      <td>99</td>\n",
       "      <td>1.8</td>\n",
       "      <td>0.0</td>\n",
       "      <td>0.0</td>\n",
       "    </tr>\n",
       "  </tbody>\n",
       "</table>\n",
       "</div>"
      ],
      "text/plain": [
       "   X  Y month  day  FFMC   DMC     DC  ISI  temp  RH  wind  rain  area\n",
       "0  7  5   mar  fri  86.2  26.2   94.3  5.1   8.2  51   6.7   0.0   0.0\n",
       "1  7  4   oct  tue  90.6  35.4  669.1  6.7  18.0  33   0.9   0.0   0.0\n",
       "2  7  4   oct  sat  90.6  43.7  686.9  6.7  14.6  33   1.3   0.0   0.0\n",
       "3  8  6   mar  fri  91.7  33.3   77.5  9.0   8.3  97   4.0   0.2   0.0\n",
       "4  8  6   mar  sun  89.3  51.3  102.2  9.6  11.4  99   1.8   0.0   0.0"
      ]
     },
     "execution_count": 12,
     "metadata": {},
     "output_type": "execute_result"
    }
   ],
   "source": [
    "forest_fires = pd.read_csv('../data/forestfires.csv')\n",
    "forest_fires.head()"
   ]
  },
  {
   "cell_type": "code",
   "execution_count": 13,
   "metadata": {
    "collapsed": false
   },
   "outputs": [
    {
     "name": "stdout",
     "output_type": "stream",
     "text": [
      "4    203\n",
      "5    125\n",
      "6     74\n",
      "3     64\n",
      "2     44\n",
      "9      6\n",
      "8      1\n",
      "Name: Y, dtype: int64\n"
     ]
    }
   ],
   "source": [
    "print forest_fires['Y'].value_counts()"
   ]
  },
  {
   "cell_type": "markdown",
   "metadata": {},
   "source": [
    "The forest_fires dataset plots the area of forest burnt over a course of time. X and Y refer to square areas and are laid out spatially.\n",
    "\n",
    "Train a KMeans model on the X and Y . Choose a value for k you'd like."
   ]
  },
  {
   "cell_type": "code",
   "execution_count": 14,
   "metadata": {
    "collapsed": false
   },
   "outputs": [],
   "source": [
    "X_columns = ['X','Y']\n",
    "X_forest = forest_fires[X_columns]\n",
    "\n",
    "km_forest = KMeans(3)\n",
    "km_forest.fit_predict(X)\n",
    "km_forest_centres = km_forest.cluster_centers_"
   ]
  },
  {
   "cell_type": "markdown",
   "metadata": {},
   "source": [
    "Plot the original points and then plot the means of your clusters. What, if any, structure do you see?"
   ]
  },
  {
   "cell_type": "code",
   "execution_count": 15,
   "metadata": {
    "collapsed": false
   },
   "outputs": [
    {
     "data": {
      "text/html": [
       "\n",
       "\n",
       "    <div class=\"plotdiv\" id=\"f8d48184-b467-4635-9515-21502e11c25d\"></div>\n",
       "<script type=\"text/javascript\">\n",
       "  \n",
       "  (function(global) {\n",
       "    function now() {\n",
       "      return new Date();\n",
       "    }\n",
       "  \n",
       "    if (typeof (window._bokeh_onload_callbacks) === \"undefined\") {\n",
       "      window._bokeh_onload_callbacks = [];\n",
       "    }\n",
       "  \n",
       "    function run_callbacks() {\n",
       "      window._bokeh_onload_callbacks.forEach(function(callback) { callback() });\n",
       "      delete window._bokeh_onload_callbacks\n",
       "      console.info(\"Bokeh: all callbacks have finished\");\n",
       "    }\n",
       "  \n",
       "    function load_libs(js_urls, callback) {\n",
       "      window._bokeh_onload_callbacks.push(callback);\n",
       "      if (window._bokeh_is_loading > 0) {\n",
       "        console.log(\"Bokeh: BokehJS is being loaded, scheduling callback at\", now());\n",
       "        return null;\n",
       "      }\n",
       "      if (js_urls == null || js_urls.length === 0) {\n",
       "        run_callbacks();\n",
       "        return null;\n",
       "      }\n",
       "      console.log(\"Bokeh: BokehJS not loaded, scheduling load and callback at\", now());\n",
       "      window._bokeh_is_loading = js_urls.length;\n",
       "      for (var i = 0; i < js_urls.length; i++) {\n",
       "        var url = js_urls[i];\n",
       "        var s = document.createElement('script');\n",
       "        s.src = url;\n",
       "        s.async = false;\n",
       "        s.onreadystatechange = s.onload = function() {\n",
       "          window._bokeh_is_loading--;\n",
       "          if (window._bokeh_is_loading === 0) {\n",
       "            console.log(\"Bokeh: all BokehJS libraries loaded\");\n",
       "            run_callbacks()\n",
       "          }\n",
       "        };\n",
       "        s.onerror = function() {\n",
       "          console.warn(\"failed to load library \" + url);\n",
       "        };\n",
       "        console.log(\"Bokeh: injecting script tag for BokehJS library: \", url);\n",
       "        document.getElementsByTagName(\"head\")[0].appendChild(s);\n",
       "      }\n",
       "    };var element = document.getElementById(\"f8d48184-b467-4635-9515-21502e11c25d\");\n",
       "    if (element == null) {\n",
       "      console.log(\"Bokeh: ERROR: autoload.js configured with elementid 'f8d48184-b467-4635-9515-21502e11c25d' but no matching script tag was found. \")\n",
       "      return false;\n",
       "    }\n",
       "  \n",
       "    var js_urls = [];\n",
       "  \n",
       "    var inline_js = [\n",
       "      function(Bokeh) {\n",
       "        Bokeh.$(function() {\n",
       "            var docs_json = {\"c716c858-a5d0-4e50-862c-4ace2fe4ba02\":{\"roots\":{\"references\":[{\"attributes\":{},\"id\":\"c81a2147-bd6d-4ae5-9f2a-1daaa3dac064\",\"type\":\"BasicTicker\"},{\"attributes\":{},\"id\":\"fd019753-c566-4afd-b096-a77b8a0dabe6\",\"type\":\"BasicTickFormatter\"},{\"attributes\":{\"callback\":null,\"column_names\":[\"y\",\"x\"],\"data\":{\"x\":[3.0325581395348835,3.418,2.7508771929824563],\"y\":[5.6720930232558135,1.4639999999999995,4.328070175438596]}},\"id\":\"8aa6f40e-8a81-4692-baf1-63891d8a8322\",\"type\":\"ColumnDataSource\"},{\"attributes\":{\"data_source\":{\"id\":\"8aa6f40e-8a81-4692-baf1-63891d8a8322\",\"type\":\"ColumnDataSource\"},\"glyph\":{\"id\":\"e458c962-9154-4668-9656-bd949e05d3a5\",\"type\":\"Circle\"},\"hover_glyph\":null,\"nonselection_glyph\":{\"id\":\"8c8feb71-ccbb-4517-ad73-cb6febc02e48\",\"type\":\"Circle\"},\"selection_glyph\":null},\"id\":\"dd847629-50be-45aa-8c32-0bf27729636a\",\"type\":\"GlyphRenderer\"},{\"attributes\":{\"bottom_units\":\"screen\",\"fill_alpha\":{\"value\":0.5},\"fill_color\":{\"value\":\"lightgrey\"},\"left_units\":\"screen\",\"level\":\"overlay\",\"line_alpha\":{\"value\":1.0},\"line_color\":{\"value\":\"black\"},\"line_dash\":[4,4],\"line_width\":{\"value\":2},\"plot\":null,\"render_mode\":\"css\",\"right_units\":\"screen\",\"top_units\":\"screen\"},\"id\":\"4de49a0f-3ae8-4578-ba63-1cff8b0098d5\",\"type\":\"BoxAnnotation\"},{\"attributes\":{\"callback\":null},\"id\":\"379959e6-76f0-4b94-968d-fe02178071df\",\"type\":\"DataRange1d\"},{\"attributes\":{},\"id\":\"db65a9ae-428f-4e05-988d-9b5e36e26090\",\"type\":\"BasicTicker\"},{\"attributes\":{\"fill_color\":{\"value\":\"#1f77b4\"},\"line_color\":{\"value\":\"#1f77b4\"},\"size\":{\"units\":\"screen\",\"value\":5},\"x\":{\"field\":\"x\"},\"y\":{\"field\":\"y\"}},\"id\":\"ac05344a-3374-464e-98c4-302a5966ca17\",\"type\":\"Circle\"},{\"attributes\":{\"plot\":{\"id\":\"b0a387bb-ddd0-4e21-99f7-6872f735ddb9\",\"subtype\":\"Figure\",\"type\":\"Plot\"}},\"id\":\"087f7e4e-6c14-408c-aaec-900a8884887a\",\"type\":\"PreviewSaveTool\"},{\"attributes\":{},\"id\":\"5527c948-b165-4894-b284-b3b58f451843\",\"type\":\"BasicTicker\"},{\"attributes\":{\"below\":[{\"id\":\"d636b66d-c692-4b80-a6d5-1ec7af665ca3\",\"type\":\"LinearAxis\"}],\"left\":[{\"id\":\"3c4b7b49-ae6a-4d42-94ad-c72a4fd1fe15\",\"type\":\"LinearAxis\"}],\"renderers\":[{\"id\":\"d636b66d-c692-4b80-a6d5-1ec7af665ca3\",\"type\":\"LinearAxis\"},{\"id\":\"7d6bfebd-253f-43b4-b7c8-efd16064ae11\",\"type\":\"Grid\"},{\"id\":\"3c4b7b49-ae6a-4d42-94ad-c72a4fd1fe15\",\"type\":\"LinearAxis\"},{\"id\":\"a1358cd2-5f16-42ab-b3cd-324df3b8ce9f\",\"type\":\"Grid\"},{\"id\":\"cd3e9038-5ffc-444a-a7f0-39fe7f18c96c\",\"type\":\"GlyphRenderer\"},{\"id\":\"dd847629-50be-45aa-8c32-0bf27729636a\",\"type\":\"GlyphRenderer\"}],\"title\":\"Clusters in Iris Dataset\",\"tool_events\":{\"id\":\"9412106f-413e-4a20-b7b1-71ca35bd4cb3\",\"type\":\"ToolEvents\"},\"x_range\":{\"id\":\"379959e6-76f0-4b94-968d-fe02178071df\",\"type\":\"DataRange1d\"},\"y_range\":{\"id\":\"11642788-7b9e-4594-ac17-2930a431d4ef\",\"type\":\"DataRange1d\"}},\"id\":\"9f2f754f-ff68-40f1-82f8-ebf33f44863e\",\"subtype\":\"Figure\",\"type\":\"Plot\"},{\"attributes\":{\"fill_alpha\":{\"value\":0.4},\"fill_color\":{\"value\":\"green\"},\"line_alpha\":{\"value\":0.4},\"line_color\":{\"value\":\"green\"},\"size\":{\"units\":\"screen\",\"value\":100},\"x\":{\"field\":\"x\"},\"y\":{\"field\":\"y\"}},\"id\":\"82a9a0a4-06b0-418f-b030-5fb5ba14ba90\",\"type\":\"Circle\"},{\"attributes\":{\"below\":[{\"id\":\"0a8227ea-103a-444b-903b-f43ae8fd9650\",\"type\":\"LinearAxis\"}],\"left\":[{\"id\":\"096b42b4-a8e0-4274-8364-b762d2ae55cb\",\"type\":\"LinearAxis\"}],\"renderers\":[{\"id\":\"0a8227ea-103a-444b-903b-f43ae8fd9650\",\"type\":\"LinearAxis\"},{\"id\":\"aff0c6f5-aa17-4d23-863d-5f12383d975f\",\"type\":\"Grid\"},{\"id\":\"096b42b4-a8e0-4274-8364-b762d2ae55cb\",\"type\":\"LinearAxis\"},{\"id\":\"cd43fa18-5a87-4bd2-99fe-9d448dcda2c8\",\"type\":\"Grid\"},{\"id\":\"cf6db517-536e-4d1c-8fea-5dfc4c3fc67b\",\"type\":\"GlyphRenderer\"},{\"id\":\"7f9d9874-f117-4549-847e-5f91dcd24fdc\",\"type\":\"GlyphRenderer\"}],\"title\":\"Many Clusters in Iris Dataset\",\"tool_events\":{\"id\":\"bc62dbf6-6109-43c7-9bd3-7c9b41cf22f9\",\"type\":\"ToolEvents\"},\"x_range\":{\"id\":\"b285a1e1-92c4-4d83-b2cb-a5ff31e366b6\",\"type\":\"DataRange1d\"},\"y_range\":{\"id\":\"d79a1779-cda4-4f2c-a462-d7572b732cb7\",\"type\":\"DataRange1d\"}},\"id\":\"47fdee04-5a93-46b7-9175-d70b93fd8948\",\"subtype\":\"Figure\",\"type\":\"Plot\"},{\"attributes\":{\"formatter\":{\"id\":\"ea7dd9f6-d2e5-4e0f-a4be-58f48f6544da\",\"type\":\"BasicTickFormatter\"},\"plot\":{\"id\":\"9f2f754f-ff68-40f1-82f8-ebf33f44863e\",\"subtype\":\"Figure\",\"type\":\"Plot\"},\"ticker\":{\"id\":\"c81a2147-bd6d-4ae5-9f2a-1daaa3dac064\",\"type\":\"BasicTicker\"}},\"id\":\"d636b66d-c692-4b80-a6d5-1ec7af665ca3\",\"type\":\"LinearAxis\"},{\"attributes\":{\"formatter\":{\"id\":\"707d7ded-628a-4f83-87a9-1f874fa1e478\",\"type\":\"BasicTickFormatter\"},\"plot\":{\"id\":\"9f2f754f-ff68-40f1-82f8-ebf33f44863e\",\"subtype\":\"Figure\",\"type\":\"Plot\"},\"ticker\":{\"id\":\"db65a9ae-428f-4e05-988d-9b5e36e26090\",\"type\":\"BasicTicker\"}},\"id\":\"3c4b7b49-ae6a-4d42-94ad-c72a4fd1fe15\",\"type\":\"LinearAxis\"},{\"attributes\":{\"plot\":{\"id\":\"b0a387bb-ddd0-4e21-99f7-6872f735ddb9\",\"subtype\":\"Figure\",\"type\":\"Plot\"}},\"id\":\"5db2314f-5d33-40a9-8a45-bd9c5f50299e\",\"type\":\"ResizeTool\"},{\"attributes\":{\"fill_alpha\":{\"value\":0.4},\"fill_color\":{\"value\":\"green\"},\"line_alpha\":{\"value\":0.4},\"line_color\":{\"value\":\"green\"},\"size\":{\"units\":\"screen\",\"value\":100},\"x\":{\"field\":\"x\"},\"y\":{\"field\":\"y\"}},\"id\":\"b4843dd1-7c59-4fc0-ba36-970cb466eac5\",\"type\":\"Circle\"},{\"attributes\":{\"callback\":null},\"id\":\"d79a1779-cda4-4f2c-a462-d7572b732cb7\",\"type\":\"DataRange1d\"},{\"attributes\":{\"formatter\":{\"id\":\"74a1e311-095f-4e22-b6d2-f302facdf2c6\",\"type\":\"BasicTickFormatter\"},\"plot\":{\"id\":\"f7797f50-c2c1-4fa2-863d-c7bab6253d6f\",\"subtype\":\"Figure\",\"type\":\"Plot\"},\"ticker\":{\"id\":\"5527c948-b165-4894-b284-b3b58f451843\",\"type\":\"BasicTicker\"}},\"id\":\"6280374d-43e9-4dc0-a776-5db7209bac7e\",\"type\":\"LinearAxis\"},{\"attributes\":{},\"id\":\"eb0b73b3-1ac5-4462-b2cb-0201f3f8acf8\",\"type\":\"ToolEvents\"},{\"attributes\":{\"data_source\":{\"id\":\"bd8d0c1b-fbe3-4e51-a0d4-850dcb803018\",\"type\":\"ColumnDataSource\"},\"glyph\":{\"id\":\"b4843dd1-7c59-4fc0-ba36-970cb466eac5\",\"type\":\"Circle\"},\"hover_glyph\":null,\"nonselection_glyph\":{\"id\":\"ba3a63fc-10fb-479f-873e-6977488b3bfa\",\"type\":\"Circle\"},\"selection_glyph\":null},\"id\":\"48a03035-45b2-4b15-825a-e0ea713762b2\",\"type\":\"GlyphRenderer\"},{\"attributes\":{\"fill_color\":{\"field\":\"fill_color\"},\"line_color\":{\"field\":\"line_color\"},\"size\":{\"units\":\"screen\",\"value\":5},\"x\":{\"field\":\"x\"},\"y\":{\"field\":\"y\"}},\"id\":\"cb75f747-2ccb-4e9f-bb43-ebf0ff80a664\",\"type\":\"Circle\"},{\"attributes\":{\"below\":[{\"id\":\"be22e79f-d9f9-4eef-bce9-183e5ce2786c\",\"type\":\"LinearAxis\"}],\"left\":[{\"id\":\"6280374d-43e9-4dc0-a776-5db7209bac7e\",\"type\":\"LinearAxis\"}],\"renderers\":[{\"id\":\"be22e79f-d9f9-4eef-bce9-183e5ce2786c\",\"type\":\"LinearAxis\"},{\"id\":\"047e2f1e-30ad-47a1-9bfc-f74a118f2470\",\"type\":\"Grid\"},{\"id\":\"6280374d-43e9-4dc0-a776-5db7209bac7e\",\"type\":\"LinearAxis\"},{\"id\":\"58461bd9-9308-43f1-9541-eb5fba940215\",\"type\":\"Grid\"},{\"id\":\"7823f6c2-5f5c-4c3a-99e0-393a10065858\",\"type\":\"GlyphRenderer\"}],\"title\":\"Silhouette Score for different clusters\",\"tool_events\":{\"id\":\"6ed3c336-7f07-4c7e-8226-9b3cce99d3b1\",\"type\":\"ToolEvents\"},\"x_range\":{\"id\":\"348ed8e6-6d5b-422c-ad3b-a120506864df\",\"type\":\"DataRange1d\"},\"y_range\":{\"id\":\"0aef2405-6aa4-444b-89f0-c02c0b3184e6\",\"type\":\"DataRange1d\"}},\"id\":\"f7797f50-c2c1-4fa2-863d-c7bab6253d6f\",\"subtype\":\"Figure\",\"type\":\"Plot\"},{\"attributes\":{\"fill_alpha\":{\"value\":0.4},\"fill_color\":{\"value\":\"green\"},\"line_alpha\":{\"value\":0.4},\"line_color\":{\"value\":\"green\"},\"size\":{\"units\":\"screen\",\"value\":100},\"x\":{\"field\":\"x\"},\"y\":{\"field\":\"y\"}},\"id\":\"e458c962-9154-4668-9656-bd949e05d3a5\",\"type\":\"Circle\"},{\"attributes\":{\"callback\":null,\"column_names\":[\"y\",\"x\"],\"data\":{\"x\":[2.7508771929824563,3.418,3.0325581395348835],\"y\":[4.328070175438596,1.4639999999999995,5.6720930232558135]}},\"id\":\"bd8d0c1b-fbe3-4e51-a0d4-850dcb803018\",\"type\":\"ColumnDataSource\"},{\"attributes\":{\"plot\":{\"id\":\"b0a387bb-ddd0-4e21-99f7-6872f735ddb9\",\"subtype\":\"Figure\",\"type\":\"Plot\"}},\"id\":\"b6412855-259f-4ba5-b724-0d04f8e45ec7\",\"type\":\"HelpTool\"},{\"attributes\":{\"data_source\":{\"id\":\"553a8adf-d8f1-47be-a4bb-be51308af35f\",\"type\":\"ColumnDataSource\"},\"glyph\":{\"id\":\"ac05344a-3374-464e-98c4-302a5966ca17\",\"type\":\"Circle\"},\"hover_glyph\":null,\"nonselection_glyph\":{\"id\":\"988707e9-b66d-43a5-9513-6dbe181cfe0c\",\"type\":\"Circle\"},\"selection_glyph\":null},\"id\":\"6f7cee7e-038a-4b9a-98bd-fa6e36c1461b\",\"type\":\"GlyphRenderer\"},{\"attributes\":{\"callback\":null,\"column_names\":[\"y\",\"x\"],\"data\":{\"x\":[3.05,3.43,2.54,3.1083333333333334,3.15,2.4375,2.657142857142857,3.9076923076923076,3.0043478260869563,3.0294117647058822],\"y\":[5.759090909090909,1.4849999999999999,4.126666666666667,5.116666666666667,6.6,3.4625,5.007142857142857,1.523076923076923,4.48695652173913,1.394117647058823]}},\"id\":\"d5ecbb11-38f2-4ae9-966c-a3ad5e5b5367\",\"type\":\"ColumnDataSource\"},{\"attributes\":{\"data_source\":{\"id\":\"c128423e-4b26-4fcc-9414-c80146948d6c\",\"type\":\"ColumnDataSource\"},\"glyph\":{\"id\":\"e73d1d4c-790c-44c4-814c-a32b3430b279\",\"type\":\"Line\"},\"hover_glyph\":null,\"nonselection_glyph\":{\"id\":\"c9069d4f-02a5-4dd3-855e-825c22e53826\",\"type\":\"Line\"},\"selection_glyph\":null},\"id\":\"7823f6c2-5f5c-4c3a-99e0-393a10065858\",\"type\":\"GlyphRenderer\"},{\"attributes\":{\"data_source\":{\"id\":\"d5ecbb11-38f2-4ae9-966c-a3ad5e5b5367\",\"type\":\"ColumnDataSource\"},\"glyph\":{\"id\":\"82a9a0a4-06b0-418f-b030-5fb5ba14ba90\",\"type\":\"Circle\"},\"hover_glyph\":null,\"nonselection_glyph\":{\"id\":\"5b2e0d6c-dc8f-474b-bf43-d0aa017affbc\",\"type\":\"Circle\"},\"selection_glyph\":null},\"id\":\"7f9d9874-f117-4549-847e-5f91dcd24fdc\",\"type\":\"GlyphRenderer\"},{\"attributes\":{\"callback\":null},\"id\":\"9e04ead9-2362-4d09-a85e-e11b50ad706a\",\"type\":\"DataRange1d\"},{\"attributes\":{},\"id\":\"9ae7887e-1650-44aa-9774-661e19298ed1\",\"type\":\"BasicTickFormatter\"},{\"attributes\":{\"below\":[{\"id\":\"7ccd97d9-0e66-478c-a693-71719f82da16\",\"type\":\"LinearAxis\"}],\"left\":[{\"id\":\"01c8c218-60c7-49be-8e5f-a8adcd1825f0\",\"type\":\"LinearAxis\"}],\"renderers\":[{\"id\":\"7ccd97d9-0e66-478c-a693-71719f82da16\",\"type\":\"LinearAxis\"},{\"id\":\"954b7eb3-9901-4309-bb98-deb049fbc526\",\"type\":\"Grid\"},{\"id\":\"01c8c218-60c7-49be-8e5f-a8adcd1825f0\",\"type\":\"LinearAxis\"},{\"id\":\"443d0362-5598-4edb-9dd3-3297f822f8a1\",\"type\":\"Grid\"},{\"id\":\"4de49a0f-3ae8-4578-ba63-1cff8b0098d5\",\"type\":\"BoxAnnotation\"},{\"id\":\"6f7cee7e-038a-4b9a-98bd-fa6e36c1461b\",\"type\":\"GlyphRenderer\"},{\"id\":\"48a03035-45b2-4b15-825a-e0ea713762b2\",\"type\":\"GlyphRenderer\"}],\"title\":\"Clusters in Forest Dataset\",\"tool_events\":{\"id\":\"eb0b73b3-1ac5-4462-b2cb-0201f3f8acf8\",\"type\":\"ToolEvents\"},\"tools\":[{\"id\":\"8ecc78c2-ca68-4e52-a541-63a6c9edfd6c\",\"type\":\"PanTool\"},{\"id\":\"9be7969a-7ce6-487f-8521-7bd36af0be09\",\"type\":\"WheelZoomTool\"},{\"id\":\"17e23059-3f51-426c-8123-ea098cd71bcb\",\"type\":\"BoxZoomTool\"},{\"id\":\"087f7e4e-6c14-408c-aaec-900a8884887a\",\"type\":\"PreviewSaveTool\"},{\"id\":\"5db2314f-5d33-40a9-8a45-bd9c5f50299e\",\"type\":\"ResizeTool\"},{\"id\":\"ceeaa880-a404-4abe-a550-6deb1873633d\",\"type\":\"ResetTool\"},{\"id\":\"b6412855-259f-4ba5-b724-0d04f8e45ec7\",\"type\":\"HelpTool\"}],\"x_range\":{\"id\":\"9e04ead9-2362-4d09-a85e-e11b50ad706a\",\"type\":\"DataRange1d\"},\"y_range\":{\"id\":\"099029d7-1f9b-48e4-b297-0394354f42b8\",\"type\":\"DataRange1d\"}},\"id\":\"b0a387bb-ddd0-4e21-99f7-6872f735ddb9\",\"subtype\":\"Figure\",\"type\":\"Plot\"},{\"attributes\":{},\"id\":\"3ff67822-d913-4c65-94f4-38cd1509a371\",\"type\":\"BasicTicker\"},{\"attributes\":{\"dimension\":1,\"plot\":{\"id\":\"b0a387bb-ddd0-4e21-99f7-6872f735ddb9\",\"subtype\":\"Figure\",\"type\":\"Plot\"},\"ticker\":{\"id\":\"f397d40e-3565-4253-8a49-df344453bc40\",\"type\":\"BasicTicker\"}},\"id\":\"443d0362-5598-4edb-9dd3-3297f822f8a1\",\"type\":\"Grid\"},{\"attributes\":{\"callback\":null,\"column_names\":[\"y\",\"x\"],\"data\":{\"x\":[7,7,7,8,8,8,8,8,8,7,7,7,6,6,6,6,5,8,6,6,6,5,7,7,7,7,7,7,6,6,6,6,6,6,6,6,6,7,7,4,4,4,4,4,4,5,5,6,4,4,4,4,4,4,4,4,4,4,2,2,2,2,2,2,2,2,2,2,2,4,4,4,5,5,5,9,9,1,1,1,1,1,1,1,1,1,1,1,1,6,6,8,8,8,8,4,3,3,3,3,3,3,2,2,2,4,4,4,4,4,4,3,3,3,3,3,3,3,3,3,3,3,3,3,3,3,3,3,3,2,4,4,4,4,3,3,3,3,9,1,2,1,8,1,2,6,5,8,2,8,6,9,3,5,1,7,2,2,2,7,7,6,6,8,8,6,6,6,6,8,5,8,7,4,1,1,6,2,2,8,1,8,5,7,8,2,8,1,6,7,6,2,2,4,2,2,6,4,3,2,1,6,7,8,5,4,2,7,6,8,4,7,7,7,4,4,4,1,4,6,8,3,4,2,7,4,7,8,4,8,4,1,6,9,4,8,2,1,6,7,6,4,2,7,2,3,5,2,8,3,8,8,6,7,6,2,8,4,3,7,2,3,2,6,4,4,6,2,3,4,2,8,2,4,8,4,4,3,4,4,4,6,6,3,5,2,7,7,7,7,2,9,4,7,8,7,6,8,8,6,6,6,3,3,6,1,7,3,2,2,7,6,2,6,4,3,4,4,6,5,6,1,6,3,6,1,5,6,6,4,3,7,4,1,2,4,7,6,8,2,2,8,6,8,6,2,1,5,3,5,5,4,7,7,7,4,4,6,6,1,6,4,7,4,6,6,4,4,6,4,7,3,4,5,6,6,8,2,6,4,5,8,8,9,8,2,3,5,6,7,7,8,1,2,6,4,4,5,1,9,9,3,9,8,2,2,6,4,4,1,6,7,9,7,5,8,6,6,2,2,8,2,8,1,8,2,8,2,1,3,7,1,8,2,1,2,8,8,2,1,5,8,6,1,2,5,6,3,7,7,4,1,7,4,3,3,2,1,8,7,2,8,1,6,6,2,6,3,6,6,5,4,8,9,4,2,4,4,7,7,9,4,3,8,2,2,5,5,4,4,4,4,1,1,6,6,4,3,6,7,8,7,4,2,4,1,1,2,1,5,6,8,4,2,7,1,6],\"y\":[5,4,4,6,6,6,6,6,6,5,5,5,5,5,5,5,5,5,4,4,4,4,4,4,4,4,4,4,3,3,3,3,3,3,3,3,3,4,3,4,4,4,4,4,4,6,6,6,4,4,4,3,3,3,3,3,3,3,2,2,2,2,2,2,2,2,2,2,2,5,5,5,4,4,4,9,9,3,2,2,2,2,2,2,2,2,2,2,2,5,5,6,6,6,6,4,4,4,4,4,4,4,4,4,4,5,5,5,5,5,4,4,4,4,4,5,4,4,4,4,4,4,4,4,4,4,5,5,5,5,6,6,6,6,5,5,6,6,9,4,5,2,6,2,5,5,4,3,2,6,5,9,4,4,5,4,4,2,4,4,4,4,3,6,5,5,5,5,5,6,4,6,4,4,4,4,5,5,5,6,3,6,4,4,6,5,6,5,4,4,5,5,2,5,2,5,5,5,4,4,5,5,4,6,6,5,2,5,5,3,4,4,4,3,4,4,4,3,5,5,6,4,3,2,4,4,5,6,6,6,4,5,4,4,5,6,2,2,5,5,3,4,4,4,4,4,4,4,6,4,5,5,5,4,3,5,6,3,4,4,4,4,4,3,4,4,5,2,4,4,2,6,5,6,6,6,4,4,4,4,6,5,3,4,4,5,6,4,4,4,5,4,5,6,6,5,4,6,6,5,5,5,6,6,5,4,4,4,4,4,4,3,4,5,4,4,5,4,5,4,3,4,5,5,5,4,4,5,5,3,3,4,4,4,3,3,4,3,6,4,5,6,3,6,3,2,4,4,4,4,4,4,4,4,4,4,4,3,3,4,5,3,4,3,5,5,5,5,5,5,4,4,5,4,5,5,6,2,5,5,4,6,6,6,4,4,4,5,4,4,4,6,3,4,5,5,3,6,2,5,5,4,9,6,4,2,5,5,3,4,3,4,4,5,4,6,3,5,4,5,8,4,6,3,6,2,6,4,3,4,4,3,6,4,4,5,6,6,5,3,4,6,5,2,5,5,5,4,4,4,5,4,4,5,4,4,4,4,6,4,5,6,4,5,4,2,5,4,5,3,4,3,3,4,3,5,3,3,4,4,9,3,4,6,5,4,4,4,4,4,4,4,3,3,6,6,5,4,5,5,6,5,4,4,3,2,2,4,2,4,5,6,3,4,4,4,3]}},\"id\":\"553a8adf-d8f1-47be-a4bb-be51308af35f\",\"type\":\"ColumnDataSource\"},{\"attributes\":{\"callback\":null,\"column_names\":[\"y\",\"x\",\"line_color\",\"fill_color\"],\"data\":{\"fill_color\":[\"red\",\"red\",\"red\",\"red\",\"red\",\"red\",\"red\",\"red\",\"red\",\"red\",\"red\",\"red\",\"red\",\"red\",\"red\",\"red\",\"red\",\"red\",\"red\",\"red\",\"red\",\"red\",\"red\",\"red\",\"red\",\"red\",\"red\",\"red\",\"red\",\"red\",\"red\",\"red\",\"red\",\"red\",\"red\",\"red\",\"red\",\"red\",\"red\",\"red\",\"red\",\"red\",\"red\",\"red\",\"red\",\"red\",\"red\",\"red\",\"red\",\"red\",\"blue\",\"blue\",\"blue\",\"blue\",\"blue\",\"blue\",\"blue\",\"blue\",\"blue\",\"blue\",\"blue\",\"blue\",\"blue\",\"blue\",\"blue\",\"blue\",\"blue\",\"blue\",\"blue\",\"blue\",\"blue\",\"blue\",\"blue\",\"blue\",\"blue\",\"blue\",\"blue\",\"blue\",\"blue\",\"blue\",\"blue\",\"blue\",\"blue\",\"blue\",\"blue\",\"blue\",\"blue\",\"blue\",\"blue\",\"blue\",\"blue\",\"blue\",\"blue\",\"blue\",\"blue\",\"blue\",\"blue\",\"blue\",\"blue\",\"blue\",\"orange\",\"orange\",\"orange\",\"orange\",\"orange\",\"orange\",\"orange\",\"orange\",\"orange\",\"orange\",\"orange\",\"orange\",\"orange\",\"orange\",\"orange\",\"orange\",\"orange\",\"orange\",\"orange\",\"orange\",\"orange\",\"orange\",\"orange\",\"orange\",\"orange\",\"orange\",\"orange\",\"orange\",\"orange\",\"orange\",\"orange\",\"orange\",\"orange\",\"orange\",\"orange\",\"orange\",\"orange\",\"orange\",\"orange\",\"orange\",\"orange\",\"orange\",\"orange\",\"orange\",\"orange\",\"orange\",\"orange\",\"orange\",\"orange\",\"orange\"],\"line_color\":[\"red\",\"red\",\"red\",\"red\",\"red\",\"red\",\"red\",\"red\",\"red\",\"red\",\"red\",\"red\",\"red\",\"red\",\"red\",\"red\",\"red\",\"red\",\"red\",\"red\",\"red\",\"red\",\"red\",\"red\",\"red\",\"red\",\"red\",\"red\",\"red\",\"red\",\"red\",\"red\",\"red\",\"red\",\"red\",\"red\",\"red\",\"red\",\"red\",\"red\",\"red\",\"red\",\"red\",\"red\",\"red\",\"red\",\"red\",\"red\",\"red\",\"red\",\"blue\",\"blue\",\"blue\",\"blue\",\"blue\",\"blue\",\"blue\",\"blue\",\"blue\",\"blue\",\"blue\",\"blue\",\"blue\",\"blue\",\"blue\",\"blue\",\"blue\",\"blue\",\"blue\",\"blue\",\"blue\",\"blue\",\"blue\",\"blue\",\"blue\",\"blue\",\"blue\",\"blue\",\"blue\",\"blue\",\"blue\",\"blue\",\"blue\",\"blue\",\"blue\",\"blue\",\"blue\",\"blue\",\"blue\",\"blue\",\"blue\",\"blue\",\"blue\",\"blue\",\"blue\",\"blue\",\"blue\",\"blue\",\"blue\",\"blue\",\"orange\",\"orange\",\"orange\",\"orange\",\"orange\",\"orange\",\"orange\",\"orange\",\"orange\",\"orange\",\"orange\",\"orange\",\"orange\",\"orange\",\"orange\",\"orange\",\"orange\",\"orange\",\"orange\",\"orange\",\"orange\",\"orange\",\"orange\",\"orange\",\"orange\",\"orange\",\"orange\",\"orange\",\"orange\",\"orange\",\"orange\",\"orange\",\"orange\",\"orange\",\"orange\",\"orange\",\"orange\",\"orange\",\"orange\",\"orange\",\"orange\",\"orange\",\"orange\",\"orange\",\"orange\",\"orange\",\"orange\",\"orange\",\"orange\",\"orange\"],\"x\":[3.5,3.0,3.2,3.1,3.6,3.9,3.4,3.4,2.9,3.1,3.7,3.4,3.0,3.0,4.0,4.4,3.9,3.5,3.8,3.8,3.4,3.7,3.6,3.3,3.4,3.0,3.4,3.5,3.4,3.2,3.1,3.4,4.1,4.2,3.1,3.2,3.5,3.1,3.0,3.4,3.5,2.3,3.2,3.5,3.8,3.0,3.8,3.2,3.7,3.3,3.2,3.2,3.1,2.3,2.8,2.8,3.3,2.4,2.9,2.7,2.0,3.0,2.2,2.9,2.9,3.1,3.0,2.7,2.2,2.5,3.2,2.8,2.5,2.8,2.9,3.0,2.8,3.0,2.9,2.6,2.4,2.4,2.7,2.7,3.0,3.4,3.1,2.3,3.0,2.5,2.6,3.0,2.6,2.3,2.7,3.0,2.9,2.9,2.5,2.8,3.3,2.7,3.0,2.9,3.0,3.0,2.5,2.9,2.5,3.6,3.2,2.7,3.0,2.5,2.8,3.2,3.0,3.8,2.6,2.2,3.2,2.8,2.8,2.7,3.3,3.2,2.8,3.0,2.8,3.0,2.8,3.8,2.8,2.8,2.6,3.0,3.4,3.1,3.0,3.1,3.1,3.1,2.7,3.2,3.3,3.0,2.5,3.0,3.4,3.0],\"y\":[1.4,1.4,1.3,1.5,1.4,1.7,1.4,1.5,1.4,1.5,1.5,1.6,1.4,1.1,1.2,1.5,1.3,1.4,1.7,1.5,1.7,1.5,1.0,1.7,1.9,1.6,1.6,1.5,1.4,1.6,1.6,1.5,1.5,1.4,1.5,1.2,1.3,1.5,1.3,1.5,1.3,1.3,1.3,1.6,1.9,1.4,1.6,1.4,1.5,1.4,4.7,4.5,4.9,4.0,4.6,4.5,4.7,3.3,4.6,3.9,3.5,4.2,4.0,4.7,3.6,4.4,4.5,4.1,4.5,3.9,4.8,4.0,4.9,4.7,4.3,4.4,4.8,5.0,4.5,3.5,3.8,3.7,3.9,5.1,4.5,4.5,4.7,4.4,4.1,4.0,4.4,4.6,4.0,3.3,4.2,4.2,4.2,4.3,3.0,4.1,6.0,5.1,5.9,5.6,5.8,6.6,4.5,6.3,5.8,6.1,5.1,5.3,5.5,5.0,5.1,5.3,5.5,6.7,6.9,5.0,5.7,4.9,6.7,4.9,5.7,6.0,4.8,4.9,5.6,5.8,6.1,6.4,5.6,5.1,5.6,6.1,5.6,5.5,4.8,5.4,5.6,5.1,5.1,5.9,5.7,5.2,5.0,5.2,5.4,5.1]}},\"id\":\"7d882722-cbb8-4b32-99a1-0c453a90ce48\",\"type\":\"ColumnDataSource\"},{\"attributes\":{\"callback\":null},\"id\":\"11642788-7b9e-4594-ac17-2930a431d4ef\",\"type\":\"DataRange1d\"},{\"attributes\":{},\"id\":\"7927e8ab-62a4-4593-9c67-21ebdac5c6d6\",\"type\":\"BasicTickFormatter\"},{\"attributes\":{\"overlay\":{\"id\":\"4de49a0f-3ae8-4578-ba63-1cff8b0098d5\",\"type\":\"BoxAnnotation\"},\"plot\":{\"id\":\"b0a387bb-ddd0-4e21-99f7-6872f735ddb9\",\"subtype\":\"Figure\",\"type\":\"Plot\"}},\"id\":\"17e23059-3f51-426c-8123-ea098cd71bcb\",\"type\":\"BoxZoomTool\"},{\"attributes\":{\"data_source\":{\"id\":\"7d882722-cbb8-4b32-99a1-0c453a90ce48\",\"type\":\"ColumnDataSource\"},\"glyph\":{\"id\":\"a19fa60c-790c-4589-9d67-38fc72f93561\",\"type\":\"Circle\"},\"hover_glyph\":null,\"nonselection_glyph\":{\"id\":\"35855847-678e-4c18-a75b-491e75cd7168\",\"type\":\"Circle\"},\"selection_glyph\":null},\"id\":\"cd3e9038-5ffc-444a-a7f0-39fe7f18c96c\",\"type\":\"GlyphRenderer\"},{\"attributes\":{\"formatter\":{\"id\":\"7927e8ab-62a4-4593-9c67-21ebdac5c6d6\",\"type\":\"BasicTickFormatter\"},\"plot\":{\"id\":\"f7797f50-c2c1-4fa2-863d-c7bab6253d6f\",\"subtype\":\"Figure\",\"type\":\"Plot\"},\"ticker\":{\"id\":\"3ff67822-d913-4c65-94f4-38cd1509a371\",\"type\":\"BasicTicker\"}},\"id\":\"be22e79f-d9f9-4eef-bce9-183e5ce2786c\",\"type\":\"LinearAxis\"},{\"attributes\":{},\"id\":\"a6748004-bbc0-49b2-b644-f847640fa304\",\"type\":\"BasicTicker\"},{\"attributes\":{\"plot\":{\"id\":\"b0a387bb-ddd0-4e21-99f7-6872f735ddb9\",\"subtype\":\"Figure\",\"type\":\"Plot\"}},\"id\":\"9be7969a-7ce6-487f-8521-7bd36af0be09\",\"type\":\"WheelZoomTool\"},{\"attributes\":{\"fill_alpha\":{\"value\":0.1},\"fill_color\":{\"value\":\"#1f77b4\"},\"line_alpha\":{\"value\":0.1},\"line_color\":{\"value\":\"#1f77b4\"},\"size\":{\"units\":\"screen\",\"value\":5},\"x\":{\"field\":\"x\"},\"y\":{\"field\":\"y\"}},\"id\":\"35855847-678e-4c18-a75b-491e75cd7168\",\"type\":\"Circle\"},{\"attributes\":{\"fill_color\":{\"field\":\"fill_color\"},\"line_color\":{\"field\":\"line_color\"},\"size\":{\"units\":\"screen\",\"value\":5},\"x\":{\"field\":\"x\"},\"y\":{\"field\":\"y\"}},\"id\":\"a19fa60c-790c-4589-9d67-38fc72f93561\",\"type\":\"Circle\"},{\"attributes\":{\"plot\":{\"id\":\"b0a387bb-ddd0-4e21-99f7-6872f735ddb9\",\"subtype\":\"Figure\",\"type\":\"Plot\"}},\"id\":\"ceeaa880-a404-4abe-a550-6deb1873633d\",\"type\":\"ResetTool\"},{\"attributes\":{\"plot\":{\"id\":\"b0a387bb-ddd0-4e21-99f7-6872f735ddb9\",\"subtype\":\"Figure\",\"type\":\"Plot\"},\"ticker\":{\"id\":\"d1fa22bc-37c8-4e29-a64e-ecad4dacc81c\",\"type\":\"BasicTicker\"}},\"id\":\"954b7eb3-9901-4309-bb98-deb049fbc526\",\"type\":\"Grid\"},{\"attributes\":{\"data_source\":{\"id\":\"c7a73d8a-d2e8-49c2-bfcf-13fb53eec9b0\",\"type\":\"ColumnDataSource\"},\"glyph\":{\"id\":\"cb75f747-2ccb-4e9f-bb43-ebf0ff80a664\",\"type\":\"Circle\"},\"hover_glyph\":null,\"nonselection_glyph\":{\"id\":\"3e0e8362-ac97-4a2c-9079-e30e82d3523d\",\"type\":\"Circle\"},\"selection_glyph\":null},\"id\":\"cf6db517-536e-4d1c-8fea-5dfc4c3fc67b\",\"type\":\"GlyphRenderer\"},{\"attributes\":{\"callback\":null,\"column_names\":[\"y\",\"x\",\"line_color\",\"fill_color\"],\"data\":{\"fill_color\":[\"red\",\"red\",\"red\",\"red\",\"red\",\"red\",\"red\",\"red\",\"red\",\"red\",\"red\",\"red\",\"red\",\"red\",\"red\",\"red\",\"red\",\"red\",\"red\",\"red\",\"red\",\"red\",\"red\",\"red\",\"red\",\"red\",\"red\",\"red\",\"red\",\"red\",\"red\",\"red\",\"red\",\"red\",\"red\",\"red\",\"red\",\"red\",\"red\",\"red\",\"red\",\"red\",\"red\",\"red\",\"red\",\"red\",\"red\",\"red\",\"red\",\"red\",\"blue\",\"blue\",\"blue\",\"blue\",\"blue\",\"blue\",\"blue\",\"blue\",\"blue\",\"blue\",\"blue\",\"blue\",\"blue\",\"blue\",\"blue\",\"blue\",\"blue\",\"blue\",\"blue\",\"blue\",\"blue\",\"blue\",\"blue\",\"blue\",\"blue\",\"blue\",\"blue\",\"blue\",\"blue\",\"blue\",\"blue\",\"blue\",\"blue\",\"blue\",\"blue\",\"blue\",\"blue\",\"blue\",\"blue\",\"blue\",\"blue\",\"blue\",\"blue\",\"blue\",\"blue\",\"blue\",\"blue\",\"blue\",\"blue\",\"blue\",\"orange\",\"orange\",\"orange\",\"orange\",\"orange\",\"orange\",\"orange\",\"orange\",\"orange\",\"orange\",\"orange\",\"orange\",\"orange\",\"orange\",\"orange\",\"orange\",\"orange\",\"orange\",\"orange\",\"orange\",\"orange\",\"orange\",\"orange\",\"orange\",\"orange\",\"orange\",\"orange\",\"orange\",\"orange\",\"orange\",\"orange\",\"orange\",\"orange\",\"orange\",\"orange\",\"orange\",\"orange\",\"orange\",\"orange\",\"orange\",\"orange\",\"orange\",\"orange\",\"orange\",\"orange\",\"orange\",\"orange\",\"orange\",\"orange\",\"orange\"],\"line_color\":[\"red\",\"red\",\"red\",\"red\",\"red\",\"red\",\"red\",\"red\",\"red\",\"red\",\"red\",\"red\",\"red\",\"red\",\"red\",\"red\",\"red\",\"red\",\"red\",\"red\",\"red\",\"red\",\"red\",\"red\",\"red\",\"red\",\"red\",\"red\",\"red\",\"red\",\"red\",\"red\",\"red\",\"red\",\"red\",\"red\",\"red\",\"red\",\"red\",\"red\",\"red\",\"red\",\"red\",\"red\",\"red\",\"red\",\"red\",\"red\",\"red\",\"red\",\"blue\",\"blue\",\"blue\",\"blue\",\"blue\",\"blue\",\"blue\",\"blue\",\"blue\",\"blue\",\"blue\",\"blue\",\"blue\",\"blue\",\"blue\",\"blue\",\"blue\",\"blue\",\"blue\",\"blue\",\"blue\",\"blue\",\"blue\",\"blue\",\"blue\",\"blue\",\"blue\",\"blue\",\"blue\",\"blue\",\"blue\",\"blue\",\"blue\",\"blue\",\"blue\",\"blue\",\"blue\",\"blue\",\"blue\",\"blue\",\"blue\",\"blue\",\"blue\",\"blue\",\"blue\",\"blue\",\"blue\",\"blue\",\"blue\",\"blue\",\"orange\",\"orange\",\"orange\",\"orange\",\"orange\",\"orange\",\"orange\",\"orange\",\"orange\",\"orange\",\"orange\",\"orange\",\"orange\",\"orange\",\"orange\",\"orange\",\"orange\",\"orange\",\"orange\",\"orange\",\"orange\",\"orange\",\"orange\",\"orange\",\"orange\",\"orange\",\"orange\",\"orange\",\"orange\",\"orange\",\"orange\",\"orange\",\"orange\",\"orange\",\"orange\",\"orange\",\"orange\",\"orange\",\"orange\",\"orange\",\"orange\",\"orange\",\"orange\",\"orange\",\"orange\",\"orange\",\"orange\",\"orange\",\"orange\",\"orange\"],\"x\":[3.5,3.0,3.2,3.1,3.6,3.9,3.4,3.4,2.9,3.1,3.7,3.4,3.0,3.0,4.0,4.4,3.9,3.5,3.8,3.8,3.4,3.7,3.6,3.3,3.4,3.0,3.4,3.5,3.4,3.2,3.1,3.4,4.1,4.2,3.1,3.2,3.5,3.1,3.0,3.4,3.5,2.3,3.2,3.5,3.8,3.0,3.8,3.2,3.7,3.3,3.2,3.2,3.1,2.3,2.8,2.8,3.3,2.4,2.9,2.7,2.0,3.0,2.2,2.9,2.9,3.1,3.0,2.7,2.2,2.5,3.2,2.8,2.5,2.8,2.9,3.0,2.8,3.0,2.9,2.6,2.4,2.4,2.7,2.7,3.0,3.4,3.1,2.3,3.0,2.5,2.6,3.0,2.6,2.3,2.7,3.0,2.9,2.9,2.5,2.8,3.3,2.7,3.0,2.9,3.0,3.0,2.5,2.9,2.5,3.6,3.2,2.7,3.0,2.5,2.8,3.2,3.0,3.8,2.6,2.2,3.2,2.8,2.8,2.7,3.3,3.2,2.8,3.0,2.8,3.0,2.8,3.8,2.8,2.8,2.6,3.0,3.4,3.1,3.0,3.1,3.1,3.1,2.7,3.2,3.3,3.0,2.5,3.0,3.4,3.0],\"y\":[1.4,1.4,1.3,1.5,1.4,1.7,1.4,1.5,1.4,1.5,1.5,1.6,1.4,1.1,1.2,1.5,1.3,1.4,1.7,1.5,1.7,1.5,1.0,1.7,1.9,1.6,1.6,1.5,1.4,1.6,1.6,1.5,1.5,1.4,1.5,1.2,1.3,1.5,1.3,1.5,1.3,1.3,1.3,1.6,1.9,1.4,1.6,1.4,1.5,1.4,4.7,4.5,4.9,4.0,4.6,4.5,4.7,3.3,4.6,3.9,3.5,4.2,4.0,4.7,3.6,4.4,4.5,4.1,4.5,3.9,4.8,4.0,4.9,4.7,4.3,4.4,4.8,5.0,4.5,3.5,3.8,3.7,3.9,5.1,4.5,4.5,4.7,4.4,4.1,4.0,4.4,4.6,4.0,3.3,4.2,4.2,4.2,4.3,3.0,4.1,6.0,5.1,5.9,5.6,5.8,6.6,4.5,6.3,5.8,6.1,5.1,5.3,5.5,5.0,5.1,5.3,5.5,6.7,6.9,5.0,5.7,4.9,6.7,4.9,5.7,6.0,4.8,4.9,5.6,5.8,6.1,6.4,5.6,5.1,5.6,6.1,5.6,5.5,4.8,5.4,5.6,5.1,5.1,5.9,5.7,5.2,5.0,5.2,5.4,5.1]}},\"id\":\"c7a73d8a-d2e8-49c2-bfcf-13fb53eec9b0\",\"type\":\"ColumnDataSource\"},{\"attributes\":{\"dimension\":1,\"plot\":{\"id\":\"9f2f754f-ff68-40f1-82f8-ebf33f44863e\",\"subtype\":\"Figure\",\"type\":\"Plot\"},\"ticker\":{\"id\":\"db65a9ae-428f-4e05-988d-9b5e36e26090\",\"type\":\"BasicTicker\"}},\"id\":\"a1358cd2-5f16-42ab-b3cd-324df3b8ce9f\",\"type\":\"Grid\"},{\"attributes\":{\"fill_alpha\":{\"value\":0.1},\"fill_color\":{\"value\":\"#1f77b4\"},\"line_alpha\":{\"value\":0.1},\"line_color\":{\"value\":\"#1f77b4\"},\"size\":{\"units\":\"screen\",\"value\":5},\"x\":{\"field\":\"x\"},\"y\":{\"field\":\"y\"}},\"id\":\"988707e9-b66d-43a5-9513-6dbe181cfe0c\",\"type\":\"Circle\"},{\"attributes\":{\"fill_alpha\":{\"value\":0.1},\"fill_color\":{\"value\":\"#1f77b4\"},\"line_alpha\":{\"value\":0.1},\"line_color\":{\"value\":\"#1f77b4\"},\"size\":{\"units\":\"screen\",\"value\":5},\"x\":{\"field\":\"x\"},\"y\":{\"field\":\"y\"}},\"id\":\"3e0e8362-ac97-4a2c-9079-e30e82d3523d\",\"type\":\"Circle\"},{\"attributes\":{},\"id\":\"ea7dd9f6-d2e5-4e0f-a4be-58f48f6544da\",\"type\":\"BasicTickFormatter\"},{\"attributes\":{\"formatter\":{\"id\":\"9ae7887e-1650-44aa-9774-661e19298ed1\",\"type\":\"BasicTickFormatter\"},\"plot\":{\"id\":\"47fdee04-5a93-46b7-9175-d70b93fd8948\",\"subtype\":\"Figure\",\"type\":\"Plot\"},\"ticker\":{\"id\":\"a6748004-bbc0-49b2-b644-f847640fa304\",\"type\":\"BasicTicker\"}},\"id\":\"096b42b4-a8e0-4274-8364-b762d2ae55cb\",\"type\":\"LinearAxis\"},{\"attributes\":{\"fill_alpha\":{\"value\":0.1},\"fill_color\":{\"value\":\"#1f77b4\"},\"line_alpha\":{\"value\":0.1},\"line_color\":{\"value\":\"#1f77b4\"},\"size\":{\"units\":\"screen\",\"value\":100},\"x\":{\"field\":\"x\"},\"y\":{\"field\":\"y\"}},\"id\":\"8c8feb71-ccbb-4517-ad73-cb6febc02e48\",\"type\":\"Circle\"},{\"attributes\":{\"formatter\":{\"id\":\"85012238-54bd-4282-9205-f43787dd1630\",\"type\":\"BasicTickFormatter\"},\"plot\":{\"id\":\"b0a387bb-ddd0-4e21-99f7-6872f735ddb9\",\"subtype\":\"Figure\",\"type\":\"Plot\"},\"ticker\":{\"id\":\"d1fa22bc-37c8-4e29-a64e-ecad4dacc81c\",\"type\":\"BasicTicker\"}},\"id\":\"7ccd97d9-0e66-478c-a693-71719f82da16\",\"type\":\"LinearAxis\"},{\"attributes\":{\"callback\":null},\"id\":\"0aef2405-6aa4-444b-89f0-c02c0b3184e6\",\"type\":\"DataRange1d\"},{\"attributes\":{},\"id\":\"aa99ab63-c4ce-4ab4-875d-64c255ff85f7\",\"type\":\"BasicTickFormatter\"},{\"attributes\":{},\"id\":\"bc62dbf6-6109-43c7-9bd3-7c9b41cf22f9\",\"type\":\"ToolEvents\"},{\"attributes\":{},\"id\":\"fa9e2f87-b9db-4332-a28f-4ff7605ab3cd\",\"type\":\"BasicTicker\"},{\"attributes\":{\"line_color\":{\"value\":\"#1f77b4\"},\"x\":{\"field\":\"x\"},\"y\":{\"field\":\"y\"}},\"id\":\"e73d1d4c-790c-44c4-814c-a32b3430b279\",\"type\":\"Line\"},{\"attributes\":{\"plot\":{\"id\":\"47fdee04-5a93-46b7-9175-d70b93fd8948\",\"subtype\":\"Figure\",\"type\":\"Plot\"},\"ticker\":{\"id\":\"fa9e2f87-b9db-4332-a28f-4ff7605ab3cd\",\"type\":\"BasicTicker\"}},\"id\":\"aff0c6f5-aa17-4d23-863d-5f12383d975f\",\"type\":\"Grid\"},{\"attributes\":{\"formatter\":{\"id\":\"fd019753-c566-4afd-b096-a77b8a0dabe6\",\"type\":\"BasicTickFormatter\"},\"plot\":{\"id\":\"b0a387bb-ddd0-4e21-99f7-6872f735ddb9\",\"subtype\":\"Figure\",\"type\":\"Plot\"},\"ticker\":{\"id\":\"f397d40e-3565-4253-8a49-df344453bc40\",\"type\":\"BasicTicker\"}},\"id\":\"01c8c218-60c7-49be-8e5f-a8adcd1825f0\",\"type\":\"LinearAxis\"},{\"attributes\":{\"fill_alpha\":{\"value\":0.1},\"fill_color\":{\"value\":\"#1f77b4\"},\"line_alpha\":{\"value\":0.1},\"line_color\":{\"value\":\"#1f77b4\"},\"size\":{\"units\":\"screen\",\"value\":100},\"x\":{\"field\":\"x\"},\"y\":{\"field\":\"y\"}},\"id\":\"5b2e0d6c-dc8f-474b-bf43-d0aa017affbc\",\"type\":\"Circle\"},{\"attributes\":{},\"id\":\"6ed3c336-7f07-4c7e-8226-9b3cce99d3b1\",\"type\":\"ToolEvents\"},{\"attributes\":{},\"id\":\"74a1e311-095f-4e22-b6d2-f302facdf2c6\",\"type\":\"BasicTickFormatter\"},{\"attributes\":{\"line_alpha\":{\"value\":0.1},\"line_color\":{\"value\":\"#1f77b4\"},\"x\":{\"field\":\"x\"},\"y\":{\"field\":\"y\"}},\"id\":\"c9069d4f-02a5-4dd3-855e-825c22e53826\",\"type\":\"Line\"},{\"attributes\":{\"fill_alpha\":{\"value\":0.1},\"fill_color\":{\"value\":\"#1f77b4\"},\"line_alpha\":{\"value\":0.1},\"line_color\":{\"value\":\"#1f77b4\"},\"size\":{\"units\":\"screen\",\"value\":100},\"x\":{\"field\":\"x\"},\"y\":{\"field\":\"y\"}},\"id\":\"ba3a63fc-10fb-479f-873e-6977488b3bfa\",\"type\":\"Circle\"},{\"attributes\":{},\"id\":\"9412106f-413e-4a20-b7b1-71ca35bd4cb3\",\"type\":\"ToolEvents\"},{\"attributes\":{\"callback\":null},\"id\":\"099029d7-1f9b-48e4-b297-0394354f42b8\",\"type\":\"DataRange1d\"},{\"attributes\":{\"plot\":{\"id\":\"f7797f50-c2c1-4fa2-863d-c7bab6253d6f\",\"subtype\":\"Figure\",\"type\":\"Plot\"},\"ticker\":{\"id\":\"3ff67822-d913-4c65-94f4-38cd1509a371\",\"type\":\"BasicTicker\"}},\"id\":\"047e2f1e-30ad-47a1-9bfc-f74a118f2470\",\"type\":\"Grid\"},{\"attributes\":{},\"id\":\"f397d40e-3565-4253-8a49-df344453bc40\",\"type\":\"BasicTicker\"},{\"attributes\":{\"plot\":{\"id\":\"b0a387bb-ddd0-4e21-99f7-6872f735ddb9\",\"subtype\":\"Figure\",\"type\":\"Plot\"}},\"id\":\"8ecc78c2-ca68-4e52-a541-63a6c9edfd6c\",\"type\":\"PanTool\"},{\"attributes\":{\"dimension\":1,\"plot\":{\"id\":\"f7797f50-c2c1-4fa2-863d-c7bab6253d6f\",\"subtype\":\"Figure\",\"type\":\"Plot\"},\"ticker\":{\"id\":\"5527c948-b165-4894-b284-b3b58f451843\",\"type\":\"BasicTicker\"}},\"id\":\"58461bd9-9308-43f1-9541-eb5fba940215\",\"type\":\"Grid\"},{\"attributes\":{\"callback\":null},\"id\":\"348ed8e6-6d5b-422c-ad3b-a120506864df\",\"type\":\"DataRange1d\"},{\"attributes\":{\"plot\":{\"id\":\"9f2f754f-ff68-40f1-82f8-ebf33f44863e\",\"subtype\":\"Figure\",\"type\":\"Plot\"},\"ticker\":{\"id\":\"c81a2147-bd6d-4ae5-9f2a-1daaa3dac064\",\"type\":\"BasicTicker\"}},\"id\":\"7d6bfebd-253f-43b4-b7c8-efd16064ae11\",\"type\":\"Grid\"},{\"attributes\":{\"callback\":null},\"id\":\"b285a1e1-92c4-4d83-b2cb-a5ff31e366b6\",\"type\":\"DataRange1d\"},{\"attributes\":{\"formatter\":{\"id\":\"aa99ab63-c4ce-4ab4-875d-64c255ff85f7\",\"type\":\"BasicTickFormatter\"},\"plot\":{\"id\":\"47fdee04-5a93-46b7-9175-d70b93fd8948\",\"subtype\":\"Figure\",\"type\":\"Plot\"},\"ticker\":{\"id\":\"fa9e2f87-b9db-4332-a28f-4ff7605ab3cd\",\"type\":\"BasicTicker\"}},\"id\":\"0a8227ea-103a-444b-903b-f43ae8fd9650\",\"type\":\"LinearAxis\"},{\"attributes\":{},\"id\":\"707d7ded-628a-4f83-87a9-1f874fa1e478\",\"type\":\"BasicTickFormatter\"},{\"attributes\":{\"dimension\":1,\"plot\":{\"id\":\"47fdee04-5a93-46b7-9175-d70b93fd8948\",\"subtype\":\"Figure\",\"type\":\"Plot\"},\"ticker\":{\"id\":\"a6748004-bbc0-49b2-b644-f847640fa304\",\"type\":\"BasicTicker\"}},\"id\":\"cd43fa18-5a87-4bd2-99fe-9d448dcda2c8\",\"type\":\"Grid\"},{\"attributes\":{},\"id\":\"85012238-54bd-4282-9205-f43787dd1630\",\"type\":\"BasicTickFormatter\"},{\"attributes\":{\"callback\":null,\"column_names\":[\"y\",\"x\"],\"data\":{\"x\":[2,3,4,5,6,7,8,9,10,11,12,13,14,15],\"y\":[0.7388765072447795,0.5930654335605791,0.560474768702901,0.42734953912850754,0.38219062136345766,0.40306468786678834,0.3736508610080102,0.3907502083918878,0.3885542832760069,0.3833845146707228,0.36271001956874055,0.36501053833163105,0.3837056362595219,0.37293200465857723]}},\"id\":\"c128423e-4b26-4fcc-9414-c80146948d6c\",\"type\":\"ColumnDataSource\"},{\"attributes\":{},\"id\":\"d1fa22bc-37c8-4e29-a64e-ecad4dacc81c\",\"type\":\"BasicTicker\"}],\"root_ids\":[\"9f2f754f-ff68-40f1-82f8-ebf33f44863e\",\"47fdee04-5a93-46b7-9175-d70b93fd8948\",\"f7797f50-c2c1-4fa2-863d-c7bab6253d6f\",\"b0a387bb-ddd0-4e21-99f7-6872f735ddb9\"]},\"title\":\"Bokeh Application\",\"version\":\"0.11.1\"}};\n",
       "            var render_items = [{\"docid\":\"c716c858-a5d0-4e50-862c-4ace2fe4ba02\",\"elementid\":\"f8d48184-b467-4635-9515-21502e11c25d\",\"modelid\":\"b0a387bb-ddd0-4e21-99f7-6872f735ddb9\",\"notebook_comms_target\":\"84b8ab57-c5f4-4175-a0b1-39c1279a8911\"}];\n",
       "            \n",
       "            Bokeh.embed.embed_items(docs_json, render_items);\n",
       "        });\n",
       "      },\n",
       "      function(Bokeh) {\n",
       "      }\n",
       "    ];\n",
       "  \n",
       "    function run_inline_js() {\n",
       "      for (var i = 0; i < inline_js.length; i++) {\n",
       "        inline_js[i](window.Bokeh);\n",
       "      }\n",
       "    }\n",
       "  \n",
       "    if (window._bokeh_is_loading === 0) {\n",
       "      console.log(\"Bokeh: BokehJS loaded, going straight to plotting\");\n",
       "      run_inline_js();\n",
       "    } else {\n",
       "      load_libs(js_urls, function() {\n",
       "        console.log(\"Bokeh: BokehJS plotting callback run at\", now());\n",
       "        run_inline_js();\n",
       "      });\n",
       "    }\n",
       "  }(this));\n",
       "</script>"
      ]
     },
     "metadata": {},
     "output_type": "display_data"
    },
    {
     "data": {
      "text/html": [
       "<p><code>&lt;Bokeh Notebook handle for <strong>In[15]</strong>&gt;</code></p>"
      ],
      "text/plain": [
       "<bokeh.io._CommsHandle at 0x114b88c50>"
      ]
     },
     "execution_count": 15,
     "metadata": {},
     "output_type": "execute_result"
    }
   ],
   "source": [
    "p = figure(title=\"Clusters in Forest Dataset\")\n",
    "\n",
    "p.circle(x = X_forest['X'],y = X_forest['Y'],size = 5)\n",
    "p.circle(x = km_forest_centres[:,0],y = km_forest_centres[:,1],\n",
    "        alpha=0.4,\n",
    "        color='green',\n",
    "        size=100)\n",
    "\n",
    "show(p)"
   ]
  },
  {
   "cell_type": "markdown",
   "metadata": {},
   "source": [
    "Generate a silhouette score. Does this score change if you normalize your data? (Should you normalize your X and Y in this instance?)"
   ]
  },
  {
   "cell_type": "code",
   "execution_count": 16,
   "metadata": {
    "collapsed": false
   },
   "outputs": [
    {
     "name": "stdout",
     "output_type": "stream",
     "text": [
      "Raw Data: 0.5931\n",
      "Normalised Data (L2): 0.6686\n"
     ]
    }
   ],
   "source": [
    "print \"Raw Data: %.4f\" % silhouette_score(X,km_forest.fit_predict(X),metric='euclidean')\n",
    "\n",
    "from sklearn import preprocessing\n",
    "X_normalized = preprocessing.normalize(X, norm='l1')\n",
    "print \"Normalised Data (L2): %.4f\" % silhouette_score(X_normalized,km_forest.fit_predict(X_normalized),metric='euclidean')"
   ]
  },
  {
   "cell_type": "markdown",
   "metadata": {},
   "source": [
    "Last thought question: does the silhouette score match your intuition about perceived structure?"
   ]
  },
  {
   "cell_type": "markdown",
   "metadata": {
    "collapsed": true
   },
   "source": [
    "- Yes it does make sense according to the graph shown above"
   ]
  },
  {
   "cell_type": "markdown",
   "metadata": {},
   "source": [
    "Find an optimal k for your columns, repeating the previous steps."
   ]
  },
  {
   "cell_type": "code",
   "execution_count": 17,
   "metadata": {
    "collapsed": false
   },
   "outputs": [
    {
     "name": "stdout",
     "output_type": "stream",
     "text": [
      "2 0.738876507245\n",
      "3 0.593065433561\n",
      "4 0.560474768703\n",
      "5 0.442221198687\n",
      "6 0.398288507153\n",
      "7 0.382922580858\n",
      "8 0.396618076842\n",
      "9 0.382971817142\n",
      "10 0.385736866147\n",
      "11 0.382726558675\n",
      "12 0.381475968825\n",
      "13 0.36673612308\n",
      "14 0.359849258213\n",
      "15 0.3743911417\n"
     ]
    },
    {
     "data": {
      "text/html": [
       "\n",
       "\n",
       "    <div class=\"plotdiv\" id=\"b583e735-9f7f-4107-a162-d7b217e76ba7\"></div>\n",
       "<script type=\"text/javascript\">\n",
       "  \n",
       "  (function(global) {\n",
       "    function now() {\n",
       "      return new Date();\n",
       "    }\n",
       "  \n",
       "    if (typeof (window._bokeh_onload_callbacks) === \"undefined\") {\n",
       "      window._bokeh_onload_callbacks = [];\n",
       "    }\n",
       "  \n",
       "    function run_callbacks() {\n",
       "      window._bokeh_onload_callbacks.forEach(function(callback) { callback() });\n",
       "      delete window._bokeh_onload_callbacks\n",
       "      console.info(\"Bokeh: all callbacks have finished\");\n",
       "    }\n",
       "  \n",
       "    function load_libs(js_urls, callback) {\n",
       "      window._bokeh_onload_callbacks.push(callback);\n",
       "      if (window._bokeh_is_loading > 0) {\n",
       "        console.log(\"Bokeh: BokehJS is being loaded, scheduling callback at\", now());\n",
       "        return null;\n",
       "      }\n",
       "      if (js_urls == null || js_urls.length === 0) {\n",
       "        run_callbacks();\n",
       "        return null;\n",
       "      }\n",
       "      console.log(\"Bokeh: BokehJS not loaded, scheduling load and callback at\", now());\n",
       "      window._bokeh_is_loading = js_urls.length;\n",
       "      for (var i = 0; i < js_urls.length; i++) {\n",
       "        var url = js_urls[i];\n",
       "        var s = document.createElement('script');\n",
       "        s.src = url;\n",
       "        s.async = false;\n",
       "        s.onreadystatechange = s.onload = function() {\n",
       "          window._bokeh_is_loading--;\n",
       "          if (window._bokeh_is_loading === 0) {\n",
       "            console.log(\"Bokeh: all BokehJS libraries loaded\");\n",
       "            run_callbacks()\n",
       "          }\n",
       "        };\n",
       "        s.onerror = function() {\n",
       "          console.warn(\"failed to load library \" + url);\n",
       "        };\n",
       "        console.log(\"Bokeh: injecting script tag for BokehJS library: \", url);\n",
       "        document.getElementsByTagName(\"head\")[0].appendChild(s);\n",
       "      }\n",
       "    };var element = document.getElementById(\"b583e735-9f7f-4107-a162-d7b217e76ba7\");\n",
       "    if (element == null) {\n",
       "      console.log(\"Bokeh: ERROR: autoload.js configured with elementid 'b583e735-9f7f-4107-a162-d7b217e76ba7' but no matching script tag was found. \")\n",
       "      return false;\n",
       "    }\n",
       "  \n",
       "    var js_urls = [];\n",
       "  \n",
       "    var inline_js = [\n",
       "      function(Bokeh) {\n",
       "        Bokeh.$(function() {\n",
       "            var docs_json = {\"6f94a2a2-ce98-4bf9-bb9e-a028fb5fae5b\":{\"roots\":{\"references\":[{\"attributes\":{},\"id\":\"c81a2147-bd6d-4ae5-9f2a-1daaa3dac064\",\"type\":\"BasicTicker\"},{\"attributes\":{\"data_source\":{\"id\":\"8aa6f40e-8a81-4692-baf1-63891d8a8322\",\"type\":\"ColumnDataSource\"},\"glyph\":{\"id\":\"e458c962-9154-4668-9656-bd949e05d3a5\",\"type\":\"Circle\"},\"hover_glyph\":null,\"nonselection_glyph\":{\"id\":\"8c8feb71-ccbb-4517-ad73-cb6febc02e48\",\"type\":\"Circle\"},\"selection_glyph\":null},\"id\":\"dd847629-50be-45aa-8c32-0bf27729636a\",\"type\":\"GlyphRenderer\"},{\"attributes\":{\"below\":[{\"id\":\"20a98869-6a03-4339-b250-7b9e9f55c629\",\"type\":\"LinearAxis\"}],\"left\":[{\"id\":\"d52641a2-f9aa-4996-a300-d6446b57d6d1\",\"type\":\"LinearAxis\"}],\"renderers\":[{\"id\":\"20a98869-6a03-4339-b250-7b9e9f55c629\",\"type\":\"LinearAxis\"},{\"id\":\"e3adb8c3-9926-4dc2-a6b3-296ace08a888\",\"type\":\"Grid\"},{\"id\":\"d52641a2-f9aa-4996-a300-d6446b57d6d1\",\"type\":\"LinearAxis\"},{\"id\":\"7b915057-bbdd-470f-af64-df89c2b96631\",\"type\":\"Grid\"},{\"id\":\"b5337b91-827f-42e8-926b-27d1f1538300\",\"type\":\"GlyphRenderer\"}],\"title\":\"Silhouette Score for different clusters\",\"tool_events\":{\"id\":\"31fdb754-78ff-4cf9-a9d6-2aa6dd546e59\",\"type\":\"ToolEvents\"},\"x_range\":{\"id\":\"6211266a-f0c8-4c9f-ab09-01ef8b3dc2a1\",\"type\":\"DataRange1d\"},\"y_range\":{\"id\":\"19ec6248-e10a-417f-a953-6bc921aa7a18\",\"type\":\"DataRange1d\"}},\"id\":\"6cae5d1e-e7b6-4ac2-93ea-9519243f0140\",\"subtype\":\"Figure\",\"type\":\"Plot\"},{\"attributes\":{\"formatter\":{\"id\":\"74a1e311-095f-4e22-b6d2-f302facdf2c6\",\"type\":\"BasicTickFormatter\"},\"plot\":{\"id\":\"f7797f50-c2c1-4fa2-863d-c7bab6253d6f\",\"subtype\":\"Figure\",\"type\":\"Plot\"},\"ticker\":{\"id\":\"5527c948-b165-4894-b284-b3b58f451843\",\"type\":\"BasicTicker\"}},\"id\":\"6280374d-43e9-4dc0-a776-5db7209bac7e\",\"type\":\"LinearAxis\"},{\"attributes\":{\"data_source\":{\"id\":\"553a8adf-d8f1-47be-a4bb-be51308af35f\",\"type\":\"ColumnDataSource\"},\"glyph\":{\"id\":\"ac05344a-3374-464e-98c4-302a5966ca17\",\"type\":\"Circle\"},\"hover_glyph\":null,\"nonselection_glyph\":{\"id\":\"988707e9-b66d-43a5-9513-6dbe181cfe0c\",\"type\":\"Circle\"},\"selection_glyph\":null},\"id\":\"6f7cee7e-038a-4b9a-98bd-fa6e36c1461b\",\"type\":\"GlyphRenderer\"},{\"attributes\":{\"below\":[{\"id\":\"0a8227ea-103a-444b-903b-f43ae8fd9650\",\"type\":\"LinearAxis\"}],\"left\":[{\"id\":\"096b42b4-a8e0-4274-8364-b762d2ae55cb\",\"type\":\"LinearAxis\"}],\"renderers\":[{\"id\":\"0a8227ea-103a-444b-903b-f43ae8fd9650\",\"type\":\"LinearAxis\"},{\"id\":\"aff0c6f5-aa17-4d23-863d-5f12383d975f\",\"type\":\"Grid\"},{\"id\":\"096b42b4-a8e0-4274-8364-b762d2ae55cb\",\"type\":\"LinearAxis\"},{\"id\":\"cd43fa18-5a87-4bd2-99fe-9d448dcda2c8\",\"type\":\"Grid\"},{\"id\":\"cf6db517-536e-4d1c-8fea-5dfc4c3fc67b\",\"type\":\"GlyphRenderer\"},{\"id\":\"7f9d9874-f117-4549-847e-5f91dcd24fdc\",\"type\":\"GlyphRenderer\"}],\"title\":\"Many Clusters in Iris Dataset\",\"tool_events\":{\"id\":\"bc62dbf6-6109-43c7-9bd3-7c9b41cf22f9\",\"type\":\"ToolEvents\"},\"x_range\":{\"id\":\"b285a1e1-92c4-4d83-b2cb-a5ff31e366b6\",\"type\":\"DataRange1d\"},\"y_range\":{\"id\":\"d79a1779-cda4-4f2c-a462-d7572b732cb7\",\"type\":\"DataRange1d\"}},\"id\":\"47fdee04-5a93-46b7-9175-d70b93fd8948\",\"subtype\":\"Figure\",\"type\":\"Plot\"},{\"attributes\":{},\"id\":\"9f5170c9-b330-4dff-b61c-0ad62a277bbf\",\"type\":\"BasicTickFormatter\"},{\"attributes\":{\"data_source\":{\"id\":\"c7a73d8a-d2e8-49c2-bfcf-13fb53eec9b0\",\"type\":\"ColumnDataSource\"},\"glyph\":{\"id\":\"cb75f747-2ccb-4e9f-bb43-ebf0ff80a664\",\"type\":\"Circle\"},\"hover_glyph\":null,\"nonselection_glyph\":{\"id\":\"3e0e8362-ac97-4a2c-9079-e30e82d3523d\",\"type\":\"Circle\"},\"selection_glyph\":null},\"id\":\"cf6db517-536e-4d1c-8fea-5dfc4c3fc67b\",\"type\":\"GlyphRenderer\"},{\"attributes\":{},\"id\":\"ea7dd9f6-d2e5-4e0f-a4be-58f48f6544da\",\"type\":\"BasicTickFormatter\"},{\"attributes\":{\"fill_alpha\":{\"value\":0.1},\"fill_color\":{\"value\":\"#1f77b4\"},\"line_alpha\":{\"value\":0.1},\"line_color\":{\"value\":\"#1f77b4\"},\"size\":{\"units\":\"screen\",\"value\":100},\"x\":{\"field\":\"x\"},\"y\":{\"field\":\"y\"}},\"id\":\"ba3a63fc-10fb-479f-873e-6977488b3bfa\",\"type\":\"Circle\"},{\"attributes\":{\"data_source\":{\"id\":\"c128423e-4b26-4fcc-9414-c80146948d6c\",\"type\":\"ColumnDataSource\"},\"glyph\":{\"id\":\"e73d1d4c-790c-44c4-814c-a32b3430b279\",\"type\":\"Line\"},\"hover_glyph\":null,\"nonselection_glyph\":{\"id\":\"c9069d4f-02a5-4dd3-855e-825c22e53826\",\"type\":\"Line\"},\"selection_glyph\":null},\"id\":\"7823f6c2-5f5c-4c3a-99e0-393a10065858\",\"type\":\"GlyphRenderer\"},{\"attributes\":{\"below\":[{\"id\":\"d636b66d-c692-4b80-a6d5-1ec7af665ca3\",\"type\":\"LinearAxis\"}],\"left\":[{\"id\":\"3c4b7b49-ae6a-4d42-94ad-c72a4fd1fe15\",\"type\":\"LinearAxis\"}],\"renderers\":[{\"id\":\"d636b66d-c692-4b80-a6d5-1ec7af665ca3\",\"type\":\"LinearAxis\"},{\"id\":\"7d6bfebd-253f-43b4-b7c8-efd16064ae11\",\"type\":\"Grid\"},{\"id\":\"3c4b7b49-ae6a-4d42-94ad-c72a4fd1fe15\",\"type\":\"LinearAxis\"},{\"id\":\"a1358cd2-5f16-42ab-b3cd-324df3b8ce9f\",\"type\":\"Grid\"},{\"id\":\"cd3e9038-5ffc-444a-a7f0-39fe7f18c96c\",\"type\":\"GlyphRenderer\"},{\"id\":\"dd847629-50be-45aa-8c32-0bf27729636a\",\"type\":\"GlyphRenderer\"}],\"title\":\"Clusters in Iris Dataset\",\"tool_events\":{\"id\":\"9412106f-413e-4a20-b7b1-71ca35bd4cb3\",\"type\":\"ToolEvents\"},\"x_range\":{\"id\":\"379959e6-76f0-4b94-968d-fe02178071df\",\"type\":\"DataRange1d\"},\"y_range\":{\"id\":\"11642788-7b9e-4594-ac17-2930a431d4ef\",\"type\":\"DataRange1d\"}},\"id\":\"9f2f754f-ff68-40f1-82f8-ebf33f44863e\",\"subtype\":\"Figure\",\"type\":\"Plot\"},{\"attributes\":{\"line_color\":{\"value\":\"#1f77b4\"},\"x\":{\"field\":\"x\"},\"y\":{\"field\":\"y\"}},\"id\":\"e73d1d4c-790c-44c4-814c-a32b3430b279\",\"type\":\"Line\"},{\"attributes\":{},\"id\":\"a6748004-bbc0-49b2-b644-f847640fa304\",\"type\":\"BasicTicker\"},{\"attributes\":{\"callback\":null},\"id\":\"379959e6-76f0-4b94-968d-fe02178071df\",\"type\":\"DataRange1d\"},{\"attributes\":{\"callback\":null,\"column_names\":[\"y\",\"x\"],\"data\":{\"x\":[2,3,4,5,6,7,8,9,10,11,12,13,14,15],\"y\":[0.7388765072447795,0.5930654335605791,0.560474768702901,0.4422211986873765,0.3982885071528618,0.38292258085827646,0.39661807684162803,0.3829718171420197,0.3857368661469776,0.3827265586754154,0.3814759688253716,0.3667361230800117,0.3598492582130101,0.3743911416995975]}},\"id\":\"b320a882-e99e-4439-bb10-b9a821706aee\",\"type\":\"ColumnDataSource\"},{\"attributes\":{\"fill_color\":{\"value\":\"#1f77b4\"},\"line_color\":{\"value\":\"#1f77b4\"},\"size\":{\"units\":\"screen\",\"value\":5},\"x\":{\"field\":\"x\"},\"y\":{\"field\":\"y\"}},\"id\":\"ac05344a-3374-464e-98c4-302a5966ca17\",\"type\":\"Circle\"},{\"attributes\":{\"callback\":null},\"id\":\"11642788-7b9e-4594-ac17-2930a431d4ef\",\"type\":\"DataRange1d\"},{\"attributes\":{\"callback\":null},\"id\":\"d79a1779-cda4-4f2c-a462-d7572b732cb7\",\"type\":\"DataRange1d\"},{\"attributes\":{},\"id\":\"aa99ab63-c4ce-4ab4-875d-64c255ff85f7\",\"type\":\"BasicTickFormatter\"},{\"attributes\":{\"fill_color\":{\"field\":\"fill_color\"},\"line_color\":{\"field\":\"line_color\"},\"size\":{\"units\":\"screen\",\"value\":5},\"x\":{\"field\":\"x\"},\"y\":{\"field\":\"y\"}},\"id\":\"a19fa60c-790c-4589-9d67-38fc72f93561\",\"type\":\"Circle\"},{\"attributes\":{},\"id\":\"f397d40e-3565-4253-8a49-df344453bc40\",\"type\":\"BasicTicker\"},{\"attributes\":{\"fill_alpha\":{\"value\":0.4},\"fill_color\":{\"value\":\"green\"},\"line_alpha\":{\"value\":0.4},\"line_color\":{\"value\":\"green\"},\"size\":{\"units\":\"screen\",\"value\":100},\"x\":{\"field\":\"x\"},\"y\":{\"field\":\"y\"}},\"id\":\"e458c962-9154-4668-9656-bd949e05d3a5\",\"type\":\"Circle\"},{\"attributes\":{},\"id\":\"d1fa22bc-37c8-4e29-a64e-ecad4dacc81c\",\"type\":\"BasicTicker\"},{\"attributes\":{},\"id\":\"272673d1-78b8-4883-a354-ed82d698cab4\",\"type\":\"BasicTicker\"},{\"attributes\":{\"callback\":null,\"column_names\":[\"y\",\"x\"],\"data\":{\"x\":[7,7,7,8,8,8,8,8,8,7,7,7,6,6,6,6,5,8,6,6,6,5,7,7,7,7,7,7,6,6,6,6,6,6,6,6,6,7,7,4,4,4,4,4,4,5,5,6,4,4,4,4,4,4,4,4,4,4,2,2,2,2,2,2,2,2,2,2,2,4,4,4,5,5,5,9,9,1,1,1,1,1,1,1,1,1,1,1,1,6,6,8,8,8,8,4,3,3,3,3,3,3,2,2,2,4,4,4,4,4,4,3,3,3,3,3,3,3,3,3,3,3,3,3,3,3,3,3,3,2,4,4,4,4,3,3,3,3,9,1,2,1,8,1,2,6,5,8,2,8,6,9,3,5,1,7,2,2,2,7,7,6,6,8,8,6,6,6,6,8,5,8,7,4,1,1,6,2,2,8,1,8,5,7,8,2,8,1,6,7,6,2,2,4,2,2,6,4,3,2,1,6,7,8,5,4,2,7,6,8,4,7,7,7,4,4,4,1,4,6,8,3,4,2,7,4,7,8,4,8,4,1,6,9,4,8,2,1,6,7,6,4,2,7,2,3,5,2,8,3,8,8,6,7,6,2,8,4,3,7,2,3,2,6,4,4,6,2,3,4,2,8,2,4,8,4,4,3,4,4,4,6,6,3,5,2,7,7,7,7,2,9,4,7,8,7,6,8,8,6,6,6,3,3,6,1,7,3,2,2,7,6,2,6,4,3,4,4,6,5,6,1,6,3,6,1,5,6,6,4,3,7,4,1,2,4,7,6,8,2,2,8,6,8,6,2,1,5,3,5,5,4,7,7,7,4,4,6,6,1,6,4,7,4,6,6,4,4,6,4,7,3,4,5,6,6,8,2,6,4,5,8,8,9,8,2,3,5,6,7,7,8,1,2,6,4,4,5,1,9,9,3,9,8,2,2,6,4,4,1,6,7,9,7,5,8,6,6,2,2,8,2,8,1,8,2,8,2,1,3,7,1,8,2,1,2,8,8,2,1,5,8,6,1,2,5,6,3,7,7,4,1,7,4,3,3,2,1,8,7,2,8,1,6,6,2,6,3,6,6,5,4,8,9,4,2,4,4,7,7,9,4,3,8,2,2,5,5,4,4,4,4,1,1,6,6,4,3,6,7,8,7,4,2,4,1,1,2,1,5,6,8,4,2,7,1,6],\"y\":[5,4,4,6,6,6,6,6,6,5,5,5,5,5,5,5,5,5,4,4,4,4,4,4,4,4,4,4,3,3,3,3,3,3,3,3,3,4,3,4,4,4,4,4,4,6,6,6,4,4,4,3,3,3,3,3,3,3,2,2,2,2,2,2,2,2,2,2,2,5,5,5,4,4,4,9,9,3,2,2,2,2,2,2,2,2,2,2,2,5,5,6,6,6,6,4,4,4,4,4,4,4,4,4,4,5,5,5,5,5,4,4,4,4,4,5,4,4,4,4,4,4,4,4,4,4,5,5,5,5,6,6,6,6,5,5,6,6,9,4,5,2,6,2,5,5,4,3,2,6,5,9,4,4,5,4,4,2,4,4,4,4,3,6,5,5,5,5,5,6,4,6,4,4,4,4,5,5,5,6,3,6,4,4,6,5,6,5,4,4,5,5,2,5,2,5,5,5,4,4,5,5,4,6,6,5,2,5,5,3,4,4,4,3,4,4,4,3,5,5,6,4,3,2,4,4,5,6,6,6,4,5,4,4,5,6,2,2,5,5,3,4,4,4,4,4,4,4,6,4,5,5,5,4,3,5,6,3,4,4,4,4,4,3,4,4,5,2,4,4,2,6,5,6,6,6,4,4,4,4,6,5,3,4,4,5,6,4,4,4,5,4,5,6,6,5,4,6,6,5,5,5,6,6,5,4,4,4,4,4,4,3,4,5,4,4,5,4,5,4,3,4,5,5,5,4,4,5,5,3,3,4,4,4,3,3,4,3,6,4,5,6,3,6,3,2,4,4,4,4,4,4,4,4,4,4,4,3,3,4,5,3,4,3,5,5,5,5,5,5,4,4,5,4,5,5,6,2,5,5,4,6,6,6,4,4,4,5,4,4,4,6,3,4,5,5,3,6,2,5,5,4,9,6,4,2,5,5,3,4,3,4,4,5,4,6,3,5,4,5,8,4,6,3,6,2,6,4,3,4,4,3,6,4,4,5,6,6,5,3,4,6,5,2,5,5,5,4,4,4,5,4,4,5,4,4,4,4,6,4,5,6,4,5,4,2,5,4,5,3,4,3,3,4,3,5,3,3,4,4,9,3,4,6,5,4,4,4,4,4,4,4,3,3,6,6,5,4,5,5,6,5,4,4,3,2,2,4,2,4,5,6,3,4,4,4,3]}},\"id\":\"553a8adf-d8f1-47be-a4bb-be51308af35f\",\"type\":\"ColumnDataSource\"},{\"attributes\":{\"data_source\":{\"id\":\"7d882722-cbb8-4b32-99a1-0c453a90ce48\",\"type\":\"ColumnDataSource\"},\"glyph\":{\"id\":\"a19fa60c-790c-4589-9d67-38fc72f93561\",\"type\":\"Circle\"},\"hover_glyph\":null,\"nonselection_glyph\":{\"id\":\"35855847-678e-4c18-a75b-491e75cd7168\",\"type\":\"Circle\"},\"selection_glyph\":null},\"id\":\"cd3e9038-5ffc-444a-a7f0-39fe7f18c96c\",\"type\":\"GlyphRenderer\"},{\"attributes\":{\"plot\":{\"id\":\"b0a387bb-ddd0-4e21-99f7-6872f735ddb9\",\"subtype\":\"Figure\",\"type\":\"Plot\"},\"ticker\":{\"id\":\"d1fa22bc-37c8-4e29-a64e-ecad4dacc81c\",\"type\":\"BasicTicker\"}},\"id\":\"954b7eb3-9901-4309-bb98-deb049fbc526\",\"type\":\"Grid\"},{\"attributes\":{\"callback\":null},\"id\":\"0aef2405-6aa4-444b-89f0-c02c0b3184e6\",\"type\":\"DataRange1d\"},{\"attributes\":{\"dimension\":1,\"plot\":{\"id\":\"9f2f754f-ff68-40f1-82f8-ebf33f44863e\",\"subtype\":\"Figure\",\"type\":\"Plot\"},\"ticker\":{\"id\":\"db65a9ae-428f-4e05-988d-9b5e36e26090\",\"type\":\"BasicTicker\"}},\"id\":\"a1358cd2-5f16-42ab-b3cd-324df3b8ce9f\",\"type\":\"Grid\"},{\"attributes\":{\"formatter\":{\"id\":\"85012238-54bd-4282-9205-f43787dd1630\",\"type\":\"BasicTickFormatter\"},\"plot\":{\"id\":\"b0a387bb-ddd0-4e21-99f7-6872f735ddb9\",\"subtype\":\"Figure\",\"type\":\"Plot\"},\"ticker\":{\"id\":\"d1fa22bc-37c8-4e29-a64e-ecad4dacc81c\",\"type\":\"BasicTicker\"}},\"id\":\"7ccd97d9-0e66-478c-a693-71719f82da16\",\"type\":\"LinearAxis\"},{\"attributes\":{\"formatter\":{\"id\":\"e6f8e69a-7250-4a1c-a0fb-13bc3b0440f9\",\"type\":\"BasicTickFormatter\"},\"plot\":{\"id\":\"6cae5d1e-e7b6-4ac2-93ea-9519243f0140\",\"subtype\":\"Figure\",\"type\":\"Plot\"},\"ticker\":{\"id\":\"7eebe605-b74d-4a32-8912-1f720990dcbb\",\"type\":\"BasicTicker\"}},\"id\":\"20a98869-6a03-4339-b250-7b9e9f55c629\",\"type\":\"LinearAxis\"},{\"attributes\":{\"plot\":{\"id\":\"47fdee04-5a93-46b7-9175-d70b93fd8948\",\"subtype\":\"Figure\",\"type\":\"Plot\"},\"ticker\":{\"id\":\"fa9e2f87-b9db-4332-a28f-4ff7605ab3cd\",\"type\":\"BasicTicker\"}},\"id\":\"aff0c6f5-aa17-4d23-863d-5f12383d975f\",\"type\":\"Grid\"},{\"attributes\":{\"below\":[{\"id\":\"7ccd97d9-0e66-478c-a693-71719f82da16\",\"type\":\"LinearAxis\"}],\"left\":[{\"id\":\"01c8c218-60c7-49be-8e5f-a8adcd1825f0\",\"type\":\"LinearAxis\"}],\"renderers\":[{\"id\":\"7ccd97d9-0e66-478c-a693-71719f82da16\",\"type\":\"LinearAxis\"},{\"id\":\"954b7eb3-9901-4309-bb98-deb049fbc526\",\"type\":\"Grid\"},{\"id\":\"01c8c218-60c7-49be-8e5f-a8adcd1825f0\",\"type\":\"LinearAxis\"},{\"id\":\"443d0362-5598-4edb-9dd3-3297f822f8a1\",\"type\":\"Grid\"},{\"id\":\"4de49a0f-3ae8-4578-ba63-1cff8b0098d5\",\"type\":\"BoxAnnotation\"},{\"id\":\"6f7cee7e-038a-4b9a-98bd-fa6e36c1461b\",\"type\":\"GlyphRenderer\"},{\"id\":\"48a03035-45b2-4b15-825a-e0ea713762b2\",\"type\":\"GlyphRenderer\"}],\"title\":\"Clusters in Forest Dataset\",\"tool_events\":{\"id\":\"eb0b73b3-1ac5-4462-b2cb-0201f3f8acf8\",\"type\":\"ToolEvents\"},\"tools\":[{\"id\":\"8ecc78c2-ca68-4e52-a541-63a6c9edfd6c\",\"type\":\"PanTool\"},{\"id\":\"9be7969a-7ce6-487f-8521-7bd36af0be09\",\"type\":\"WheelZoomTool\"},{\"id\":\"17e23059-3f51-426c-8123-ea098cd71bcb\",\"type\":\"BoxZoomTool\"},{\"id\":\"087f7e4e-6c14-408c-aaec-900a8884887a\",\"type\":\"PreviewSaveTool\"},{\"id\":\"5db2314f-5d33-40a9-8a45-bd9c5f50299e\",\"type\":\"ResizeTool\"},{\"id\":\"ceeaa880-a404-4abe-a550-6deb1873633d\",\"type\":\"ResetTool\"},{\"id\":\"b6412855-259f-4ba5-b724-0d04f8e45ec7\",\"type\":\"HelpTool\"}],\"x_range\":{\"id\":\"9e04ead9-2362-4d09-a85e-e11b50ad706a\",\"type\":\"DataRange1d\"},\"y_range\":{\"id\":\"099029d7-1f9b-48e4-b297-0394354f42b8\",\"type\":\"DataRange1d\"}},\"id\":\"b0a387bb-ddd0-4e21-99f7-6872f735ddb9\",\"subtype\":\"Figure\",\"type\":\"Plot\"},{\"attributes\":{},\"id\":\"74a1e311-095f-4e22-b6d2-f302facdf2c6\",\"type\":\"BasicTickFormatter\"},{\"attributes\":{\"plot\":{\"id\":\"f7797f50-c2c1-4fa2-863d-c7bab6253d6f\",\"subtype\":\"Figure\",\"type\":\"Plot\"},\"ticker\":{\"id\":\"3ff67822-d913-4c65-94f4-38cd1509a371\",\"type\":\"BasicTicker\"}},\"id\":\"047e2f1e-30ad-47a1-9bfc-f74a118f2470\",\"type\":\"Grid\"},{\"attributes\":{\"plot\":{\"id\":\"b0a387bb-ddd0-4e21-99f7-6872f735ddb9\",\"subtype\":\"Figure\",\"type\":\"Plot\"}},\"id\":\"8ecc78c2-ca68-4e52-a541-63a6c9edfd6c\",\"type\":\"PanTool\"},{\"attributes\":{},\"id\":\"7eebe605-b74d-4a32-8912-1f720990dcbb\",\"type\":\"BasicTicker\"},{\"attributes\":{},\"id\":\"85012238-54bd-4282-9205-f43787dd1630\",\"type\":\"BasicTickFormatter\"},{\"attributes\":{\"plot\":{\"id\":\"b0a387bb-ddd0-4e21-99f7-6872f735ddb9\",\"subtype\":\"Figure\",\"type\":\"Plot\"}},\"id\":\"b6412855-259f-4ba5-b724-0d04f8e45ec7\",\"type\":\"HelpTool\"},{\"attributes\":{\"callback\":null,\"column_names\":[\"y\",\"x\"],\"data\":{\"x\":[3.0325581395348835,3.418,2.7508771929824563],\"y\":[5.6720930232558135,1.4639999999999995,4.328070175438596]}},\"id\":\"8aa6f40e-8a81-4692-baf1-63891d8a8322\",\"type\":\"ColumnDataSource\"},{\"attributes\":{\"bottom_units\":\"screen\",\"fill_alpha\":{\"value\":0.5},\"fill_color\":{\"value\":\"lightgrey\"},\"left_units\":\"screen\",\"level\":\"overlay\",\"line_alpha\":{\"value\":1.0},\"line_color\":{\"value\":\"black\"},\"line_dash\":[4,4],\"line_width\":{\"value\":2},\"plot\":null,\"render_mode\":\"css\",\"right_units\":\"screen\",\"top_units\":\"screen\"},\"id\":\"4de49a0f-3ae8-4578-ba63-1cff8b0098d5\",\"type\":\"BoxAnnotation\"},{\"attributes\":{\"plot\":{\"id\":\"b0a387bb-ddd0-4e21-99f7-6872f735ddb9\",\"subtype\":\"Figure\",\"type\":\"Plot\"}},\"id\":\"087f7e4e-6c14-408c-aaec-900a8884887a\",\"type\":\"PreviewSaveTool\"},{\"attributes\":{},\"id\":\"31fdb754-78ff-4cf9-a9d6-2aa6dd546e59\",\"type\":\"ToolEvents\"},{\"attributes\":{\"plot\":{\"id\":\"b0a387bb-ddd0-4e21-99f7-6872f735ddb9\",\"subtype\":\"Figure\",\"type\":\"Plot\"}},\"id\":\"5db2314f-5d33-40a9-8a45-bd9c5f50299e\",\"type\":\"ResizeTool\"},{\"attributes\":{\"fill_alpha\":{\"value\":0.4},\"fill_color\":{\"value\":\"green\"},\"line_alpha\":{\"value\":0.4},\"line_color\":{\"value\":\"green\"},\"size\":{\"units\":\"screen\",\"value\":100},\"x\":{\"field\":\"x\"},\"y\":{\"field\":\"y\"}},\"id\":\"b4843dd1-7c59-4fc0-ba36-970cb466eac5\",\"type\":\"Circle\"},{\"attributes\":{\"callback\":null,\"column_names\":[\"y\",\"x\"],\"data\":{\"x\":[2.7508771929824563,3.418,3.0325581395348835],\"y\":[4.328070175438596,1.4639999999999995,5.6720930232558135]}},\"id\":\"bd8d0c1b-fbe3-4e51-a0d4-850dcb803018\",\"type\":\"ColumnDataSource\"},{\"attributes\":{\"formatter\":{\"id\":\"7927e8ab-62a4-4593-9c67-21ebdac5c6d6\",\"type\":\"BasicTickFormatter\"},\"plot\":{\"id\":\"f7797f50-c2c1-4fa2-863d-c7bab6253d6f\",\"subtype\":\"Figure\",\"type\":\"Plot\"},\"ticker\":{\"id\":\"3ff67822-d913-4c65-94f4-38cd1509a371\",\"type\":\"BasicTicker\"}},\"id\":\"be22e79f-d9f9-4eef-bce9-183e5ce2786c\",\"type\":\"LinearAxis\"},{\"attributes\":{},\"id\":\"7927e8ab-62a4-4593-9c67-21ebdac5c6d6\",\"type\":\"BasicTickFormatter\"},{\"attributes\":{\"callback\":null,\"column_names\":[\"y\",\"x\"],\"data\":{\"x\":[3.05,3.43,2.54,3.1083333333333334,3.15,2.4375,2.657142857142857,3.9076923076923076,3.0043478260869563,3.0294117647058822],\"y\":[5.759090909090909,1.4849999999999999,4.126666666666667,5.116666666666667,6.6,3.4625,5.007142857142857,1.523076923076923,4.48695652173913,1.394117647058823]}},\"id\":\"d5ecbb11-38f2-4ae9-966c-a3ad5e5b5367\",\"type\":\"ColumnDataSource\"},{\"attributes\":{\"callback\":null},\"id\":\"9e04ead9-2362-4d09-a85e-e11b50ad706a\",\"type\":\"DataRange1d\"},{\"attributes\":{},\"id\":\"9ae7887e-1650-44aa-9774-661e19298ed1\",\"type\":\"BasicTickFormatter\"},{\"attributes\":{\"dimension\":1,\"plot\":{\"id\":\"b0a387bb-ddd0-4e21-99f7-6872f735ddb9\",\"subtype\":\"Figure\",\"type\":\"Plot\"},\"ticker\":{\"id\":\"f397d40e-3565-4253-8a49-df344453bc40\",\"type\":\"BasicTicker\"}},\"id\":\"443d0362-5598-4edb-9dd3-3297f822f8a1\",\"type\":\"Grid\"},{\"attributes\":{\"callback\":null,\"column_names\":[\"y\",\"x\",\"line_color\",\"fill_color\"],\"data\":{\"fill_color\":[\"red\",\"red\",\"red\",\"red\",\"red\",\"red\",\"red\",\"red\",\"red\",\"red\",\"red\",\"red\",\"red\",\"red\",\"red\",\"red\",\"red\",\"red\",\"red\",\"red\",\"red\",\"red\",\"red\",\"red\",\"red\",\"red\",\"red\",\"red\",\"red\",\"red\",\"red\",\"red\",\"red\",\"red\",\"red\",\"red\",\"red\",\"red\",\"red\",\"red\",\"red\",\"red\",\"red\",\"red\",\"red\",\"red\",\"red\",\"red\",\"red\",\"red\",\"blue\",\"blue\",\"blue\",\"blue\",\"blue\",\"blue\",\"blue\",\"blue\",\"blue\",\"blue\",\"blue\",\"blue\",\"blue\",\"blue\",\"blue\",\"blue\",\"blue\",\"blue\",\"blue\",\"blue\",\"blue\",\"blue\",\"blue\",\"blue\",\"blue\",\"blue\",\"blue\",\"blue\",\"blue\",\"blue\",\"blue\",\"blue\",\"blue\",\"blue\",\"blue\",\"blue\",\"blue\",\"blue\",\"blue\",\"blue\",\"blue\",\"blue\",\"blue\",\"blue\",\"blue\",\"blue\",\"blue\",\"blue\",\"blue\",\"blue\",\"orange\",\"orange\",\"orange\",\"orange\",\"orange\",\"orange\",\"orange\",\"orange\",\"orange\",\"orange\",\"orange\",\"orange\",\"orange\",\"orange\",\"orange\",\"orange\",\"orange\",\"orange\",\"orange\",\"orange\",\"orange\",\"orange\",\"orange\",\"orange\",\"orange\",\"orange\",\"orange\",\"orange\",\"orange\",\"orange\",\"orange\",\"orange\",\"orange\",\"orange\",\"orange\",\"orange\",\"orange\",\"orange\",\"orange\",\"orange\",\"orange\",\"orange\",\"orange\",\"orange\",\"orange\",\"orange\",\"orange\",\"orange\",\"orange\",\"orange\"],\"line_color\":[\"red\",\"red\",\"red\",\"red\",\"red\",\"red\",\"red\",\"red\",\"red\",\"red\",\"red\",\"red\",\"red\",\"red\",\"red\",\"red\",\"red\",\"red\",\"red\",\"red\",\"red\",\"red\",\"red\",\"red\",\"red\",\"red\",\"red\",\"red\",\"red\",\"red\",\"red\",\"red\",\"red\",\"red\",\"red\",\"red\",\"red\",\"red\",\"red\",\"red\",\"red\",\"red\",\"red\",\"red\",\"red\",\"red\",\"red\",\"red\",\"red\",\"red\",\"blue\",\"blue\",\"blue\",\"blue\",\"blue\",\"blue\",\"blue\",\"blue\",\"blue\",\"blue\",\"blue\",\"blue\",\"blue\",\"blue\",\"blue\",\"blue\",\"blue\",\"blue\",\"blue\",\"blue\",\"blue\",\"blue\",\"blue\",\"blue\",\"blue\",\"blue\",\"blue\",\"blue\",\"blue\",\"blue\",\"blue\",\"blue\",\"blue\",\"blue\",\"blue\",\"blue\",\"blue\",\"blue\",\"blue\",\"blue\",\"blue\",\"blue\",\"blue\",\"blue\",\"blue\",\"blue\",\"blue\",\"blue\",\"blue\",\"blue\",\"orange\",\"orange\",\"orange\",\"orange\",\"orange\",\"orange\",\"orange\",\"orange\",\"orange\",\"orange\",\"orange\",\"orange\",\"orange\",\"orange\",\"orange\",\"orange\",\"orange\",\"orange\",\"orange\",\"orange\",\"orange\",\"orange\",\"orange\",\"orange\",\"orange\",\"orange\",\"orange\",\"orange\",\"orange\",\"orange\",\"orange\",\"orange\",\"orange\",\"orange\",\"orange\",\"orange\",\"orange\",\"orange\",\"orange\",\"orange\",\"orange\",\"orange\",\"orange\",\"orange\",\"orange\",\"orange\",\"orange\",\"orange\",\"orange\",\"orange\"],\"x\":[3.5,3.0,3.2,3.1,3.6,3.9,3.4,3.4,2.9,3.1,3.7,3.4,3.0,3.0,4.0,4.4,3.9,3.5,3.8,3.8,3.4,3.7,3.6,3.3,3.4,3.0,3.4,3.5,3.4,3.2,3.1,3.4,4.1,4.2,3.1,3.2,3.5,3.1,3.0,3.4,3.5,2.3,3.2,3.5,3.8,3.0,3.8,3.2,3.7,3.3,3.2,3.2,3.1,2.3,2.8,2.8,3.3,2.4,2.9,2.7,2.0,3.0,2.2,2.9,2.9,3.1,3.0,2.7,2.2,2.5,3.2,2.8,2.5,2.8,2.9,3.0,2.8,3.0,2.9,2.6,2.4,2.4,2.7,2.7,3.0,3.4,3.1,2.3,3.0,2.5,2.6,3.0,2.6,2.3,2.7,3.0,2.9,2.9,2.5,2.8,3.3,2.7,3.0,2.9,3.0,3.0,2.5,2.9,2.5,3.6,3.2,2.7,3.0,2.5,2.8,3.2,3.0,3.8,2.6,2.2,3.2,2.8,2.8,2.7,3.3,3.2,2.8,3.0,2.8,3.0,2.8,3.8,2.8,2.8,2.6,3.0,3.4,3.1,3.0,3.1,3.1,3.1,2.7,3.2,3.3,3.0,2.5,3.0,3.4,3.0],\"y\":[1.4,1.4,1.3,1.5,1.4,1.7,1.4,1.5,1.4,1.5,1.5,1.6,1.4,1.1,1.2,1.5,1.3,1.4,1.7,1.5,1.7,1.5,1.0,1.7,1.9,1.6,1.6,1.5,1.4,1.6,1.6,1.5,1.5,1.4,1.5,1.2,1.3,1.5,1.3,1.5,1.3,1.3,1.3,1.6,1.9,1.4,1.6,1.4,1.5,1.4,4.7,4.5,4.9,4.0,4.6,4.5,4.7,3.3,4.6,3.9,3.5,4.2,4.0,4.7,3.6,4.4,4.5,4.1,4.5,3.9,4.8,4.0,4.9,4.7,4.3,4.4,4.8,5.0,4.5,3.5,3.8,3.7,3.9,5.1,4.5,4.5,4.7,4.4,4.1,4.0,4.4,4.6,4.0,3.3,4.2,4.2,4.2,4.3,3.0,4.1,6.0,5.1,5.9,5.6,5.8,6.6,4.5,6.3,5.8,6.1,5.1,5.3,5.5,5.0,5.1,5.3,5.5,6.7,6.9,5.0,5.7,4.9,6.7,4.9,5.7,6.0,4.8,4.9,5.6,5.8,6.1,6.4,5.6,5.1,5.6,6.1,5.6,5.5,4.8,5.4,5.6,5.1,5.1,5.9,5.7,5.2,5.0,5.2,5.4,5.1]}},\"id\":\"7d882722-cbb8-4b32-99a1-0c453a90ce48\",\"type\":\"ColumnDataSource\"},{\"attributes\":{\"formatter\":{\"id\":\"707d7ded-628a-4f83-87a9-1f874fa1e478\",\"type\":\"BasicTickFormatter\"},\"plot\":{\"id\":\"9f2f754f-ff68-40f1-82f8-ebf33f44863e\",\"subtype\":\"Figure\",\"type\":\"Plot\"},\"ticker\":{\"id\":\"db65a9ae-428f-4e05-988d-9b5e36e26090\",\"type\":\"BasicTicker\"}},\"id\":\"3c4b7b49-ae6a-4d42-94ad-c72a4fd1fe15\",\"type\":\"LinearAxis\"},{\"attributes\":{\"overlay\":{\"id\":\"4de49a0f-3ae8-4578-ba63-1cff8b0098d5\",\"type\":\"BoxAnnotation\"},\"plot\":{\"id\":\"b0a387bb-ddd0-4e21-99f7-6872f735ddb9\",\"subtype\":\"Figure\",\"type\":\"Plot\"}},\"id\":\"17e23059-3f51-426c-8123-ea098cd71bcb\",\"type\":\"BoxZoomTool\"},{\"attributes\":{\"fill_alpha\":{\"value\":0.1},\"fill_color\":{\"value\":\"#1f77b4\"},\"line_alpha\":{\"value\":0.1},\"line_color\":{\"value\":\"#1f77b4\"},\"size\":{\"units\":\"screen\",\"value\":5},\"x\":{\"field\":\"x\"},\"y\":{\"field\":\"y\"}},\"id\":\"35855847-678e-4c18-a75b-491e75cd7168\",\"type\":\"Circle\"},{\"attributes\":{},\"id\":\"fa9e2f87-b9db-4332-a28f-4ff7605ab3cd\",\"type\":\"BasicTicker\"},{\"attributes\":{},\"id\":\"3ff67822-d913-4c65-94f4-38cd1509a371\",\"type\":\"BasicTicker\"},{\"attributes\":{},\"id\":\"6ed3c336-7f07-4c7e-8226-9b3cce99d3b1\",\"type\":\"ToolEvents\"},{\"attributes\":{\"fill_alpha\":{\"value\":0.1},\"fill_color\":{\"value\":\"#1f77b4\"},\"line_alpha\":{\"value\":0.1},\"line_color\":{\"value\":\"#1f77b4\"},\"size\":{\"units\":\"screen\",\"value\":5},\"x\":{\"field\":\"x\"},\"y\":{\"field\":\"y\"}},\"id\":\"988707e9-b66d-43a5-9513-6dbe181cfe0c\",\"type\":\"Circle\"},{\"attributes\":{\"formatter\":{\"id\":\"9ae7887e-1650-44aa-9774-661e19298ed1\",\"type\":\"BasicTickFormatter\"},\"plot\":{\"id\":\"47fdee04-5a93-46b7-9175-d70b93fd8948\",\"subtype\":\"Figure\",\"type\":\"Plot\"},\"ticker\":{\"id\":\"a6748004-bbc0-49b2-b644-f847640fa304\",\"type\":\"BasicTicker\"}},\"id\":\"096b42b4-a8e0-4274-8364-b762d2ae55cb\",\"type\":\"LinearAxis\"},{\"attributes\":{\"data_source\":{\"id\":\"d5ecbb11-38f2-4ae9-966c-a3ad5e5b5367\",\"type\":\"ColumnDataSource\"},\"glyph\":{\"id\":\"82a9a0a4-06b0-418f-b030-5fb5ba14ba90\",\"type\":\"Circle\"},\"hover_glyph\":null,\"nonselection_glyph\":{\"id\":\"5b2e0d6c-dc8f-474b-bf43-d0aa017affbc\",\"type\":\"Circle\"},\"selection_glyph\":null},\"id\":\"7f9d9874-f117-4549-847e-5f91dcd24fdc\",\"type\":\"GlyphRenderer\"},{\"attributes\":{\"formatter\":{\"id\":\"fd019753-c566-4afd-b096-a77b8a0dabe6\",\"type\":\"BasicTickFormatter\"},\"plot\":{\"id\":\"b0a387bb-ddd0-4e21-99f7-6872f735ddb9\",\"subtype\":\"Figure\",\"type\":\"Plot\"},\"ticker\":{\"id\":\"f397d40e-3565-4253-8a49-df344453bc40\",\"type\":\"BasicTicker\"}},\"id\":\"01c8c218-60c7-49be-8e5f-a8adcd1825f0\",\"type\":\"LinearAxis\"},{\"attributes\":{},\"id\":\"bc62dbf6-6109-43c7-9bd3-7c9b41cf22f9\",\"type\":\"ToolEvents\"},{\"attributes\":{\"line_alpha\":{\"value\":0.1},\"line_color\":{\"value\":\"#1f77b4\"},\"x\":{\"field\":\"x\"},\"y\":{\"field\":\"y\"}},\"id\":\"c0a35be5-2dea-4b0a-9639-34cae0f43121\",\"type\":\"Line\"},{\"attributes\":{\"fill_alpha\":{\"value\":0.1},\"fill_color\":{\"value\":\"#1f77b4\"},\"line_alpha\":{\"value\":0.1},\"line_color\":{\"value\":\"#1f77b4\"},\"size\":{\"units\":\"screen\",\"value\":100},\"x\":{\"field\":\"x\"},\"y\":{\"field\":\"y\"}},\"id\":\"5b2e0d6c-dc8f-474b-bf43-d0aa017affbc\",\"type\":\"Circle\"},{\"attributes\":{\"callback\":null},\"id\":\"6211266a-f0c8-4c9f-ab09-01ef8b3dc2a1\",\"type\":\"DataRange1d\"},{\"attributes\":{\"below\":[{\"id\":\"be22e79f-d9f9-4eef-bce9-183e5ce2786c\",\"type\":\"LinearAxis\"}],\"left\":[{\"id\":\"6280374d-43e9-4dc0-a776-5db7209bac7e\",\"type\":\"LinearAxis\"}],\"renderers\":[{\"id\":\"be22e79f-d9f9-4eef-bce9-183e5ce2786c\",\"type\":\"LinearAxis\"},{\"id\":\"047e2f1e-30ad-47a1-9bfc-f74a118f2470\",\"type\":\"Grid\"},{\"id\":\"6280374d-43e9-4dc0-a776-5db7209bac7e\",\"type\":\"LinearAxis\"},{\"id\":\"58461bd9-9308-43f1-9541-eb5fba940215\",\"type\":\"Grid\"},{\"id\":\"7823f6c2-5f5c-4c3a-99e0-393a10065858\",\"type\":\"GlyphRenderer\"}],\"title\":\"Silhouette Score for different clusters\",\"tool_events\":{\"id\":\"6ed3c336-7f07-4c7e-8226-9b3cce99d3b1\",\"type\":\"ToolEvents\"},\"x_range\":{\"id\":\"348ed8e6-6d5b-422c-ad3b-a120506864df\",\"type\":\"DataRange1d\"},\"y_range\":{\"id\":\"0aef2405-6aa4-444b-89f0-c02c0b3184e6\",\"type\":\"DataRange1d\"}},\"id\":\"f7797f50-c2c1-4fa2-863d-c7bab6253d6f\",\"subtype\":\"Figure\",\"type\":\"Plot\"},{\"attributes\":{\"dimension\":1,\"plot\":{\"id\":\"f7797f50-c2c1-4fa2-863d-c7bab6253d6f\",\"subtype\":\"Figure\",\"type\":\"Plot\"},\"ticker\":{\"id\":\"5527c948-b165-4894-b284-b3b58f451843\",\"type\":\"BasicTicker\"}},\"id\":\"58461bd9-9308-43f1-9541-eb5fba940215\",\"type\":\"Grid\"},{\"attributes\":{\"formatter\":{\"id\":\"aa99ab63-c4ce-4ab4-875d-64c255ff85f7\",\"type\":\"BasicTickFormatter\"},\"plot\":{\"id\":\"47fdee04-5a93-46b7-9175-d70b93fd8948\",\"subtype\":\"Figure\",\"type\":\"Plot\"},\"ticker\":{\"id\":\"fa9e2f87-b9db-4332-a28f-4ff7605ab3cd\",\"type\":\"BasicTicker\"}},\"id\":\"0a8227ea-103a-444b-903b-f43ae8fd9650\",\"type\":\"LinearAxis\"},{\"attributes\":{},\"id\":\"707d7ded-628a-4f83-87a9-1f874fa1e478\",\"type\":\"BasicTickFormatter\"},{\"attributes\":{\"line_alpha\":{\"value\":0.1},\"line_color\":{\"value\":\"#1f77b4\"},\"x\":{\"field\":\"x\"},\"y\":{\"field\":\"y\"}},\"id\":\"c9069d4f-02a5-4dd3-855e-825c22e53826\",\"type\":\"Line\"},{\"attributes\":{},\"id\":\"e6f8e69a-7250-4a1c-a0fb-13bc3b0440f9\",\"type\":\"BasicTickFormatter\"},{\"attributes\":{\"callback\":null,\"column_names\":[\"y\",\"x\"],\"data\":{\"x\":[2,3,4,5,6,7,8,9,10,11,12,13,14,15],\"y\":[0.7388765072447795,0.5930654335605791,0.560474768702901,0.42734953912850754,0.38219062136345766,0.40306468786678834,0.3736508610080102,0.3907502083918878,0.3885542832760069,0.3833845146707228,0.36271001956874055,0.36501053833163105,0.3837056362595219,0.37293200465857723]}},\"id\":\"c128423e-4b26-4fcc-9414-c80146948d6c\",\"type\":\"ColumnDataSource\"},{\"attributes\":{},\"id\":\"fd019753-c566-4afd-b096-a77b8a0dabe6\",\"type\":\"BasicTickFormatter\"},{\"attributes\":{\"fill_color\":{\"field\":\"fill_color\"},\"line_color\":{\"field\":\"line_color\"},\"size\":{\"units\":\"screen\",\"value\":5},\"x\":{\"field\":\"x\"},\"y\":{\"field\":\"y\"}},\"id\":\"cb75f747-2ccb-4e9f-bb43-ebf0ff80a664\",\"type\":\"Circle\"},{\"attributes\":{},\"id\":\"5527c948-b165-4894-b284-b3b58f451843\",\"type\":\"BasicTicker\"},{\"attributes\":{\"callback\":null},\"id\":\"19ec6248-e10a-417f-a953-6bc921aa7a18\",\"type\":\"DataRange1d\"},{\"attributes\":{\"formatter\":{\"id\":\"ea7dd9f6-d2e5-4e0f-a4be-58f48f6544da\",\"type\":\"BasicTickFormatter\"},\"plot\":{\"id\":\"9f2f754f-ff68-40f1-82f8-ebf33f44863e\",\"subtype\":\"Figure\",\"type\":\"Plot\"},\"ticker\":{\"id\":\"c81a2147-bd6d-4ae5-9f2a-1daaa3dac064\",\"type\":\"BasicTicker\"}},\"id\":\"d636b66d-c692-4b80-a6d5-1ec7af665ca3\",\"type\":\"LinearAxis\"},{\"attributes\":{\"formatter\":{\"id\":\"9f5170c9-b330-4dff-b61c-0ad62a277bbf\",\"type\":\"BasicTickFormatter\"},\"plot\":{\"id\":\"6cae5d1e-e7b6-4ac2-93ea-9519243f0140\",\"subtype\":\"Figure\",\"type\":\"Plot\"},\"ticker\":{\"id\":\"272673d1-78b8-4883-a354-ed82d698cab4\",\"type\":\"BasicTicker\"}},\"id\":\"d52641a2-f9aa-4996-a300-d6446b57d6d1\",\"type\":\"LinearAxis\"},{\"attributes\":{},\"id\":\"eb0b73b3-1ac5-4462-b2cb-0201f3f8acf8\",\"type\":\"ToolEvents\"},{\"attributes\":{\"data_source\":{\"id\":\"bd8d0c1b-fbe3-4e51-a0d4-850dcb803018\",\"type\":\"ColumnDataSource\"},\"glyph\":{\"id\":\"b4843dd1-7c59-4fc0-ba36-970cb466eac5\",\"type\":\"Circle\"},\"hover_glyph\":null,\"nonselection_glyph\":{\"id\":\"ba3a63fc-10fb-479f-873e-6977488b3bfa\",\"type\":\"Circle\"},\"selection_glyph\":null},\"id\":\"48a03035-45b2-4b15-825a-e0ea713762b2\",\"type\":\"GlyphRenderer\"},{\"attributes\":{\"fill_alpha\":{\"value\":0.4},\"fill_color\":{\"value\":\"green\"},\"line_alpha\":{\"value\":0.4},\"line_color\":{\"value\":\"green\"},\"size\":{\"units\":\"screen\",\"value\":100},\"x\":{\"field\":\"x\"},\"y\":{\"field\":\"y\"}},\"id\":\"82a9a0a4-06b0-418f-b030-5fb5ba14ba90\",\"type\":\"Circle\"},{\"attributes\":{\"dimension\":1,\"plot\":{\"id\":\"6cae5d1e-e7b6-4ac2-93ea-9519243f0140\",\"subtype\":\"Figure\",\"type\":\"Plot\"},\"ticker\":{\"id\":\"272673d1-78b8-4883-a354-ed82d698cab4\",\"type\":\"BasicTicker\"}},\"id\":\"7b915057-bbdd-470f-af64-df89c2b96631\",\"type\":\"Grid\"},{\"attributes\":{\"callback\":null,\"column_names\":[\"y\",\"x\",\"line_color\",\"fill_color\"],\"data\":{\"fill_color\":[\"red\",\"red\",\"red\",\"red\",\"red\",\"red\",\"red\",\"red\",\"red\",\"red\",\"red\",\"red\",\"red\",\"red\",\"red\",\"red\",\"red\",\"red\",\"red\",\"red\",\"red\",\"red\",\"red\",\"red\",\"red\",\"red\",\"red\",\"red\",\"red\",\"red\",\"red\",\"red\",\"red\",\"red\",\"red\",\"red\",\"red\",\"red\",\"red\",\"red\",\"red\",\"red\",\"red\",\"red\",\"red\",\"red\",\"red\",\"red\",\"red\",\"red\",\"blue\",\"blue\",\"blue\",\"blue\",\"blue\",\"blue\",\"blue\",\"blue\",\"blue\",\"blue\",\"blue\",\"blue\",\"blue\",\"blue\",\"blue\",\"blue\",\"blue\",\"blue\",\"blue\",\"blue\",\"blue\",\"blue\",\"blue\",\"blue\",\"blue\",\"blue\",\"blue\",\"blue\",\"blue\",\"blue\",\"blue\",\"blue\",\"blue\",\"blue\",\"blue\",\"blue\",\"blue\",\"blue\",\"blue\",\"blue\",\"blue\",\"blue\",\"blue\",\"blue\",\"blue\",\"blue\",\"blue\",\"blue\",\"blue\",\"blue\",\"orange\",\"orange\",\"orange\",\"orange\",\"orange\",\"orange\",\"orange\",\"orange\",\"orange\",\"orange\",\"orange\",\"orange\",\"orange\",\"orange\",\"orange\",\"orange\",\"orange\",\"orange\",\"orange\",\"orange\",\"orange\",\"orange\",\"orange\",\"orange\",\"orange\",\"orange\",\"orange\",\"orange\",\"orange\",\"orange\",\"orange\",\"orange\",\"orange\",\"orange\",\"orange\",\"orange\",\"orange\",\"orange\",\"orange\",\"orange\",\"orange\",\"orange\",\"orange\",\"orange\",\"orange\",\"orange\",\"orange\",\"orange\",\"orange\",\"orange\"],\"line_color\":[\"red\",\"red\",\"red\",\"red\",\"red\",\"red\",\"red\",\"red\",\"red\",\"red\",\"red\",\"red\",\"red\",\"red\",\"red\",\"red\",\"red\",\"red\",\"red\",\"red\",\"red\",\"red\",\"red\",\"red\",\"red\",\"red\",\"red\",\"red\",\"red\",\"red\",\"red\",\"red\",\"red\",\"red\",\"red\",\"red\",\"red\",\"red\",\"red\",\"red\",\"red\",\"red\",\"red\",\"red\",\"red\",\"red\",\"red\",\"red\",\"red\",\"red\",\"blue\",\"blue\",\"blue\",\"blue\",\"blue\",\"blue\",\"blue\",\"blue\",\"blue\",\"blue\",\"blue\",\"blue\",\"blue\",\"blue\",\"blue\",\"blue\",\"blue\",\"blue\",\"blue\",\"blue\",\"blue\",\"blue\",\"blue\",\"blue\",\"blue\",\"blue\",\"blue\",\"blue\",\"blue\",\"blue\",\"blue\",\"blue\",\"blue\",\"blue\",\"blue\",\"blue\",\"blue\",\"blue\",\"blue\",\"blue\",\"blue\",\"blue\",\"blue\",\"blue\",\"blue\",\"blue\",\"blue\",\"blue\",\"blue\",\"blue\",\"orange\",\"orange\",\"orange\",\"orange\",\"orange\",\"orange\",\"orange\",\"orange\",\"orange\",\"orange\",\"orange\",\"orange\",\"orange\",\"orange\",\"orange\",\"orange\",\"orange\",\"orange\",\"orange\",\"orange\",\"orange\",\"orange\",\"orange\",\"orange\",\"orange\",\"orange\",\"orange\",\"orange\",\"orange\",\"orange\",\"orange\",\"orange\",\"orange\",\"orange\",\"orange\",\"orange\",\"orange\",\"orange\",\"orange\",\"orange\",\"orange\",\"orange\",\"orange\",\"orange\",\"orange\",\"orange\",\"orange\",\"orange\",\"orange\",\"orange\"],\"x\":[3.5,3.0,3.2,3.1,3.6,3.9,3.4,3.4,2.9,3.1,3.7,3.4,3.0,3.0,4.0,4.4,3.9,3.5,3.8,3.8,3.4,3.7,3.6,3.3,3.4,3.0,3.4,3.5,3.4,3.2,3.1,3.4,4.1,4.2,3.1,3.2,3.5,3.1,3.0,3.4,3.5,2.3,3.2,3.5,3.8,3.0,3.8,3.2,3.7,3.3,3.2,3.2,3.1,2.3,2.8,2.8,3.3,2.4,2.9,2.7,2.0,3.0,2.2,2.9,2.9,3.1,3.0,2.7,2.2,2.5,3.2,2.8,2.5,2.8,2.9,3.0,2.8,3.0,2.9,2.6,2.4,2.4,2.7,2.7,3.0,3.4,3.1,2.3,3.0,2.5,2.6,3.0,2.6,2.3,2.7,3.0,2.9,2.9,2.5,2.8,3.3,2.7,3.0,2.9,3.0,3.0,2.5,2.9,2.5,3.6,3.2,2.7,3.0,2.5,2.8,3.2,3.0,3.8,2.6,2.2,3.2,2.8,2.8,2.7,3.3,3.2,2.8,3.0,2.8,3.0,2.8,3.8,2.8,2.8,2.6,3.0,3.4,3.1,3.0,3.1,3.1,3.1,2.7,3.2,3.3,3.0,2.5,3.0,3.4,3.0],\"y\":[1.4,1.4,1.3,1.5,1.4,1.7,1.4,1.5,1.4,1.5,1.5,1.6,1.4,1.1,1.2,1.5,1.3,1.4,1.7,1.5,1.7,1.5,1.0,1.7,1.9,1.6,1.6,1.5,1.4,1.6,1.6,1.5,1.5,1.4,1.5,1.2,1.3,1.5,1.3,1.5,1.3,1.3,1.3,1.6,1.9,1.4,1.6,1.4,1.5,1.4,4.7,4.5,4.9,4.0,4.6,4.5,4.7,3.3,4.6,3.9,3.5,4.2,4.0,4.7,3.6,4.4,4.5,4.1,4.5,3.9,4.8,4.0,4.9,4.7,4.3,4.4,4.8,5.0,4.5,3.5,3.8,3.7,3.9,5.1,4.5,4.5,4.7,4.4,4.1,4.0,4.4,4.6,4.0,3.3,4.2,4.2,4.2,4.3,3.0,4.1,6.0,5.1,5.9,5.6,5.8,6.6,4.5,6.3,5.8,6.1,5.1,5.3,5.5,5.0,5.1,5.3,5.5,6.7,6.9,5.0,5.7,4.9,6.7,4.9,5.7,6.0,4.8,4.9,5.6,5.8,6.1,6.4,5.6,5.1,5.6,6.1,5.6,5.5,4.8,5.4,5.6,5.1,5.1,5.9,5.7,5.2,5.0,5.2,5.4,5.1]}},\"id\":\"c7a73d8a-d2e8-49c2-bfcf-13fb53eec9b0\",\"type\":\"ColumnDataSource\"},{\"attributes\":{},\"id\":\"db65a9ae-428f-4e05-988d-9b5e36e26090\",\"type\":\"BasicTicker\"},{\"attributes\":{\"plot\":{\"id\":\"b0a387bb-ddd0-4e21-99f7-6872f735ddb9\",\"subtype\":\"Figure\",\"type\":\"Plot\"}},\"id\":\"9be7969a-7ce6-487f-8521-7bd36af0be09\",\"type\":\"WheelZoomTool\"},{\"attributes\":{\"plot\":{\"id\":\"b0a387bb-ddd0-4e21-99f7-6872f735ddb9\",\"subtype\":\"Figure\",\"type\":\"Plot\"}},\"id\":\"ceeaa880-a404-4abe-a550-6deb1873633d\",\"type\":\"ResetTool\"},{\"attributes\":{\"plot\":{\"id\":\"6cae5d1e-e7b6-4ac2-93ea-9519243f0140\",\"subtype\":\"Figure\",\"type\":\"Plot\"},\"ticker\":{\"id\":\"7eebe605-b74d-4a32-8912-1f720990dcbb\",\"type\":\"BasicTicker\"}},\"id\":\"e3adb8c3-9926-4dc2-a6b3-296ace08a888\",\"type\":\"Grid\"},{\"attributes\":{\"fill_alpha\":{\"value\":0.1},\"fill_color\":{\"value\":\"#1f77b4\"},\"line_alpha\":{\"value\":0.1},\"line_color\":{\"value\":\"#1f77b4\"},\"size\":{\"units\":\"screen\",\"value\":5},\"x\":{\"field\":\"x\"},\"y\":{\"field\":\"y\"}},\"id\":\"3e0e8362-ac97-4a2c-9079-e30e82d3523d\",\"type\":\"Circle\"},{\"attributes\":{\"fill_alpha\":{\"value\":0.1},\"fill_color\":{\"value\":\"#1f77b4\"},\"line_alpha\":{\"value\":0.1},\"line_color\":{\"value\":\"#1f77b4\"},\"size\":{\"units\":\"screen\",\"value\":100},\"x\":{\"field\":\"x\"},\"y\":{\"field\":\"y\"}},\"id\":\"8c8feb71-ccbb-4517-ad73-cb6febc02e48\",\"type\":\"Circle\"},{\"attributes\":{\"callback\":null},\"id\":\"099029d7-1f9b-48e4-b297-0394354f42b8\",\"type\":\"DataRange1d\"},{\"attributes\":{\"plot\":{\"id\":\"9f2f754f-ff68-40f1-82f8-ebf33f44863e\",\"subtype\":\"Figure\",\"type\":\"Plot\"},\"ticker\":{\"id\":\"c81a2147-bd6d-4ae5-9f2a-1daaa3dac064\",\"type\":\"BasicTicker\"}},\"id\":\"7d6bfebd-253f-43b4-b7c8-efd16064ae11\",\"type\":\"Grid\"},{\"attributes\":{},\"id\":\"9412106f-413e-4a20-b7b1-71ca35bd4cb3\",\"type\":\"ToolEvents\"},{\"attributes\":{\"line_color\":{\"value\":\"#1f77b4\"},\"x\":{\"field\":\"x\"},\"y\":{\"field\":\"y\"}},\"id\":\"16406767-4c0d-46d4-a19c-f18d6e0b845d\",\"type\":\"Line\"},{\"attributes\":{\"data_source\":{\"id\":\"b320a882-e99e-4439-bb10-b9a821706aee\",\"type\":\"ColumnDataSource\"},\"glyph\":{\"id\":\"16406767-4c0d-46d4-a19c-f18d6e0b845d\",\"type\":\"Line\"},\"hover_glyph\":null,\"nonselection_glyph\":{\"id\":\"c0a35be5-2dea-4b0a-9639-34cae0f43121\",\"type\":\"Line\"},\"selection_glyph\":null},\"id\":\"b5337b91-827f-42e8-926b-27d1f1538300\",\"type\":\"GlyphRenderer\"},{\"attributes\":{\"callback\":null},\"id\":\"348ed8e6-6d5b-422c-ad3b-a120506864df\",\"type\":\"DataRange1d\"},{\"attributes\":{\"callback\":null},\"id\":\"b285a1e1-92c4-4d83-b2cb-a5ff31e366b6\",\"type\":\"DataRange1d\"},{\"attributes\":{\"dimension\":1,\"plot\":{\"id\":\"47fdee04-5a93-46b7-9175-d70b93fd8948\",\"subtype\":\"Figure\",\"type\":\"Plot\"},\"ticker\":{\"id\":\"a6748004-bbc0-49b2-b644-f847640fa304\",\"type\":\"BasicTicker\"}},\"id\":\"cd43fa18-5a87-4bd2-99fe-9d448dcda2c8\",\"type\":\"Grid\"}],\"root_ids\":[\"9f2f754f-ff68-40f1-82f8-ebf33f44863e\",\"47fdee04-5a93-46b7-9175-d70b93fd8948\",\"f7797f50-c2c1-4fa2-863d-c7bab6253d6f\",\"b0a387bb-ddd0-4e21-99f7-6872f735ddb9\",\"6cae5d1e-e7b6-4ac2-93ea-9519243f0140\"]},\"title\":\"Bokeh Application\",\"version\":\"0.11.1\"}};\n",
       "            var render_items = [{\"docid\":\"6f94a2a2-ce98-4bf9-bb9e-a028fb5fae5b\",\"elementid\":\"b583e735-9f7f-4107-a162-d7b217e76ba7\",\"modelid\":\"6cae5d1e-e7b6-4ac2-93ea-9519243f0140\",\"notebook_comms_target\":\"1e3ba9d4-4c8e-4f8c-9ead-a7ea69a7e0d2\"}];\n",
       "            \n",
       "            Bokeh.embed.embed_items(docs_json, render_items);\n",
       "        });\n",
       "      },\n",
       "      function(Bokeh) {\n",
       "      }\n",
       "    ];\n",
       "  \n",
       "    function run_inline_js() {\n",
       "      for (var i = 0; i < inline_js.length; i++) {\n",
       "        inline_js[i](window.Bokeh);\n",
       "      }\n",
       "    }\n",
       "  \n",
       "    if (window._bokeh_is_loading === 0) {\n",
       "      console.log(\"Bokeh: BokehJS loaded, going straight to plotting\");\n",
       "      run_inline_js();\n",
       "    } else {\n",
       "      load_libs(js_urls, function() {\n",
       "        console.log(\"Bokeh: BokehJS plotting callback run at\", now());\n",
       "        run_inline_js();\n",
       "      });\n",
       "    }\n",
       "  }(this));\n",
       "</script>"
      ]
     },
     "metadata": {},
     "output_type": "display_data"
    },
    {
     "data": {
      "text/html": [
       "<p><code>&lt;Bokeh Notebook handle for <strong>In[17]</strong>&gt;</code></p>"
      ],
      "text/plain": [
       "<bokeh.io._CommsHandle at 0x114b88f90>"
      ]
     },
     "execution_count": 17,
     "metadata": {},
     "output_type": "execute_result"
    }
   ],
   "source": [
    "#your code here:\n",
    "cluster_centers = {}\n",
    "cluster_membership = {}\n",
    "s = {}\n",
    "\n",
    "for cluster_count in range(2,16):\n",
    "    km_forest_optimal = KMeans(n_clusters=cluster_count)\n",
    "    cluster_membership[cluster_count] = km_forest_optimal.fit_predict(X)\n",
    "    cluster_centers[cluster_count] =  km_forest_optimal.cluster_centers_\n",
    "    s[cluster_count] = silhouette_score(X,\n",
    "                                        cluster_membership[cluster_count],\n",
    "                                        metric='euclidean'\n",
    "                                        )\n",
    "    print cluster_count, s[cluster_count]\n",
    "    \n",
    "p = figure(title=\"Silhouette Score for different clusters\",tools='')\n",
    "p.line(x=range(2,16),y=s.values())\n",
    "\n",
    "show(p)"
   ]
  },
  {
   "cell_type": "markdown",
   "metadata": {},
   "source": [
    "Bonus: How does the \"curse of dimensionality\" come into play here? Try to demonstrate that with an example!"
   ]
  },
  {
   "cell_type": "code",
   "execution_count": 18,
   "metadata": {
    "collapsed": false
   },
   "outputs": [
    {
     "name": "stdout",
     "output_type": "stream",
     "text": [
      "2 0.742404059335\n",
      "3 0.63951844132\n",
      "4 0.434989001787\n",
      "5 0.479824258062\n",
      "6 0.469292926234\n",
      "7 0.442400924125\n",
      "8 0.478032765232\n",
      "9 0.486383346679\n",
      "10 0.427172491147\n",
      "11 0.421766711358\n",
      "12 0.421632147255\n",
      "13 0.417501931369\n",
      "14 0.412896565589\n",
      "15 0.407890716502\n"
     ]
    },
    {
     "data": {
      "text/html": [
       "\n",
       "\n",
       "    <div class=\"plotdiv\" id=\"e01239a8-9512-45ac-9518-eda40877fd66\"></div>\n",
       "<script type=\"text/javascript\">\n",
       "  \n",
       "  (function(global) {\n",
       "    function now() {\n",
       "      return new Date();\n",
       "    }\n",
       "  \n",
       "    if (typeof (window._bokeh_onload_callbacks) === \"undefined\") {\n",
       "      window._bokeh_onload_callbacks = [];\n",
       "    }\n",
       "  \n",
       "    function run_callbacks() {\n",
       "      window._bokeh_onload_callbacks.forEach(function(callback) { callback() });\n",
       "      delete window._bokeh_onload_callbacks\n",
       "      console.info(\"Bokeh: all callbacks have finished\");\n",
       "    }\n",
       "  \n",
       "    function load_libs(js_urls, callback) {\n",
       "      window._bokeh_onload_callbacks.push(callback);\n",
       "      if (window._bokeh_is_loading > 0) {\n",
       "        console.log(\"Bokeh: BokehJS is being loaded, scheduling callback at\", now());\n",
       "        return null;\n",
       "      }\n",
       "      if (js_urls == null || js_urls.length === 0) {\n",
       "        run_callbacks();\n",
       "        return null;\n",
       "      }\n",
       "      console.log(\"Bokeh: BokehJS not loaded, scheduling load and callback at\", now());\n",
       "      window._bokeh_is_loading = js_urls.length;\n",
       "      for (var i = 0; i < js_urls.length; i++) {\n",
       "        var url = js_urls[i];\n",
       "        var s = document.createElement('script');\n",
       "        s.src = url;\n",
       "        s.async = false;\n",
       "        s.onreadystatechange = s.onload = function() {\n",
       "          window._bokeh_is_loading--;\n",
       "          if (window._bokeh_is_loading === 0) {\n",
       "            console.log(\"Bokeh: all BokehJS libraries loaded\");\n",
       "            run_callbacks()\n",
       "          }\n",
       "        };\n",
       "        s.onerror = function() {\n",
       "          console.warn(\"failed to load library \" + url);\n",
       "        };\n",
       "        console.log(\"Bokeh: injecting script tag for BokehJS library: \", url);\n",
       "        document.getElementsByTagName(\"head\")[0].appendChild(s);\n",
       "      }\n",
       "    };var element = document.getElementById(\"e01239a8-9512-45ac-9518-eda40877fd66\");\n",
       "    if (element == null) {\n",
       "      console.log(\"Bokeh: ERROR: autoload.js configured with elementid 'e01239a8-9512-45ac-9518-eda40877fd66' but no matching script tag was found. \")\n",
       "      return false;\n",
       "    }\n",
       "  \n",
       "    var js_urls = [];\n",
       "  \n",
       "    var inline_js = [\n",
       "      function(Bokeh) {\n",
       "        Bokeh.$(function() {\n",
       "            var docs_json = {\"d61d776f-9249-4a90-84c6-9904eebbc783\":{\"roots\":{\"references\":[{\"attributes\":{},\"id\":\"c81a2147-bd6d-4ae5-9f2a-1daaa3dac064\",\"type\":\"BasicTicker\"},{\"attributes\":{\"formatter\":{\"id\":\"5069c58a-f220-4d1a-a23d-25abfc75d149\",\"type\":\"BasicTickFormatter\"},\"plot\":{\"id\":\"d2290a20-a191-498f-be5c-d9d513c8985b\",\"subtype\":\"Figure\",\"type\":\"Plot\"},\"ticker\":{\"id\":\"494551b9-e6fc-411c-bada-a6e3e4e606b5\",\"type\":\"BasicTicker\"}},\"id\":\"b957df5e-94e7-4aa7-8d21-c5d5ba1c4684\",\"type\":\"LinearAxis\"},{\"attributes\":{\"data_source\":{\"id\":\"8aa6f40e-8a81-4692-baf1-63891d8a8322\",\"type\":\"ColumnDataSource\"},\"glyph\":{\"id\":\"e458c962-9154-4668-9656-bd949e05d3a5\",\"type\":\"Circle\"},\"hover_glyph\":null,\"nonselection_glyph\":{\"id\":\"8c8feb71-ccbb-4517-ad73-cb6febc02e48\",\"type\":\"Circle\"},\"selection_glyph\":null},\"id\":\"dd847629-50be-45aa-8c32-0bf27729636a\",\"type\":\"GlyphRenderer\"},{\"attributes\":{},\"id\":\"beba0c2a-a995-4dbb-b619-9381e818661e\",\"type\":\"ToolEvents\"},{\"attributes\":{\"below\":[{\"id\":\"20a98869-6a03-4339-b250-7b9e9f55c629\",\"type\":\"LinearAxis\"}],\"left\":[{\"id\":\"d52641a2-f9aa-4996-a300-d6446b57d6d1\",\"type\":\"LinearAxis\"}],\"renderers\":[{\"id\":\"20a98869-6a03-4339-b250-7b9e9f55c629\",\"type\":\"LinearAxis\"},{\"id\":\"e3adb8c3-9926-4dc2-a6b3-296ace08a888\",\"type\":\"Grid\"},{\"id\":\"d52641a2-f9aa-4996-a300-d6446b57d6d1\",\"type\":\"LinearAxis\"},{\"id\":\"7b915057-bbdd-470f-af64-df89c2b96631\",\"type\":\"Grid\"},{\"id\":\"b5337b91-827f-42e8-926b-27d1f1538300\",\"type\":\"GlyphRenderer\"}],\"title\":\"Silhouette Score for different clusters\",\"tool_events\":{\"id\":\"31fdb754-78ff-4cf9-a9d6-2aa6dd546e59\",\"type\":\"ToolEvents\"},\"x_range\":{\"id\":\"6211266a-f0c8-4c9f-ab09-01ef8b3dc2a1\",\"type\":\"DataRange1d\"},\"y_range\":{\"id\":\"19ec6248-e10a-417f-a953-6bc921aa7a18\",\"type\":\"DataRange1d\"}},\"id\":\"6cae5d1e-e7b6-4ac2-93ea-9519243f0140\",\"subtype\":\"Figure\",\"type\":\"Plot\"},{\"attributes\":{\"callback\":null},\"id\":\"75e2e2dc-e2ef-402a-9c5f-641d702cb6f5\",\"type\":\"DataRange1d\"},{\"attributes\":{\"formatter\":{\"id\":\"74a1e311-095f-4e22-b6d2-f302facdf2c6\",\"type\":\"BasicTickFormatter\"},\"plot\":{\"id\":\"f7797f50-c2c1-4fa2-863d-c7bab6253d6f\",\"subtype\":\"Figure\",\"type\":\"Plot\"},\"ticker\":{\"id\":\"5527c948-b165-4894-b284-b3b58f451843\",\"type\":\"BasicTicker\"}},\"id\":\"6280374d-43e9-4dc0-a776-5db7209bac7e\",\"type\":\"LinearAxis\"},{\"attributes\":{\"data_source\":{\"id\":\"553a8adf-d8f1-47be-a4bb-be51308af35f\",\"type\":\"ColumnDataSource\"},\"glyph\":{\"id\":\"ac05344a-3374-464e-98c4-302a5966ca17\",\"type\":\"Circle\"},\"hover_glyph\":null,\"nonselection_glyph\":{\"id\":\"988707e9-b66d-43a5-9513-6dbe181cfe0c\",\"type\":\"Circle\"},\"selection_glyph\":null},\"id\":\"6f7cee7e-038a-4b9a-98bd-fa6e36c1461b\",\"type\":\"GlyphRenderer\"},{\"attributes\":{\"below\":[{\"id\":\"0a8227ea-103a-444b-903b-f43ae8fd9650\",\"type\":\"LinearAxis\"}],\"left\":[{\"id\":\"096b42b4-a8e0-4274-8364-b762d2ae55cb\",\"type\":\"LinearAxis\"}],\"renderers\":[{\"id\":\"0a8227ea-103a-444b-903b-f43ae8fd9650\",\"type\":\"LinearAxis\"},{\"id\":\"aff0c6f5-aa17-4d23-863d-5f12383d975f\",\"type\":\"Grid\"},{\"id\":\"096b42b4-a8e0-4274-8364-b762d2ae55cb\",\"type\":\"LinearAxis\"},{\"id\":\"cd43fa18-5a87-4bd2-99fe-9d448dcda2c8\",\"type\":\"Grid\"},{\"id\":\"cf6db517-536e-4d1c-8fea-5dfc4c3fc67b\",\"type\":\"GlyphRenderer\"},{\"id\":\"7f9d9874-f117-4549-847e-5f91dcd24fdc\",\"type\":\"GlyphRenderer\"}],\"title\":\"Many Clusters in Iris Dataset\",\"tool_events\":{\"id\":\"bc62dbf6-6109-43c7-9bd3-7c9b41cf22f9\",\"type\":\"ToolEvents\"},\"x_range\":{\"id\":\"b285a1e1-92c4-4d83-b2cb-a5ff31e366b6\",\"type\":\"DataRange1d\"},\"y_range\":{\"id\":\"d79a1779-cda4-4f2c-a462-d7572b732cb7\",\"type\":\"DataRange1d\"}},\"id\":\"47fdee04-5a93-46b7-9175-d70b93fd8948\",\"subtype\":\"Figure\",\"type\":\"Plot\"},{\"attributes\":{},\"id\":\"9f5170c9-b330-4dff-b61c-0ad62a277bbf\",\"type\":\"BasicTickFormatter\"},{\"attributes\":{\"data_source\":{\"id\":\"c7a73d8a-d2e8-49c2-bfcf-13fb53eec9b0\",\"type\":\"ColumnDataSource\"},\"glyph\":{\"id\":\"cb75f747-2ccb-4e9f-bb43-ebf0ff80a664\",\"type\":\"Circle\"},\"hover_glyph\":null,\"nonselection_glyph\":{\"id\":\"3e0e8362-ac97-4a2c-9079-e30e82d3523d\",\"type\":\"Circle\"},\"selection_glyph\":null},\"id\":\"cf6db517-536e-4d1c-8fea-5dfc4c3fc67b\",\"type\":\"GlyphRenderer\"},{\"attributes\":{},\"id\":\"ea7dd9f6-d2e5-4e0f-a4be-58f48f6544da\",\"type\":\"BasicTickFormatter\"},{\"attributes\":{\"data_source\":{\"id\":\"344ac254-9bf7-4562-9fbb-0695dff75988\",\"type\":\"ColumnDataSource\"},\"glyph\":{\"id\":\"05309f8a-1f1f-43eb-9dfd-0964845b4c56\",\"type\":\"Line\"},\"hover_glyph\":null,\"nonselection_glyph\":{\"id\":\"2398b8d9-9a21-4a2e-8741-6c59279835a3\",\"type\":\"Line\"},\"selection_glyph\":null},\"id\":\"5e48a2b5-4647-4d90-9a58-086857ce709a\",\"type\":\"GlyphRenderer\"},{\"attributes\":{},\"id\":\"a434c63e-99e5-4786-b17b-1d49d4c761a7\",\"type\":\"BasicTickFormatter\"},{\"attributes\":{\"fill_alpha\":{\"value\":0.1},\"fill_color\":{\"value\":\"#1f77b4\"},\"line_alpha\":{\"value\":0.1},\"line_color\":{\"value\":\"#1f77b4\"},\"size\":{\"units\":\"screen\",\"value\":100},\"x\":{\"field\":\"x\"},\"y\":{\"field\":\"y\"}},\"id\":\"ba3a63fc-10fb-479f-873e-6977488b3bfa\",\"type\":\"Circle\"},{\"attributes\":{\"data_source\":{\"id\":\"c128423e-4b26-4fcc-9414-c80146948d6c\",\"type\":\"ColumnDataSource\"},\"glyph\":{\"id\":\"e73d1d4c-790c-44c4-814c-a32b3430b279\",\"type\":\"Line\"},\"hover_glyph\":null,\"nonselection_glyph\":{\"id\":\"c9069d4f-02a5-4dd3-855e-825c22e53826\",\"type\":\"Line\"},\"selection_glyph\":null},\"id\":\"7823f6c2-5f5c-4c3a-99e0-393a10065858\",\"type\":\"GlyphRenderer\"},{\"attributes\":{\"line_alpha\":{\"value\":0.1},\"line_color\":{\"value\":\"#1f77b4\"},\"x\":{\"field\":\"x\"},\"y\":{\"field\":\"y\"}},\"id\":\"2398b8d9-9a21-4a2e-8741-6c59279835a3\",\"type\":\"Line\"},{\"attributes\":{\"line_color\":{\"value\":\"#1f77b4\"},\"x\":{\"field\":\"x\"},\"y\":{\"field\":\"y\"}},\"id\":\"e73d1d4c-790c-44c4-814c-a32b3430b279\",\"type\":\"Line\"},{\"attributes\":{},\"id\":\"0a5252d6-1280-40b9-9610-378267cd640b\",\"type\":\"BasicTicker\"},{\"attributes\":{},\"id\":\"a6748004-bbc0-49b2-b644-f847640fa304\",\"type\":\"BasicTicker\"},{\"attributes\":{\"line_color\":{\"value\":\"green\"},\"x\":{\"field\":\"x\"},\"y\":{\"field\":\"y\"}},\"id\":\"05309f8a-1f1f-43eb-9dfd-0964845b4c56\",\"type\":\"Line\"},{\"attributes\":{\"callback\":null},\"id\":\"379959e6-76f0-4b94-968d-fe02178071df\",\"type\":\"DataRange1d\"},{\"attributes\":{\"callback\":null,\"column_names\":[\"y\",\"x\"],\"data\":{\"x\":[2,3,4,5,6,7,8,9,10,11,12,13,14,15],\"y\":[0.7388765072447795,0.5930654335605791,0.560474768702901,0.4422211986873765,0.3982885071528618,0.38292258085827646,0.39661807684162803,0.3829718171420197,0.3857368661469776,0.3827265586754154,0.3814759688253716,0.3667361230800117,0.3598492582130101,0.3743911416995975]}},\"id\":\"b320a882-e99e-4439-bb10-b9a821706aee\",\"type\":\"ColumnDataSource\"},{\"attributes\":{\"fill_color\":{\"value\":\"#1f77b4\"},\"line_color\":{\"value\":\"#1f77b4\"},\"size\":{\"units\":\"screen\",\"value\":5},\"x\":{\"field\":\"x\"},\"y\":{\"field\":\"y\"}},\"id\":\"ac05344a-3374-464e-98c4-302a5966ca17\",\"type\":\"Circle\"},{\"attributes\":{\"formatter\":{\"id\":\"a434c63e-99e5-4786-b17b-1d49d4c761a7\",\"type\":\"BasicTickFormatter\"},\"plot\":{\"id\":\"d2290a20-a191-498f-be5c-d9d513c8985b\",\"subtype\":\"Figure\",\"type\":\"Plot\"},\"ticker\":{\"id\":\"0a5252d6-1280-40b9-9610-378267cd640b\",\"type\":\"BasicTicker\"}},\"id\":\"b75221e7-0b79-4789-8c7a-56c2d3a00834\",\"type\":\"LinearAxis\"},{\"attributes\":{\"callback\":null},\"id\":\"11642788-7b9e-4594-ac17-2930a431d4ef\",\"type\":\"DataRange1d\"},{\"attributes\":{\"callback\":null},\"id\":\"d79a1779-cda4-4f2c-a462-d7572b732cb7\",\"type\":\"DataRange1d\"},{\"attributes\":{\"fill_color\":{\"field\":\"fill_color\"},\"line_color\":{\"field\":\"line_color\"},\"size\":{\"units\":\"screen\",\"value\":5},\"x\":{\"field\":\"x\"},\"y\":{\"field\":\"y\"}},\"id\":\"a19fa60c-790c-4589-9d67-38fc72f93561\",\"type\":\"Circle\"},{\"attributes\":{},\"id\":\"f397d40e-3565-4253-8a49-df344453bc40\",\"type\":\"BasicTicker\"},{\"attributes\":{\"fill_alpha\":{\"value\":0.4},\"fill_color\":{\"value\":\"green\"},\"line_alpha\":{\"value\":0.4},\"line_color\":{\"value\":\"green\"},\"size\":{\"units\":\"screen\",\"value\":100},\"x\":{\"field\":\"x\"},\"y\":{\"field\":\"y\"}},\"id\":\"e458c962-9154-4668-9656-bd949e05d3a5\",\"type\":\"Circle\"},{\"attributes\":{},\"id\":\"d1fa22bc-37c8-4e29-a64e-ecad4dacc81c\",\"type\":\"BasicTicker\"},{\"attributes\":{},\"id\":\"272673d1-78b8-4883-a354-ed82d698cab4\",\"type\":\"BasicTicker\"},{\"attributes\":{\"dimension\":1,\"plot\":{\"id\":\"f7797f50-c2c1-4fa2-863d-c7bab6253d6f\",\"subtype\":\"Figure\",\"type\":\"Plot\"},\"ticker\":{\"id\":\"5527c948-b165-4894-b284-b3b58f451843\",\"type\":\"BasicTicker\"}},\"id\":\"58461bd9-9308-43f1-9541-eb5fba940215\",\"type\":\"Grid\"},{\"attributes\":{\"data_source\":{\"id\":\"7d882722-cbb8-4b32-99a1-0c453a90ce48\",\"type\":\"ColumnDataSource\"},\"glyph\":{\"id\":\"a19fa60c-790c-4589-9d67-38fc72f93561\",\"type\":\"Circle\"},\"hover_glyph\":null,\"nonselection_glyph\":{\"id\":\"35855847-678e-4c18-a75b-491e75cd7168\",\"type\":\"Circle\"},\"selection_glyph\":null},\"id\":\"cd3e9038-5ffc-444a-a7f0-39fe7f18c96c\",\"type\":\"GlyphRenderer\"},{\"attributes\":{\"plot\":{\"id\":\"b0a387bb-ddd0-4e21-99f7-6872f735ddb9\",\"subtype\":\"Figure\",\"type\":\"Plot\"},\"ticker\":{\"id\":\"d1fa22bc-37c8-4e29-a64e-ecad4dacc81c\",\"type\":\"BasicTicker\"}},\"id\":\"954b7eb3-9901-4309-bb98-deb049fbc526\",\"type\":\"Grid\"},{\"attributes\":{\"callback\":null},\"id\":\"0aef2405-6aa4-444b-89f0-c02c0b3184e6\",\"type\":\"DataRange1d\"},{\"attributes\":{\"dimension\":1,\"plot\":{\"id\":\"9f2f754f-ff68-40f1-82f8-ebf33f44863e\",\"subtype\":\"Figure\",\"type\":\"Plot\"},\"ticker\":{\"id\":\"db65a9ae-428f-4e05-988d-9b5e36e26090\",\"type\":\"BasicTicker\"}},\"id\":\"a1358cd2-5f16-42ab-b3cd-324df3b8ce9f\",\"type\":\"Grid\"},{\"attributes\":{\"formatter\":{\"id\":\"85012238-54bd-4282-9205-f43787dd1630\",\"type\":\"BasicTickFormatter\"},\"plot\":{\"id\":\"b0a387bb-ddd0-4e21-99f7-6872f735ddb9\",\"subtype\":\"Figure\",\"type\":\"Plot\"},\"ticker\":{\"id\":\"d1fa22bc-37c8-4e29-a64e-ecad4dacc81c\",\"type\":\"BasicTicker\"}},\"id\":\"7ccd97d9-0e66-478c-a693-71719f82da16\",\"type\":\"LinearAxis\"},{\"attributes\":{},\"id\":\"5069c58a-f220-4d1a-a23d-25abfc75d149\",\"type\":\"BasicTickFormatter\"},{\"attributes\":{},\"id\":\"aa99ab63-c4ce-4ab4-875d-64c255ff85f7\",\"type\":\"BasicTickFormatter\"},{\"attributes\":{\"plot\":{\"id\":\"47fdee04-5a93-46b7-9175-d70b93fd8948\",\"subtype\":\"Figure\",\"type\":\"Plot\"},\"ticker\":{\"id\":\"fa9e2f87-b9db-4332-a28f-4ff7605ab3cd\",\"type\":\"BasicTicker\"}},\"id\":\"aff0c6f5-aa17-4d23-863d-5f12383d975f\",\"type\":\"Grid\"},{\"attributes\":{\"below\":[{\"id\":\"7ccd97d9-0e66-478c-a693-71719f82da16\",\"type\":\"LinearAxis\"}],\"left\":[{\"id\":\"01c8c218-60c7-49be-8e5f-a8adcd1825f0\",\"type\":\"LinearAxis\"}],\"renderers\":[{\"id\":\"7ccd97d9-0e66-478c-a693-71719f82da16\",\"type\":\"LinearAxis\"},{\"id\":\"954b7eb3-9901-4309-bb98-deb049fbc526\",\"type\":\"Grid\"},{\"id\":\"01c8c218-60c7-49be-8e5f-a8adcd1825f0\",\"type\":\"LinearAxis\"},{\"id\":\"443d0362-5598-4edb-9dd3-3297f822f8a1\",\"type\":\"Grid\"},{\"id\":\"4de49a0f-3ae8-4578-ba63-1cff8b0098d5\",\"type\":\"BoxAnnotation\"},{\"id\":\"6f7cee7e-038a-4b9a-98bd-fa6e36c1461b\",\"type\":\"GlyphRenderer\"},{\"id\":\"48a03035-45b2-4b15-825a-e0ea713762b2\",\"type\":\"GlyphRenderer\"}],\"title\":\"Clusters in Forest Dataset\",\"tool_events\":{\"id\":\"eb0b73b3-1ac5-4462-b2cb-0201f3f8acf8\",\"type\":\"ToolEvents\"},\"tools\":[{\"id\":\"8ecc78c2-ca68-4e52-a541-63a6c9edfd6c\",\"type\":\"PanTool\"},{\"id\":\"9be7969a-7ce6-487f-8521-7bd36af0be09\",\"type\":\"WheelZoomTool\"},{\"id\":\"17e23059-3f51-426c-8123-ea098cd71bcb\",\"type\":\"BoxZoomTool\"},{\"id\":\"087f7e4e-6c14-408c-aaec-900a8884887a\",\"type\":\"PreviewSaveTool\"},{\"id\":\"5db2314f-5d33-40a9-8a45-bd9c5f50299e\",\"type\":\"ResizeTool\"},{\"id\":\"ceeaa880-a404-4abe-a550-6deb1873633d\",\"type\":\"ResetTool\"},{\"id\":\"b6412855-259f-4ba5-b724-0d04f8e45ec7\",\"type\":\"HelpTool\"}],\"x_range\":{\"id\":\"9e04ead9-2362-4d09-a85e-e11b50ad706a\",\"type\":\"DataRange1d\"},\"y_range\":{\"id\":\"099029d7-1f9b-48e4-b297-0394354f42b8\",\"type\":\"DataRange1d\"}},\"id\":\"b0a387bb-ddd0-4e21-99f7-6872f735ddb9\",\"subtype\":\"Figure\",\"type\":\"Plot\"},{\"attributes\":{},\"id\":\"74a1e311-095f-4e22-b6d2-f302facdf2c6\",\"type\":\"BasicTickFormatter\"},{\"attributes\":{\"plot\":{\"id\":\"f7797f50-c2c1-4fa2-863d-c7bab6253d6f\",\"subtype\":\"Figure\",\"type\":\"Plot\"},\"ticker\":{\"id\":\"3ff67822-d913-4c65-94f4-38cd1509a371\",\"type\":\"BasicTicker\"}},\"id\":\"047e2f1e-30ad-47a1-9bfc-f74a118f2470\",\"type\":\"Grid\"},{\"attributes\":{\"plot\":{\"id\":\"b0a387bb-ddd0-4e21-99f7-6872f735ddb9\",\"subtype\":\"Figure\",\"type\":\"Plot\"}},\"id\":\"8ecc78c2-ca68-4e52-a541-63a6c9edfd6c\",\"type\":\"PanTool\"},{\"attributes\":{},\"id\":\"7eebe605-b74d-4a32-8912-1f720990dcbb\",\"type\":\"BasicTicker\"},{\"attributes\":{},\"id\":\"85012238-54bd-4282-9205-f43787dd1630\",\"type\":\"BasicTickFormatter\"},{\"attributes\":{\"line_color\":{\"value\":\"blue\"},\"x\":{\"field\":\"x\"},\"y\":{\"field\":\"y\"}},\"id\":\"2025cf16-25bb-4a0e-a9ad-65e7aeeb7b34\",\"type\":\"Line\"},{\"attributes\":{\"callback\":null,\"column_names\":[\"y\",\"x\"],\"data\":{\"x\":[3.0325581395348835,3.418,2.7508771929824563],\"y\":[5.6720930232558135,1.4639999999999995,4.328070175438596]}},\"id\":\"8aa6f40e-8a81-4692-baf1-63891d8a8322\",\"type\":\"ColumnDataSource\"},{\"attributes\":{\"bottom_units\":\"screen\",\"fill_alpha\":{\"value\":0.5},\"fill_color\":{\"value\":\"lightgrey\"},\"left_units\":\"screen\",\"level\":\"overlay\",\"line_alpha\":{\"value\":1.0},\"line_color\":{\"value\":\"black\"},\"line_dash\":[4,4],\"line_width\":{\"value\":2},\"plot\":null,\"render_mode\":\"css\",\"right_units\":\"screen\",\"top_units\":\"screen\"},\"id\":\"4de49a0f-3ae8-4578-ba63-1cff8b0098d5\",\"type\":\"BoxAnnotation\"},{\"attributes\":{\"plot\":{\"id\":\"b0a387bb-ddd0-4e21-99f7-6872f735ddb9\",\"subtype\":\"Figure\",\"type\":\"Plot\"}},\"id\":\"087f7e4e-6c14-408c-aaec-900a8884887a\",\"type\":\"PreviewSaveTool\"},{\"attributes\":{\"plot\":{\"id\":\"d2290a20-a191-498f-be5c-d9d513c8985b\",\"subtype\":\"Figure\",\"type\":\"Plot\"},\"ticker\":{\"id\":\"0a5252d6-1280-40b9-9610-378267cd640b\",\"type\":\"BasicTicker\"}},\"id\":\"38c6f9c9-6add-4e4b-b021-396365a1adad\",\"type\":\"Grid\"},{\"attributes\":{\"below\":[{\"id\":\"d636b66d-c692-4b80-a6d5-1ec7af665ca3\",\"type\":\"LinearAxis\"}],\"left\":[{\"id\":\"3c4b7b49-ae6a-4d42-94ad-c72a4fd1fe15\",\"type\":\"LinearAxis\"}],\"renderers\":[{\"id\":\"d636b66d-c692-4b80-a6d5-1ec7af665ca3\",\"type\":\"LinearAxis\"},{\"id\":\"7d6bfebd-253f-43b4-b7c8-efd16064ae11\",\"type\":\"Grid\"},{\"id\":\"3c4b7b49-ae6a-4d42-94ad-c72a4fd1fe15\",\"type\":\"LinearAxis\"},{\"id\":\"a1358cd2-5f16-42ab-b3cd-324df3b8ce9f\",\"type\":\"Grid\"},{\"id\":\"cd3e9038-5ffc-444a-a7f0-39fe7f18c96c\",\"type\":\"GlyphRenderer\"},{\"id\":\"dd847629-50be-45aa-8c32-0bf27729636a\",\"type\":\"GlyphRenderer\"}],\"title\":\"Clusters in Iris Dataset\",\"tool_events\":{\"id\":\"9412106f-413e-4a20-b7b1-71ca35bd4cb3\",\"type\":\"ToolEvents\"},\"x_range\":{\"id\":\"379959e6-76f0-4b94-968d-fe02178071df\",\"type\":\"DataRange1d\"},\"y_range\":{\"id\":\"11642788-7b9e-4594-ac17-2930a431d4ef\",\"type\":\"DataRange1d\"}},\"id\":\"9f2f754f-ff68-40f1-82f8-ebf33f44863e\",\"subtype\":\"Figure\",\"type\":\"Plot\"},{\"attributes\":{},\"id\":\"494551b9-e6fc-411c-bada-a6e3e4e606b5\",\"type\":\"BasicTicker\"},{\"attributes\":{\"plot\":{\"id\":\"b0a387bb-ddd0-4e21-99f7-6872f735ddb9\",\"subtype\":\"Figure\",\"type\":\"Plot\"}},\"id\":\"5db2314f-5d33-40a9-8a45-bd9c5f50299e\",\"type\":\"ResizeTool\"},{\"attributes\":{\"fill_alpha\":{\"value\":0.4},\"fill_color\":{\"value\":\"green\"},\"line_alpha\":{\"value\":0.4},\"line_color\":{\"value\":\"green\"},\"size\":{\"units\":\"screen\",\"value\":100},\"x\":{\"field\":\"x\"},\"y\":{\"field\":\"y\"}},\"id\":\"b4843dd1-7c59-4fc0-ba36-970cb466eac5\",\"type\":\"Circle\"},{\"attributes\":{},\"id\":\"fd019753-c566-4afd-b096-a77b8a0dabe6\",\"type\":\"BasicTickFormatter\"},{\"attributes\":{\"callback\":null,\"column_names\":[\"y\",\"x\"],\"data\":{\"x\":[2.7508771929824563,3.418,3.0325581395348835],\"y\":[4.328070175438596,1.4639999999999995,5.6720930232558135]}},\"id\":\"bd8d0c1b-fbe3-4e51-a0d4-850dcb803018\",\"type\":\"ColumnDataSource\"},{\"attributes\":{\"formatter\":{\"id\":\"7927e8ab-62a4-4593-9c67-21ebdac5c6d6\",\"type\":\"BasicTickFormatter\"},\"plot\":{\"id\":\"f7797f50-c2c1-4fa2-863d-c7bab6253d6f\",\"subtype\":\"Figure\",\"type\":\"Plot\"},\"ticker\":{\"id\":\"3ff67822-d913-4c65-94f4-38cd1509a371\",\"type\":\"BasicTicker\"}},\"id\":\"be22e79f-d9f9-4eef-bce9-183e5ce2786c\",\"type\":\"LinearAxis\"},{\"attributes\":{},\"id\":\"9ae7887e-1650-44aa-9774-661e19298ed1\",\"type\":\"BasicTickFormatter\"},{\"attributes\":{\"callback\":null,\"column_names\":[\"y\",\"x\"],\"data\":{\"x\":[3.05,3.43,2.54,3.1083333333333334,3.15,2.4375,2.657142857142857,3.9076923076923076,3.0043478260869563,3.0294117647058822],\"y\":[5.759090909090909,1.4849999999999999,4.126666666666667,5.116666666666667,6.6,3.4625,5.007142857142857,1.523076923076923,4.48695652173913,1.394117647058823]}},\"id\":\"d5ecbb11-38f2-4ae9-966c-a3ad5e5b5367\",\"type\":\"ColumnDataSource\"},{\"attributes\":{\"callback\":null},\"id\":\"9e04ead9-2362-4d09-a85e-e11b50ad706a\",\"type\":\"DataRange1d\"},{\"attributes\":{},\"id\":\"7927e8ab-62a4-4593-9c67-21ebdac5c6d6\",\"type\":\"BasicTickFormatter\"},{\"attributes\":{\"dimension\":1,\"plot\":{\"id\":\"b0a387bb-ddd0-4e21-99f7-6872f735ddb9\",\"subtype\":\"Figure\",\"type\":\"Plot\"},\"ticker\":{\"id\":\"f397d40e-3565-4253-8a49-df344453bc40\",\"type\":\"BasicTicker\"}},\"id\":\"443d0362-5598-4edb-9dd3-3297f822f8a1\",\"type\":\"Grid\"},{\"attributes\":{\"callback\":null,\"column_names\":[\"y\",\"x\",\"line_color\",\"fill_color\"],\"data\":{\"fill_color\":[\"red\",\"red\",\"red\",\"red\",\"red\",\"red\",\"red\",\"red\",\"red\",\"red\",\"red\",\"red\",\"red\",\"red\",\"red\",\"red\",\"red\",\"red\",\"red\",\"red\",\"red\",\"red\",\"red\",\"red\",\"red\",\"red\",\"red\",\"red\",\"red\",\"red\",\"red\",\"red\",\"red\",\"red\",\"red\",\"red\",\"red\",\"red\",\"red\",\"red\",\"red\",\"red\",\"red\",\"red\",\"red\",\"red\",\"red\",\"red\",\"red\",\"red\",\"blue\",\"blue\",\"blue\",\"blue\",\"blue\",\"blue\",\"blue\",\"blue\",\"blue\",\"blue\",\"blue\",\"blue\",\"blue\",\"blue\",\"blue\",\"blue\",\"blue\",\"blue\",\"blue\",\"blue\",\"blue\",\"blue\",\"blue\",\"blue\",\"blue\",\"blue\",\"blue\",\"blue\",\"blue\",\"blue\",\"blue\",\"blue\",\"blue\",\"blue\",\"blue\",\"blue\",\"blue\",\"blue\",\"blue\",\"blue\",\"blue\",\"blue\",\"blue\",\"blue\",\"blue\",\"blue\",\"blue\",\"blue\",\"blue\",\"blue\",\"orange\",\"orange\",\"orange\",\"orange\",\"orange\",\"orange\",\"orange\",\"orange\",\"orange\",\"orange\",\"orange\",\"orange\",\"orange\",\"orange\",\"orange\",\"orange\",\"orange\",\"orange\",\"orange\",\"orange\",\"orange\",\"orange\",\"orange\",\"orange\",\"orange\",\"orange\",\"orange\",\"orange\",\"orange\",\"orange\",\"orange\",\"orange\",\"orange\",\"orange\",\"orange\",\"orange\",\"orange\",\"orange\",\"orange\",\"orange\",\"orange\",\"orange\",\"orange\",\"orange\",\"orange\",\"orange\",\"orange\",\"orange\",\"orange\",\"orange\"],\"line_color\":[\"red\",\"red\",\"red\",\"red\",\"red\",\"red\",\"red\",\"red\",\"red\",\"red\",\"red\",\"red\",\"red\",\"red\",\"red\",\"red\",\"red\",\"red\",\"red\",\"red\",\"red\",\"red\",\"red\",\"red\",\"red\",\"red\",\"red\",\"red\",\"red\",\"red\",\"red\",\"red\",\"red\",\"red\",\"red\",\"red\",\"red\",\"red\",\"red\",\"red\",\"red\",\"red\",\"red\",\"red\",\"red\",\"red\",\"red\",\"red\",\"red\",\"red\",\"blue\",\"blue\",\"blue\",\"blue\",\"blue\",\"blue\",\"blue\",\"blue\",\"blue\",\"blue\",\"blue\",\"blue\",\"blue\",\"blue\",\"blue\",\"blue\",\"blue\",\"blue\",\"blue\",\"blue\",\"blue\",\"blue\",\"blue\",\"blue\",\"blue\",\"blue\",\"blue\",\"blue\",\"blue\",\"blue\",\"blue\",\"blue\",\"blue\",\"blue\",\"blue\",\"blue\",\"blue\",\"blue\",\"blue\",\"blue\",\"blue\",\"blue\",\"blue\",\"blue\",\"blue\",\"blue\",\"blue\",\"blue\",\"blue\",\"blue\",\"orange\",\"orange\",\"orange\",\"orange\",\"orange\",\"orange\",\"orange\",\"orange\",\"orange\",\"orange\",\"orange\",\"orange\",\"orange\",\"orange\",\"orange\",\"orange\",\"orange\",\"orange\",\"orange\",\"orange\",\"orange\",\"orange\",\"orange\",\"orange\",\"orange\",\"orange\",\"orange\",\"orange\",\"orange\",\"orange\",\"orange\",\"orange\",\"orange\",\"orange\",\"orange\",\"orange\",\"orange\",\"orange\",\"orange\",\"orange\",\"orange\",\"orange\",\"orange\",\"orange\",\"orange\",\"orange\",\"orange\",\"orange\",\"orange\",\"orange\"],\"x\":[3.5,3.0,3.2,3.1,3.6,3.9,3.4,3.4,2.9,3.1,3.7,3.4,3.0,3.0,4.0,4.4,3.9,3.5,3.8,3.8,3.4,3.7,3.6,3.3,3.4,3.0,3.4,3.5,3.4,3.2,3.1,3.4,4.1,4.2,3.1,3.2,3.5,3.1,3.0,3.4,3.5,2.3,3.2,3.5,3.8,3.0,3.8,3.2,3.7,3.3,3.2,3.2,3.1,2.3,2.8,2.8,3.3,2.4,2.9,2.7,2.0,3.0,2.2,2.9,2.9,3.1,3.0,2.7,2.2,2.5,3.2,2.8,2.5,2.8,2.9,3.0,2.8,3.0,2.9,2.6,2.4,2.4,2.7,2.7,3.0,3.4,3.1,2.3,3.0,2.5,2.6,3.0,2.6,2.3,2.7,3.0,2.9,2.9,2.5,2.8,3.3,2.7,3.0,2.9,3.0,3.0,2.5,2.9,2.5,3.6,3.2,2.7,3.0,2.5,2.8,3.2,3.0,3.8,2.6,2.2,3.2,2.8,2.8,2.7,3.3,3.2,2.8,3.0,2.8,3.0,2.8,3.8,2.8,2.8,2.6,3.0,3.4,3.1,3.0,3.1,3.1,3.1,2.7,3.2,3.3,3.0,2.5,3.0,3.4,3.0],\"y\":[1.4,1.4,1.3,1.5,1.4,1.7,1.4,1.5,1.4,1.5,1.5,1.6,1.4,1.1,1.2,1.5,1.3,1.4,1.7,1.5,1.7,1.5,1.0,1.7,1.9,1.6,1.6,1.5,1.4,1.6,1.6,1.5,1.5,1.4,1.5,1.2,1.3,1.5,1.3,1.5,1.3,1.3,1.3,1.6,1.9,1.4,1.6,1.4,1.5,1.4,4.7,4.5,4.9,4.0,4.6,4.5,4.7,3.3,4.6,3.9,3.5,4.2,4.0,4.7,3.6,4.4,4.5,4.1,4.5,3.9,4.8,4.0,4.9,4.7,4.3,4.4,4.8,5.0,4.5,3.5,3.8,3.7,3.9,5.1,4.5,4.5,4.7,4.4,4.1,4.0,4.4,4.6,4.0,3.3,4.2,4.2,4.2,4.3,3.0,4.1,6.0,5.1,5.9,5.6,5.8,6.6,4.5,6.3,5.8,6.1,5.1,5.3,5.5,5.0,5.1,5.3,5.5,6.7,6.9,5.0,5.7,4.9,6.7,4.9,5.7,6.0,4.8,4.9,5.6,5.8,6.1,6.4,5.6,5.1,5.6,6.1,5.6,5.5,4.8,5.4,5.6,5.1,5.1,5.9,5.7,5.2,5.0,5.2,5.4,5.1]}},\"id\":\"7d882722-cbb8-4b32-99a1-0c453a90ce48\",\"type\":\"ColumnDataSource\"},{\"attributes\":{\"formatter\":{\"id\":\"707d7ded-628a-4f83-87a9-1f874fa1e478\",\"type\":\"BasicTickFormatter\"},\"plot\":{\"id\":\"9f2f754f-ff68-40f1-82f8-ebf33f44863e\",\"subtype\":\"Figure\",\"type\":\"Plot\"},\"ticker\":{\"id\":\"db65a9ae-428f-4e05-988d-9b5e36e26090\",\"type\":\"BasicTicker\"}},\"id\":\"3c4b7b49-ae6a-4d42-94ad-c72a4fd1fe15\",\"type\":\"LinearAxis\"},{\"attributes\":{\"overlay\":{\"id\":\"4de49a0f-3ae8-4578-ba63-1cff8b0098d5\",\"type\":\"BoxAnnotation\"},\"plot\":{\"id\":\"b0a387bb-ddd0-4e21-99f7-6872f735ddb9\",\"subtype\":\"Figure\",\"type\":\"Plot\"}},\"id\":\"17e23059-3f51-426c-8123-ea098cd71bcb\",\"type\":\"BoxZoomTool\"},{\"attributes\":{\"fill_alpha\":{\"value\":0.1},\"fill_color\":{\"value\":\"#1f77b4\"},\"line_alpha\":{\"value\":0.1},\"line_color\":{\"value\":\"#1f77b4\"},\"size\":{\"units\":\"screen\",\"value\":5},\"x\":{\"field\":\"x\"},\"y\":{\"field\":\"y\"}},\"id\":\"35855847-678e-4c18-a75b-491e75cd7168\",\"type\":\"Circle\"},{\"attributes\":{},\"id\":\"fa9e2f87-b9db-4332-a28f-4ff7605ab3cd\",\"type\":\"BasicTicker\"},{\"attributes\":{},\"id\":\"3ff67822-d913-4c65-94f4-38cd1509a371\",\"type\":\"BasicTicker\"},{\"attributes\":{},\"id\":\"6ed3c336-7f07-4c7e-8226-9b3cce99d3b1\",\"type\":\"ToolEvents\"},{\"attributes\":{\"fill_alpha\":{\"value\":0.1},\"fill_color\":{\"value\":\"#1f77b4\"},\"line_alpha\":{\"value\":0.1},\"line_color\":{\"value\":\"#1f77b4\"},\"size\":{\"units\":\"screen\",\"value\":5},\"x\":{\"field\":\"x\"},\"y\":{\"field\":\"y\"}},\"id\":\"988707e9-b66d-43a5-9513-6dbe181cfe0c\",\"type\":\"Circle\"},{\"attributes\":{\"callback\":null,\"column_names\":[\"y\",\"x\"],\"data\":{\"x\":[2,3,4,5,6,7,8,9,10,11,12,13,14,15],\"y\":[0.7424040593345422,0.6395184413195436,0.43498900178658945,0.47982425806157686,0.46929292623391816,0.4424009241250401,0.478032765231927,0.48638334667885735,0.4271724911467897,0.4217667113580511,0.42163214725474635,0.41750193136874164,0.41289656558928034,0.40789071650156583]}},\"id\":\"344ac254-9bf7-4562-9fbb-0695dff75988\",\"type\":\"ColumnDataSource\"},{\"attributes\":{\"formatter\":{\"id\":\"9ae7887e-1650-44aa-9774-661e19298ed1\",\"type\":\"BasicTickFormatter\"},\"plot\":{\"id\":\"47fdee04-5a93-46b7-9175-d70b93fd8948\",\"subtype\":\"Figure\",\"type\":\"Plot\"},\"ticker\":{\"id\":\"a6748004-bbc0-49b2-b644-f847640fa304\",\"type\":\"BasicTicker\"}},\"id\":\"096b42b4-a8e0-4274-8364-b762d2ae55cb\",\"type\":\"LinearAxis\"},{\"attributes\":{\"data_source\":{\"id\":\"d5ecbb11-38f2-4ae9-966c-a3ad5e5b5367\",\"type\":\"ColumnDataSource\"},\"glyph\":{\"id\":\"82a9a0a4-06b0-418f-b030-5fb5ba14ba90\",\"type\":\"Circle\"},\"hover_glyph\":null,\"nonselection_glyph\":{\"id\":\"5b2e0d6c-dc8f-474b-bf43-d0aa017affbc\",\"type\":\"Circle\"},\"selection_glyph\":null},\"id\":\"7f9d9874-f117-4549-847e-5f91dcd24fdc\",\"type\":\"GlyphRenderer\"},{\"attributes\":{\"formatter\":{\"id\":\"fd019753-c566-4afd-b096-a77b8a0dabe6\",\"type\":\"BasicTickFormatter\"},\"plot\":{\"id\":\"b0a387bb-ddd0-4e21-99f7-6872f735ddb9\",\"subtype\":\"Figure\",\"type\":\"Plot\"},\"ticker\":{\"id\":\"f397d40e-3565-4253-8a49-df344453bc40\",\"type\":\"BasicTicker\"}},\"id\":\"01c8c218-60c7-49be-8e5f-a8adcd1825f0\",\"type\":\"LinearAxis\"},{\"attributes\":{},\"id\":\"bc62dbf6-6109-43c7-9bd3-7c9b41cf22f9\",\"type\":\"ToolEvents\"},{\"attributes\":{\"line_alpha\":{\"value\":0.1},\"line_color\":{\"value\":\"#1f77b4\"},\"x\":{\"field\":\"x\"},\"y\":{\"field\":\"y\"}},\"id\":\"c0a35be5-2dea-4b0a-9639-34cae0f43121\",\"type\":\"Line\"},{\"attributes\":{\"fill_alpha\":{\"value\":0.1},\"fill_color\":{\"value\":\"#1f77b4\"},\"line_alpha\":{\"value\":0.1},\"line_color\":{\"value\":\"#1f77b4\"},\"size\":{\"units\":\"screen\",\"value\":100},\"x\":{\"field\":\"x\"},\"y\":{\"field\":\"y\"}},\"id\":\"5b2e0d6c-dc8f-474b-bf43-d0aa017affbc\",\"type\":\"Circle\"},{\"attributes\":{\"callback\":null},\"id\":\"6211266a-f0c8-4c9f-ab09-01ef8b3dc2a1\",\"type\":\"DataRange1d\"},{\"attributes\":{\"below\":[{\"id\":\"be22e79f-d9f9-4eef-bce9-183e5ce2786c\",\"type\":\"LinearAxis\"}],\"left\":[{\"id\":\"6280374d-43e9-4dc0-a776-5db7209bac7e\",\"type\":\"LinearAxis\"}],\"renderers\":[{\"id\":\"be22e79f-d9f9-4eef-bce9-183e5ce2786c\",\"type\":\"LinearAxis\"},{\"id\":\"047e2f1e-30ad-47a1-9bfc-f74a118f2470\",\"type\":\"Grid\"},{\"id\":\"6280374d-43e9-4dc0-a776-5db7209bac7e\",\"type\":\"LinearAxis\"},{\"id\":\"58461bd9-9308-43f1-9541-eb5fba940215\",\"type\":\"Grid\"},{\"id\":\"7823f6c2-5f5c-4c3a-99e0-393a10065858\",\"type\":\"GlyphRenderer\"}],\"title\":\"Silhouette Score for different clusters\",\"tool_events\":{\"id\":\"6ed3c336-7f07-4c7e-8226-9b3cce99d3b1\",\"type\":\"ToolEvents\"},\"x_range\":{\"id\":\"348ed8e6-6d5b-422c-ad3b-a120506864df\",\"type\":\"DataRange1d\"},\"y_range\":{\"id\":\"0aef2405-6aa4-444b-89f0-c02c0b3184e6\",\"type\":\"DataRange1d\"}},\"id\":\"f7797f50-c2c1-4fa2-863d-c7bab6253d6f\",\"subtype\":\"Figure\",\"type\":\"Plot\"},{\"attributes\":{\"callback\":null,\"column_names\":[\"y\",\"x\"],\"data\":{\"x\":[7,7,7,8,8,8,8,8,8,7,7,7,6,6,6,6,5,8,6,6,6,5,7,7,7,7,7,7,6,6,6,6,6,6,6,6,6,7,7,4,4,4,4,4,4,5,5,6,4,4,4,4,4,4,4,4,4,4,2,2,2,2,2,2,2,2,2,2,2,4,4,4,5,5,5,9,9,1,1,1,1,1,1,1,1,1,1,1,1,6,6,8,8,8,8,4,3,3,3,3,3,3,2,2,2,4,4,4,4,4,4,3,3,3,3,3,3,3,3,3,3,3,3,3,3,3,3,3,3,2,4,4,4,4,3,3,3,3,9,1,2,1,8,1,2,6,5,8,2,8,6,9,3,5,1,7,2,2,2,7,7,6,6,8,8,6,6,6,6,8,5,8,7,4,1,1,6,2,2,8,1,8,5,7,8,2,8,1,6,7,6,2,2,4,2,2,6,4,3,2,1,6,7,8,5,4,2,7,6,8,4,7,7,7,4,4,4,1,4,6,8,3,4,2,7,4,7,8,4,8,4,1,6,9,4,8,2,1,6,7,6,4,2,7,2,3,5,2,8,3,8,8,6,7,6,2,8,4,3,7,2,3,2,6,4,4,6,2,3,4,2,8,2,4,8,4,4,3,4,4,4,6,6,3,5,2,7,7,7,7,2,9,4,7,8,7,6,8,8,6,6,6,3,3,6,1,7,3,2,2,7,6,2,6,4,3,4,4,6,5,6,1,6,3,6,1,5,6,6,4,3,7,4,1,2,4,7,6,8,2,2,8,6,8,6,2,1,5,3,5,5,4,7,7,7,4,4,6,6,1,6,4,7,4,6,6,4,4,6,4,7,3,4,5,6,6,8,2,6,4,5,8,8,9,8,2,3,5,6,7,7,8,1,2,6,4,4,5,1,9,9,3,9,8,2,2,6,4,4,1,6,7,9,7,5,8,6,6,2,2,8,2,8,1,8,2,8,2,1,3,7,1,8,2,1,2,8,8,2,1,5,8,6,1,2,5,6,3,7,7,4,1,7,4,3,3,2,1,8,7,2,8,1,6,6,2,6,3,6,6,5,4,8,9,4,2,4,4,7,7,9,4,3,8,2,2,5,5,4,4,4,4,1,1,6,6,4,3,6,7,8,7,4,2,4,1,1,2,1,5,6,8,4,2,7,1,6],\"y\":[5,4,4,6,6,6,6,6,6,5,5,5,5,5,5,5,5,5,4,4,4,4,4,4,4,4,4,4,3,3,3,3,3,3,3,3,3,4,3,4,4,4,4,4,4,6,6,6,4,4,4,3,3,3,3,3,3,3,2,2,2,2,2,2,2,2,2,2,2,5,5,5,4,4,4,9,9,3,2,2,2,2,2,2,2,2,2,2,2,5,5,6,6,6,6,4,4,4,4,4,4,4,4,4,4,5,5,5,5,5,4,4,4,4,4,5,4,4,4,4,4,4,4,4,4,4,5,5,5,5,6,6,6,6,5,5,6,6,9,4,5,2,6,2,5,5,4,3,2,6,5,9,4,4,5,4,4,2,4,4,4,4,3,6,5,5,5,5,5,6,4,6,4,4,4,4,5,5,5,6,3,6,4,4,6,5,6,5,4,4,5,5,2,5,2,5,5,5,4,4,5,5,4,6,6,5,2,5,5,3,4,4,4,3,4,4,4,3,5,5,6,4,3,2,4,4,5,6,6,6,4,5,4,4,5,6,2,2,5,5,3,4,4,4,4,4,4,4,6,4,5,5,5,4,3,5,6,3,4,4,4,4,4,3,4,4,5,2,4,4,2,6,5,6,6,6,4,4,4,4,6,5,3,4,4,5,6,4,4,4,5,4,5,6,6,5,4,6,6,5,5,5,6,6,5,4,4,4,4,4,4,3,4,5,4,4,5,4,5,4,3,4,5,5,5,4,4,5,5,3,3,4,4,4,3,3,4,3,6,4,5,6,3,6,3,2,4,4,4,4,4,4,4,4,4,4,4,3,3,4,5,3,4,3,5,5,5,5,5,5,4,4,5,4,5,5,6,2,5,5,4,6,6,6,4,4,4,5,4,4,4,6,3,4,5,5,3,6,2,5,5,4,9,6,4,2,5,5,3,4,3,4,4,5,4,6,3,5,4,5,8,4,6,3,6,2,6,4,3,4,4,3,6,4,4,5,6,6,5,3,4,6,5,2,5,5,5,4,4,4,5,4,4,5,4,4,4,4,6,4,5,6,4,5,4,2,5,4,5,3,4,3,3,4,3,5,3,3,4,4,9,3,4,6,5,4,4,4,4,4,4,4,3,3,6,6,5,4,5,5,6,5,4,4,3,2,2,4,2,4,5,6,3,4,4,4,3]}},\"id\":\"553a8adf-d8f1-47be-a4bb-be51308af35f\",\"type\":\"ColumnDataSource\"},{\"attributes\":{\"plot\":{\"id\":\"b0a387bb-ddd0-4e21-99f7-6872f735ddb9\",\"subtype\":\"Figure\",\"type\":\"Plot\"}},\"id\":\"b6412855-259f-4ba5-b724-0d04f8e45ec7\",\"type\":\"HelpTool\"},{\"attributes\":{\"formatter\":{\"id\":\"aa99ab63-c4ce-4ab4-875d-64c255ff85f7\",\"type\":\"BasicTickFormatter\"},\"plot\":{\"id\":\"47fdee04-5a93-46b7-9175-d70b93fd8948\",\"subtype\":\"Figure\",\"type\":\"Plot\"},\"ticker\":{\"id\":\"fa9e2f87-b9db-4332-a28f-4ff7605ab3cd\",\"type\":\"BasicTicker\"}},\"id\":\"0a8227ea-103a-444b-903b-f43ae8fd9650\",\"type\":\"LinearAxis\"},{\"attributes\":{},\"id\":\"707d7ded-628a-4f83-87a9-1f874fa1e478\",\"type\":\"BasicTickFormatter\"},{\"attributes\":{\"line_alpha\":{\"value\":0.1},\"line_color\":{\"value\":\"#1f77b4\"},\"x\":{\"field\":\"x\"},\"y\":{\"field\":\"y\"}},\"id\":\"c9069d4f-02a5-4dd3-855e-825c22e53826\",\"type\":\"Line\"},{\"attributes\":{},\"id\":\"e6f8e69a-7250-4a1c-a0fb-13bc3b0440f9\",\"type\":\"BasicTickFormatter\"},{\"attributes\":{\"callback\":null,\"column_names\":[\"y\",\"x\"],\"data\":{\"x\":[2,3,4,5,6,7,8,9,10,11,12,13,14,15],\"y\":[0.7388765072447795,0.5930654335605791,0.560474768702901,0.42734953912850754,0.38219062136345766,0.40306468786678834,0.3736508610080102,0.3907502083918878,0.3885542832760069,0.3833845146707228,0.36271001956874055,0.36501053833163105,0.3837056362595219,0.37293200465857723]}},\"id\":\"c128423e-4b26-4fcc-9414-c80146948d6c\",\"type\":\"ColumnDataSource\"},{\"attributes\":{\"below\":[{\"id\":\"b75221e7-0b79-4789-8c7a-56c2d3a00834\",\"type\":\"LinearAxis\"}],\"left\":[{\"id\":\"b957df5e-94e7-4aa7-8d21-c5d5ba1c4684\",\"type\":\"LinearAxis\"}],\"renderers\":[{\"id\":\"b75221e7-0b79-4789-8c7a-56c2d3a00834\",\"type\":\"LinearAxis\"},{\"id\":\"38c6f9c9-6add-4e4b-b021-396365a1adad\",\"type\":\"Grid\"},{\"id\":\"b957df5e-94e7-4aa7-8d21-c5d5ba1c4684\",\"type\":\"LinearAxis\"},{\"id\":\"c7a741b4-2446-48f6-8d53-b26f006f538a\",\"type\":\"Grid\"},{\"id\":\"25cfc7fe-b402-4f53-825e-cd7c59a0fef4\",\"type\":\"Legend\"},{\"id\":\"e7bbb7f1-6e74-465f-b485-d63473334155\",\"type\":\"GlyphRenderer\"},{\"id\":\"5e48a2b5-4647-4d90-9a58-086857ce709a\",\"type\":\"GlyphRenderer\"}],\"title\":\"Silhouette Score for different clusters\",\"tool_events\":{\"id\":\"beba0c2a-a995-4dbb-b619-9381e818661e\",\"type\":\"ToolEvents\"},\"x_range\":{\"id\":\"75e2e2dc-e2ef-402a-9c5f-641d702cb6f5\",\"type\":\"DataRange1d\"},\"y_range\":{\"id\":\"5e0a7ff1-7f5f-48bc-a9de-e12cb6171363\",\"type\":\"DataRange1d\"}},\"id\":\"d2290a20-a191-498f-be5c-d9d513c8985b\",\"subtype\":\"Figure\",\"type\":\"Plot\"},{\"attributes\":{},\"id\":\"31fdb754-78ff-4cf9-a9d6-2aa6dd546e59\",\"type\":\"ToolEvents\"},{\"attributes\":{\"fill_color\":{\"field\":\"fill_color\"},\"line_color\":{\"field\":\"line_color\"},\"size\":{\"units\":\"screen\",\"value\":5},\"x\":{\"field\":\"x\"},\"y\":{\"field\":\"y\"}},\"id\":\"cb75f747-2ccb-4e9f-bb43-ebf0ff80a664\",\"type\":\"Circle\"},{\"attributes\":{},\"id\":\"5527c948-b165-4894-b284-b3b58f451843\",\"type\":\"BasicTicker\"},{\"attributes\":{\"callback\":null},\"id\":\"19ec6248-e10a-417f-a953-6bc921aa7a18\",\"type\":\"DataRange1d\"},{\"attributes\":{\"formatter\":{\"id\":\"ea7dd9f6-d2e5-4e0f-a4be-58f48f6544da\",\"type\":\"BasicTickFormatter\"},\"plot\":{\"id\":\"9f2f754f-ff68-40f1-82f8-ebf33f44863e\",\"subtype\":\"Figure\",\"type\":\"Plot\"},\"ticker\":{\"id\":\"c81a2147-bd6d-4ae5-9f2a-1daaa3dac064\",\"type\":\"BasicTicker\"}},\"id\":\"d636b66d-c692-4b80-a6d5-1ec7af665ca3\",\"type\":\"LinearAxis\"},{\"attributes\":{\"formatter\":{\"id\":\"9f5170c9-b330-4dff-b61c-0ad62a277bbf\",\"type\":\"BasicTickFormatter\"},\"plot\":{\"id\":\"6cae5d1e-e7b6-4ac2-93ea-9519243f0140\",\"subtype\":\"Figure\",\"type\":\"Plot\"},\"ticker\":{\"id\":\"272673d1-78b8-4883-a354-ed82d698cab4\",\"type\":\"BasicTicker\"}},\"id\":\"d52641a2-f9aa-4996-a300-d6446b57d6d1\",\"type\":\"LinearAxis\"},{\"attributes\":{},\"id\":\"eb0b73b3-1ac5-4462-b2cb-0201f3f8acf8\",\"type\":\"ToolEvents\"},{\"attributes\":{\"data_source\":{\"id\":\"bd8d0c1b-fbe3-4e51-a0d4-850dcb803018\",\"type\":\"ColumnDataSource\"},\"glyph\":{\"id\":\"b4843dd1-7c59-4fc0-ba36-970cb466eac5\",\"type\":\"Circle\"},\"hover_glyph\":null,\"nonselection_glyph\":{\"id\":\"ba3a63fc-10fb-479f-873e-6977488b3bfa\",\"type\":\"Circle\"},\"selection_glyph\":null},\"id\":\"48a03035-45b2-4b15-825a-e0ea713762b2\",\"type\":\"GlyphRenderer\"},{\"attributes\":{\"callback\":null},\"id\":\"5e0a7ff1-7f5f-48bc-a9de-e12cb6171363\",\"type\":\"DataRange1d\"},{\"attributes\":{\"fill_alpha\":{\"value\":0.4},\"fill_color\":{\"value\":\"green\"},\"line_alpha\":{\"value\":0.4},\"line_color\":{\"value\":\"green\"},\"size\":{\"units\":\"screen\",\"value\":100},\"x\":{\"field\":\"x\"},\"y\":{\"field\":\"y\"}},\"id\":\"82a9a0a4-06b0-418f-b030-5fb5ba14ba90\",\"type\":\"Circle\"},{\"attributes\":{\"dimension\":1,\"plot\":{\"id\":\"d2290a20-a191-498f-be5c-d9d513c8985b\",\"subtype\":\"Figure\",\"type\":\"Plot\"},\"ticker\":{\"id\":\"494551b9-e6fc-411c-bada-a6e3e4e606b5\",\"type\":\"BasicTicker\"}},\"id\":\"c7a741b4-2446-48f6-8d53-b26f006f538a\",\"type\":\"Grid\"},{\"attributes\":{\"data_source\":{\"id\":\"49b32819-01d9-4241-a5b0-7009099dc0a3\",\"type\":\"ColumnDataSource\"},\"glyph\":{\"id\":\"2025cf16-25bb-4a0e-a9ad-65e7aeeb7b34\",\"type\":\"Line\"},\"hover_glyph\":null,\"nonselection_glyph\":{\"id\":\"d5972d51-59d9-4331-b827-afeda65e26a7\",\"type\":\"Line\"},\"selection_glyph\":null},\"id\":\"e7bbb7f1-6e74-465f-b485-d63473334155\",\"type\":\"GlyphRenderer\"},{\"attributes\":{\"dimension\":1,\"plot\":{\"id\":\"6cae5d1e-e7b6-4ac2-93ea-9519243f0140\",\"subtype\":\"Figure\",\"type\":\"Plot\"},\"ticker\":{\"id\":\"272673d1-78b8-4883-a354-ed82d698cab4\",\"type\":\"BasicTicker\"}},\"id\":\"7b915057-bbdd-470f-af64-df89c2b96631\",\"type\":\"Grid\"},{\"attributes\":{\"callback\":null,\"column_names\":[\"y\",\"x\",\"line_color\",\"fill_color\"],\"data\":{\"fill_color\":[\"red\",\"red\",\"red\",\"red\",\"red\",\"red\",\"red\",\"red\",\"red\",\"red\",\"red\",\"red\",\"red\",\"red\",\"red\",\"red\",\"red\",\"red\",\"red\",\"red\",\"red\",\"red\",\"red\",\"red\",\"red\",\"red\",\"red\",\"red\",\"red\",\"red\",\"red\",\"red\",\"red\",\"red\",\"red\",\"red\",\"red\",\"red\",\"red\",\"red\",\"red\",\"red\",\"red\",\"red\",\"red\",\"red\",\"red\",\"red\",\"red\",\"red\",\"blue\",\"blue\",\"blue\",\"blue\",\"blue\",\"blue\",\"blue\",\"blue\",\"blue\",\"blue\",\"blue\",\"blue\",\"blue\",\"blue\",\"blue\",\"blue\",\"blue\",\"blue\",\"blue\",\"blue\",\"blue\",\"blue\",\"blue\",\"blue\",\"blue\",\"blue\",\"blue\",\"blue\",\"blue\",\"blue\",\"blue\",\"blue\",\"blue\",\"blue\",\"blue\",\"blue\",\"blue\",\"blue\",\"blue\",\"blue\",\"blue\",\"blue\",\"blue\",\"blue\",\"blue\",\"blue\",\"blue\",\"blue\",\"blue\",\"blue\",\"orange\",\"orange\",\"orange\",\"orange\",\"orange\",\"orange\",\"orange\",\"orange\",\"orange\",\"orange\",\"orange\",\"orange\",\"orange\",\"orange\",\"orange\",\"orange\",\"orange\",\"orange\",\"orange\",\"orange\",\"orange\",\"orange\",\"orange\",\"orange\",\"orange\",\"orange\",\"orange\",\"orange\",\"orange\",\"orange\",\"orange\",\"orange\",\"orange\",\"orange\",\"orange\",\"orange\",\"orange\",\"orange\",\"orange\",\"orange\",\"orange\",\"orange\",\"orange\",\"orange\",\"orange\",\"orange\",\"orange\",\"orange\",\"orange\",\"orange\"],\"line_color\":[\"red\",\"red\",\"red\",\"red\",\"red\",\"red\",\"red\",\"red\",\"red\",\"red\",\"red\",\"red\",\"red\",\"red\",\"red\",\"red\",\"red\",\"red\",\"red\",\"red\",\"red\",\"red\",\"red\",\"red\",\"red\",\"red\",\"red\",\"red\",\"red\",\"red\",\"red\",\"red\",\"red\",\"red\",\"red\",\"red\",\"red\",\"red\",\"red\",\"red\",\"red\",\"red\",\"red\",\"red\",\"red\",\"red\",\"red\",\"red\",\"red\",\"red\",\"blue\",\"blue\",\"blue\",\"blue\",\"blue\",\"blue\",\"blue\",\"blue\",\"blue\",\"blue\",\"blue\",\"blue\",\"blue\",\"blue\",\"blue\",\"blue\",\"blue\",\"blue\",\"blue\",\"blue\",\"blue\",\"blue\",\"blue\",\"blue\",\"blue\",\"blue\",\"blue\",\"blue\",\"blue\",\"blue\",\"blue\",\"blue\",\"blue\",\"blue\",\"blue\",\"blue\",\"blue\",\"blue\",\"blue\",\"blue\",\"blue\",\"blue\",\"blue\",\"blue\",\"blue\",\"blue\",\"blue\",\"blue\",\"blue\",\"blue\",\"orange\",\"orange\",\"orange\",\"orange\",\"orange\",\"orange\",\"orange\",\"orange\",\"orange\",\"orange\",\"orange\",\"orange\",\"orange\",\"orange\",\"orange\",\"orange\",\"orange\",\"orange\",\"orange\",\"orange\",\"orange\",\"orange\",\"orange\",\"orange\",\"orange\",\"orange\",\"orange\",\"orange\",\"orange\",\"orange\",\"orange\",\"orange\",\"orange\",\"orange\",\"orange\",\"orange\",\"orange\",\"orange\",\"orange\",\"orange\",\"orange\",\"orange\",\"orange\",\"orange\",\"orange\",\"orange\",\"orange\",\"orange\",\"orange\",\"orange\"],\"x\":[3.5,3.0,3.2,3.1,3.6,3.9,3.4,3.4,2.9,3.1,3.7,3.4,3.0,3.0,4.0,4.4,3.9,3.5,3.8,3.8,3.4,3.7,3.6,3.3,3.4,3.0,3.4,3.5,3.4,3.2,3.1,3.4,4.1,4.2,3.1,3.2,3.5,3.1,3.0,3.4,3.5,2.3,3.2,3.5,3.8,3.0,3.8,3.2,3.7,3.3,3.2,3.2,3.1,2.3,2.8,2.8,3.3,2.4,2.9,2.7,2.0,3.0,2.2,2.9,2.9,3.1,3.0,2.7,2.2,2.5,3.2,2.8,2.5,2.8,2.9,3.0,2.8,3.0,2.9,2.6,2.4,2.4,2.7,2.7,3.0,3.4,3.1,2.3,3.0,2.5,2.6,3.0,2.6,2.3,2.7,3.0,2.9,2.9,2.5,2.8,3.3,2.7,3.0,2.9,3.0,3.0,2.5,2.9,2.5,3.6,3.2,2.7,3.0,2.5,2.8,3.2,3.0,3.8,2.6,2.2,3.2,2.8,2.8,2.7,3.3,3.2,2.8,3.0,2.8,3.0,2.8,3.8,2.8,2.8,2.6,3.0,3.4,3.1,3.0,3.1,3.1,3.1,2.7,3.2,3.3,3.0,2.5,3.0,3.4,3.0],\"y\":[1.4,1.4,1.3,1.5,1.4,1.7,1.4,1.5,1.4,1.5,1.5,1.6,1.4,1.1,1.2,1.5,1.3,1.4,1.7,1.5,1.7,1.5,1.0,1.7,1.9,1.6,1.6,1.5,1.4,1.6,1.6,1.5,1.5,1.4,1.5,1.2,1.3,1.5,1.3,1.5,1.3,1.3,1.3,1.6,1.9,1.4,1.6,1.4,1.5,1.4,4.7,4.5,4.9,4.0,4.6,4.5,4.7,3.3,4.6,3.9,3.5,4.2,4.0,4.7,3.6,4.4,4.5,4.1,4.5,3.9,4.8,4.0,4.9,4.7,4.3,4.4,4.8,5.0,4.5,3.5,3.8,3.7,3.9,5.1,4.5,4.5,4.7,4.4,4.1,4.0,4.4,4.6,4.0,3.3,4.2,4.2,4.2,4.3,3.0,4.1,6.0,5.1,5.9,5.6,5.8,6.6,4.5,6.3,5.8,6.1,5.1,5.3,5.5,5.0,5.1,5.3,5.5,6.7,6.9,5.0,5.7,4.9,6.7,4.9,5.7,6.0,4.8,4.9,5.6,5.8,6.1,6.4,5.6,5.1,5.6,6.1,5.6,5.5,4.8,5.4,5.6,5.1,5.1,5.9,5.7,5.2,5.0,5.2,5.4,5.1]}},\"id\":\"c7a73d8a-d2e8-49c2-bfcf-13fb53eec9b0\",\"type\":\"ColumnDataSource\"},{\"attributes\":{\"line_alpha\":{\"value\":0.1},\"line_color\":{\"value\":\"#1f77b4\"},\"x\":{\"field\":\"x\"},\"y\":{\"field\":\"y\"}},\"id\":\"d5972d51-59d9-4331-b827-afeda65e26a7\",\"type\":\"Line\"},{\"attributes\":{},\"id\":\"db65a9ae-428f-4e05-988d-9b5e36e26090\",\"type\":\"BasicTicker\"},{\"attributes\":{\"plot\":{\"id\":\"b0a387bb-ddd0-4e21-99f7-6872f735ddb9\",\"subtype\":\"Figure\",\"type\":\"Plot\"}},\"id\":\"9be7969a-7ce6-487f-8521-7bd36af0be09\",\"type\":\"WheelZoomTool\"},{\"attributes\":{\"plot\":{\"id\":\"b0a387bb-ddd0-4e21-99f7-6872f735ddb9\",\"subtype\":\"Figure\",\"type\":\"Plot\"}},\"id\":\"ceeaa880-a404-4abe-a550-6deb1873633d\",\"type\":\"ResetTool\"},{\"attributes\":{\"plot\":{\"id\":\"6cae5d1e-e7b6-4ac2-93ea-9519243f0140\",\"subtype\":\"Figure\",\"type\":\"Plot\"},\"ticker\":{\"id\":\"7eebe605-b74d-4a32-8912-1f720990dcbb\",\"type\":\"BasicTicker\"}},\"id\":\"e3adb8c3-9926-4dc2-a6b3-296ace08a888\",\"type\":\"Grid\"},{\"attributes\":{\"formatter\":{\"id\":\"e6f8e69a-7250-4a1c-a0fb-13bc3b0440f9\",\"type\":\"BasicTickFormatter\"},\"plot\":{\"id\":\"6cae5d1e-e7b6-4ac2-93ea-9519243f0140\",\"subtype\":\"Figure\",\"type\":\"Plot\"},\"ticker\":{\"id\":\"7eebe605-b74d-4a32-8912-1f720990dcbb\",\"type\":\"BasicTicker\"}},\"id\":\"20a98869-6a03-4339-b250-7b9e9f55c629\",\"type\":\"LinearAxis\"},{\"attributes\":{\"fill_alpha\":{\"value\":0.1},\"fill_color\":{\"value\":\"#1f77b4\"},\"line_alpha\":{\"value\":0.1},\"line_color\":{\"value\":\"#1f77b4\"},\"size\":{\"units\":\"screen\",\"value\":5},\"x\":{\"field\":\"x\"},\"y\":{\"field\":\"y\"}},\"id\":\"3e0e8362-ac97-4a2c-9079-e30e82d3523d\",\"type\":\"Circle\"},{\"attributes\":{\"fill_alpha\":{\"value\":0.1},\"fill_color\":{\"value\":\"#1f77b4\"},\"line_alpha\":{\"value\":0.1},\"line_color\":{\"value\":\"#1f77b4\"},\"size\":{\"units\":\"screen\",\"value\":100},\"x\":{\"field\":\"x\"},\"y\":{\"field\":\"y\"}},\"id\":\"8c8feb71-ccbb-4517-ad73-cb6febc02e48\",\"type\":\"Circle\"},{\"attributes\":{\"callback\":null},\"id\":\"099029d7-1f9b-48e4-b297-0394354f42b8\",\"type\":\"DataRange1d\"},{\"attributes\":{\"plot\":{\"id\":\"9f2f754f-ff68-40f1-82f8-ebf33f44863e\",\"subtype\":\"Figure\",\"type\":\"Plot\"},\"ticker\":{\"id\":\"c81a2147-bd6d-4ae5-9f2a-1daaa3dac064\",\"type\":\"BasicTicker\"}},\"id\":\"7d6bfebd-253f-43b4-b7c8-efd16064ae11\",\"type\":\"Grid\"},{\"attributes\":{},\"id\":\"9412106f-413e-4a20-b7b1-71ca35bd4cb3\",\"type\":\"ToolEvents\"},{\"attributes\":{\"legends\":[[\"2 Features (X and Y)\",[{\"id\":\"e7bbb7f1-6e74-465f-b485-d63473334155\",\"type\":\"GlyphRenderer\"}]],[\"8 Fautures\",[{\"id\":\"5e48a2b5-4647-4d90-9a58-086857ce709a\",\"type\":\"GlyphRenderer\"}]]],\"plot\":{\"id\":\"d2290a20-a191-498f-be5c-d9d513c8985b\",\"subtype\":\"Figure\",\"type\":\"Plot\"}},\"id\":\"25cfc7fe-b402-4f53-825e-cd7c59a0fef4\",\"type\":\"Legend\"},{\"attributes\":{\"line_color\":{\"value\":\"#1f77b4\"},\"x\":{\"field\":\"x\"},\"y\":{\"field\":\"y\"}},\"id\":\"16406767-4c0d-46d4-a19c-f18d6e0b845d\",\"type\":\"Line\"},{\"attributes\":{\"callback\":null,\"column_names\":[\"y\",\"x\"],\"data\":{\"x\":[2,3,4,5,6,7,8,9,10,11,12,13,14,15],\"y\":[0.7388765072447795,0.5930654335605791,0.560474768702901,0.4422211986873765,0.3982885071528618,0.38292258085827646,0.39661807684162803,0.3829718171420197,0.3857368661469776,0.3827265586754154,0.3814759688253716,0.3667361230800117,0.3598492582130101,0.3743911416995975]}},\"id\":\"49b32819-01d9-4241-a5b0-7009099dc0a3\",\"type\":\"ColumnDataSource\"},{\"attributes\":{\"data_source\":{\"id\":\"b320a882-e99e-4439-bb10-b9a821706aee\",\"type\":\"ColumnDataSource\"},\"glyph\":{\"id\":\"16406767-4c0d-46d4-a19c-f18d6e0b845d\",\"type\":\"Line\"},\"hover_glyph\":null,\"nonselection_glyph\":{\"id\":\"c0a35be5-2dea-4b0a-9639-34cae0f43121\",\"type\":\"Line\"},\"selection_glyph\":null},\"id\":\"b5337b91-827f-42e8-926b-27d1f1538300\",\"type\":\"GlyphRenderer\"},{\"attributes\":{\"callback\":null},\"id\":\"348ed8e6-6d5b-422c-ad3b-a120506864df\",\"type\":\"DataRange1d\"},{\"attributes\":{\"callback\":null},\"id\":\"b285a1e1-92c4-4d83-b2cb-a5ff31e366b6\",\"type\":\"DataRange1d\"},{\"attributes\":{\"dimension\":1,\"plot\":{\"id\":\"47fdee04-5a93-46b7-9175-d70b93fd8948\",\"subtype\":\"Figure\",\"type\":\"Plot\"},\"ticker\":{\"id\":\"a6748004-bbc0-49b2-b644-f847640fa304\",\"type\":\"BasicTicker\"}},\"id\":\"cd43fa18-5a87-4bd2-99fe-9d448dcda2c8\",\"type\":\"Grid\"}],\"root_ids\":[\"9f2f754f-ff68-40f1-82f8-ebf33f44863e\",\"47fdee04-5a93-46b7-9175-d70b93fd8948\",\"f7797f50-c2c1-4fa2-863d-c7bab6253d6f\",\"b0a387bb-ddd0-4e21-99f7-6872f735ddb9\",\"6cae5d1e-e7b6-4ac2-93ea-9519243f0140\",\"d2290a20-a191-498f-be5c-d9d513c8985b\"]},\"title\":\"Bokeh Application\",\"version\":\"0.11.1\"}};\n",
       "            var render_items = [{\"docid\":\"d61d776f-9249-4a90-84c6-9904eebbc783\",\"elementid\":\"e01239a8-9512-45ac-9518-eda40877fd66\",\"modelid\":\"d2290a20-a191-498f-be5c-d9d513c8985b\",\"notebook_comms_target\":\"f5403386-a80a-4faf-ad9b-2f090c75024a\"}];\n",
       "            \n",
       "            Bokeh.embed.embed_items(docs_json, render_items);\n",
       "        });\n",
       "      },\n",
       "      function(Bokeh) {\n",
       "      }\n",
       "    ];\n",
       "  \n",
       "    function run_inline_js() {\n",
       "      for (var i = 0; i < inline_js.length; i++) {\n",
       "        inline_js[i](window.Bokeh);\n",
       "      }\n",
       "    }\n",
       "  \n",
       "    if (window._bokeh_is_loading === 0) {\n",
       "      console.log(\"Bokeh: BokehJS loaded, going straight to plotting\");\n",
       "      run_inline_js();\n",
       "    } else {\n",
       "      load_libs(js_urls, function() {\n",
       "        console.log(\"Bokeh: BokehJS plotting callback run at\", now());\n",
       "        run_inline_js();\n",
       "      });\n",
       "    }\n",
       "  }(this));\n",
       "</script>"
      ]
     },
     "metadata": {},
     "output_type": "display_data"
    },
    {
     "data": {
      "text/html": [
       "<p><code>&lt;Bokeh Notebook handle for <strong>In[18]</strong>&gt;</code></p>"
      ],
      "text/plain": [
       "<bokeh.io._CommsHandle at 0x114bc7f50>"
      ]
     },
     "execution_count": 18,
     "metadata": {},
     "output_type": "execute_result"
    }
   ],
   "source": [
    "new_X = forest_fires.drop(['month','day','wind','rain','area'],1)\n",
    "\n",
    "cluster_centers_cod = {}\n",
    "cluster_membership_cod = {}\n",
    "s_cod = {}\n",
    "\n",
    "for cluster_count in range(2,16):\n",
    "    km_forest_cod = KMeans(n_clusters=cluster_count)\n",
    "    cluster_membership_cod[cluster_count] = km_forest_cod.fit_predict(new_X)\n",
    "    cluster_centers_cod[cluster_count] =  km_forest_cod.cluster_centers_\n",
    "    s_cod[cluster_count] = silhouette_score(new_X,\n",
    "                                            cluster_membership_cod[cluster_count],\n",
    "                                            metric='euclidean'\n",
    "                                           )\n",
    "    print cluster_count, s_cod[cluster_count]\n",
    "    \n",
    "p = figure(title=\"Silhouette Score for different clusters\",tools='')\n",
    "p.line(x=range(2,16),y=s.values(),line_color='blue',legend='2 Features (X and Y)')\n",
    "p.line(x=range(2,16),y=s_cod.values(),line_color='green',legend='8 Fautures')\n",
    "\n",
    "show(p)"
   ]
  },
  {
   "cell_type": "code",
   "execution_count": null,
   "metadata": {
    "collapsed": true
   },
   "outputs": [],
   "source": []
  }
 ],
 "metadata": {
  "kernelspec": {
   "display_name": "Python 2",
   "language": "python",
   "name": "python2"
  },
  "language_info": {
   "codemirror_mode": {
    "name": "ipython",
    "version": 2
   },
   "file_extension": ".py",
   "mimetype": "text/x-python",
   "name": "python",
   "nbconvert_exporter": "python",
   "pygments_lexer": "ipython2",
   "version": "2.7.12"
  }
 },
 "nbformat": 4,
 "nbformat_minor": 0
}
