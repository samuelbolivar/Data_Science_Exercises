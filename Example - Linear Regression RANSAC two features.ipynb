{
 "cells": [
  {
   "cell_type": "code",
   "execution_count": 1,
   "metadata": {
    "collapsed": true
   },
   "outputs": [],
   "source": [
    "import sklearn.linear_model"
   ]
  },
  {
   "cell_type": "code",
   "execution_count": 2,
   "metadata": {
    "collapsed": true
   },
   "outputs": [],
   "source": [
    "%matplotlib inline\n",
    "import pandas\n",
    "import matplotlib.pyplot"
   ]
  },
  {
   "cell_type": "code",
   "execution_count": 3,
   "metadata": {
    "collapsed": false
   },
   "outputs": [],
   "source": [
    "trains = pandas.read_csv('../../data/sydtrains.csv', thousands='.', index_col='STATION')"
   ]
  },
  {
   "cell_type": "code",
   "execution_count": 4,
   "metadata": {
    "collapsed": true
   },
   "outputs": [],
   "source": [
    "trains2014 = trains[trains.YEAR == 2014]"
   ]
  },
  {
   "cell_type": "code",
   "execution_count": 5,
   "metadata": {
    "collapsed": false
   },
   "outputs": [
    {
     "data": {
      "text/plain": [
       "Index([u'LINE', u'YEAR', u'SURVEY_DATE_USED', u'WHETHER_SURVEYED',\n",
       "       u'IN_0200_0600', u'OUT_0200_0600', u'IN_0600_0930', u'OUT_0600_0930',\n",
       "       u'IN_0930_1500', u'OUT_0930_1500', u'IN_1500_1830', u'OUT_1500_1830',\n",
       "       u'IN_1830_0200', u'OUT_1830_0200', u'IN_24_HOURS', u'OUT_24_HOURS',\n",
       "       u'RANK', u'STATION_SORT_ID'],\n",
       "      dtype='object')"
      ]
     },
     "execution_count": 5,
     "metadata": {},
     "output_type": "execute_result"
    }
   ],
   "source": [
    "trains2014.columns"
   ]
  },
  {
   "cell_type": "code",
   "execution_count": 6,
   "metadata": {
    "collapsed": false
   },
   "outputs": [],
   "source": [
    "scatter_data_in = trains2014.loc[:, [\"IN_1500_1830\" , \"IN_1830_0200\",  \"OUT_0600_0930\"]]"
   ]
  },
  {
   "cell_type": "code",
   "execution_count": 7,
   "metadata": {
    "collapsed": false
   },
   "outputs": [
    {
     "data": {
      "text/plain": [
       "array([[<matplotlib.axes._subplots.AxesSubplot object at 0x114ffb310>,\n",
       "        <matplotlib.axes._subplots.AxesSubplot object at 0x114d66890>,\n",
       "        <matplotlib.axes._subplots.AxesSubplot object at 0x11472be50>],\n",
       "       [<matplotlib.axes._subplots.AxesSubplot object at 0x115038f90>,\n",
       "        <matplotlib.axes._subplots.AxesSubplot object at 0x1150bbe10>,\n",
       "        <matplotlib.axes._subplots.AxesSubplot object at 0x115263790>],\n",
       "       [<matplotlib.axes._subplots.AxesSubplot object at 0x1152e7710>,\n",
       "        <matplotlib.axes._subplots.AxesSubplot object at 0x11544c4d0>,\n",
       "        <matplotlib.axes._subplots.AxesSubplot object at 0x1154cd690>]], dtype=object)"
      ]
     },
     "execution_count": 7,
     "metadata": {},
     "output_type": "execute_result"
    },
    {
     "data": {
      "image/png": "[encoded data removed]",
      "text/plain": [
       "<matplotlib.figure.Figure at 0x1146dd910>"
      ]
     },
     "metadata": {},
     "output_type": "display_data"
    }
   ],
   "source": [
    "pandas.scatter_matrix(scatter_data_in)"
   ]
  },
  {
   "cell_type": "code",
   "execution_count": 8,
   "metadata": {
    "collapsed": false
   },
   "outputs": [],
   "source": [
    "people_in_the_am = trains2014.loc[:, [\"OUT_0600_0930\", \"OUT_0930_1500\"]]"
   ]
  },
  {
   "cell_type": "code",
   "execution_count": 9,
   "metadata": {
    "collapsed": true
   },
   "outputs": [],
   "source": [
    "people_in_the_pm = trains2014.IN_1500_1830"
   ]
  },
  {
   "cell_type": "code",
   "execution_count": 10,
   "metadata": {
    "collapsed": true
   },
   "outputs": [],
   "source": [
    "regressor = sklearn.linear_model.RANSACRegressor(max_trials=10000)"
   ]
  },
  {
   "cell_type": "code",
   "execution_count": 11,
   "metadata": {
    "collapsed": false
   },
   "outputs": [
    {
     "name": "stderr",
     "output_type": "stream",
     "text": [
      "/Users/samuelbolivar/anaconda/lib/python2.7/site-packages/scipy/linalg/basic.py:884: RuntimeWarning: internal gelsd driver lwork query error, required iwork dimension not returned. This is likely the result of LAPACK bug 0038, fixed in LAPACK 3.2.2 (released July 21, 2010). Falling back to 'gelss' driver.\n",
      "  warnings.warn(mesg, RuntimeWarning)\n"
     ]
    },
    {
     "data": {
      "text/plain": [
       "RANSACRegressor(base_estimator=None, is_data_valid=None, is_model_valid=None,\n",
       "        max_trials=10000, min_samples=None, random_state=None,\n",
       "        residual_metric=None, residual_threshold=None, stop_n_inliers=inf,\n",
       "        stop_probability=0.99, stop_score=inf)"
      ]
     },
     "execution_count": 11,
     "metadata": {},
     "output_type": "execute_result"
    }
   ],
   "source": [
    "regressor.fit(people_in_the_am, people_in_the_pm)"
   ]
  },
  {
   "cell_type": "code",
   "execution_count": 12,
   "metadata": {
    "collapsed": true
   },
   "outputs": [],
   "source": [
    "predictions_for_pm = regressor.predict(people_in_the_am)"
   ]
  },
  {
   "cell_type": "code",
   "execution_count": 13,
   "metadata": {
    "collapsed": false
   },
   "outputs": [
    {
     "data": {
      "text/plain": [
       "array([  4.70874992e+04,   4.63223073e+04,   3.96070575e+04,\n",
       "         1.45587321e+04,   1.84441579e+04,   1.20994261e+04,\n",
       "         8.91141682e+03,   5.27012829e+03,   4.81457125e+03,\n",
       "         9.90852994e+03,   1.40751241e+04,   3.17180652e+03,\n",
       "         9.11108796e+03,   4.04986288e+03,   3.70464555e+03,\n",
       "         4.25017509e+03,   2.73448212e+03,   2.45714395e+03,\n",
       "         3.36997706e+03,   2.09473432e+03,   2.44141466e+03,\n",
       "         6.43718010e+03,   1.88995793e+03,   4.04639435e+03,\n",
       "         6.00953792e+03,   1.30907863e+03,   1.75541369e+03,\n",
       "         2.36903372e+03,   2.70792460e+03,   1.79305548e+03,\n",
       "         1.85110206e+03,   2.71346673e+03,   1.91598004e+03,\n",
       "         1.09136281e+03,   2.12972950e+03,   3.58476688e+03,\n",
       "         1.24992363e+03,   2.32092539e+03,   1.59968033e+03,\n",
       "         1.12878616e+03,   1.30389819e+03,   2.48155980e+03,\n",
       "         1.97499179e+03,   1.36569980e+03,   1.34436032e+03,\n",
       "         1.15470261e+03,   2.89533497e+03,   1.23948756e+03,\n",
       "         1.84016816e+03,   1.03699609e+03,   9.35591861e+02,\n",
       "         1.17068081e+03,   9.01064031e+02,   6.79593176e+02,\n",
       "         9.04600631e+02,   9.91888935e+02,   8.02087979e+02,\n",
       "         3.92603263e+02,   5.12345796e+02,   5.12632300e+02,\n",
       "         4.83036002e+02,   2.33525975e+03,   7.07937796e+02,\n",
       "         7.96153682e+02,   2.08340826e+03,   1.14137102e+03,\n",
       "         7.63412949e+02,   9.82093943e+02,   4.48221668e+02,\n",
       "         1.10752186e+03,   5.91912707e+02,   5.21854284e+02,\n",
       "         3.01635107e+02,   8.38297243e+02,   9.32696339e+02,\n",
       "         8.31005608e+02,   8.30862355e+02,   2.42050345e+02,\n",
       "         9.17147894e+02,   5.69072627e+02,   7.91508656e+02,\n",
       "         4.86753446e+02,   8.57027715e+02,   7.65486549e+02,\n",
       "         9.33412600e+02,   3.71836783e+02,   1.33295907e+03,\n",
       "         4.89935472e+02,   4.48078416e+02,   2.63103330e+02,\n",
       "         4.65557209e+02,   2.94343472e+02,   4.71491505e+02,\n",
       "         5.58598965e+02,   5.11667126e+02,   4.11476987e+02,\n",
       "         5.45267373e+02,   2.52916172e+02,   2.52916172e+02,\n",
       "         2.00479793e+02,   5.07557517e+02,   3.32196579e+02,\n",
       "         3.02600281e+02,   2.41085171e+02,   6.47674365e+02,\n",
       "         5.17458170e+02,   5.42371851e+02,   3.23939770e+02,\n",
       "         7.63412949e+02,   2.53881346e+02,   2.70394965e+02,\n",
       "         2.99026089e+02,   3.69084513e+02,   5.17744675e+02,\n",
       "         2.49055476e+02,   2.24428300e+02,   3.23796518e+02,\n",
       "         5.04661995e+02,   4.23451240e+02,   6.32804590e+02,\n",
       "         3.00813185e+02,   3.67154165e+02,   4.07902795e+02,\n",
       "         1.93044906e+02,   2.24428300e+02,   7.81034994e+02,\n",
       "         1.93044906e+02,   5.24214388e+02,   2.43158771e+02,\n",
       "         3.31374658e+02,   2.56633616e+02,   4.27704101e+02,\n",
       "         9.82561291e+02,   5.12383387e+02,   3.48174781e+02,\n",
       "         6.34199520e+02,   1.57265398e+02,   5.67572036e+02,\n",
       "         4.72743184e+02,   2.72468565e+02,   4.90221977e+02,\n",
       "         6.37095042e+02,   2.20854108e+02,   1.01111576e+02,\n",
       "         1.49830511e+02,   2.15206317e+02,   3.53536068e+02,\n",
       "         1.78461635e+02,   1.55478302e+02,   3.61114208e+02,\n",
       "         1.66487382e+02,   2.71646644e+02,   3.52857399e+02,\n",
       "         4.74387027e+02,   7.89501650e+01,   1.00146402e+02,\n",
       "         1.43504049e+02,   2.29110918e+02,   1.59195746e+02,\n",
       "         3.40453389e+02,   5.38940911e+02,   6.61539900e+01,\n",
       "         1.83144253e+02,   1.56443476e+02,   1.61804764e+02,\n",
       "         2.45767789e+02,   7.71630692e+01,   1.62913190e+02,\n",
       "         2.74789604e+01,   2.32149692e+02,   3.29835000e+01,\n",
       "         2.88303515e+02,   2.52380755e+02,   1.84931349e+02,\n",
       "         6.89062598e+01,   2.19744207e+01,   1.24238161e+02,\n",
       "         3.06747482e+02,   9.91812277e+01,   1.60982842e+02,\n",
       "         1.26990430e+02,   9.28547663e+01,   1.79570061e+02,\n",
       "         3.94532136e+01,   3.39486740e+01,   9.93244800e+01,\n",
       "         4.67448490e+01,   9.28547663e+01,   3.94532136e+01,\n",
       "         1.85074601e+02,   3.94532136e+01,   9.18895923e+01,\n",
       "         1.02076750e+02,   5.41797367e+01,   3.02312302e+01,\n",
       "         5.87191023e+01,   1.10476811e+02,   5.41797367e+01,\n",
       "         8.28108611e+01,   9.47851143e+01,   1.64698811e+01,\n",
       "         8.73502267e+01,   3.94532136e+01,   7.53759734e+01,\n",
       "         3.02312302e+01,   3.39486740e+01,   6.34017202e+01,\n",
       "         1.52869285e+02,   3.29835000e+01,   1.82569769e+01,\n",
       "         1.01254828e+02,   6.61539900e+01,   5.59668325e+01,\n",
       "         5.04622929e+01,   5.78971805e+01,   5.41797367e+01,\n",
       "         1.55047071e+01,   1.02220002e+02,   4.86751971e+01,\n",
       "         2.19744207e+01,   1.28920778e+02,   3.94532136e+01,\n",
       "         5.51449107e+01,   3.39486740e+01,   4.96403711e+01,\n",
       "         1.27524373e+01,   7.24789766e+00,   1.27524373e+01,\n",
       "         4.49562784e+00,   9.03499345e+00,   3.29835000e+01,\n",
       "         2.74789604e+01,   1.00001675e+01,   5.23926409e+01,\n",
       "         4.49562784e+00,   7.78184014e-01,  -1.97408580e+00,\n",
       "         7.78184014e-01,   3.49138480e+01,   1.92221509e+01,\n",
       "         7.24789766e+00,  -1.97408580e+00,   7.24789766e+00,\n",
       "         4.96403711e+01,   4.49562784e+00,   4.68881013e+01,\n",
       "        -4.72635561e+00,   1.64698811e+01,   5.98275286e+01,\n",
       "         7.24789766e+00,   1.27524373e+01,   7.24789766e+00,\n",
       "        -7.47862542e+00,   1.92221509e+01,  -1.97408580e+00,\n",
       "        -1.97408580e+00,   4.13835617e+01,   7.24789766e+00,\n",
       "         1.00001675e+01,  -1.97408580e+00,   7.24789766e+00,\n",
       "         3.21615782e+01,   1.74335803e+00,  -1.97408580e+00,\n",
       "         1.37176113e+01,   4.49562784e+00,  -1.97408580e+00,\n",
       "         4.49562784e+00,  -7.47862542e+00,   1.09653415e+01,\n",
       "        -4.72635561e+00,  -7.47862542e+00,   4.49562784e+00,\n",
       "        -4.72635561e+00,  -4.72635561e+00,  -7.47862542e+00,\n",
       "         1.37176113e+01,  -7.47862542e+00,  -4.72635561e+00,\n",
       "         1.74335803e+00,  -7.47862542e+00,  -7.47862542e+00,\n",
       "        -7.47862542e+00,  -7.47862542e+00,  -7.47862542e+00,\n",
       "        -7.47862542e+00,  -7.47862542e+00,  -4.72635561e+00,\n",
       "        -7.47862542e+00,  -7.47862542e+00,  -4.72635561e+00,\n",
       "        -7.47862542e+00,  -7.47862542e+00,  -7.47862542e+00,\n",
       "        -7.47862542e+00,  -7.47862542e+00,  -7.47862542e+00,\n",
       "        -7.47862542e+00,  -7.47862542e+00,  -7.47862542e+00,\n",
       "        -7.47862542e+00,  -7.47862542e+00,  -7.47862542e+00,\n",
       "        -7.47862542e+00,  -7.47862542e+00,  -7.47862542e+00,\n",
       "        -7.47862542e+00,  -7.47862542e+00])"
      ]
     },
     "execution_count": 13,
     "metadata": {},
     "output_type": "execute_result"
    }
   ],
   "source": [
    "predictions_for_pm"
   ]
  },
  {
   "cell_type": "code",
   "execution_count": 14,
   "metadata": {
    "collapsed": false
   },
   "outputs": [
    {
     "data": {
      "text/plain": [
       "[<matplotlib.lines.Line2D at 0x1154fad90>]"
      ]
     },
     "execution_count": 14,
     "metadata": {},
     "output_type": "execute_result"
    },
    {
     "data": {
      "image/png": "[encoded data removed]",
      "text/plain": [
       "<matplotlib.figure.Figure at 0x11583b550>"
      ]
     },
     "metadata": {},
     "output_type": "display_data"
    }
   ],
   "source": [
    "matplotlib.pyplot.scatter(trains2014.OUT_0600_0930 + trains2014.OUT_0930_1500, trains2014.IN_1500_1830)\n",
    "matplotlib.pyplot.plot(trains2014.OUT_0600_0930 + trains2014.OUT_0930_1500, predictions_for_pm, color='red')"
   ]
  },
  {
   "cell_type": "code",
   "execution_count": 15,
   "metadata": {
    "collapsed": false
   },
   "outputs": [
    {
     "data": {
      "text/plain": [
       "LinearRegression(copy_X=True, fit_intercept=True, n_jobs=1, normalize=False)"
      ]
     },
     "execution_count": 15,
     "metadata": {},
     "output_type": "execute_result"
    }
   ],
   "source": [
    "regressor.estimator_"
   ]
  },
  {
   "cell_type": "code",
   "execution_count": 16,
   "metadata": {
    "collapsed": false
   },
   "outputs": [
    {
     "data": {
      "text/plain": [
       "array([ 0.92219835,  0.27522698])"
      ]
     },
     "execution_count": 16,
     "metadata": {},
     "output_type": "execute_result"
    }
   ],
   "source": [
    "regressor.estimator_.coef_"
   ]
  },
  {
   "cell_type": "code",
   "execution_count": 17,
   "metadata": {
    "collapsed": false
   },
   "outputs": [
    {
     "data": {
      "text/plain": [
       "-7.4786254224237609"
      ]
     },
     "execution_count": 17,
     "metadata": {},
     "output_type": "execute_result"
    }
   ],
   "source": [
    "regressor.estimator_.intercept_"
   ]
  },
  {
   "cell_type": "code",
   "execution_count": null,
   "metadata": {
    "collapsed": true
   },
   "outputs": [],
   "source": []
  }
 ],
 "metadata": {
  "kernelspec": {
   "display_name": "Python 2",
   "language": "python",
   "name": "python2"
  },
  "language_info": {
   "codemirror_mode": {
    "name": "ipython",
    "version": 2
   },
   "file_extension": ".py",
   "mimetype": "text/x-python",
   "name": "python",
   "nbconvert_exporter": "python",
   "pygments_lexer": "ipython2",
   "version": "2.7.12"
  }
 },
 "nbformat": 4,
 "nbformat_minor": 0
}
