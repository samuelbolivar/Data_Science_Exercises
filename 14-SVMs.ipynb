{
 "cells": [
  {
   "cell_type": "markdown",
   "metadata": {},
   "source": [
    "# Lab 14 SVMs: Illuminating Advanced Classifiers\n",
    "\n",
    "Justin Breucop\n",
    "\n",
    "Today we'll cover Support Vector Machines: linear vs. rbf"
   ]
  },
  {
   "cell_type": "markdown",
   "metadata": {},
   "source": [
    "## SVMs\n",
    "\n",
    "Support vector machines are powerful tools for performing analysis, built on the theory that there is a higher dimension where data can be seperated (via an appropriate hyperplane for that dimension).\n",
    "\n",
    "As always, we'll import our standard packages, as well as two new ones: svm.SVC & tree.DecisionTreeClassifier. SVC stands for Support Vector Classification. There is an SVR class as well but that is for using SVMs in regression, which is out of scope for this lab."
   ]
  },
  {
   "cell_type": "code",
   "execution_count": 1,
   "metadata": {
    "collapsed": false
   },
   "outputs": [
    {
     "data": {
      "text/html": [
       "\n",
       "    <div class=\"bk-banner\">\n",
       "        <a href=\"http://bokeh.pydata.org\" target=\"_blank\" class=\"bk-logo bk-logo-small bk-logo-notebook\"></a>\n",
       "        <span id=\"81d86e64-9c20-4074-94b4-a2abef267183\">Loading BokehJS ...</span>\n",
       "    </div>"
      ]
     },
     "metadata": {},
     "output_type": "display_data"
    },
    {
     "data": {
      "application/javascript": [
       "\n",
       "(function(global) {\n",
       "  function now() {\n",
       "    return new Date();\n",
       "  }\n",
       "\n",
       "  if (typeof (window._bokeh_onload_callbacks) === \"undefined\") {\n",
       "    window._bokeh_onload_callbacks = [];\n",
       "  }\n",
       "\n",
       "  function run_callbacks() {\n",
       "    window._bokeh_onload_callbacks.forEach(function(callback) { callback() });\n",
       "    delete window._bokeh_onload_callbacks\n",
       "    console.info(\"Bokeh: all callbacks have finished\");\n",
       "  }\n",
       "\n",
       "  function load_libs(js_urls, callback) {\n",
       "    window._bokeh_onload_callbacks.push(callback);\n",
       "    if (window._bokeh_is_loading > 0) {\n",
       "      console.log(\"Bokeh: BokehJS is being loaded, scheduling callback at\", now());\n",
       "      return null;\n",
       "    }\n",
       "    if (js_urls == null || js_urls.length === 0) {\n",
       "      run_callbacks();\n",
       "      return null;\n",
       "    }\n",
       "    console.log(\"Bokeh: BokehJS not loaded, scheduling load and callback at\", now());\n",
       "    window._bokeh_is_loading = js_urls.length;\n",
       "    for (var i = 0; i < js_urls.length; i++) {\n",
       "      var url = js_urls[i];\n",
       "      var s = document.createElement('script');\n",
       "      s.src = url;\n",
       "      s.async = false;\n",
       "      s.onreadystatechange = s.onload = function() {\n",
       "        window._bokeh_is_loading--;\n",
       "        if (window._bokeh_is_loading === 0) {\n",
       "          console.log(\"Bokeh: all BokehJS libraries loaded\");\n",
       "          run_callbacks()\n",
       "        }\n",
       "      };\n",
       "      s.onerror = function() {\n",
       "        console.warn(\"failed to load library \" + url);\n",
       "      };\n",
       "      console.log(\"Bokeh: injecting script tag for BokehJS library: \", url);\n",
       "      document.getElementsByTagName(\"head\")[0].appendChild(s);\n",
       "    }\n",
       "  };\n",
       "\n",
       "  var js_urls = ['https://cdn.pydata.org/bokeh/release/bokeh-0.11.1.min.js', 'https://cdn.pydata.org/bokeh/release/bokeh-widgets-0.11.1.min.js', 'https://cdn.pydata.org/bokeh/release/bokeh-compiler-0.11.1.min.js'];\n",
       "\n",
       "  var inline_js = [\n",
       "    function(Bokeh) {\n",
       "      Bokeh.set_log_level(\"info\");\n",
       "    },\n",
       "    \n",
       "    function(Bokeh) {\n",
       "      Bokeh.$(\"#81d86e64-9c20-4074-94b4-a2abef267183\").text(\"BokehJS successfully loaded\");\n",
       "    },\n",
       "    function(Bokeh) {\n",
       "      console.log(\"Bokeh: injecting CSS: https://cdn.pydata.org/bokeh/release/bokeh-0.11.1.min.css\");\n",
       "      Bokeh.embed.inject_css(\"https://cdn.pydata.org/bokeh/release/bokeh-0.11.1.min.css\");\n",
       "      console.log(\"Bokeh: injecting CSS: https://cdn.pydata.org/bokeh/release/bokeh-widgets-0.11.1.min.css\");\n",
       "      Bokeh.embed.inject_css(\"https://cdn.pydata.org/bokeh/release/bokeh-widgets-0.11.1.min.css\");\n",
       "    }\n",
       "  ];\n",
       "\n",
       "  function run_inline_js() {\n",
       "    for (var i = 0; i < inline_js.length; i++) {\n",
       "      inline_js[i](window.Bokeh);\n",
       "    }\n",
       "  }\n",
       "\n",
       "  if (window._bokeh_is_loading === 0) {\n",
       "    console.log(\"Bokeh: BokehJS loaded, going straight to plotting\");\n",
       "    run_inline_js();\n",
       "  } else {\n",
       "    load_libs(js_urls, function() {\n",
       "      console.log(\"Bokeh: BokehJS plotting callback run at\", now());\n",
       "      run_inline_js();\n",
       "    });\n",
       "  }\n",
       "}(this));"
      ]
     },
     "metadata": {},
     "output_type": "display_data"
    }
   ],
   "source": [
    "import numpy as np\n",
    "import pandas as pd\n",
    "\n",
    "from sklearn.svm import SVC\n",
    "from sklearn.tree import DecisionTreeClassifier\n",
    "from sklearn.preprocessing import OneHotEncoder\n",
    "from sklearn.metrics import classification_report\n",
    "from sklearn.cross_validation import ShuffleSplit\n",
    "\n",
    "from bokeh.plotting import figure,show,output_notebook\n",
    "output_notebook()\n",
    "\n",
    "%matplotlib inline"
   ]
  },
  {
   "cell_type": "markdown",
   "metadata": {},
   "source": [
    "An SVM can also be used for categorical data. Because SVMs are more complex than most classification algorithms we've seen, there are many more parameters to tune and options to set for the SVC. Sklearn SVC documentation:\n",
    "\n",
    "http://scikit-learn.org/stable/modules/generated/sklearn.svm.SVC.html#sklearn.svm.SVC\n",
    "\n",
    "### Load the data!\n",
    "To demonstrate these classifiers clearly, we will use the Iris dataset again"
   ]
  },
  {
   "cell_type": "code",
   "execution_count": 2,
   "metadata": {
    "collapsed": false
   },
   "outputs": [],
   "source": [
    "from sklearn import datasets\n",
    "\n",
    "# import some data to play with\n",
    "iris_port = datasets.load_iris()\n",
    "iris = pd.DataFrame(iris_port.data,columns=iris_port.feature_names)\n",
    "y = iris_port.target\n",
    "X = iris"
   ]
  },
  {
   "cell_type": "code",
   "execution_count": 3,
   "metadata": {
    "collapsed": false
   },
   "outputs": [],
   "source": [
    "index = range(0,len(X))\n",
    "np.random.shuffle(index)\n",
    "train = index[:len(X)*3/5]\n",
    "test = index[len(X)*3/5:]"
   ]
  },
  {
   "cell_type": "code",
   "execution_count": 4,
   "metadata": {
    "collapsed": false,
    "scrolled": false
   },
   "outputs": [
    {
     "name": "stdout",
     "output_type": "stream",
     "text": [
      "             precision    recall  f1-score   support\n",
      "\n",
      "          0       1.00      1.00      1.00        16\n",
      "          1       0.92      0.96      0.94        24\n",
      "          2       0.95      0.90      0.92        20\n",
      "\n",
      "avg / total       0.95      0.95      0.95        60\n",
      "\n"
     ]
    }
   ],
   "source": [
    "model = SVC(kernel='linear',C=1).fit(X.iloc[train],y[train])\n",
    "print classification_report(y[test],model.predict(X.iloc[test]))"
   ]
  },
  {
   "cell_type": "markdown",
   "metadata": {},
   "source": [
    "The linear kernel has a coef\\_ attribute we can use to plot our features. The coefficients are provided in the order of the classifier target (row 1 corresponds to target 1, etc.)\n",
    "\n",
    "We'll be able to visually see how important each feature is to our model."
   ]
  },
  {
   "cell_type": "code",
   "execution_count": 5,
   "metadata": {
    "collapsed": false
   },
   "outputs": [],
   "source": [
    "names = iris_port.target_names"
   ]
  },
  {
   "cell_type": "code",
   "execution_count": 6,
   "metadata": {
    "collapsed": false
   },
   "outputs": [
    {
     "data": {
      "text/plain": [
       "{'setosa': [0.0096304177203458963,\n",
       "  0.53760771538505048,\n",
       "  -0.82697150618737991,\n",
       "  -0.38199630459442924],\n",
       " 'versicolor': [-0.15228426789115657,\n",
       "  0.13536379368102813,\n",
       "  -0.49069375209372701,\n",
       "  -0.23688663894179923],\n",
       " 'virginica': [-0.058117116664803348,\n",
       "  0.43927633441967373,\n",
       "  -1.5281343626024011,\n",
       "  -1.7967773205978155]}"
      ]
     },
     "execution_count": 6,
     "metadata": {},
     "output_type": "execute_result"
    }
   ],
   "source": [
    "data = {}\n",
    "for i,row in enumerate(model.coef_):\n",
    "    # Enumerate gives us a counter i for each value in model.coef_\n",
    "    # we use that to get the full name of the iris.\n",
    "    data[names[i]] = list(row)\n",
    "data"
   ]
  },
  {
   "cell_type": "code",
   "execution_count": 7,
   "metadata": {
    "collapsed": false
   },
   "outputs": [
    {
     "data": {
      "text/html": [
       "\n",
       "\n",
       "    <div class=\"plotdiv\" id=\"194b9a0b-1fc9-41ab-9483-5aa895ec294a\"></div>\n",
       "<script type=\"text/javascript\">\n",
       "  \n",
       "  (function(global) {\n",
       "    function now() {\n",
       "      return new Date();\n",
       "    }\n",
       "  \n",
       "    if (typeof (window._bokeh_onload_callbacks) === \"undefined\") {\n",
       "      window._bokeh_onload_callbacks = [];\n",
       "    }\n",
       "  \n",
       "    function run_callbacks() {\n",
       "      window._bokeh_onload_callbacks.forEach(function(callback) { callback() });\n",
       "      delete window._bokeh_onload_callbacks\n",
       "      console.info(\"Bokeh: all callbacks have finished\");\n",
       "    }\n",
       "  \n",
       "    function load_libs(js_urls, callback) {\n",
       "      window._bokeh_onload_callbacks.push(callback);\n",
       "      if (window._bokeh_is_loading > 0) {\n",
       "        console.log(\"Bokeh: BokehJS is being loaded, scheduling callback at\", now());\n",
       "        return null;\n",
       "      }\n",
       "      if (js_urls == null || js_urls.length === 0) {\n",
       "        run_callbacks();\n",
       "        return null;\n",
       "      }\n",
       "      console.log(\"Bokeh: BokehJS not loaded, scheduling load and callback at\", now());\n",
       "      window._bokeh_is_loading = js_urls.length;\n",
       "      for (var i = 0; i < js_urls.length; i++) {\n",
       "        var url = js_urls[i];\n",
       "        var s = document.createElement('script');\n",
       "        s.src = url;\n",
       "        s.async = false;\n",
       "        s.onreadystatechange = s.onload = function() {\n",
       "          window._bokeh_is_loading--;\n",
       "          if (window._bokeh_is_loading === 0) {\n",
       "            console.log(\"Bokeh: all BokehJS libraries loaded\");\n",
       "            run_callbacks()\n",
       "          }\n",
       "        };\n",
       "        s.onerror = function() {\n",
       "          console.warn(\"failed to load library \" + url);\n",
       "        };\n",
       "        console.log(\"Bokeh: injecting script tag for BokehJS library: \", url);\n",
       "        document.getElementsByTagName(\"head\")[0].appendChild(s);\n",
       "      }\n",
       "    };var element = document.getElementById(\"194b9a0b-1fc9-41ab-9483-5aa895ec294a\");\n",
       "    if (element == null) {\n",
       "      console.log(\"Bokeh: ERROR: autoload.js configured with elementid '194b9a0b-1fc9-41ab-9483-5aa895ec294a' but no matching script tag was found. \")\n",
       "      return false;\n",
       "    }\n",
       "  \n",
       "    var js_urls = [];\n",
       "  \n",
       "    var inline_js = [\n",
       "      function(Bokeh) {\n",
       "        Bokeh.$(function() {\n",
       "            var docs_json = {\"7219e886-64b9-4997-bff3-de758fae7557\":{\"roots\":{\"references\":[{\"attributes\":{\"fill_alpha\":{\"field\":\"fill_alpha\"},\"fill_color\":{\"field\":\"color\"},\"height\":{\"field\":\"height\",\"units\":\"data\"},\"line_color\":{\"field\":\"line_color\"},\"width\":{\"field\":\"width\",\"units\":\"data\"},\"x\":{\"field\":\"x\"},\"y\":{\"field\":\"y\"}},\"id\":\"dd7a4967-53c1-4314-92f0-17b5a4e6483d\",\"type\":\"Rect\"},{\"attributes\":{\"data_source\":{\"id\":\"485e72c6-5710-4755-b6fc-0963c5247946\",\"type\":\"ColumnDataSource\"},\"glyph\":{\"id\":\"86545f7f-f97a-4bfc-b8f6-3d74c04083ce\",\"type\":\"Rect\"},\"hover_glyph\":null,\"nonselection_glyph\":null,\"selection_glyph\":null},\"id\":\"4701ecc4-e174-493d-b2fa-3f41b55e441b\",\"type\":\"GlyphRenderer\"},{\"attributes\":{\"data_source\":{\"id\":\"86e5ad38-d001-4528-a978-25177adaa51c\",\"type\":\"ColumnDataSource\"},\"glyph\":{\"id\":\"dd7a4967-53c1-4314-92f0-17b5a4e6483d\",\"type\":\"Rect\"},\"hover_glyph\":null,\"nonselection_glyph\":null,\"selection_glyph\":null},\"id\":\"64e581f7-ca52-4c27-96a2-bab27680d591\",\"type\":\"GlyphRenderer\"},{\"attributes\":{\"axis_label\":\"Linear Coefficient\",\"formatter\":{\"id\":\"9cdf94ed-c180-41b8-8271-5e5a06b6c471\",\"type\":\"BasicTickFormatter\"},\"plot\":{\"id\":\"ef15d4e7-ff22-430a-a4d9-7cd6b16c6401\",\"subtype\":\"Chart\",\"type\":\"Plot\"},\"ticker\":{\"id\":\"509e8872-db2c-46ef-9240-43308ab8841d\",\"type\":\"BasicTicker\"}},\"id\":\"e3c4f8df-251e-4a59-a00a-b367adc57f10\",\"type\":\"LinearAxis\"},{\"attributes\":{\"data_source\":{\"id\":\"2e6dfaa4-eb22-44b0-8d56-6526505cb0c9\",\"type\":\"ColumnDataSource\"},\"glyph\":{\"id\":\"a9d1ba85-5cde-4a2d-853e-660f3846221d\",\"type\":\"Rect\"},\"hover_glyph\":null,\"nonselection_glyph\":null,\"selection_glyph\":null},\"id\":\"dbed0d6d-5e24-4ed8-8c46-aa2234276ff4\",\"type\":\"GlyphRenderer\"},{\"attributes\":{},\"id\":\"ba14123d-4125-45b1-8f8e-c957ee67893b\",\"type\":\"CategoricalTicker\"},{\"attributes\":{\"callback\":null,\"column_names\":[\"line_color\",\"line_alpha\",\"color\",\"fill_alpha\",\"height\",\"width\",\"y\",\"x\"],\"data\":{\"chart_index\":[{\"setosa\":0.5376077153850505}],\"color\":[\"#f22c40\"],\"fill_alpha\":[0.8],\"height\":[0.5376077153850505],\"line_alpha\":[1.0],\"line_color\":[\"white\"],\"setosa\":[0.5376077153850505],\"width\":[0.8],\"x\":[\"0.537607715385\"],\"y\":[0.26880385769252524]}},\"id\":\"485e72c6-5710-4755-b6fc-0963c5247946\",\"type\":\"ColumnDataSource\"},{\"attributes\":{\"callback\":null,\"factors\":[\"-0.826971506187\",\"-0.381996304594\",\"0.00963041772035\",\"0.537607715385\"]},\"id\":\"1f6f9437-1069-473c-a8c5-775f350c8e7f\",\"type\":\"FactorRange\"},{\"attributes\":{\"fill_alpha\":{\"field\":\"fill_alpha\"},\"fill_color\":{\"field\":\"color\"},\"height\":{\"field\":\"height\",\"units\":\"data\"},\"line_color\":{\"field\":\"line_color\"},\"width\":{\"field\":\"width\",\"units\":\"data\"},\"x\":{\"field\":\"x\"},\"y\":{\"field\":\"y\"}},\"id\":\"a9d1ba85-5cde-4a2d-853e-660f3846221d\",\"type\":\"Rect\"},{\"attributes\":{\"plot\":{\"id\":\"ef15d4e7-ff22-430a-a4d9-7cd6b16c6401\",\"subtype\":\"Chart\",\"type\":\"Plot\"}},\"id\":\"fdf0ec01-00d5-492c-a0f8-4f2bb3f3e94e\",\"type\":\"HelpTool\"},{\"attributes\":{\"fill_alpha\":{\"field\":\"fill_alpha\"},\"fill_color\":{\"field\":\"color\"},\"height\":{\"field\":\"height\",\"units\":\"data\"},\"line_color\":{\"field\":\"line_color\"},\"width\":{\"field\":\"width\",\"units\":\"data\"},\"x\":{\"field\":\"x\"},\"y\":{\"field\":\"y\"}},\"id\":\"86545f7f-f97a-4bfc-b8f6-3d74c04083ce\",\"type\":\"Rect\"},{\"attributes\":{\"callback\":null,\"end\":0.5520759049251669,\"start\":-0.8414396957274963},\"id\":\"c29e9058-2a0e-4541-8413-ea4cdd22ff2b\",\"type\":\"Range1d\"},{\"attributes\":{\"plot\":{\"id\":\"ef15d4e7-ff22-430a-a4d9-7cd6b16c6401\",\"subtype\":\"Chart\",\"type\":\"Plot\"}},\"id\":\"611e784b-d2e2-4267-9f83-7919e8271d7b\",\"type\":\"PanTool\"},{\"attributes\":{\"callback\":null,\"column_names\":[\"line_color\",\"line_alpha\",\"color\",\"fill_alpha\",\"height\",\"width\",\"y\",\"x\"],\"data\":{\"chart_index\":[{\"setosa\":-0.38199630459442924}],\"color\":[\"#f22c40\"],\"fill_alpha\":[0.8],\"height\":[-0.38199630459442924],\"line_alpha\":[1.0],\"line_color\":[\"white\"],\"setosa\":[-0.38199630459442924],\"width\":[0.8],\"x\":[\"-0.381996304594\"],\"y\":[-0.19099815229721462]}},\"id\":\"86e5ad38-d001-4528-a978-25177adaa51c\",\"type\":\"ColumnDataSource\"},{\"attributes\":{\"data_source\":{\"id\":\"d27dc0a4-7804-4531-8a12-ce75ec4b2ae7\",\"type\":\"ColumnDataSource\"},\"glyph\":{\"id\":\"817d07d7-873b-4503-b44f-20995817d793\",\"type\":\"Rect\"},\"hover_glyph\":null,\"nonselection_glyph\":null,\"selection_glyph\":null},\"id\":\"2e6dc7c0-70ee-4881-8116-942b97091990\",\"type\":\"GlyphRenderer\"},{\"attributes\":{\"plot\":{\"id\":\"ef15d4e7-ff22-430a-a4d9-7cd6b16c6401\",\"subtype\":\"Chart\",\"type\":\"Plot\"}},\"id\":\"89af87f2-448b-43d0-868e-e2f73b052641\",\"type\":\"PreviewSaveTool\"},{\"attributes\":{\"callback\":null,\"column_names\":[\"line_color\",\"line_alpha\",\"color\",\"fill_alpha\",\"height\",\"width\",\"y\",\"x\"],\"data\":{\"chart_index\":[{\"setosa\":0.009630417720345896}],\"color\":[\"#f22c40\"],\"fill_alpha\":[0.8],\"height\":[0.009630417720345896],\"line_alpha\":[1.0],\"line_color\":[\"white\"],\"setosa\":[0.009630417720345896],\"width\":[0.8],\"x\":[\"0.00963041772035\"],\"y\":[0.004815208860172948]}},\"id\":\"2e6dfaa4-eb22-44b0-8d56-6526505cb0c9\",\"type\":\"ColumnDataSource\"},{\"attributes\":{\"dimension\":1,\"plot\":{\"id\":\"ef15d4e7-ff22-430a-a4d9-7cd6b16c6401\",\"subtype\":\"Chart\",\"type\":\"Plot\"},\"ticker\":{\"id\":\"509e8872-db2c-46ef-9240-43308ab8841d\",\"type\":\"BasicTicker\"}},\"id\":\"fe98ca7c-ef4d-4641-a70b-fa724de3d59f\",\"type\":\"Grid\"},{\"attributes\":{\"plot\":{\"id\":\"ef15d4e7-ff22-430a-a4d9-7cd6b16c6401\",\"subtype\":\"Chart\",\"type\":\"Plot\"}},\"id\":\"9b18f241-0516-44de-9e3c-03d746beb5e3\",\"type\":\"ResetTool\"},{\"attributes\":{\"callback\":null,\"column_names\":[\"line_color\",\"line_alpha\",\"color\",\"fill_alpha\",\"height\",\"width\",\"y\",\"x\"],\"data\":{\"chart_index\":[{\"setosa\":-0.8269715061873799}],\"color\":[\"#f22c40\"],\"fill_alpha\":[0.8],\"height\":[-0.8269715061873799],\"line_alpha\":[1.0],\"line_color\":[\"white\"],\"setosa\":[-0.8269715061873799],\"width\":[0.8],\"x\":[\"-0.826971506187\"],\"y\":[-0.41348575309368996]}},\"id\":\"d27dc0a4-7804-4531-8a12-ce75ec4b2ae7\",\"type\":\"ColumnDataSource\"},{\"attributes\":{},\"id\":\"509e8872-db2c-46ef-9240-43308ab8841d\",\"type\":\"BasicTicker\"},{\"attributes\":{\"plot\":{\"id\":\"ef15d4e7-ff22-430a-a4d9-7cd6b16c6401\",\"subtype\":\"Chart\",\"type\":\"Plot\"}},\"id\":\"5a3fbd1d-6ec6-4800-a7c2-cdfb530e0c31\",\"type\":\"ResizeTool\"},{\"attributes\":{\"plot\":{\"id\":\"ef15d4e7-ff22-430a-a4d9-7cd6b16c6401\",\"subtype\":\"Chart\",\"type\":\"Plot\"}},\"id\":\"865cac34-c587-4273-b5c7-4facc0ba1b58\",\"type\":\"WheelZoomTool\"},{\"attributes\":{\"bottom_units\":\"screen\",\"fill_alpha\":{\"value\":0.5},\"fill_color\":{\"value\":\"lightgrey\"},\"left_units\":\"screen\",\"level\":\"overlay\",\"line_alpha\":{\"value\":1.0},\"line_color\":{\"value\":\"black\"},\"line_dash\":[4,4],\"line_width\":{\"value\":2},\"plot\":null,\"render_mode\":\"css\",\"right_units\":\"screen\",\"top_units\":\"screen\"},\"id\":\"2ae15046-c45d-4d66-8142-7d8dd221587e\",\"type\":\"BoxAnnotation\"},{\"attributes\":{},\"id\":\"6950249d-a1ba-4d29-96fa-0e5610e74e02\",\"type\":\"ToolEvents\"},{\"attributes\":{\"fill_alpha\":{\"field\":\"fill_alpha\"},\"fill_color\":{\"field\":\"color\"},\"height\":{\"field\":\"height\",\"units\":\"data\"},\"line_color\":{\"field\":\"line_color\"},\"width\":{\"field\":\"width\",\"units\":\"data\"},\"x\":{\"field\":\"x\"},\"y\":{\"field\":\"y\"}},\"id\":\"817d07d7-873b-4503-b44f-20995817d793\",\"type\":\"Rect\"},{\"attributes\":{\"below\":[{\"id\":\"44c606ae-d86b-4d25-a07c-10aa8f74093e\",\"type\":\"CategoricalAxis\"}],\"left\":[{\"id\":\"e3c4f8df-251e-4a59-a00a-b367adc57f10\",\"type\":\"LinearAxis\"}],\"legend\":\"top_right\",\"renderers\":[{\"id\":\"2ae15046-c45d-4d66-8142-7d8dd221587e\",\"type\":\"BoxAnnotation\"},{\"id\":\"dbed0d6d-5e24-4ed8-8c46-aa2234276ff4\",\"type\":\"GlyphRenderer\"},{\"id\":\"4701ecc4-e174-493d-b2fa-3f41b55e441b\",\"type\":\"GlyphRenderer\"},{\"id\":\"2e6dc7c0-70ee-4881-8116-942b97091990\",\"type\":\"GlyphRenderer\"},{\"id\":\"64e581f7-ca52-4c27-96a2-bab27680d591\",\"type\":\"GlyphRenderer\"},{\"id\":\"f3c0b95b-dffa-48d8-a71d-b037f7668477\",\"type\":\"Legend\"},{\"id\":\"44c606ae-d86b-4d25-a07c-10aa8f74093e\",\"type\":\"CategoricalAxis\"},{\"id\":\"e3c4f8df-251e-4a59-a00a-b367adc57f10\",\"type\":\"LinearAxis\"},{\"id\":\"fe98ca7c-ef4d-4641-a70b-fa724de3d59f\",\"type\":\"Grid\"}],\"title\":\"SVC Feature Importance\",\"title_text_font_size\":{\"value\":\"14pt\"},\"tool_events\":{\"id\":\"6950249d-a1ba-4d29-96fa-0e5610e74e02\",\"type\":\"ToolEvents\"},\"tools\":[{\"id\":\"611e784b-d2e2-4267-9f83-7919e8271d7b\",\"type\":\"PanTool\"},{\"id\":\"865cac34-c587-4273-b5c7-4facc0ba1b58\",\"type\":\"WheelZoomTool\"},{\"id\":\"ab73adad-27e0-41b9-9731-ebf0a4f47a3a\",\"type\":\"BoxZoomTool\"},{\"id\":\"89af87f2-448b-43d0-868e-e2f73b052641\",\"type\":\"PreviewSaveTool\"},{\"id\":\"5a3fbd1d-6ec6-4800-a7c2-cdfb530e0c31\",\"type\":\"ResizeTool\"},{\"id\":\"9b18f241-0516-44de-9e3c-03d746beb5e3\",\"type\":\"ResetTool\"},{\"id\":\"fdf0ec01-00d5-492c-a0f8-4f2bb3f3e94e\",\"type\":\"HelpTool\"}],\"x_mapper_type\":\"auto\",\"x_range\":{\"id\":\"1f6f9437-1069-473c-a8c5-775f350c8e7f\",\"type\":\"FactorRange\"},\"xgrid\":false,\"xscale\":\"auto\",\"y_mapper_type\":\"auto\",\"y_range\":{\"id\":\"c29e9058-2a0e-4541-8413-ea4cdd22ff2b\",\"type\":\"Range1d\"},\"yscale\":\"auto\"},\"id\":\"ef15d4e7-ff22-430a-a4d9-7cd6b16c6401\",\"subtype\":\"Chart\",\"type\":\"Plot\"},{\"attributes\":{\"axis_label\":\"Flowers\",\"formatter\":{\"id\":\"b188e59a-2251-4571-9cd8-d350494d23a5\",\"type\":\"CategoricalTickFormatter\"},\"major_label_orientation\":0.7853981633974483,\"plot\":{\"id\":\"ef15d4e7-ff22-430a-a4d9-7cd6b16c6401\",\"subtype\":\"Chart\",\"type\":\"Plot\"},\"ticker\":{\"id\":\"ba14123d-4125-45b1-8f8e-c957ee67893b\",\"type\":\"CategoricalTicker\"}},\"id\":\"44c606ae-d86b-4d25-a07c-10aa8f74093e\",\"type\":\"CategoricalAxis\"},{\"attributes\":{\"overlay\":{\"id\":\"2ae15046-c45d-4d66-8142-7d8dd221587e\",\"type\":\"BoxAnnotation\"},\"plot\":{\"id\":\"ef15d4e7-ff22-430a-a4d9-7cd6b16c6401\",\"subtype\":\"Chart\",\"type\":\"Plot\"}},\"id\":\"ab73adad-27e0-41b9-9731-ebf0a4f47a3a\",\"type\":\"BoxZoomTool\"},{\"attributes\":{},\"id\":\"b188e59a-2251-4571-9cd8-d350494d23a5\",\"type\":\"CategoricalTickFormatter\"},{\"attributes\":{},\"id\":\"9cdf94ed-c180-41b8-8271-5e5a06b6c471\",\"type\":\"BasicTickFormatter\"},{\"attributes\":{\"legends\":[[\"0.00963041772035\",[{\"id\":\"dbed0d6d-5e24-4ed8-8c46-aa2234276ff4\",\"type\":\"GlyphRenderer\"}]],[\"0.537607715385\",[{\"id\":\"4701ecc4-e174-493d-b2fa-3f41b55e441b\",\"type\":\"GlyphRenderer\"}]],[\"-0.826971506187\",[{\"id\":\"2e6dc7c0-70ee-4881-8116-942b97091990\",\"type\":\"GlyphRenderer\"}]],[\"-0.381996304594\",[{\"id\":\"64e581f7-ca52-4c27-96a2-bab27680d591\",\"type\":\"GlyphRenderer\"}]]],\"plot\":{\"id\":\"ef15d4e7-ff22-430a-a4d9-7cd6b16c6401\",\"subtype\":\"Chart\",\"type\":\"Plot\"}},\"id\":\"f3c0b95b-dffa-48d8-a71d-b037f7668477\",\"type\":\"Legend\"}],\"root_ids\":[\"ef15d4e7-ff22-430a-a4d9-7cd6b16c6401\"]},\"title\":\"Bokeh Application\",\"version\":\"0.11.1\"}};\n",
       "            var render_items = [{\"docid\":\"7219e886-64b9-4997-bff3-de758fae7557\",\"elementid\":\"194b9a0b-1fc9-41ab-9483-5aa895ec294a\",\"modelid\":\"ef15d4e7-ff22-430a-a4d9-7cd6b16c6401\",\"notebook_comms_target\":\"24d03c47-dfb1-4e49-83c6-a48ddf921afb\"}];\n",
       "            \n",
       "            Bokeh.embed.embed_items(docs_json, render_items);\n",
       "        });\n",
       "      },\n",
       "      function(Bokeh) {\n",
       "      }\n",
       "    ];\n",
       "  \n",
       "    function run_inline_js() {\n",
       "      for (var i = 0; i < inline_js.length; i++) {\n",
       "        inline_js[i](window.Bokeh);\n",
       "      }\n",
       "    }\n",
       "  \n",
       "    if (window._bokeh_is_loading === 0) {\n",
       "      console.log(\"Bokeh: BokehJS loaded, going straight to plotting\");\n",
       "      run_inline_js();\n",
       "    } else {\n",
       "      load_libs(js_urls, function() {\n",
       "        console.log(\"Bokeh: BokehJS plotting callback run at\", now());\n",
       "        run_inline_js();\n",
       "      });\n",
       "    }\n",
       "  }(this));\n",
       "</script>"
      ]
     },
     "metadata": {},
     "output_type": "display_data"
    },
    {
     "data": {
      "text/html": [
       "<p><code>&lt;Bokeh Notebook handle for <strong>In[7]</strong>&gt;</code></p>"
      ],
      "text/plain": [
       "<bokeh.io._CommsHandle at 0x11487fa10>"
      ]
     },
     "execution_count": 7,
     "metadata": {},
     "output_type": "execute_result"
    }
   ],
   "source": [
    "from bokeh.charts import Bar, show\n",
    "from bokeh.charts.attributes import cat\n",
    "\n",
    "#p=Bar(data, cat=list(iris.columns), title=\"SVC Feature Importance\",\n",
    "#        xlabel='Flowers', ylabel='Linear Coefficient', width=600, height=600, legend=\"top_right\")\n",
    "#show(p)\n",
    "\n",
    "p=Bar(data, label='setosa', title=\"SVC Feature Importance\",\n",
    "        xlabel='Flowers', ylabel='Linear Coefficient', width=600, height=600, legend=\"top_right\")\n",
    "show(p)"
   ]
  },
  {
   "cell_type": "markdown",
   "metadata": {},
   "source": [
    "### Aside: Charts as Higher Level Glyph\n",
    "Bokeh has some default charting functions such as bar which intake data in a specific pattern to generate pretty charts in a small amount of code.\n",
    "\n",
    "There are more: http://bokeh.pydata.org/en/latest/docs/user_guide/charts.html#userguide-charts\n",
    "\n",
    "###End Aside"
   ]
  },
  {
   "cell_type": "markdown",
   "metadata": {},
   "source": [
    "As a reminder, Precision is only part of the story. Classification Report gives us a pretty full understanding of what's going on. "
   ]
  },
  {
   "cell_type": "code",
   "execution_count": 8,
   "metadata": {
    "collapsed": false
   },
   "outputs": [
    {
     "name": "stdout",
     "output_type": "stream",
     "text": [
      "             precision    recall  f1-score   support\n",
      "\n",
      "          0       1.00      1.00      1.00        16\n",
      "          1       0.92      0.96      0.94        24\n",
      "          2       0.95      0.90      0.92        20\n",
      "\n",
      "avg / total       0.95      0.95      0.95        60\n",
      "\n"
     ]
    }
   ],
   "source": [
    "model = SVC(kernel='rbf',C=1).fit(X.iloc[train],y[train])\n",
    "print classification_report(y[test],model.predict(X.iloc[test]))"
   ]
  },
  {
   "cell_type": "markdown",
   "metadata": {},
   "source": [
    "##Hands-on: Mushrooms!\n",
    "\n",
    "Today we'll be working with a mushroom dataset. If you're lost in a forest and find a gill capped mushroom and have access to your SVM classifier, you'll hopefully be prepared to see if it's poisonous! Humor aside, we'll see the power of an SVM working with a large number of attributes to separate two classes of data.\n",
    "\n",
    "The attributes are:\n",
    "1. cap-shape: bell=b,conical=c,convex=x,flat=f, knobbed=k,sunken=s \n",
    "2. cap-surface: fibrous=f,grooves=g,scaly=y,smooth=s \n",
    "3. cap-color: brown=n,buff=b,cinnamon=c,gray=g,green=r, pink=p,purple=u,red=e,white=w,yellow=y \n",
    "4. bruises?: bruises=t,no=f \n",
    "5. odor: almond=a,anise=l,creosote=c,fishy=y,foul=f, musty=m,none=n,pungent=p,spicy=s \n",
    "6. gill-attachment: attached=a,descending=d,free=f,notched=n \n",
    "7. gill-spacing: close=c,crowded=w,distant=d \n",
    "8. gill-size: broad=b,narrow=n \n",
    "9. gill-color: black=k,brown=n,buff=b,chocolate=h,gray=g, green=r,orange=o,pink=p,purple=u,red=e, white=w,yellow=y \n",
    "10. stalk-shape: enlarging=e,tapering=t \n",
    "11. stalk-root: bulbous=b,club=c,cup=u,equal=e, rhizomorphs=z,rooted=r,missing=? \n",
    "12. stalk-surface-above-ring: fibrous=f,scaly=y,silky=k,smooth=s \n",
    "13. stalk-surface-below-ring: fibrous=f,scaly=y,silky=k,smooth=s \n",
    "14. stalk-color-above-ring: brown=n,buff=b,cinnamon=c,gray=g,orange=o, pink=p,red=e,white=w,yellow=y \n",
    "15. stalk-color-below-ring: brown=n,buff=b,cinnamon=c,gray=g,orange=o, pink=p,red=e,white=w,yellow=y \n",
    "16. veil-type: partial=p,universal=u \n",
    "17. veil-color: brown=n,orange=o,white=w,yellow=y \n",
    "18. ring-number: none=n,one=o,two=t \n",
    "19. ring-type: cobwebby=c,evanescent=e,flaring=f,large=l, none=n,pendant=p,sheathing=s,zone=z \n",
    "20. spore-print-color: black=k,brown=n,buff=b,chocolate=h,green=r, orange=o,purple=u,white=w,yellow=y \n",
    "21. population: abundant=a,clustered=c,numerous=n, scattered=s,several=v,solitary=y \n",
    "22. habitat: grasses=g,leaves=l,meadows=m,paths=p, urban=u,waste=w,woods=d\n",
    "\n"
   ]
  },
  {
   "cell_type": "markdown",
   "metadata": {},
   "source": [
    "## Aside: String Processing for Fun And Profit\n",
    "\n",
    "Because of the structure of the categories, I'm going to create a column:categories dictionary. First step is to put the data into a doc-string which is a special string defined by three apostrophes. The string accepts new lines and ends only when it sees another three apostrophes."
   ]
  },
  {
   "cell_type": "code",
   "execution_count": 9,
   "metadata": {
    "collapsed": false,
    "scrolled": true
   },
   "outputs": [
    {
     "data": {
      "text/plain": [
       "['cap-shape: bell=b,conical=c,convex=x,flat=f, knobbed=k,sunken=s ',\n",
       " 'cap-surface: fibrous=f,grooves=g,scaly=y,smooth=s ',\n",
       " 'cap-color: brown=n,buff=b,cinnamon=c,gray=g,green=r, pink=p,purple=u,red=e,white=w,yellow=y ',\n",
       " 'bruises?: bruises=t,no=f ',\n",
       " 'odor: almond=a,anise=l,creosote=c,fishy=y,foul=f, musty=m,none=n,pungent=p,spicy=s ',\n",
       " 'gill-attachment: attached=a,descending=d,free=f,notched=n ',\n",
       " 'gill-spacing: close=c,crowded=w,distant=d ',\n",
       " 'gill-size: broad=b,narrow=n ',\n",
       " 'gill-color: black=k,brown=n,buff=b,chocolate=h,gray=g, green=r,orange=o,pink=p,purple=u,red=e, white=w,yellow=y ',\n",
       " 'stalk-shape: enlarging=e,tapering=t ',\n",
       " 'stalk-root: bulbous=b,club=c,cup=u,equal=e, rhizomorphs=z,rooted=r,missing=? ',\n",
       " 'stalk-surface-above-ring: fibrous=f,scaly=y,silky=k,smooth=s ',\n",
       " 'stalk-surface-below-ring: fibrous=f,scaly=y,silky=k,smooth=s ',\n",
       " 'stalk-color-above-ring: brown=n,buff=b,cinnamon=c,gray=g,orange=o, pink=p,red=e,white=w,yellow=y ',\n",
       " 'stalk-color-below-ring: brown=n,buff=b,cinnamon=c,gray=g,orange=o, pink=p,red=e,white=w,yellow=y ',\n",
       " 'veil-type: partial=p,universal=u ',\n",
       " 'veil-color: brown=n,orange=o,white=w,yellow=y ',\n",
       " 'ring-number: none=n,one=o,two=t ',\n",
       " 'ring-type: cobwebby=c,evanescent=e,flaring=f,large=l, none=n,pendant=p,sheathing=s,zone=z ',\n",
       " 'spore-print-color: black=k,brown=n,buff=b,chocolate=h,green=r, orange=o,purple=u,white=w,yellow=y ',\n",
       " 'population: abundant=a,clustered=c,numerous=n, scattered=s,several=v,solitary=y ',\n",
       " 'habitat: grasses=g,leaves=l,meadows=m,paths=p, urban=u,waste=w,woods=d']"
      ]
     },
     "execution_count": 9,
     "metadata": {},
     "output_type": "execute_result"
    }
   ],
   "source": [
    "attributes = '''cap-shape: bell=b,conical=c,convex=x,flat=f, knobbed=k,sunken=s \n",
    "cap-surface: fibrous=f,grooves=g,scaly=y,smooth=s \n",
    "cap-color: brown=n,buff=b,cinnamon=c,gray=g,green=r, pink=p,purple=u,red=e,white=w,yellow=y \n",
    "bruises?: bruises=t,no=f \n",
    "odor: almond=a,anise=l,creosote=c,fishy=y,foul=f, musty=m,none=n,pungent=p,spicy=s \n",
    "gill-attachment: attached=a,descending=d,free=f,notched=n \n",
    "gill-spacing: close=c,crowded=w,distant=d \n",
    "gill-size: broad=b,narrow=n \n",
    "gill-color: black=k,brown=n,buff=b,chocolate=h,gray=g, green=r,orange=o,pink=p,purple=u,red=e, white=w,yellow=y \n",
    "stalk-shape: enlarging=e,tapering=t \n",
    "stalk-root: bulbous=b,club=c,cup=u,equal=e, rhizomorphs=z,rooted=r,missing=? \n",
    "stalk-surface-above-ring: fibrous=f,scaly=y,silky=k,smooth=s \n",
    "stalk-surface-below-ring: fibrous=f,scaly=y,silky=k,smooth=s \n",
    "stalk-color-above-ring: brown=n,buff=b,cinnamon=c,gray=g,orange=o, pink=p,red=e,white=w,yellow=y \n",
    "stalk-color-below-ring: brown=n,buff=b,cinnamon=c,gray=g,orange=o, pink=p,red=e,white=w,yellow=y \n",
    "veil-type: partial=p,universal=u \n",
    "veil-color: brown=n,orange=o,white=w,yellow=y \n",
    "ring-number: none=n,one=o,two=t \n",
    "ring-type: cobwebby=c,evanescent=e,flaring=f,large=l, none=n,pendant=p,sheathing=s,zone=z \n",
    "spore-print-color: black=k,brown=n,buff=b,chocolate=h,green=r, orange=o,purple=u,white=w,yellow=y \n",
    "population: abundant=a,clustered=c,numerous=n, scattered=s,several=v,solitary=y \n",
    "habitat: grasses=g,leaves=l,meadows=m,paths=p, urban=u,waste=w,woods=d'''\n",
    "attributes_list = attributes.split('\\n')\n",
    "attributes_list"
   ]
  },
  {
   "cell_type": "code",
   "execution_count": 10,
   "metadata": {
    "collapsed": false,
    "scrolled": true
   },
   "outputs": [
    {
     "data": {
      "text/plain": [
       "{'bruises?': {'f': 'no', 't': 'bruises'},\n",
       " 'cap-color': {'b': 'buff',\n",
       "  'c': 'cinnamon',\n",
       "  'e': 'red',\n",
       "  'g': 'gray',\n",
       "  'n': 'brown',\n",
       "  'p': ' pink',\n",
       "  'r': 'green',\n",
       "  'u': 'purple',\n",
       "  'w': 'white',\n",
       "  'y': 'yellow'},\n",
       " 'cap-shape': {'b': 'bell',\n",
       "  'c': 'conical',\n",
       "  'f': 'flat',\n",
       "  'k': ' knobbed',\n",
       "  's': 'sunken',\n",
       "  'x': 'convex'},\n",
       " 'cap-surface': {'f': 'fibrous', 'g': 'grooves', 's': 'smooth', 'y': 'scaly'},\n",
       " 'gill-attachment': {'a': 'attached',\n",
       "  'd': 'descending',\n",
       "  'f': 'free',\n",
       "  'n': 'notched'},\n",
       " 'gill-color': {'b': 'buff',\n",
       "  'e': 'red',\n",
       "  'g': 'gray',\n",
       "  'h': 'chocolate',\n",
       "  'k': 'black',\n",
       "  'n': 'brown',\n",
       "  'o': 'orange',\n",
       "  'p': 'pink',\n",
       "  'r': ' green',\n",
       "  'u': 'purple',\n",
       "  'w': ' white',\n",
       "  'y': 'yellow'},\n",
       " 'gill-size': {'b': 'broad', 'n': 'narrow'},\n",
       " 'gill-spacing': {'c': 'close', 'd': 'distant', 'w': 'crowded'},\n",
       " 'habitat': {'d': 'woods',\n",
       "  'g': 'grasses',\n",
       "  'l': 'leaves',\n",
       "  'm': 'meadows',\n",
       "  'p': 'paths',\n",
       "  'u': ' urban',\n",
       "  'w': 'waste'},\n",
       " 'odor': {'a': 'almond',\n",
       "  'c': 'creosote',\n",
       "  'f': 'foul',\n",
       "  'l': 'anise',\n",
       "  'm': ' musty',\n",
       "  'n': 'none',\n",
       "  'p': 'pungent',\n",
       "  's': 'spicy',\n",
       "  'y': 'fishy'},\n",
       " 'population': {'a': 'abundant',\n",
       "  'c': 'clustered',\n",
       "  'n': 'numerous',\n",
       "  's': ' scattered',\n",
       "  'v': 'several',\n",
       "  'y': 'solitary'},\n",
       " 'ring-number': {'n': 'none', 'o': 'one', 't': 'two'},\n",
       " 'ring-type': {'c': 'cobwebby',\n",
       "  'e': 'evanescent',\n",
       "  'f': 'flaring',\n",
       "  'l': 'large',\n",
       "  'n': ' none',\n",
       "  'p': 'pendant',\n",
       "  's': 'sheathing',\n",
       "  'z': 'zone'},\n",
       " 'spore-print-color': {'b': 'buff',\n",
       "  'h': 'chocolate',\n",
       "  'k': 'black',\n",
       "  'n': 'brown',\n",
       "  'o': ' orange',\n",
       "  'r': 'green',\n",
       "  'u': 'purple',\n",
       "  'w': 'white',\n",
       "  'y': 'yellow'},\n",
       " 'stalk-color-above-ring': {'b': 'buff',\n",
       "  'c': 'cinnamon',\n",
       "  'e': 'red',\n",
       "  'g': 'gray',\n",
       "  'n': 'brown',\n",
       "  'o': 'orange',\n",
       "  'p': ' pink',\n",
       "  'w': 'white',\n",
       "  'y': 'yellow'},\n",
       " 'stalk-color-below-ring': {'b': 'buff',\n",
       "  'c': 'cinnamon',\n",
       "  'e': 'red',\n",
       "  'g': 'gray',\n",
       "  'n': 'brown',\n",
       "  'o': 'orange',\n",
       "  'p': ' pink',\n",
       "  'w': 'white',\n",
       "  'y': 'yellow'},\n",
       " 'stalk-root': {'?': 'missing',\n",
       "  'b': 'bulbous',\n",
       "  'c': 'club',\n",
       "  'e': 'equal',\n",
       "  'r': 'rooted',\n",
       "  'u': 'cup',\n",
       "  'z': ' rhizomorphs'},\n",
       " 'stalk-shape': {'e': 'enlarging', 't': 'tapering'},\n",
       " 'stalk-surface-above-ring': {'f': 'fibrous',\n",
       "  'k': 'silky',\n",
       "  's': 'smooth',\n",
       "  'y': 'scaly'},\n",
       " 'stalk-surface-below-ring': {'f': 'fibrous',\n",
       "  'k': 'silky',\n",
       "  's': 'smooth',\n",
       "  'y': 'scaly'},\n",
       " 'veil-color': {'n': 'brown', 'o': 'orange', 'w': 'white', 'y': 'yellow'},\n",
       " 'veil-type': {'p': 'partial', 'u': 'universal'}}"
      ]
     },
     "execution_count": 10,
     "metadata": {},
     "output_type": "execute_result"
    }
   ],
   "source": [
    "ordered_attributes = []\n",
    "data_attributes = {}\n",
    "for att in attributes_list:\n",
    "    #Break our string into the column name and categories\n",
    "    col_data_split = att.split(': ')\n",
    "    #next, we split our category labels into a list of name=value\n",
    "    cat_labels = col_data_split[1].split(',')\n",
    "    \n",
    "    # lets now extract only our values (our data is pure letters) and value names. We'll do a \n",
    "    # dict comprehension that extracts the second value of a list after splitting on the =.\n",
    "    \n",
    "    #I split second on the spaces because there are some trailing spaces in my string\n",
    "    cats = {x.split('=')[1].split(' ')[0]:x.split('=')[0] for x in cat_labels}\n",
    "    #Now lets populate our columns dictionary defining a key, columns, and the values, our list\n",
    "    # called cats here\n",
    "    data_attributes[col_data_split[0]] = cats\n",
    "    \n",
    "    # we also want an ordered list to declare as the columns for our dataframe\n",
    "    ordered_attributes.append(col_data_split[0])\n",
    "\n",
    "\n",
    "data_attributes"
   ]
  },
  {
   "cell_type": "markdown",
   "metadata": {},
   "source": [
    "## End Aside\n",
    "\n",
    "So we have a dictionary of more verbose categories. We'll now want to apply them to the dataset."
   ]
  },
  {
   "cell_type": "code",
   "execution_count": 11,
   "metadata": {
    "collapsed": false
   },
   "outputs": [
    {
     "data": {
      "text/html": [
       "<div>\n",
       "<table border=\"1\" class=\"dataframe\">\n",
       "  <thead>\n",
       "    <tr style=\"text-align: right;\">\n",
       "      <th></th>\n",
       "      <th>edible?</th>\n",
       "      <th>cap-shape</th>\n",
       "      <th>cap-surface</th>\n",
       "      <th>cap-color</th>\n",
       "      <th>bruises?</th>\n",
       "      <th>odor</th>\n",
       "      <th>gill-attachment</th>\n",
       "      <th>gill-spacing</th>\n",
       "      <th>gill-size</th>\n",
       "      <th>gill-color</th>\n",
       "      <th>...</th>\n",
       "      <th>stalk-surface-below-ring</th>\n",
       "      <th>stalk-color-above-ring</th>\n",
       "      <th>stalk-color-below-ring</th>\n",
       "      <th>veil-type</th>\n",
       "      <th>veil-color</th>\n",
       "      <th>ring-number</th>\n",
       "      <th>ring-type</th>\n",
       "      <th>spore-print-color</th>\n",
       "      <th>population</th>\n",
       "      <th>habitat</th>\n",
       "    </tr>\n",
       "  </thead>\n",
       "  <tbody>\n",
       "    <tr>\n",
       "      <th>0</th>\n",
       "      <td>p</td>\n",
       "      <td>x</td>\n",
       "      <td>s</td>\n",
       "      <td>n</td>\n",
       "      <td>t</td>\n",
       "      <td>p</td>\n",
       "      <td>f</td>\n",
       "      <td>c</td>\n",
       "      <td>n</td>\n",
       "      <td>k</td>\n",
       "      <td>...</td>\n",
       "      <td>s</td>\n",
       "      <td>w</td>\n",
       "      <td>w</td>\n",
       "      <td>p</td>\n",
       "      <td>w</td>\n",
       "      <td>o</td>\n",
       "      <td>p</td>\n",
       "      <td>k</td>\n",
       "      <td>s</td>\n",
       "      <td>u</td>\n",
       "    </tr>\n",
       "    <tr>\n",
       "      <th>1</th>\n",
       "      <td>e</td>\n",
       "      <td>x</td>\n",
       "      <td>s</td>\n",
       "      <td>y</td>\n",
       "      <td>t</td>\n",
       "      <td>a</td>\n",
       "      <td>f</td>\n",
       "      <td>c</td>\n",
       "      <td>b</td>\n",
       "      <td>k</td>\n",
       "      <td>...</td>\n",
       "      <td>s</td>\n",
       "      <td>w</td>\n",
       "      <td>w</td>\n",
       "      <td>p</td>\n",
       "      <td>w</td>\n",
       "      <td>o</td>\n",
       "      <td>p</td>\n",
       "      <td>n</td>\n",
       "      <td>n</td>\n",
       "      <td>g</td>\n",
       "    </tr>\n",
       "    <tr>\n",
       "      <th>2</th>\n",
       "      <td>e</td>\n",
       "      <td>b</td>\n",
       "      <td>s</td>\n",
       "      <td>w</td>\n",
       "      <td>t</td>\n",
       "      <td>l</td>\n",
       "      <td>f</td>\n",
       "      <td>c</td>\n",
       "      <td>b</td>\n",
       "      <td>n</td>\n",
       "      <td>...</td>\n",
       "      <td>s</td>\n",
       "      <td>w</td>\n",
       "      <td>w</td>\n",
       "      <td>p</td>\n",
       "      <td>w</td>\n",
       "      <td>o</td>\n",
       "      <td>p</td>\n",
       "      <td>n</td>\n",
       "      <td>n</td>\n",
       "      <td>m</td>\n",
       "    </tr>\n",
       "    <tr>\n",
       "      <th>3</th>\n",
       "      <td>p</td>\n",
       "      <td>x</td>\n",
       "      <td>y</td>\n",
       "      <td>w</td>\n",
       "      <td>t</td>\n",
       "      <td>p</td>\n",
       "      <td>f</td>\n",
       "      <td>c</td>\n",
       "      <td>n</td>\n",
       "      <td>n</td>\n",
       "      <td>...</td>\n",
       "      <td>s</td>\n",
       "      <td>w</td>\n",
       "      <td>w</td>\n",
       "      <td>p</td>\n",
       "      <td>w</td>\n",
       "      <td>o</td>\n",
       "      <td>p</td>\n",
       "      <td>k</td>\n",
       "      <td>s</td>\n",
       "      <td>u</td>\n",
       "    </tr>\n",
       "    <tr>\n",
       "      <th>4</th>\n",
       "      <td>e</td>\n",
       "      <td>x</td>\n",
       "      <td>s</td>\n",
       "      <td>g</td>\n",
       "      <td>f</td>\n",
       "      <td>n</td>\n",
       "      <td>f</td>\n",
       "      <td>w</td>\n",
       "      <td>b</td>\n",
       "      <td>k</td>\n",
       "      <td>...</td>\n",
       "      <td>s</td>\n",
       "      <td>w</td>\n",
       "      <td>w</td>\n",
       "      <td>p</td>\n",
       "      <td>w</td>\n",
       "      <td>o</td>\n",
       "      <td>e</td>\n",
       "      <td>n</td>\n",
       "      <td>a</td>\n",
       "      <td>g</td>\n",
       "    </tr>\n",
       "  </tbody>\n",
       "</table>\n",
       "<p>5 rows × 23 columns</p>\n",
       "</div>"
      ],
      "text/plain": [
       "  edible? cap-shape cap-surface cap-color bruises? odor gill-attachment  \\\n",
       "0       p         x           s         n        t    p               f   \n",
       "1       e         x           s         y        t    a               f   \n",
       "2       e         b           s         w        t    l               f   \n",
       "3       p         x           y         w        t    p               f   \n",
       "4       e         x           s         g        f    n               f   \n",
       "\n",
       "  gill-spacing gill-size gill-color   ...   stalk-surface-below-ring  \\\n",
       "0            c         n          k   ...                          s   \n",
       "1            c         b          k   ...                          s   \n",
       "2            c         b          n   ...                          s   \n",
       "3            c         n          n   ...                          s   \n",
       "4            w         b          k   ...                          s   \n",
       "\n",
       "  stalk-color-above-ring stalk-color-below-ring veil-type veil-color  \\\n",
       "0                      w                      w         p          w   \n",
       "1                      w                      w         p          w   \n",
       "2                      w                      w         p          w   \n",
       "3                      w                      w         p          w   \n",
       "4                      w                      w         p          w   \n",
       "\n",
       "  ring-number ring-type spore-print-color population habitat  \n",
       "0           o         p                 k          s       u  \n",
       "1           o         p                 n          n       g  \n",
       "2           o         p                 n          n       m  \n",
       "3           o         p                 k          s       u  \n",
       "4           o         e                 n          a       g  \n",
       "\n",
       "[5 rows x 23 columns]"
      ]
     },
     "execution_count": 11,
     "metadata": {},
     "output_type": "execute_result"
    }
   ],
   "source": [
    "mush = pd.read_csv('../data/mushrooms.data',header=None,names=['edible?']+ordered_attributes)\n",
    "mush.head()"
   ]
  },
  {
   "cell_type": "markdown",
   "metadata": {},
   "source": [
    "Let's have verbose names for our data by using .map()"
   ]
  },
  {
   "cell_type": "code",
   "execution_count": 12,
   "metadata": {
    "collapsed": false
   },
   "outputs": [
    {
     "data": {
      "text/html": [
       "<div>\n",
       "<table border=\"1\" class=\"dataframe\">\n",
       "  <thead>\n",
       "    <tr style=\"text-align: right;\">\n",
       "      <th></th>\n",
       "      <th>edible?</th>\n",
       "      <th>cap-shape</th>\n",
       "      <th>cap-surface</th>\n",
       "      <th>cap-color</th>\n",
       "      <th>bruises?</th>\n",
       "      <th>odor</th>\n",
       "      <th>gill-attachment</th>\n",
       "      <th>gill-spacing</th>\n",
       "      <th>gill-size</th>\n",
       "      <th>gill-color</th>\n",
       "      <th>...</th>\n",
       "      <th>stalk-surface-below-ring</th>\n",
       "      <th>stalk-color-above-ring</th>\n",
       "      <th>stalk-color-below-ring</th>\n",
       "      <th>veil-type</th>\n",
       "      <th>veil-color</th>\n",
       "      <th>ring-number</th>\n",
       "      <th>ring-type</th>\n",
       "      <th>spore-print-color</th>\n",
       "      <th>population</th>\n",
       "      <th>habitat</th>\n",
       "    </tr>\n",
       "  </thead>\n",
       "  <tbody>\n",
       "    <tr>\n",
       "      <th>0</th>\n",
       "      <td>p</td>\n",
       "      <td>convex</td>\n",
       "      <td>smooth</td>\n",
       "      <td>brown</td>\n",
       "      <td>bruises</td>\n",
       "      <td>pungent</td>\n",
       "      <td>free</td>\n",
       "      <td>close</td>\n",
       "      <td>narrow</td>\n",
       "      <td>black</td>\n",
       "      <td>...</td>\n",
       "      <td>smooth</td>\n",
       "      <td>white</td>\n",
       "      <td>white</td>\n",
       "      <td>partial</td>\n",
       "      <td>white</td>\n",
       "      <td>one</td>\n",
       "      <td>pendant</td>\n",
       "      <td>black</td>\n",
       "      <td>scattered</td>\n",
       "      <td>urban</td>\n",
       "    </tr>\n",
       "    <tr>\n",
       "      <th>1</th>\n",
       "      <td>e</td>\n",
       "      <td>convex</td>\n",
       "      <td>smooth</td>\n",
       "      <td>yellow</td>\n",
       "      <td>bruises</td>\n",
       "      <td>almond</td>\n",
       "      <td>free</td>\n",
       "      <td>close</td>\n",
       "      <td>broad</td>\n",
       "      <td>black</td>\n",
       "      <td>...</td>\n",
       "      <td>smooth</td>\n",
       "      <td>white</td>\n",
       "      <td>white</td>\n",
       "      <td>partial</td>\n",
       "      <td>white</td>\n",
       "      <td>one</td>\n",
       "      <td>pendant</td>\n",
       "      <td>brown</td>\n",
       "      <td>numerous</td>\n",
       "      <td>grasses</td>\n",
       "    </tr>\n",
       "    <tr>\n",
       "      <th>2</th>\n",
       "      <td>e</td>\n",
       "      <td>bell</td>\n",
       "      <td>smooth</td>\n",
       "      <td>white</td>\n",
       "      <td>bruises</td>\n",
       "      <td>anise</td>\n",
       "      <td>free</td>\n",
       "      <td>close</td>\n",
       "      <td>broad</td>\n",
       "      <td>brown</td>\n",
       "      <td>...</td>\n",
       "      <td>smooth</td>\n",
       "      <td>white</td>\n",
       "      <td>white</td>\n",
       "      <td>partial</td>\n",
       "      <td>white</td>\n",
       "      <td>one</td>\n",
       "      <td>pendant</td>\n",
       "      <td>brown</td>\n",
       "      <td>numerous</td>\n",
       "      <td>meadows</td>\n",
       "    </tr>\n",
       "    <tr>\n",
       "      <th>3</th>\n",
       "      <td>p</td>\n",
       "      <td>convex</td>\n",
       "      <td>scaly</td>\n",
       "      <td>white</td>\n",
       "      <td>bruises</td>\n",
       "      <td>pungent</td>\n",
       "      <td>free</td>\n",
       "      <td>close</td>\n",
       "      <td>narrow</td>\n",
       "      <td>brown</td>\n",
       "      <td>...</td>\n",
       "      <td>smooth</td>\n",
       "      <td>white</td>\n",
       "      <td>white</td>\n",
       "      <td>partial</td>\n",
       "      <td>white</td>\n",
       "      <td>one</td>\n",
       "      <td>pendant</td>\n",
       "      <td>black</td>\n",
       "      <td>scattered</td>\n",
       "      <td>urban</td>\n",
       "    </tr>\n",
       "    <tr>\n",
       "      <th>4</th>\n",
       "      <td>e</td>\n",
       "      <td>convex</td>\n",
       "      <td>smooth</td>\n",
       "      <td>gray</td>\n",
       "      <td>no</td>\n",
       "      <td>none</td>\n",
       "      <td>free</td>\n",
       "      <td>crowded</td>\n",
       "      <td>broad</td>\n",
       "      <td>black</td>\n",
       "      <td>...</td>\n",
       "      <td>smooth</td>\n",
       "      <td>white</td>\n",
       "      <td>white</td>\n",
       "      <td>partial</td>\n",
       "      <td>white</td>\n",
       "      <td>one</td>\n",
       "      <td>evanescent</td>\n",
       "      <td>brown</td>\n",
       "      <td>abundant</td>\n",
       "      <td>grasses</td>\n",
       "    </tr>\n",
       "  </tbody>\n",
       "</table>\n",
       "<p>5 rows × 23 columns</p>\n",
       "</div>"
      ],
      "text/plain": [
       "  edible? cap-shape cap-surface cap-color bruises?     odor gill-attachment  \\\n",
       "0       p    convex      smooth     brown  bruises  pungent            free   \n",
       "1       e    convex      smooth    yellow  bruises   almond            free   \n",
       "2       e      bell      smooth     white  bruises    anise            free   \n",
       "3       p    convex       scaly     white  bruises  pungent            free   \n",
       "4       e    convex      smooth      gray       no     none            free   \n",
       "\n",
       "  gill-spacing gill-size gill-color   ...    stalk-surface-below-ring  \\\n",
       "0        close    narrow      black   ...                      smooth   \n",
       "1        close     broad      black   ...                      smooth   \n",
       "2        close     broad      brown   ...                      smooth   \n",
       "3        close    narrow      brown   ...                      smooth   \n",
       "4      crowded     broad      black   ...                      smooth   \n",
       "\n",
       "  stalk-color-above-ring stalk-color-below-ring veil-type veil-color  \\\n",
       "0                  white                  white   partial      white   \n",
       "1                  white                  white   partial      white   \n",
       "2                  white                  white   partial      white   \n",
       "3                  white                  white   partial      white   \n",
       "4                  white                  white   partial      white   \n",
       "\n",
       "  ring-number   ring-type spore-print-color  population  habitat  \n",
       "0         one     pendant             black   scattered    urban  \n",
       "1         one     pendant             brown    numerous  grasses  \n",
       "2         one     pendant             brown    numerous  meadows  \n",
       "3         one     pendant             black   scattered    urban  \n",
       "4         one  evanescent             brown    abundant  grasses  \n",
       "\n",
       "[5 rows x 23 columns]"
      ]
     },
     "execution_count": 12,
     "metadata": {},
     "output_type": "execute_result"
    }
   ],
   "source": [
    "for col in mush.columns:\n",
    "    if col == 'edible?':\n",
    "        continue\n",
    "    mush[col] = mush[col].map(data_attributes[col])\n",
    "mush.head()"
   ]
  },
  {
   "cell_type": "markdown",
   "metadata": {},
   "source": [
    "Because of the sheer # of attributes in this dataset, we will work with a subset of the data."
   ]
  },
  {
   "cell_type": "code",
   "execution_count": 13,
   "metadata": {
    "collapsed": false,
    "scrolled": false
   },
   "outputs": [
    {
     "name": "stdout",
     "output_type": "stream",
     "text": [
      "<class 'pandas.core.frame.DataFrame'>\n",
      "RangeIndex: 8124 entries, 0 to 8123\n",
      "Data columns (total 4 columns):\n",
      "edible?        8124 non-null object\n",
      "cap-shape      8124 non-null object\n",
      "cap-color      8124 non-null object\n",
      "cap-surface    8124 non-null object\n",
      "dtypes: object(4)\n",
      "memory usage: 253.9+ KB\n"
     ]
    }
   ],
   "source": [
    "mush = mush[['edible?','cap-shape','cap-color','cap-surface']]\n",
    "mush.info()"
   ]
  },
  {
   "cell_type": "markdown",
   "metadata": {},
   "source": [
    "We'll now convert them into binary features using `pd.get_dummies` function"
   ]
  },
  {
   "cell_type": "code",
   "execution_count": 14,
   "metadata": {
    "collapsed": false
   },
   "outputs": [
    {
     "data": {
      "text/html": [
       "<div>\n",
       "<table border=\"1\" class=\"dataframe\">\n",
       "  <thead>\n",
       "    <tr style=\"text-align: right;\">\n",
       "      <th></th>\n",
       "      <th>knobbed</th>\n",
       "      <th>bell</th>\n",
       "      <th>conical</th>\n",
       "      <th>convex</th>\n",
       "      <th>flat</th>\n",
       "      <th>sunken</th>\n",
       "    </tr>\n",
       "  </thead>\n",
       "  <tbody>\n",
       "    <tr>\n",
       "      <th>0</th>\n",
       "      <td>0.0</td>\n",
       "      <td>0.0</td>\n",
       "      <td>0.0</td>\n",
       "      <td>1.0</td>\n",
       "      <td>0.0</td>\n",
       "      <td>0.0</td>\n",
       "    </tr>\n",
       "    <tr>\n",
       "      <th>1</th>\n",
       "      <td>0.0</td>\n",
       "      <td>0.0</td>\n",
       "      <td>0.0</td>\n",
       "      <td>1.0</td>\n",
       "      <td>0.0</td>\n",
       "      <td>0.0</td>\n",
       "    </tr>\n",
       "    <tr>\n",
       "      <th>2</th>\n",
       "      <td>0.0</td>\n",
       "      <td>1.0</td>\n",
       "      <td>0.0</td>\n",
       "      <td>0.0</td>\n",
       "      <td>0.0</td>\n",
       "      <td>0.0</td>\n",
       "    </tr>\n",
       "    <tr>\n",
       "      <th>3</th>\n",
       "      <td>0.0</td>\n",
       "      <td>0.0</td>\n",
       "      <td>0.0</td>\n",
       "      <td>1.0</td>\n",
       "      <td>0.0</td>\n",
       "      <td>0.0</td>\n",
       "    </tr>\n",
       "    <tr>\n",
       "      <th>4</th>\n",
       "      <td>0.0</td>\n",
       "      <td>0.0</td>\n",
       "      <td>0.0</td>\n",
       "      <td>1.0</td>\n",
       "      <td>0.0</td>\n",
       "      <td>0.0</td>\n",
       "    </tr>\n",
       "  </tbody>\n",
       "</table>\n",
       "</div>"
      ],
      "text/plain": [
       "    knobbed  bell  conical  convex  flat  sunken\n",
       "0       0.0   0.0      0.0     1.0   0.0     0.0\n",
       "1       0.0   0.0      0.0     1.0   0.0     0.0\n",
       "2       0.0   1.0      0.0     0.0   0.0     0.0\n",
       "3       0.0   0.0      0.0     1.0   0.0     0.0\n",
       "4       0.0   0.0      0.0     1.0   0.0     0.0"
      ]
     },
     "execution_count": 14,
     "metadata": {},
     "output_type": "execute_result"
    }
   ],
   "source": [
    "pd.get_dummies(mush['cap-shape']).head()"
   ]
  },
  {
   "cell_type": "markdown",
   "metadata": {},
   "source": [
    "For each new column, we'll preface it with the original column name"
   ]
  },
  {
   "cell_type": "code",
   "execution_count": 15,
   "metadata": {
    "collapsed": false,
    "scrolled": true
   },
   "outputs": [
    {
     "data": {
      "text/html": [
       "<div>\n",
       "<table border=\"1\" class=\"dataframe\">\n",
       "  <thead>\n",
       "    <tr style=\"text-align: right;\">\n",
       "      <th></th>\n",
       "      <th>edible?</th>\n",
       "      <th>cap-shape_ knobbed</th>\n",
       "      <th>cap-shape_bell</th>\n",
       "      <th>cap-shape_conical</th>\n",
       "      <th>cap-shape_convex</th>\n",
       "      <th>cap-shape_flat</th>\n",
       "      <th>cap-shape_sunken</th>\n",
       "      <th>cap-color_ pink</th>\n",
       "      <th>cap-color_brown</th>\n",
       "      <th>cap-color_buff</th>\n",
       "      <th>...</th>\n",
       "      <th>cap-color_gray</th>\n",
       "      <th>cap-color_green</th>\n",
       "      <th>cap-color_purple</th>\n",
       "      <th>cap-color_red</th>\n",
       "      <th>cap-color_white</th>\n",
       "      <th>cap-color_yellow</th>\n",
       "      <th>cap-surface_fibrous</th>\n",
       "      <th>cap-surface_grooves</th>\n",
       "      <th>cap-surface_scaly</th>\n",
       "      <th>cap-surface_smooth</th>\n",
       "    </tr>\n",
       "  </thead>\n",
       "  <tbody>\n",
       "    <tr>\n",
       "      <th>0</th>\n",
       "      <td>0</td>\n",
       "      <td>0.0</td>\n",
       "      <td>0.0</td>\n",
       "      <td>0.0</td>\n",
       "      <td>1.0</td>\n",
       "      <td>0.0</td>\n",
       "      <td>0.0</td>\n",
       "      <td>0.0</td>\n",
       "      <td>1.0</td>\n",
       "      <td>0.0</td>\n",
       "      <td>...</td>\n",
       "      <td>0.0</td>\n",
       "      <td>0.0</td>\n",
       "      <td>0.0</td>\n",
       "      <td>0.0</td>\n",
       "      <td>0.0</td>\n",
       "      <td>0.0</td>\n",
       "      <td>0.0</td>\n",
       "      <td>0.0</td>\n",
       "      <td>0.0</td>\n",
       "      <td>1.0</td>\n",
       "    </tr>\n",
       "    <tr>\n",
       "      <th>1</th>\n",
       "      <td>1</td>\n",
       "      <td>0.0</td>\n",
       "      <td>0.0</td>\n",
       "      <td>0.0</td>\n",
       "      <td>1.0</td>\n",
       "      <td>0.0</td>\n",
       "      <td>0.0</td>\n",
       "      <td>0.0</td>\n",
       "      <td>0.0</td>\n",
       "      <td>0.0</td>\n",
       "      <td>...</td>\n",
       "      <td>0.0</td>\n",
       "      <td>0.0</td>\n",
       "      <td>0.0</td>\n",
       "      <td>0.0</td>\n",
       "      <td>0.0</td>\n",
       "      <td>1.0</td>\n",
       "      <td>0.0</td>\n",
       "      <td>0.0</td>\n",
       "      <td>0.0</td>\n",
       "      <td>1.0</td>\n",
       "    </tr>\n",
       "    <tr>\n",
       "      <th>2</th>\n",
       "      <td>1</td>\n",
       "      <td>0.0</td>\n",
       "      <td>1.0</td>\n",
       "      <td>0.0</td>\n",
       "      <td>0.0</td>\n",
       "      <td>0.0</td>\n",
       "      <td>0.0</td>\n",
       "      <td>0.0</td>\n",
       "      <td>0.0</td>\n",
       "      <td>0.0</td>\n",
       "      <td>...</td>\n",
       "      <td>0.0</td>\n",
       "      <td>0.0</td>\n",
       "      <td>0.0</td>\n",
       "      <td>0.0</td>\n",
       "      <td>1.0</td>\n",
       "      <td>0.0</td>\n",
       "      <td>0.0</td>\n",
       "      <td>0.0</td>\n",
       "      <td>0.0</td>\n",
       "      <td>1.0</td>\n",
       "    </tr>\n",
       "    <tr>\n",
       "      <th>3</th>\n",
       "      <td>0</td>\n",
       "      <td>0.0</td>\n",
       "      <td>0.0</td>\n",
       "      <td>0.0</td>\n",
       "      <td>1.0</td>\n",
       "      <td>0.0</td>\n",
       "      <td>0.0</td>\n",
       "      <td>0.0</td>\n",
       "      <td>0.0</td>\n",
       "      <td>0.0</td>\n",
       "      <td>...</td>\n",
       "      <td>0.0</td>\n",
       "      <td>0.0</td>\n",
       "      <td>0.0</td>\n",
       "      <td>0.0</td>\n",
       "      <td>1.0</td>\n",
       "      <td>0.0</td>\n",
       "      <td>0.0</td>\n",
       "      <td>0.0</td>\n",
       "      <td>1.0</td>\n",
       "      <td>0.0</td>\n",
       "    </tr>\n",
       "    <tr>\n",
       "      <th>4</th>\n",
       "      <td>1</td>\n",
       "      <td>0.0</td>\n",
       "      <td>0.0</td>\n",
       "      <td>0.0</td>\n",
       "      <td>1.0</td>\n",
       "      <td>0.0</td>\n",
       "      <td>0.0</td>\n",
       "      <td>0.0</td>\n",
       "      <td>0.0</td>\n",
       "      <td>0.0</td>\n",
       "      <td>...</td>\n",
       "      <td>1.0</td>\n",
       "      <td>0.0</td>\n",
       "      <td>0.0</td>\n",
       "      <td>0.0</td>\n",
       "      <td>0.0</td>\n",
       "      <td>0.0</td>\n",
       "      <td>0.0</td>\n",
       "      <td>0.0</td>\n",
       "      <td>0.0</td>\n",
       "      <td>1.0</td>\n",
       "    </tr>\n",
       "  </tbody>\n",
       "</table>\n",
       "<p>5 rows × 21 columns</p>\n",
       "</div>"
      ],
      "text/plain": [
       "   edible?  cap-shape_ knobbed  cap-shape_bell  cap-shape_conical  \\\n",
       "0        0                 0.0             0.0                0.0   \n",
       "1        1                 0.0             0.0                0.0   \n",
       "2        1                 0.0             1.0                0.0   \n",
       "3        0                 0.0             0.0                0.0   \n",
       "4        1                 0.0             0.0                0.0   \n",
       "\n",
       "   cap-shape_convex  cap-shape_flat  cap-shape_sunken  cap-color_ pink  \\\n",
       "0               1.0             0.0               0.0              0.0   \n",
       "1               1.0             0.0               0.0              0.0   \n",
       "2               0.0             0.0               0.0              0.0   \n",
       "3               1.0             0.0               0.0              0.0   \n",
       "4               1.0             0.0               0.0              0.0   \n",
       "\n",
       "   cap-color_brown  cap-color_buff         ...          cap-color_gray  \\\n",
       "0              1.0             0.0         ...                     0.0   \n",
       "1              0.0             0.0         ...                     0.0   \n",
       "2              0.0             0.0         ...                     0.0   \n",
       "3              0.0             0.0         ...                     0.0   \n",
       "4              0.0             0.0         ...                     1.0   \n",
       "\n",
       "   cap-color_green  cap-color_purple  cap-color_red  cap-color_white  \\\n",
       "0              0.0               0.0            0.0              0.0   \n",
       "1              0.0               0.0            0.0              0.0   \n",
       "2              0.0               0.0            0.0              1.0   \n",
       "3              0.0               0.0            0.0              1.0   \n",
       "4              0.0               0.0            0.0              0.0   \n",
       "\n",
       "   cap-color_yellow  cap-surface_fibrous  cap-surface_grooves  \\\n",
       "0               0.0                  0.0                  0.0   \n",
       "1               1.0                  0.0                  0.0   \n",
       "2               0.0                  0.0                  0.0   \n",
       "3               0.0                  0.0                  0.0   \n",
       "4               0.0                  0.0                  0.0   \n",
       "\n",
       "   cap-surface_scaly  cap-surface_smooth  \n",
       "0                0.0                 1.0  \n",
       "1                0.0                 1.0  \n",
       "2                0.0                 1.0  \n",
       "3                1.0                 0.0  \n",
       "4                0.0                 1.0  \n",
       "\n",
       "[5 rows x 21 columns]"
      ]
     },
     "execution_count": 15,
     "metadata": {},
     "output_type": "execute_result"
    }
   ],
   "source": [
    "mush_code = pd.DataFrame(mush['edible?'].map({'p':0,'e':1}))\n",
    "\n",
    "for column in mush.columns:\n",
    "    if column == 'edible?':\n",
    "        continue\n",
    "    temp = pd.get_dummies(mush[column],prefix=column)\n",
    "    mush_code[temp.columns] = temp\n",
    "mush_code.head()\n",
    " "
   ]
  },
  {
   "cell_type": "markdown",
   "metadata": {},
   "source": [
    "Awesome, we've prepared our data. Now we need to provide it to an SVM Classifier and see how we do."
   ]
  },
  {
   "cell_type": "code",
   "execution_count": 16,
   "metadata": {
    "collapsed": false
   },
   "outputs": [],
   "source": [
    "X = mush_code.drop('edible?',axis=1)\n",
    "y = mush_code['edible?']"
   ]
  },
  {
   "cell_type": "markdown",
   "metadata": {},
   "source": [
    "In the interest in showing a variety of approaches and flexing your coding skills, what is this code below doing?"
   ]
  },
  {
   "cell_type": "code",
   "execution_count": 17,
   "metadata": {
    "collapsed": true
   },
   "outputs": [],
   "source": [
    "index = range(0,len(X))\n",
    "np.random.shuffle(index)\n",
    "train = index[:len(X)*4/5]\n",
    "test = index[len(X)*4/5:]"
   ]
  },
  {
   "cell_type": "markdown",
   "metadata": {},
   "source": [
    "We can compare two common kernels (note: the default kernel is rbf). "
   ]
  },
  {
   "cell_type": "code",
   "execution_count": 18,
   "metadata": {
    "collapsed": false,
    "scrolled": true
   },
   "outputs": [
    {
     "name": "stdout",
     "output_type": "stream",
     "text": [
      "             precision    recall  f1-score   support\n",
      "\n",
      "          0       0.62      0.80      0.70       772\n",
      "          1       0.76      0.55      0.64       853\n",
      "\n",
      "avg / total       0.69      0.67      0.67      1625\n",
      "\n"
     ]
    }
   ],
   "source": [
    "model = SVC(C=1,kernel='linear').fit(X.iloc[train],y.iloc[train])\n",
    "print classification_report(y.iloc[test],model.predict(X.iloc[test]))"
   ]
  },
  {
   "cell_type": "code",
   "execution_count": 19,
   "metadata": {
    "collapsed": false
   },
   "outputs": [
    {
     "name": "stdout",
     "output_type": "stream",
     "text": [
      "             precision    recall  f1-score   support\n",
      "\n",
      "          0       0.66      0.69      0.67       772\n",
      "          1       0.70      0.68      0.69       853\n",
      "\n",
      "avg / total       0.68      0.68      0.68      1625\n",
      "\n"
     ]
    }
   ],
   "source": [
    "model = SVC(C=1,kernel='rbf').fit(X.iloc[train],y.iloc[train])\n",
    "print classification_report(y.iloc[test],model.predict(X.iloc[test]))"
   ]
  },
  {
   "cell_type": "markdown",
   "metadata": {},
   "source": [
    "###Exercise 1\n",
    "Convert one column to a dummy encoder and add the 'edible?' column to it. Train a linear kernel on it and generate a confusion matrix."
   ]
  },
  {
   "cell_type": "code",
   "execution_count": 20,
   "metadata": {
    "collapsed": false
   },
   "outputs": [
    {
     "name": "stdout",
     "output_type": "stream",
     "text": [
      "[[627 145]\n",
      " [523 330]]\n",
      "             precision    recall  f1-score   support\n",
      "\n",
      "          0       0.55      0.81      0.65       772\n",
      "          1       0.69      0.39      0.50       853\n",
      "\n",
      "avg / total       0.62      0.59      0.57      1625\n",
      "\n"
     ]
    }
   ],
   "source": [
    "from sklearn.metrics import confusion_matrix\n",
    "mush_exercise = mush[['edible?','cap-surface']]\n",
    "\n",
    "mush_exercise_code = pd.DataFrame(mush_exercise['edible?'].map({'p':0,'e':1}))\n",
    "\n",
    "for column in mush_exercise.columns:\n",
    "    if column == 'edible?':\n",
    "        continue\n",
    "    temp = pd.get_dummies(mush_exercise[column],prefix=column)\n",
    "    mush_exercise_code[temp.columns] = temp\n",
    "\n",
    "X_exercise = mush_exercise_code.drop('edible?',axis=1)\n",
    "y_exercise = mush_exercise_code['edible?']\n",
    "\n",
    "model_exercise = SVC(C=1,kernel='linear').fit(X_exercise.iloc[train],y_exercise.iloc[train])\n",
    "print confusion_matrix(y_exercise.iloc[test],model_exercise.predict(X_exercise.iloc[test]))\n",
    "print classification_report(y_exercise.iloc[test],model_exercise.predict(X_exercise.iloc[test]))"
   ]
  },
  {
   "cell_type": "markdown",
   "metadata": {},
   "source": [
    "###Exercise 2\n",
    "Plot the coefficients for the columns. Is this surprising? Share the results with your neighbor and identify the category of your column that best identifies an edible mushroom."
   ]
  },
  {
   "cell_type": "code",
   "execution_count": 21,
   "metadata": {
    "collapsed": false
   },
   "outputs": [
    {
     "data": {
      "text/html": [
       "\n",
       "\n",
       "    <div class=\"plotdiv\" id=\"1e1d9f63-c2f1-4226-ab9c-a9f4232afac2\"></div>\n",
       "<script type=\"text/javascript\">\n",
       "  \n",
       "  (function(global) {\n",
       "    function now() {\n",
       "      return new Date();\n",
       "    }\n",
       "  \n",
       "    if (typeof (window._bokeh_onload_callbacks) === \"undefined\") {\n",
       "      window._bokeh_onload_callbacks = [];\n",
       "    }\n",
       "  \n",
       "    function run_callbacks() {\n",
       "      window._bokeh_onload_callbacks.forEach(function(callback) { callback() });\n",
       "      delete window._bokeh_onload_callbacks\n",
       "      console.info(\"Bokeh: all callbacks have finished\");\n",
       "    }\n",
       "  \n",
       "    function load_libs(js_urls, callback) {\n",
       "      window._bokeh_onload_callbacks.push(callback);\n",
       "      if (window._bokeh_is_loading > 0) {\n",
       "        console.log(\"Bokeh: BokehJS is being loaded, scheduling callback at\", now());\n",
       "        return null;\n",
       "      }\n",
       "      if (js_urls == null || js_urls.length === 0) {\n",
       "        run_callbacks();\n",
       "        return null;\n",
       "      }\n",
       "      console.log(\"Bokeh: BokehJS not loaded, scheduling load and callback at\", now());\n",
       "      window._bokeh_is_loading = js_urls.length;\n",
       "      for (var i = 0; i < js_urls.length; i++) {\n",
       "        var url = js_urls[i];\n",
       "        var s = document.createElement('script');\n",
       "        s.src = url;\n",
       "        s.async = false;\n",
       "        s.onreadystatechange = s.onload = function() {\n",
       "          window._bokeh_is_loading--;\n",
       "          if (window._bokeh_is_loading === 0) {\n",
       "            console.log(\"Bokeh: all BokehJS libraries loaded\");\n",
       "            run_callbacks()\n",
       "          }\n",
       "        };\n",
       "        s.onerror = function() {\n",
       "          console.warn(\"failed to load library \" + url);\n",
       "        };\n",
       "        console.log(\"Bokeh: injecting script tag for BokehJS library: \", url);\n",
       "        document.getElementsByTagName(\"head\")[0].appendChild(s);\n",
       "      }\n",
       "    };var element = document.getElementById(\"1e1d9f63-c2f1-4226-ab9c-a9f4232afac2\");\n",
       "    if (element == null) {\n",
       "      console.log(\"Bokeh: ERROR: autoload.js configured with elementid '1e1d9f63-c2f1-4226-ab9c-a9f4232afac2' but no matching script tag was found. \")\n",
       "      return false;\n",
       "    }\n",
       "  \n",
       "    var js_urls = [];\n",
       "  \n",
       "    var inline_js = [\n",
       "      function(Bokeh) {\n",
       "        Bokeh.$(function() {\n",
       "            var docs_json = {\"6b04783b-be35-4ecb-9194-84ea8253d894\":{\"roots\":{\"references\":[{\"attributes\":{\"callback\":null,\"column_names\":[\"line_color\",\"line_alpha\",\"color\",\"fill_alpha\",\"height\",\"width\",\"y\",\"x\"],\"data\":{\"chart_index\":[{\"index\":0}],\"color\":[\"#f22c40\"],\"fill_alpha\":[0.8],\"height\":[1.5],\"index\":[0],\"line_alpha\":[1.0],\"line_color\":[\"white\"],\"width\":[0.8],\"x\":[\"0\"],\"y\":[0.75]}},\"id\":\"e372f3c0-4821-46d2-b128-62b76aae2f26\",\"type\":\"ColumnDataSource\"},{\"attributes\":{\"callback\":null,\"end\":0.5520759049251669,\"start\":-0.8414396957274963},\"id\":\"c29e9058-2a0e-4541-8413-ea4cdd22ff2b\",\"type\":\"Range1d\"},{\"attributes\":{\"fill_alpha\":{\"field\":\"fill_alpha\"},\"fill_color\":{\"field\":\"color\"},\"height\":{\"field\":\"height\",\"units\":\"data\"},\"line_color\":{\"field\":\"line_color\"},\"width\":{\"field\":\"width\",\"units\":\"data\"},\"x\":{\"field\":\"x\"},\"y\":{\"field\":\"y\"}},\"id\":\"dd7a4967-53c1-4314-92f0-17b5a4e6483d\",\"type\":\"Rect\"},{\"attributes\":{\"legends\":[[\"0\",[{\"id\":\"70d8bb8a-ce73-4f90-a55b-bde9a65b049a\",\"type\":\"GlyphRenderer\"}]],[\"1\",[{\"id\":\"fa48c473-2cd4-4a64-ab4f-e9609c5a423e\",\"type\":\"GlyphRenderer\"}]],[\"2\",[{\"id\":\"63bc3b3a-626a-4f10-bbc9-ccc7c5a5a063\",\"type\":\"GlyphRenderer\"}]],[\"3\",[{\"id\":\"60f8d751-51f3-4447-9221-70c24566b86a\",\"type\":\"GlyphRenderer\"}]]],\"plot\":{\"id\":\"0cc65984-20b6-407b-acc3-200b6804141a\",\"subtype\":\"Chart\",\"type\":\"Plot\"}},\"id\":\"975aa8aa-4dff-443f-aae6-38ec9d56bb7b\",\"type\":\"Legend\"},{\"attributes\":{\"data_source\":{\"id\":\"86e5ad38-d001-4528-a978-25177adaa51c\",\"type\":\"ColumnDataSource\"},\"glyph\":{\"id\":\"dd7a4967-53c1-4314-92f0-17b5a4e6483d\",\"type\":\"Rect\"},\"hover_glyph\":null,\"nonselection_glyph\":null,\"selection_glyph\":null},\"id\":\"64e581f7-ca52-4c27-96a2-bab27680d591\",\"type\":\"GlyphRenderer\"},{\"attributes\":{\"plot\":{\"id\":\"ef15d4e7-ff22-430a-a4d9-7cd6b16c6401\",\"subtype\":\"Chart\",\"type\":\"Plot\"}},\"id\":\"865cac34-c587-4273-b5c7-4facc0ba1b58\",\"type\":\"WheelZoomTool\"},{\"attributes\":{\"axis_label\":\"Linear Coefficient\",\"formatter\":{\"id\":\"9cdf94ed-c180-41b8-8271-5e5a06b6c471\",\"type\":\"BasicTickFormatter\"},\"plot\":{\"id\":\"ef15d4e7-ff22-430a-a4d9-7cd6b16c6401\",\"subtype\":\"Chart\",\"type\":\"Plot\"},\"ticker\":{\"id\":\"509e8872-db2c-46ef-9240-43308ab8841d\",\"type\":\"BasicTicker\"}},\"id\":\"e3c4f8df-251e-4a59-a00a-b367adc57f10\",\"type\":\"LinearAxis\"},{\"attributes\":{\"plot\":{\"id\":\"0cc65984-20b6-407b-acc3-200b6804141a\",\"subtype\":\"Chart\",\"type\":\"Plot\"}},\"id\":\"0d935e0b-5117-4204-8efd-22f442b6ab45\",\"type\":\"PanTool\"},{\"attributes\":{\"data_source\":{\"id\":\"2e6dfaa4-eb22-44b0-8d56-6526505cb0c9\",\"type\":\"ColumnDataSource\"},\"glyph\":{\"id\":\"a9d1ba85-5cde-4a2d-853e-660f3846221d\",\"type\":\"Rect\"},\"hover_glyph\":null,\"nonselection_glyph\":null,\"selection_glyph\":null},\"id\":\"dbed0d6d-5e24-4ed8-8c46-aa2234276ff4\",\"type\":\"GlyphRenderer\"},{\"attributes\":{\"overlay\":{\"id\":\"23d13a0f-711d-4464-9c65-cf7ea8612e6e\",\"type\":\"BoxAnnotation\"},\"plot\":{\"id\":\"0cc65984-20b6-407b-acc3-200b6804141a\",\"subtype\":\"Chart\",\"type\":\"Plot\"}},\"id\":\"e59a133d-4a05-499c-849b-f12051d1a103\",\"type\":\"BoxZoomTool\"},{\"attributes\":{},\"id\":\"ba14123d-4125-45b1-8f8e-c957ee67893b\",\"type\":\"CategoricalTicker\"},{\"attributes\":{\"callback\":null,\"column_names\":[\"line_color\",\"line_alpha\",\"color\",\"fill_alpha\",\"height\",\"width\",\"y\",\"x\"],\"data\":{\"chart_index\":[{\"setosa\":0.5376077153850505}],\"color\":[\"#f22c40\"],\"fill_alpha\":[0.8],\"height\":[0.5376077153850505],\"line_alpha\":[1.0],\"line_color\":[\"white\"],\"setosa\":[0.5376077153850505],\"width\":[0.8],\"x\":[\"0.537607715385\"],\"y\":[0.26880385769252524]}},\"id\":\"485e72c6-5710-4755-b6fc-0963c5247946\",\"type\":\"ColumnDataSource\"},{\"attributes\":{\"callback\":null,\"factors\":[\"-0.826971506187\",\"-0.381996304594\",\"0.00963041772035\",\"0.537607715385\"]},\"id\":\"1f6f9437-1069-473c-a8c5-775f350c8e7f\",\"type\":\"FactorRange\"},{\"attributes\":{\"fill_alpha\":{\"field\":\"fill_alpha\"},\"fill_color\":{\"field\":\"color\"},\"height\":{\"field\":\"height\",\"units\":\"data\"},\"line_color\":{\"field\":\"line_color\"},\"width\":{\"field\":\"width\",\"units\":\"data\"},\"x\":{\"field\":\"x\"},\"y\":{\"field\":\"y\"}},\"id\":\"5ab82495-6cfb-45f8-b118-16982127d223\",\"type\":\"Rect\"},{\"attributes\":{\"callback\":null,\"column_names\":[\"line_color\",\"line_alpha\",\"color\",\"fill_alpha\",\"height\",\"width\",\"y\",\"x\"],\"data\":{\"chart_index\":[{\"index\":1}],\"color\":[\"#f22c40\"],\"fill_alpha\":[0.8],\"height\":[-0.5],\"index\":[1],\"line_alpha\":[1.0],\"line_color\":[\"white\"],\"width\":[0.8],\"x\":[\"1\"],\"y\":[-0.25]}},\"id\":\"21c2c920-46b8-41a6-a31c-75c0fcdc41ec\",\"type\":\"ColumnDataSource\"},{\"attributes\":{\"callback\":null,\"column_names\":[\"line_color\",\"line_alpha\",\"color\",\"fill_alpha\",\"height\",\"width\",\"y\",\"x\"],\"data\":{\"chart_index\":[{\"index\":2}],\"color\":[\"#f22c40\"],\"fill_alpha\":[0.8],\"height\":[-0.5],\"index\":[2],\"line_alpha\":[1.0],\"line_color\":[\"white\"],\"width\":[0.8],\"x\":[\"2\"],\"y\":[-0.25]}},\"id\":\"72a78eaa-815c-43c7-9bcd-f98de9c5e9f2\",\"type\":\"ColumnDataSource\"},{\"attributes\":{\"plot\":{\"id\":\"ef15d4e7-ff22-430a-a4d9-7cd6b16c6401\",\"subtype\":\"Chart\",\"type\":\"Plot\"}},\"id\":\"9b18f241-0516-44de-9e3c-03d746beb5e3\",\"type\":\"ResetTool\"},{\"attributes\":{\"data_source\":{\"id\":\"72a78eaa-815c-43c7-9bcd-f98de9c5e9f2\",\"type\":\"ColumnDataSource\"},\"glyph\":{\"id\":\"5ab82495-6cfb-45f8-b118-16982127d223\",\"type\":\"Rect\"},\"hover_glyph\":null,\"nonselection_glyph\":null,\"selection_glyph\":null},\"id\":\"63bc3b3a-626a-4f10-bbc9-ccc7c5a5a063\",\"type\":\"GlyphRenderer\"},{\"attributes\":{},\"id\":\"7e70f07f-54f0-44e7-a05d-f940566d5e7e\",\"type\":\"CategoricalTicker\"},{\"attributes\":{\"plot\":{\"id\":\"ef15d4e7-ff22-430a-a4d9-7cd6b16c6401\",\"subtype\":\"Chart\",\"type\":\"Plot\"}},\"id\":\"611e784b-d2e2-4267-9f83-7919e8271d7b\",\"type\":\"PanTool\"},{\"attributes\":{\"formatter\":{\"id\":\"e5a0d736-7936-4cfb-9e3c-e4c21a5ee19a\",\"type\":\"CategoricalTickFormatter\"},\"major_label_orientation\":0.7853981633974483,\"plot\":{\"id\":\"0cc65984-20b6-407b-acc3-200b6804141a\",\"subtype\":\"Chart\",\"type\":\"Plot\"},\"ticker\":{\"id\":\"7e70f07f-54f0-44e7-a05d-f940566d5e7e\",\"type\":\"CategoricalTicker\"}},\"id\":\"1953707b-4d96-4d9b-a534-22616d6fc6e2\",\"type\":\"CategoricalAxis\"},{\"attributes\":{},\"id\":\"1fc6eea4-7c3a-48ae-abe1-a78aee120f1f\",\"type\":\"BasicTicker\"},{\"attributes\":{\"callback\":null,\"end\":1.55,\"start\":-0.55},\"id\":\"e657f55d-8d2c-47df-af10-41822b36a466\",\"type\":\"Range1d\"},{\"attributes\":{\"axis_label\":\"Linear Coefficient\",\"formatter\":{\"id\":\"d9acc6db-c5b9-4271-b750-0a1b38e0fc9e\",\"type\":\"BasicTickFormatter\"},\"plot\":{\"id\":\"0cc65984-20b6-407b-acc3-200b6804141a\",\"subtype\":\"Chart\",\"type\":\"Plot\"},\"ticker\":{\"id\":\"1fc6eea4-7c3a-48ae-abe1-a78aee120f1f\",\"type\":\"BasicTicker\"}},\"id\":\"6cf65e95-2c91-4ed6-97c7-77580fd2e3d7\",\"type\":\"LinearAxis\"},{\"attributes\":{},\"id\":\"565233c0-f3e0-456c-933a-5e0053926857\",\"type\":\"ToolEvents\"},{\"attributes\":{\"fill_alpha\":{\"field\":\"fill_alpha\"},\"fill_color\":{\"field\":\"color\"},\"height\":{\"field\":\"height\",\"units\":\"data\"},\"line_color\":{\"field\":\"line_color\"},\"width\":{\"field\":\"width\",\"units\":\"data\"},\"x\":{\"field\":\"x\"},\"y\":{\"field\":\"y\"}},\"id\":\"1d3c2a8d-dd07-4d73-a107-3e298bc4fd6f\",\"type\":\"Rect\"},{\"attributes\":{\"callback\":null,\"column_names\":[\"line_color\",\"line_alpha\",\"color\",\"fill_alpha\",\"height\",\"width\",\"y\",\"x\"],\"data\":{\"chart_index\":[{\"setosa\":-0.38199630459442924}],\"color\":[\"#f22c40\"],\"fill_alpha\":[0.8],\"height\":[-0.38199630459442924],\"line_alpha\":[1.0],\"line_color\":[\"white\"],\"setosa\":[-0.38199630459442924],\"width\":[0.8],\"x\":[\"-0.381996304594\"],\"y\":[-0.19099815229721462]}},\"id\":\"86e5ad38-d001-4528-a978-25177adaa51c\",\"type\":\"ColumnDataSource\"},{\"attributes\":{\"data_source\":{\"id\":\"d27dc0a4-7804-4531-8a12-ce75ec4b2ae7\",\"type\":\"ColumnDataSource\"},\"glyph\":{\"id\":\"817d07d7-873b-4503-b44f-20995817d793\",\"type\":\"Rect\"},\"hover_glyph\":null,\"nonselection_glyph\":null,\"selection_glyph\":null},\"id\":\"2e6dc7c0-70ee-4881-8116-942b97091990\",\"type\":\"GlyphRenderer\"},{\"attributes\":{\"plot\":{\"id\":\"ef15d4e7-ff22-430a-a4d9-7cd6b16c6401\",\"subtype\":\"Chart\",\"type\":\"Plot\"}},\"id\":\"89af87f2-448b-43d0-868e-e2f73b052641\",\"type\":\"PreviewSaveTool\"},{\"attributes\":{\"fill_alpha\":{\"field\":\"fill_alpha\"},\"fill_color\":{\"field\":\"color\"},\"height\":{\"field\":\"height\",\"units\":\"data\"},\"line_color\":{\"field\":\"line_color\"},\"width\":{\"field\":\"width\",\"units\":\"data\"},\"x\":{\"field\":\"x\"},\"y\":{\"field\":\"y\"}},\"id\":\"fed86b59-a910-436f-8f7e-6e380be52bfa\",\"type\":\"Rect\"},{\"attributes\":{\"overlay\":{\"id\":\"2ae15046-c45d-4d66-8142-7d8dd221587e\",\"type\":\"BoxAnnotation\"},\"plot\":{\"id\":\"ef15d4e7-ff22-430a-a4d9-7cd6b16c6401\",\"subtype\":\"Chart\",\"type\":\"Plot\"}},\"id\":\"ab73adad-27e0-41b9-9731-ebf0a4f47a3a\",\"type\":\"BoxZoomTool\"},{\"attributes\":{\"callback\":null,\"column_names\":[\"line_color\",\"line_alpha\",\"color\",\"fill_alpha\",\"height\",\"width\",\"y\",\"x\"],\"data\":{\"chart_index\":[{\"setosa\":0.009630417720345896}],\"color\":[\"#f22c40\"],\"fill_alpha\":[0.8],\"height\":[0.009630417720345896],\"line_alpha\":[1.0],\"line_color\":[\"white\"],\"setosa\":[0.009630417720345896],\"width\":[0.8],\"x\":[\"0.00963041772035\"],\"y\":[0.004815208860172948]}},\"id\":\"2e6dfaa4-eb22-44b0-8d56-6526505cb0c9\",\"type\":\"ColumnDataSource\"},{\"attributes\":{\"plot\":{\"id\":\"0cc65984-20b6-407b-acc3-200b6804141a\",\"subtype\":\"Chart\",\"type\":\"Plot\"}},\"id\":\"46b8d101-9823-43ce-9ca0-25096e0718fa\",\"type\":\"HelpTool\"},{\"attributes\":{\"dimension\":1,\"plot\":{\"id\":\"ef15d4e7-ff22-430a-a4d9-7cd6b16c6401\",\"subtype\":\"Chart\",\"type\":\"Plot\"},\"ticker\":{\"id\":\"509e8872-db2c-46ef-9240-43308ab8841d\",\"type\":\"BasicTicker\"}},\"id\":\"fe98ca7c-ef4d-4641-a70b-fa724de3d59f\",\"type\":\"Grid\"},{\"attributes\":{\"data_source\":{\"id\":\"485e72c6-5710-4755-b6fc-0963c5247946\",\"type\":\"ColumnDataSource\"},\"glyph\":{\"id\":\"86545f7f-f97a-4bfc-b8f6-3d74c04083ce\",\"type\":\"Rect\"},\"hover_glyph\":null,\"nonselection_glyph\":null,\"selection_glyph\":null},\"id\":\"4701ecc4-e174-493d-b2fa-3f41b55e441b\",\"type\":\"GlyphRenderer\"},{\"attributes\":{\"callback\":null,\"column_names\":[\"line_color\",\"line_alpha\",\"color\",\"fill_alpha\",\"height\",\"width\",\"y\",\"x\"],\"data\":{\"chart_index\":[{\"setosa\":-0.8269715061873799}],\"color\":[\"#f22c40\"],\"fill_alpha\":[0.8],\"height\":[-0.8269715061873799],\"line_alpha\":[1.0],\"line_color\":[\"white\"],\"setosa\":[-0.8269715061873799],\"width\":[0.8],\"x\":[\"-0.826971506187\"],\"y\":[-0.41348575309368996]}},\"id\":\"d27dc0a4-7804-4531-8a12-ce75ec4b2ae7\",\"type\":\"ColumnDataSource\"},{\"attributes\":{\"fill_alpha\":{\"field\":\"fill_alpha\"},\"fill_color\":{\"field\":\"color\"},\"height\":{\"field\":\"height\",\"units\":\"data\"},\"line_color\":{\"field\":\"line_color\"},\"width\":{\"field\":\"width\",\"units\":\"data\"},\"x\":{\"field\":\"x\"},\"y\":{\"field\":\"y\"}},\"id\":\"a9d1ba85-5cde-4a2d-853e-660f3846221d\",\"type\":\"Rect\"},{\"attributes\":{\"plot\":{\"id\":\"ef15d4e7-ff22-430a-a4d9-7cd6b16c6401\",\"subtype\":\"Chart\",\"type\":\"Plot\"}},\"id\":\"5a3fbd1d-6ec6-4800-a7c2-cdfb530e0c31\",\"type\":\"ResizeTool\"},{\"attributes\":{\"fill_alpha\":{\"field\":\"fill_alpha\"},\"fill_color\":{\"field\":\"color\"},\"height\":{\"field\":\"height\",\"units\":\"data\"},\"line_color\":{\"field\":\"line_color\"},\"width\":{\"field\":\"width\",\"units\":\"data\"},\"x\":{\"field\":\"x\"},\"y\":{\"field\":\"y\"}},\"id\":\"c899bece-bbd8-4612-b24c-39fc8fcb7533\",\"type\":\"Rect\"},{\"attributes\":{\"callback\":null,\"factors\":[\"0\",\"1\",\"2\",\"3\"]},\"id\":\"c0f2e65e-ba4a-4f78-b9a5-7ffd3d95fff5\",\"type\":\"FactorRange\"},{\"attributes\":{\"bottom_units\":\"screen\",\"fill_alpha\":{\"value\":0.5},\"fill_color\":{\"value\":\"lightgrey\"},\"left_units\":\"screen\",\"level\":\"overlay\",\"line_alpha\":{\"value\":1.0},\"line_color\":{\"value\":\"black\"},\"line_dash\":[4,4],\"line_width\":{\"value\":2},\"plot\":null,\"render_mode\":\"css\",\"right_units\":\"screen\",\"top_units\":\"screen\"},\"id\":\"23d13a0f-711d-4464-9c65-cf7ea8612e6e\",\"type\":\"BoxAnnotation\"},{\"attributes\":{\"bottom_units\":\"screen\",\"fill_alpha\":{\"value\":0.5},\"fill_color\":{\"value\":\"lightgrey\"},\"left_units\":\"screen\",\"level\":\"overlay\",\"line_alpha\":{\"value\":1.0},\"line_color\":{\"value\":\"black\"},\"line_dash\":[4,4],\"line_width\":{\"value\":2},\"plot\":null,\"render_mode\":\"css\",\"right_units\":\"screen\",\"top_units\":\"screen\"},\"id\":\"2ae15046-c45d-4d66-8142-7d8dd221587e\",\"type\":\"BoxAnnotation\"},{\"attributes\":{\"plot\":{\"id\":\"0cc65984-20b6-407b-acc3-200b6804141a\",\"subtype\":\"Chart\",\"type\":\"Plot\"}},\"id\":\"8aee8990-b355-4945-b6e6-4edd4965213d\",\"type\":\"ResizeTool\"},{\"attributes\":{},\"id\":\"6950249d-a1ba-4d29-96fa-0e5610e74e02\",\"type\":\"ToolEvents\"},{\"attributes\":{\"fill_alpha\":{\"field\":\"fill_alpha\"},\"fill_color\":{\"field\":\"color\"},\"height\":{\"field\":\"height\",\"units\":\"data\"},\"line_color\":{\"field\":\"line_color\"},\"width\":{\"field\":\"width\",\"units\":\"data\"},\"x\":{\"field\":\"x\"},\"y\":{\"field\":\"y\"}},\"id\":\"817d07d7-873b-4503-b44f-20995817d793\",\"type\":\"Rect\"},{\"attributes\":{\"data_source\":{\"id\":\"21c2c920-46b8-41a6-a31c-75c0fcdc41ec\",\"type\":\"ColumnDataSource\"},\"glyph\":{\"id\":\"c899bece-bbd8-4612-b24c-39fc8fcb7533\",\"type\":\"Rect\"},\"hover_glyph\":null,\"nonselection_glyph\":null,\"selection_glyph\":null},\"id\":\"fa48c473-2cd4-4a64-ab4f-e9609c5a423e\",\"type\":\"GlyphRenderer\"},{\"attributes\":{},\"id\":\"e5a0d736-7936-4cfb-9e3c-e4c21a5ee19a\",\"type\":\"CategoricalTickFormatter\"},{\"attributes\":{\"callback\":null,\"column_names\":[\"line_color\",\"line_alpha\",\"color\",\"fill_alpha\",\"height\",\"width\",\"y\",\"x\"],\"data\":{\"chart_index\":[{\"index\":3}],\"color\":[\"#f22c40\"],\"fill_alpha\":[0.8],\"height\":[-0.5],\"index\":[3],\"line_alpha\":[1.0],\"line_color\":[\"white\"],\"width\":[0.8],\"x\":[\"3\"],\"y\":[-0.25]}},\"id\":\"4068a441-9db0-4d2a-b703-f45fce23be1d\",\"type\":\"ColumnDataSource\"},{\"attributes\":{\"plot\":{\"id\":\"0cc65984-20b6-407b-acc3-200b6804141a\",\"subtype\":\"Chart\",\"type\":\"Plot\"}},\"id\":\"0f317390-f7e7-4795-9c94-c1e97b84b8e9\",\"type\":\"ResetTool\"},{\"attributes\":{\"below\":[{\"id\":\"44c606ae-d86b-4d25-a07c-10aa8f74093e\",\"type\":\"CategoricalAxis\"}],\"left\":[{\"id\":\"e3c4f8df-251e-4a59-a00a-b367adc57f10\",\"type\":\"LinearAxis\"}],\"legend\":\"top_right\",\"renderers\":[{\"id\":\"2ae15046-c45d-4d66-8142-7d8dd221587e\",\"type\":\"BoxAnnotation\"},{\"id\":\"dbed0d6d-5e24-4ed8-8c46-aa2234276ff4\",\"type\":\"GlyphRenderer\"},{\"id\":\"4701ecc4-e174-493d-b2fa-3f41b55e441b\",\"type\":\"GlyphRenderer\"},{\"id\":\"2e6dc7c0-70ee-4881-8116-942b97091990\",\"type\":\"GlyphRenderer\"},{\"id\":\"64e581f7-ca52-4c27-96a2-bab27680d591\",\"type\":\"GlyphRenderer\"},{\"id\":\"f3c0b95b-dffa-48d8-a71d-b037f7668477\",\"type\":\"Legend\"},{\"id\":\"44c606ae-d86b-4d25-a07c-10aa8f74093e\",\"type\":\"CategoricalAxis\"},{\"id\":\"e3c4f8df-251e-4a59-a00a-b367adc57f10\",\"type\":\"LinearAxis\"},{\"id\":\"fe98ca7c-ef4d-4641-a70b-fa724de3d59f\",\"type\":\"Grid\"}],\"title\":\"SVC Feature Importance\",\"title_text_font_size\":{\"value\":\"14pt\"},\"tool_events\":{\"id\":\"6950249d-a1ba-4d29-96fa-0e5610e74e02\",\"type\":\"ToolEvents\"},\"tools\":[{\"id\":\"611e784b-d2e2-4267-9f83-7919e8271d7b\",\"type\":\"PanTool\"},{\"id\":\"865cac34-c587-4273-b5c7-4facc0ba1b58\",\"type\":\"WheelZoomTool\"},{\"id\":\"ab73adad-27e0-41b9-9731-ebf0a4f47a3a\",\"type\":\"BoxZoomTool\"},{\"id\":\"89af87f2-448b-43d0-868e-e2f73b052641\",\"type\":\"PreviewSaveTool\"},{\"id\":\"5a3fbd1d-6ec6-4800-a7c2-cdfb530e0c31\",\"type\":\"ResizeTool\"},{\"id\":\"9b18f241-0516-44de-9e3c-03d746beb5e3\",\"type\":\"ResetTool\"},{\"id\":\"fdf0ec01-00d5-492c-a0f8-4f2bb3f3e94e\",\"type\":\"HelpTool\"}],\"x_mapper_type\":\"auto\",\"x_range\":{\"id\":\"1f6f9437-1069-473c-a8c5-775f350c8e7f\",\"type\":\"FactorRange\"},\"xgrid\":false,\"xscale\":\"auto\",\"y_mapper_type\":\"auto\",\"y_range\":{\"id\":\"c29e9058-2a0e-4541-8413-ea4cdd22ff2b\",\"type\":\"Range1d\"},\"yscale\":\"auto\"},\"id\":\"ef15d4e7-ff22-430a-a4d9-7cd6b16c6401\",\"subtype\":\"Chart\",\"type\":\"Plot\"},{\"attributes\":{},\"id\":\"509e8872-db2c-46ef-9240-43308ab8841d\",\"type\":\"BasicTicker\"},{\"attributes\":{},\"id\":\"d9acc6db-c5b9-4271-b750-0a1b38e0fc9e\",\"type\":\"BasicTickFormatter\"},{\"attributes\":{\"plot\":{\"id\":\"0cc65984-20b6-407b-acc3-200b6804141a\",\"subtype\":\"Chart\",\"type\":\"Plot\"}},\"id\":\"1a8c2bd1-c4f4-40e7-b76d-30f67c383246\",\"type\":\"WheelZoomTool\"},{\"attributes\":{\"axis_label\":\"Flowers\",\"formatter\":{\"id\":\"b188e59a-2251-4571-9cd8-d350494d23a5\",\"type\":\"CategoricalTickFormatter\"},\"major_label_orientation\":0.7853981633974483,\"plot\":{\"id\":\"ef15d4e7-ff22-430a-a4d9-7cd6b16c6401\",\"subtype\":\"Chart\",\"type\":\"Plot\"},\"ticker\":{\"id\":\"ba14123d-4125-45b1-8f8e-c957ee67893b\",\"type\":\"CategoricalTicker\"}},\"id\":\"44c606ae-d86b-4d25-a07c-10aa8f74093e\",\"type\":\"CategoricalAxis\"},{\"attributes\":{\"plot\":{\"id\":\"ef15d4e7-ff22-430a-a4d9-7cd6b16c6401\",\"subtype\":\"Chart\",\"type\":\"Plot\"}},\"id\":\"fdf0ec01-00d5-492c-a0f8-4f2bb3f3e94e\",\"type\":\"HelpTool\"},{\"attributes\":{},\"id\":\"b188e59a-2251-4571-9cd8-d350494d23a5\",\"type\":\"CategoricalTickFormatter\"},{\"attributes\":{\"plot\":{\"id\":\"0cc65984-20b6-407b-acc3-200b6804141a\",\"subtype\":\"Chart\",\"type\":\"Plot\"}},\"id\":\"f1925a5c-37fa-436d-9d54-c9f51a041c23\",\"type\":\"PreviewSaveTool\"},{\"attributes\":{\"below\":[{\"id\":\"1953707b-4d96-4d9b-a534-22616d6fc6e2\",\"type\":\"CategoricalAxis\"}],\"left\":[{\"id\":\"6cf65e95-2c91-4ed6-97c7-77580fd2e3d7\",\"type\":\"LinearAxis\"}],\"legend\":\"top_right\",\"renderers\":[{\"id\":\"23d13a0f-711d-4464-9c65-cf7ea8612e6e\",\"type\":\"BoxAnnotation\"},{\"id\":\"70d8bb8a-ce73-4f90-a55b-bde9a65b049a\",\"type\":\"GlyphRenderer\"},{\"id\":\"fa48c473-2cd4-4a64-ab4f-e9609c5a423e\",\"type\":\"GlyphRenderer\"},{\"id\":\"63bc3b3a-626a-4f10-bbc9-ccc7c5a5a063\",\"type\":\"GlyphRenderer\"},{\"id\":\"60f8d751-51f3-4447-9221-70c24566b86a\",\"type\":\"GlyphRenderer\"},{\"id\":\"975aa8aa-4dff-443f-aae6-38ec9d56bb7b\",\"type\":\"Legend\"},{\"id\":\"1953707b-4d96-4d9b-a534-22616d6fc6e2\",\"type\":\"CategoricalAxis\"},{\"id\":\"6cf65e95-2c91-4ed6-97c7-77580fd2e3d7\",\"type\":\"LinearAxis\"},{\"id\":\"31fa6918-7504-4ac6-ab3b-333265ebd3a9\",\"type\":\"Grid\"}],\"title\":\"SVC Feature Importance\",\"title_text_font_size\":{\"value\":\"14pt\"},\"tool_events\":{\"id\":\"565233c0-f3e0-456c-933a-5e0053926857\",\"type\":\"ToolEvents\"},\"tools\":[{\"id\":\"0d935e0b-5117-4204-8efd-22f442b6ab45\",\"type\":\"PanTool\"},{\"id\":\"1a8c2bd1-c4f4-40e7-b76d-30f67c383246\",\"type\":\"WheelZoomTool\"},{\"id\":\"e59a133d-4a05-499c-849b-f12051d1a103\",\"type\":\"BoxZoomTool\"},{\"id\":\"f1925a5c-37fa-436d-9d54-c9f51a041c23\",\"type\":\"PreviewSaveTool\"},{\"id\":\"8aee8990-b355-4945-b6e6-4edd4965213d\",\"type\":\"ResizeTool\"},{\"id\":\"0f317390-f7e7-4795-9c94-c1e97b84b8e9\",\"type\":\"ResetTool\"},{\"id\":\"46b8d101-9823-43ce-9ca0-25096e0718fa\",\"type\":\"HelpTool\"}],\"x_mapper_type\":\"auto\",\"x_range\":{\"id\":\"c0f2e65e-ba4a-4f78-b9a5-7ffd3d95fff5\",\"type\":\"FactorRange\"},\"xgrid\":false,\"xscale\":\"auto\",\"y_mapper_type\":\"auto\",\"y_range\":{\"id\":\"e657f55d-8d2c-47df-af10-41822b36a466\",\"type\":\"Range1d\"},\"yscale\":\"auto\"},\"id\":\"0cc65984-20b6-407b-acc3-200b6804141a\",\"subtype\":\"Chart\",\"type\":\"Plot\"},{\"attributes\":{\"fill_alpha\":{\"field\":\"fill_alpha\"},\"fill_color\":{\"field\":\"color\"},\"height\":{\"field\":\"height\",\"units\":\"data\"},\"line_color\":{\"field\":\"line_color\"},\"width\":{\"field\":\"width\",\"units\":\"data\"},\"x\":{\"field\":\"x\"},\"y\":{\"field\":\"y\"}},\"id\":\"86545f7f-f97a-4bfc-b8f6-3d74c04083ce\",\"type\":\"Rect\"},{\"attributes\":{},\"id\":\"9cdf94ed-c180-41b8-8271-5e5a06b6c471\",\"type\":\"BasicTickFormatter\"},{\"attributes\":{\"data_source\":{\"id\":\"4068a441-9db0-4d2a-b703-f45fce23be1d\",\"type\":\"ColumnDataSource\"},\"glyph\":{\"id\":\"1d3c2a8d-dd07-4d73-a107-3e298bc4fd6f\",\"type\":\"Rect\"},\"hover_glyph\":null,\"nonselection_glyph\":null,\"selection_glyph\":null},\"id\":\"60f8d751-51f3-4447-9221-70c24566b86a\",\"type\":\"GlyphRenderer\"},{\"attributes\":{\"data_source\":{\"id\":\"e372f3c0-4821-46d2-b128-62b76aae2f26\",\"type\":\"ColumnDataSource\"},\"glyph\":{\"id\":\"fed86b59-a910-436f-8f7e-6e380be52bfa\",\"type\":\"Rect\"},\"hover_glyph\":null,\"nonselection_glyph\":null,\"selection_glyph\":null},\"id\":\"70d8bb8a-ce73-4f90-a55b-bde9a65b049a\",\"type\":\"GlyphRenderer\"},{\"attributes\":{\"dimension\":1,\"plot\":{\"id\":\"0cc65984-20b6-407b-acc3-200b6804141a\",\"subtype\":\"Chart\",\"type\":\"Plot\"},\"ticker\":{\"id\":\"1fc6eea4-7c3a-48ae-abe1-a78aee120f1f\",\"type\":\"BasicTicker\"}},\"id\":\"31fa6918-7504-4ac6-ab3b-333265ebd3a9\",\"type\":\"Grid\"},{\"attributes\":{\"legends\":[[\"0.00963041772035\",[{\"id\":\"dbed0d6d-5e24-4ed8-8c46-aa2234276ff4\",\"type\":\"GlyphRenderer\"}]],[\"0.537607715385\",[{\"id\":\"4701ecc4-e174-493d-b2fa-3f41b55e441b\",\"type\":\"GlyphRenderer\"}]],[\"-0.826971506187\",[{\"id\":\"2e6dc7c0-70ee-4881-8116-942b97091990\",\"type\":\"GlyphRenderer\"}]],[\"-0.381996304594\",[{\"id\":\"64e581f7-ca52-4c27-96a2-bab27680d591\",\"type\":\"GlyphRenderer\"}]]],\"plot\":{\"id\":\"ef15d4e7-ff22-430a-a4d9-7cd6b16c6401\",\"subtype\":\"Chart\",\"type\":\"Plot\"}},\"id\":\"f3c0b95b-dffa-48d8-a71d-b037f7668477\",\"type\":\"Legend\"}],\"root_ids\":[\"ef15d4e7-ff22-430a-a4d9-7cd6b16c6401\",\"0cc65984-20b6-407b-acc3-200b6804141a\"]},\"title\":\"Bokeh Application\",\"version\":\"0.11.1\"}};\n",
       "            var render_items = [{\"docid\":\"6b04783b-be35-4ecb-9194-84ea8253d894\",\"elementid\":\"1e1d9f63-c2f1-4226-ab9c-a9f4232afac2\",\"modelid\":\"0cc65984-20b6-407b-acc3-200b6804141a\",\"notebook_comms_target\":\"be59a97f-f7d1-4463-a0be-53ad5e797c7b\"}];\n",
       "            \n",
       "            Bokeh.embed.embed_items(docs_json, render_items);\n",
       "        });\n",
       "      },\n",
       "      function(Bokeh) {\n",
       "      }\n",
       "    ];\n",
       "  \n",
       "    function run_inline_js() {\n",
       "      for (var i = 0; i < inline_js.length; i++) {\n",
       "        inline_js[i](window.Bokeh);\n",
       "      }\n",
       "    }\n",
       "  \n",
       "    if (window._bokeh_is_loading === 0) {\n",
       "      console.log(\"Bokeh: BokehJS loaded, going straight to plotting\");\n",
       "      run_inline_js();\n",
       "    } else {\n",
       "      load_libs(js_urls, function() {\n",
       "        console.log(\"Bokeh: BokehJS plotting callback run at\", now());\n",
       "        run_inline_js();\n",
       "      });\n",
       "    }\n",
       "  }(this));\n",
       "</script>"
      ]
     },
     "metadata": {},
     "output_type": "display_data"
    },
    {
     "data": {
      "text/html": [
       "<p><code>&lt;Bokeh Notebook handle for <strong>In[21]</strong>&gt;</code></p>"
      ],
      "text/plain": [
       "<bokeh.io._CommsHandle at 0x114c611d0>"
      ]
     },
     "execution_count": 21,
     "metadata": {},
     "output_type": "execute_result"
    }
   ],
   "source": [
    "data_exercise = {}\n",
    "targets = pd.unique(mush_exercise['edible?'])\n",
    "\n",
    "for i,row in enumerate(model_exercise.coef_):\n",
    "    # Enumerate gives us a counter i for each value in model.coef_\n",
    "    # we use that to get the full name of the iris.\n",
    "    data_exercise[targets[i]] = list(row)\n",
    "data_exercise\n",
    "\n",
    "p=Bar(data_exercise, title=\"SVC Feature Importance\",\n",
    "        ylabel='Linear Coefficient', width=600, height=600, legend=\"top_right\")\n",
    "show(p)"
   ]
  },
  {
   "cell_type": "markdown",
   "metadata": {},
   "source": [
    "### Exercise 3\n",
    "\n",
    "Train your SVM on every single category! What would you expect the score to do? (Hint: take your process for Exercise 1 and apply it to every column)"
   ]
  },
  {
   "cell_type": "code",
   "execution_count": 22,
   "metadata": {
    "collapsed": false
   },
   "outputs": [
    {
     "name": "stdout",
     "output_type": "stream",
     "text": [
      "[[621 151]\n",
      " [381 472]]\n",
      "             precision    recall  f1-score   support\n",
      "\n",
      "          0       0.62      0.80      0.70       772\n",
      "          1       0.76      0.55      0.64       853\n",
      "\n",
      "avg / total       0.69      0.67      0.67      1625\n",
      "\n"
     ]
    }
   ],
   "source": [
    "mush_exercise_code2 = pd.DataFrame(mush_exercise['edible?'].map({'p':0,'e':1}))\n",
    "\n",
    "for column in mush.columns:\n",
    "    if column == 'edible?':\n",
    "        continue\n",
    "    temp = pd.get_dummies(mush[column],prefix=column)\n",
    "    mush_exercise_code2[temp.columns] = temp\n",
    "    mush_exercise_code2r = mush_exercise_code2.rename(columns = {'cap-shape_ knobbed':'cap-shape_knobbed','cap-color_ pink':'cap-color_pink'})\n",
    "    X_exercise2 = mush_exercise_code2r.drop('edible?',axis=1)\n",
    "    y_exercise2 = mush_exercise_code2r['edible?']\n",
    "\n",
    "    model_exercise2 = SVC(C=1,kernel='linear').fit(X_exercise2.iloc[train],y_exercise2.iloc[train])\n",
    "\n",
    "print confusion_matrix(y_exercise2.iloc[test],model_exercise2.predict(X_exercise2.iloc[test]))\n",
    "print classification_report(y_exercise2.iloc[test],model_exercise2.predict(X_exercise2.iloc[test]))"
   ]
  },
  {
   "cell_type": "markdown",
   "metadata": {},
   "source": [
    "### Exercise 4\n",
    "Cross validate an SVC model. Remember cross_val_score "
   ]
  },
  {
   "cell_type": "code",
   "execution_count": 23,
   "metadata": {
    "collapsed": false
   },
   "outputs": [
    {
     "name": "stdout",
     "output_type": "stream",
     "text": [
      "0.6876\n"
     ]
    }
   ],
   "source": [
    "from sklearn.cross_validation import cross_val_score\n",
    "print \"%.4f\" % cross_val_score(model_exercise2,X_exercise2.iloc[test],y_exercise2.iloc[test],cv=100).mean()"
   ]
  },
  {
   "cell_type": "markdown",
   "metadata": {},
   "source": [
    "### Exercise 5: Old Dog, New Data\n",
    "Utilize the mushroom dataset and train a Decision Tree on it. Are you overfitting? How do you know?"
   ]
  },
  {
   "cell_type": "code",
   "execution_count": 24,
   "metadata": {
    "collapsed": false
   },
   "outputs": [
    {
     "name": "stdout",
     "output_type": "stream",
     "text": [
      "[[685  87]\n",
      " [453 400]]\n",
      "             precision    recall  f1-score   support\n",
      "\n",
      "          0       0.60      0.89      0.72       772\n",
      "          1       0.82      0.47      0.60       853\n",
      "\n",
      "avg / total       0.72      0.67      0.65      1625\n",
      "\n",
      "0.6695\n"
     ]
    }
   ],
   "source": [
    "DecisionTree_clf = DecisionTreeClassifier(max_depth=3, random_state=1)\n",
    "\n",
    "DecisionTree_clf.fit(X_exercise2.iloc[test],y_exercise2.iloc[test])\n",
    "\n",
    "print confusion_matrix(y_exercise2.iloc[test],DecisionTree_clf.predict(X_exercise2.iloc[test]))\n",
    "print classification_report(y_exercise2.iloc[test],DecisionTree_clf.predict(X_exercise2.iloc[test]))\n",
    "print \"%.4f\" % cross_val_score(DecisionTree_clf,X_exercise2.iloc[test],y_exercise2.iloc[test],cv=100).mean()"
   ]
  },
  {
   "cell_type": "markdown",
   "metadata": {},
   "source": [
    "### Advanced Topic: Kernel Play\n",
    "\n",
    "http://scikit-learn.org/stable/auto_examples/svm/plot_svm_kernels.html\n",
    "\n",
    "What kernel performs best for the mushroom data? Do we know why? (the kernels shown are 'linear', 'poly' and 'rbf' however there are many others you can see in the documentation)"
   ]
  },
  {
   "cell_type": "code",
   "execution_count": 25,
   "metadata": {
    "collapsed": false
   },
   "outputs": [
    {
     "name": "stdout",
     "output_type": "stream",
     "text": [
      "Results of linear: \n",
      "[[621 151]\n",
      " [381 472]]\n",
      "             precision    recall  f1-score   support\n",
      "\n",
      "          0       0.62      0.80      0.70       772\n",
      "          1       0.76      0.55      0.64       853\n",
      "\n",
      "avg / total       0.69      0.67      0.67      1625\n",
      "\n",
      "Cross Validation 0.6876\n",
      "============================================\n",
      "Results of poly: \n",
      "[[555 217]\n",
      " [219 634]]\n",
      "             precision    recall  f1-score   support\n",
      "\n",
      "          0       0.72      0.72      0.72       772\n",
      "          1       0.75      0.74      0.74       853\n",
      "\n",
      "avg / total       0.73      0.73      0.73      1625\n",
      "\n",
      "Cross Validation 0.7366\n",
      "============================================\n",
      "Results of rbf: \n",
      "[[553 219]\n",
      " [219 634]]\n",
      "             precision    recall  f1-score   support\n",
      "\n",
      "          0       0.72      0.72      0.72       772\n",
      "          1       0.74      0.74      0.74       853\n",
      "\n",
      "avg / total       0.73      0.73      0.73      1625\n",
      "\n",
      "Cross Validation 0.7360\n",
      "============================================\n"
     ]
    }
   ],
   "source": [
    "import matplotlib.pyplot as plt\n",
    "\n",
    "# fit the model\n",
    "for kernel in ('linear', 'poly', 'rbf'):\n",
    "    clf = SVC(kernel=kernel, gamma=2)\n",
    "    clf.fit(X_exercise2.iloc[train],y_exercise2.iloc[train])\n",
    "\n",
    "    # plot the line, the points, and the nearest vectors to the plane\n",
    "    print \"Results of {}: \".format(kernel)\n",
    "    print confusion_matrix(y_exercise2.iloc[test],clf.predict(X_exercise2.iloc[test]))\n",
    "    print classification_report(y_exercise2.iloc[test],clf.predict(X_exercise2.iloc[test]))\n",
    "    print \"Cross Validation %.4f\" % cross_val_score(clf,X_exercise2.iloc[test],y_exercise2.iloc[test],cv=100).mean()\n",
    "    print \"============================================\""
   ]
  },
  {
   "cell_type": "code",
   "execution_count": null,
   "metadata": {
    "collapsed": true
   },
   "outputs": [],
   "source": []
  }
 ],
 "metadata": {
  "kernelspec": {
   "display_name": "Python 2",
   "language": "python",
   "name": "python2"
  },
  "language_info": {
   "codemirror_mode": {
    "name": "ipython",
    "version": 2
   },
   "file_extension": ".py",
   "mimetype": "text/x-python",
   "name": "python",
   "nbconvert_exporter": "python",
   "pygments_lexer": "ipython2",
   "version": "2.7.12"
  }
 },
 "nbformat": 4,
 "nbformat_minor": 0
}
